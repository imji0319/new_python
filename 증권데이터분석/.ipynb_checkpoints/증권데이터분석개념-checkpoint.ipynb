{
 "cells": [
  {
   "cell_type": "markdown",
   "metadata": {},
   "source": [
    "# 파이썬 증권 데이터 분석 \n",
    "증권과 관련된 개념 및 내용 정리 "
   ]
  },
  {
   "cell_type": "markdown",
   "metadata": {},
   "source": [
    "#### 한국종합주가지수 (KOSPI, Korea Composite Stock Price Index)\n",
    "1980년 1월 4일에 사장된 모든 종목의 시가 총액을 기준 지수인 100포인트로 집계,   \n",
    "KOSPI = 2500 ? 1980년 당시 보다 25배 라는 의미 "
   ]
  },
  {
   "cell_type": "markdown",
   "metadata": {},
   "source": [
    "#### 서브프라임 모기지 사태 (Subprime mortgage crisis)\n",
    "- 2007년에 발생. 미국의 초대형 모기지론 대부업체들이 파산하면서 시작된, 미국만이 아닌 국제금융시장에 신용경색을 불렁온 연쇄적인 경제 위기를 말함.   \n",
    "- 2000년대 초반 미국 경기가 악화되자 경기부양책으로 초 저금리 정책을 펼침. 그로 인해 주택 융자 금리 인하 -> 부동산 가격 상승 이라는 결과를 가져옴.   \n",
    "- 주택담보대출인 서브프라임모기지의 매출 금리보다 높은 상승률을 보이는 주택 가격때문에 파산하더라도 주택가격 상승으로 보전되어 금융회사가 손해보지 않는 구조여서 거래량은 대촉 증가.  \n",
    "- 증권화된 서브프라임 모기지론은 높은 수익률이 보장되며 신용등급이 높은 상품으로 알려져 거래량이 폭증함.  \n",
    "- 하지만 저금리정책이 종료됨에 따라 부동산 버블이 꺼지기 시작하면서 해당 대출의 금리가 올라갔고, 저소득층 대출자들은 원리금을 갚지 못하는 사태.  \n",
    "- 증권화되어 거래된 서브프라임 모기지론을 구매한 금융기관들은 대출금 회수불능사태에 빠져 손실 발생 - > 여러 기업의 부실화  -> 미국의 대형 금융사, 증권회사의 파산이 이어짐.   \n",
    "- 세계적인 신용경색과 실물경제의 악영향을 주었고, 2008년 이후의 세계금융위기까지 이어지게 됨. \n",
    "\n"
   ]
  },
  {
   "cell_type": "markdown",
   "metadata": {},
   "source": [
    "#### 연평균 성장률 (CAGR, Compound Annual Growth Rates)\n",
    ": 복합 연평균 성장률 or 연복리 수익률   \n",
    "1년 동안 얼마 만큼씩 증가하는지를 나타내는 값으로, 주로 투자 수익률을 표시하는데 사용되지만, 판매수량이나 사용자 증가율 등을 나타낼 때도 쓴다. \n",
    "\n",
    "![](https://i2.wp.com/img.tfd.com/mgh/Investopedia/Compound_Annual_Growth_Rate.png)"
   ]
  },
  {
   "cell_type": "code",
   "execution_count": 1,
   "metadata": {},
   "outputs": [],
   "source": [
    "def getCAGR(first, last, year):\n",
    "    return (last/first)**(1/year) -1"
   ]
  },
  {
   "cell_type": "code",
   "execution_count": 8,
   "metadata": {},
   "outputs": [
    {
     "name": "stdout",
     "output_type": "stream",
     "text": [
      "Samsung EC CAGR : 20.38%\n"
     ]
    }
   ],
   "source": [
    "cagr = getCAGR(65300, 2669000, 20)\n",
    "print ('Samsung EC CAGR : {0:.2%}'.format(cagr))"
   ]
  },
  {
   "cell_type": "markdown",
   "metadata": {},
   "source": [
    "삼성전자는 1998년 4월 27일 65,300원이던 주가가 액면분할 직전인 2018년 4월 27일 2,669,000원이 되기까지의 20년동안 연평균 성장률 CAGR은 20.38%"
   ]
  },
  {
   "cell_type": "code",
   "execution_count": null,
   "metadata": {},
   "outputs": [],
   "source": []
  }
 ],
 "metadata": {
  "kernelspec": {
   "display_name": "Python 3",
   "language": "python",
   "name": "python3"
  },
  "language_info": {
   "codemirror_mode": {
    "name": "ipython",
    "version": 3
   },
   "file_extension": ".py",
   "mimetype": "text/x-python",
   "name": "python",
   "nbconvert_exporter": "python",
   "pygments_lexer": "ipython3",
   "version": "3.8.3"
  }
 },
 "nbformat": 4,
 "nbformat_minor": 4
}
