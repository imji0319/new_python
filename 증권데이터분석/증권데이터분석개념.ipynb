{
 "cells": [
  {
   "cell_type": "markdown",
   "metadata": {},
   "source": [
    "# 파이썬 증권 데이터 분석 \n",
    "증권과 관련된 개념 및 내용 정리 "
   ]
  },
  {
   "cell_type": "markdown",
   "metadata": {},
   "source": [
    "#### 연평균 성장률 (CAGR, Compound Annual Growth Rates)\n",
    ": 복합 연평균 성장률 or 연복리 수익률   \n",
    "1년 동안 얼마 만큼씩 증가하는지를 나타내는 값으로, 주로 투자 수익률을 표시하는데 사용되지만, 판매수량이나 사용자 증가율 등을 나타낼 때도 쓴다. \n",
    "\n",
    "![](https://i2.wp.com/img.tfd.com/mgh/Investopedia/Compound_Annual_Growth_Rate.png)"
   ]
  },
  {
   "cell_type": "code",
   "execution_count": 1,
   "metadata": {},
   "outputs": [],
   "source": [
    "def getCAGR(first, last, year):\n",
    "    return (last/first)**(1/year) -1"
   ]
  },
  {
   "cell_type": "code",
   "execution_count": 8,
   "metadata": {},
   "outputs": [
    {
     "name": "stdout",
     "output_type": "stream",
     "text": [
      "Samsung EC CAGR : 20.38%\n"
     ]
    }
   ],
   "source": [
    "cagr = getCAGR(65300, 2669000, 20)\n",
    "print ('Samsung EC CAGR : {0:.2%}'.format(cagr))"
   ]
  },
  {
   "cell_type": "markdown",
   "metadata": {},
   "source": [
    "삼성전자는 1998년 4월 27일 65,300원이던 주가가 액면분할 직전인 2018년 4월 27일 2,669,000원이 되기까지의 20년동안 연평균 성장률 CAGR은 20.38%"
   ]
  },
  {
   "cell_type": "code",
   "execution_count": null,
   "metadata": {},
   "outputs": [],
   "source": []
  }
 ],
 "metadata": {
  "kernelspec": {
   "display_name": "Python 3",
   "language": "python",
   "name": "python3"
  },
  "language_info": {
   "codemirror_mode": {
    "name": "ipython",
    "version": 3
   },
   "file_extension": ".py",
   "mimetype": "text/x-python",
   "name": "python",
   "nbconvert_exporter": "python",
   "pygments_lexer": "ipython3",
   "version": "3.8.3"
  }
 },
 "nbformat": 4,
 "nbformat_minor": 4
}
