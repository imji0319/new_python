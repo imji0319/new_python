{
 "cells": [
  {
   "cell_type": "markdown",
   "metadata": {},
   "source": [
    "# Dimenstion Reduction, 차원 축소 \n",
    "\n",
    "일반적으로 차원이 증가할수록 데이터 포이트 간이 거리가 기하급수적으로 멀어지게 되고, 희소(sparse)한 구조를 가지게됨.  \n",
    "피처가 많을 경우, 상대적으로 적은 차원에서 학습된 모델 보다 예측 신뢰도가 떨어지고, 개별 피처 간의 상관관계가 높을 가능성이 큼.  \n",
    "그로 인해 선형회귀 등의 모델에서는 다중공선성 문제가 발생하여 모델의 예측성능을 떨어질 수 있음. "
   ]
  },
  {
   "cell_type": "code",
   "execution_count": null,
   "metadata": {},
   "outputs": [],
   "source": []
  }
 ],
 "metadata": {
  "kernelspec": {
   "display_name": "Python 3",
   "language": "python",
   "name": "python3"
  },
  "language_info": {
   "codemirror_mode": {
    "name": "ipython",
    "version": 3
   },
   "file_extension": ".py",
   "mimetype": "text/x-python",
   "name": "python",
   "nbconvert_exporter": "python",
   "pygments_lexer": "ipython3",
   "version": "3.8.3"
  }
 },
 "nbformat": 4,
 "nbformat_minor": 4
}
