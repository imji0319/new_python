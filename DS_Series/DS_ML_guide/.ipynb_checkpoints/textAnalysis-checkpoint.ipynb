{
 "cells": [
  {
   "cell_type": "markdown",
   "metadata": {},
   "source": [
    "# 텍스트 정규화 \n",
    "## 텍스트 토큰화 \n",
    "- 문장 토큰화(sentence tokenization) : `nltk.sent_tokenize()`\n",
    "- 단어 토큰화(word tokenization) : `nltk.word_tokenize()`\n",
    "\n",
    "## 스톱 워드 제거 \n",
    "스톱 워드(stop word)는 분석에 큰 의미가 없는 단어를 지칭.    \n",
    "`nltk.download('stopwords')` 로 다운로드 -> `nltk.corpus.stopwords.words('english')` 처럼 언어별 스톱워드를 제공함.     \n",
    "\n",
    "## Stemming / Lemmatization \n",
    "문법적 또는 의미적으로 변화하는 단어의 원형을 찾는 것.   \n",
    "Stemming : 원형 단어로 변환 시 일반적인 방법을 적용하거나 더 단순화된 방법을 적용해 원래 단어에서 일부 철자가 훼손된 어근 단어를 추출하는 경향.   \n",
    "`nltk.stem.Lascasterstemmer()` : 진행형, 3인칭 단수, 과거형에 따른 동사, 그리고 비교, 최상에 따른 형용사의 변화에 따라 더 단순하게 원형 단어를 찾음.  \n",
    "Lemmatization : 품사와 가은 문법적인 요소와 더 의미적인 부분을 감안해 정확한 철자로 된 어근 단어를 추출.   \n",
    "`nltk.stem.WordNetLemmatizer()` : 보다 정확한 원형 단어 추출을 위해 단어의 '품사'를 입력해주어야 함.  \n",
    "\n",
    "# Bag of Words - BOW \n",
    "문서가 가지는 모든 단어(words)를 문맥이나 순서를 무시하고 일괄적으로 단어에 대해 빈도 값을 부여해 피처 값을 추출하는 모델.    \n",
    "* 문맥 의미(semantic Context) 반영 부족 : 단어의 순서를 고려하지 않기 때문에 문장 내 단어의 문맥적 의미를 무시함.  \n",
    "* 희소 행렬 문제 : 대규모의 칼럼으로 구성된 행렬에서 대부분의 값이 0으로 채워지는 희소행렬이 많이 발생할 수 있으며, 이는 ML 알고리즘의 수행시간과 예측 성능을 떨어뜨림.    \n",
    "\n",
    "## BOW 피처 벡터화\n",
    "피처 벡터화 : 텍스트를 특정 의미를 가지는 숫자형 값인 벡터 값으로 변환.   \n",
    "모든 문서에서 모든 단어를 칼럼 형태를 나열하고 각 문서에서 해당 단어의 횟수나 정규화된 빈도를 값으로 부여하는 데이터 세트 모델로 변경하는 것.  \n",
    "- Count 벡터화 : `sklearn.feature_extraction.CountVectorizer()`\n",
    "- TF-IDF(Term Frequency Inverse Document Frequency) : 개별 문서에서 자주 나타나는 단어에 높은 가중치를 주되, 모든 문서에서 전반적으로 자주 나타나는 단어에 대해서는 페널티를 주는 방식. `sklearn.feature_extraction.text.TfidfVectorizer()`"
   ]
  },
  {
   "cell_type": "code",
   "execution_count": null,
   "metadata": {},
   "outputs": [],
   "source": []
  }
 ],
 "metadata": {
  "kernelspec": {
   "display_name": "Python 3",
   "language": "python",
   "name": "python3"
  },
  "language_info": {
   "codemirror_mode": {
    "name": "ipython",
    "version": 3
   },
   "file_extension": ".py",
   "mimetype": "text/x-python",
   "name": "python",
   "nbconvert_exporter": "python",
   "pygments_lexer": "ipython3",
   "version": "3.8.3"
  }
 },
 "nbformat": 4,
 "nbformat_minor": 4
}
