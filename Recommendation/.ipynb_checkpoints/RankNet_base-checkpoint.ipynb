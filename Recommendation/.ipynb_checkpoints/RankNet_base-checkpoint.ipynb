{
 "cells": [
  {
   "cell_type": "markdown",
   "id": "4f774bef-8a21-4bef-981a-61e7571da4e1",
   "metadata": {},
   "source": [
    "## RankNet \n",
    "RankNet 계열의 알고리즘을 사용할 때는, 네트워크를 변형하여 구성하거나 파라미터 튜닝을 하는 것보다도 pair 생성하고 y를 잘 매칭해주는 작업이 훨씬 중요하다. "
   ]
  },
  {
   "cell_type": "code",
   "execution_count": 1,
   "id": "329934f4-c398-482d-b0fc-167763a40cc6",
   "metadata": {},
   "outputs": [
    {
     "name": "stdout",
     "output_type": "stream",
     "text": [
      "Init Plugin\n",
      "Init Graph Optimizer\n",
      "Init Kernel\n"
     ]
    }
   ],
   "source": [
    "import keras"
   ]
  },
  {
   "cell_type": "code",
   "execution_count": 4,
   "id": "0bb52620-a7c6-44c1-adc6-07a88d642c55",
   "metadata": {},
   "outputs": [],
   "source": [
    "import numpy as np\n",
    "from keras import backend\n",
    "from keras.layers import Activation, Dense, Input, Subtract\n",
    "from keras.models import Model, Sequential"
   ]
  },
  {
   "cell_type": "code",
   "execution_count": 5,
   "id": "ee5953d6-0dc1-4b29-9fd8-8bbdecd426d2",
   "metadata": {},
   "outputs": [],
   "source": [
    "def base_network(input_dim):\n",
    "    model = Sequential()\n",
    "    model.add(Dense(input_dim, input_shape = (input_dim,),\n",
    "                    activation='relu'))\n",
    "    model.add(Dense(100, activation ='relu'))\n",
    "    model.add(Dense(50, activation ='relu'))\n",
    "    model.add(Dense(1))\n",
    "    return model"
   ]
  },
  {
   "cell_type": "code",
   "execution_count": 6,
   "id": "1f10e7a8-49c4-47f4-a78e-12dffd715169",
   "metadata": {},
   "outputs": [],
   "source": [
    "input_dim = 200\n",
    "n = 100"
   ]
  },
  {
   "cell_type": "code",
   "execution_count": 7,
   "id": "55fe2026-e1c0-4d94-b2dd-c2982896ac03",
   "metadata": {},
   "outputs": [
    {
     "name": "stdout",
     "output_type": "stream",
     "text": [
      "Metal device set to: Apple M1\n"
     ]
    },
    {
     "name": "stderr",
     "output_type": "stream",
     "text": [
      "2022-01-07 15:34:45.808609: I tensorflow/core/common_runtime/pluggable_device/pluggable_device_factory.cc:305] Could not identify NUMA node of platform GPU ID 0, defaulting to 0. Your kernel may not have been built with NUMA support.\n",
      "2022-01-07 15:34:45.808843: I tensorflow/core/common_runtime/pluggable_device/pluggable_device_factory.cc:271] Created TensorFlow device (/job:localhost/replica:0/task:0/device:GPU:0 with 0 MB memory) -> physical PluggableDevice (device: 0, name: METAL, pci bus id: <undefined>)\n"
     ]
    }
   ],
   "source": [
    "# define input \n",
    "pre_pair_input = Input(shape = (input_dim,))\n",
    "post_pair_input = Input(shape =(input_dim,))\n",
    "\n",
    "# get pair network \n",
    "base_model =base_network(input_dim = input_dim)\n",
    "rel_score = base_model(pre_pair_input)\n",
    "irr_socre = base_model(post_pair_input)"
   ]
  },
  {
   "cell_type": "code",
   "execution_count": 9,
   "id": "f68abec8-bd53-46b0-92d8-60c1247fcc3a",
   "metadata": {},
   "outputs": [],
   "source": [
    "# subtract each score \n",
    "diff = Subtract()([rel_score, irr_socre])\n",
    "\n",
    "# activate sigmoid function \n",
    "prob = Activation('sigmoid')(diff)"
   ]
  },
  {
   "cell_type": "code",
   "execution_count": 10,
   "id": "22b648bc-7499-4ae6-82d3-b8e4104f3fa5",
   "metadata": {},
   "outputs": [
    {
     "data": {
      "text/plain": [
       "<KerasTensor: shape=(None, 1) dtype=float32 (created by layer 'subtract_1')>"
      ]
     },
     "execution_count": 10,
     "metadata": {},
     "output_type": "execute_result"
    }
   ],
   "source": [
    "diff"
   ]
  },
  {
   "cell_type": "code",
   "execution_count": 11,
   "id": "16501371-4872-4ce0-9f4a-66b0acb74185",
   "metadata": {},
   "outputs": [
    {
     "data": {
      "text/plain": [
       "<KerasTensor: shape=(None, 1) dtype=float32 (created by layer 'activation')>"
      ]
     },
     "execution_count": 11,
     "metadata": {},
     "output_type": "execute_result"
    }
   ],
   "source": [
    "prob"
   ]
  },
  {
   "cell_type": "code",
   "execution_count": 12,
   "id": "dbfe514a-d9a4-4ae1-adfe-2918ee5eb94b",
   "metadata": {},
   "outputs": [],
   "source": [
    "# build \n",
    "model = Model(inputs = [pre_pair_input, post_pair_input],\n",
    "              outputs = prob)\n",
    "\n",
    "model.compile(optimizer ='adam', loss ='binary_crossentropy',\n",
    "              metrics =['accuracy'])"
   ]
  },
  {
   "cell_type": "code",
   "execution_count": 14,
   "id": "3b58bc06-6f4a-4b0c-908d-ae4e564b1d6a",
   "metadata": {},
   "outputs": [
    {
     "data": {
      "text/plain": [
       "<keras.engine.functional.Functional at 0x14e279c70>"
      ]
     },
     "execution_count": 14,
     "metadata": {},
     "output_type": "execute_result"
    }
   ],
   "source": [
    "model"
   ]
  },
  {
   "cell_type": "code",
   "execution_count": 15,
   "id": "c832fca9-c392-438f-8645-4158b525c07b",
   "metadata": {},
   "outputs": [],
   "source": [
    "# data : a is  \n",
    "doc_a_features = np.random.uniform(size = (n, input_dim)) + 1\n",
    "doc_b_features = np.random.uniform(size = (n, input_dim))\n",
    "\n",
    "y = np.ones((n,1))"
   ]
  },
  {
   "cell_type": "code",
   "execution_count": 17,
   "id": "d6ec3155-e12b-44e4-9a6a-003071433a66",
   "metadata": {},
   "outputs": [
    {
     "data": {
      "text/plain": [
       "array([[1.56857868, 1.65502958, 1.134054  , ..., 1.22439061, 1.54153488,\n",
       "        1.73741469],\n",
       "       [1.47825054, 1.39495449, 1.63976377, ..., 1.88782427, 1.37180242,\n",
       "        1.97320116],\n",
       "       [1.01726996, 1.94000686, 1.01608638, ..., 1.84189644, 1.87502719,\n",
       "        1.95552651],\n",
       "       ...,\n",
       "       [1.78621001, 1.17436977, 1.34304665, ..., 1.20636416, 1.83988337,\n",
       "        1.5850105 ],\n",
       "       [1.74698261, 1.21155177, 1.92481562, ..., 1.79396616, 1.35724502,\n",
       "        1.61342267],\n",
       "       [1.28836018, 1.07161577, 1.5873114 , ..., 1.30376327, 1.97914077,\n",
       "        1.64325825]])"
      ]
     },
     "execution_count": 17,
     "metadata": {},
     "output_type": "execute_result"
    }
   ],
   "source": [
    "doc_a_features"
   ]
  },
  {
   "cell_type": "code",
   "execution_count": 19,
   "id": "7c633665-7357-4e02-91d0-338c9fdac43a",
   "metadata": {
    "tags": []
   },
   "outputs": [
    {
     "name": "stderr",
     "output_type": "stream",
     "text": [
      "2022-01-07 15:43:23.208242: I tensorflow/compiler/mlir/mlir_graph_optimization_pass.cc:185] None of the MLIR Optimization Passes are enabled (registered 2)\n",
      "2022-01-07 15:43:23.208652: W tensorflow/core/platform/profile_utils/cpu_utils.cc:128] Failed to get CPU frequency: 0 Hz\n",
      "2022-01-07 15:43:23.335556: I tensorflow/core/grappler/optimizers/custom_graph_optimizer_registry.cc:112] Plugin optimizer for device_type GPU is enabled.\n"
     ]
    },
    {
     "name": "stdout",
     "output_type": "stream",
     "text": [
      "Epoch 1/10\n",
      "1/1 [==============================] - 2s 2s/step - loss: 0.4452 - accuracy: 1.0000 - val_loss: 0.1637 - val_accuracy: 1.0000\n",
      "Epoch 2/10\n",
      "1/1 [==============================] - 0s 29ms/step - loss: 0.1754 - accuracy: 1.0000 - val_loss: 0.0746 - val_accuracy: 1.0000\n",
      "Epoch 3/10\n",
      "1/1 [==============================] - 0s 29ms/step - loss: 0.0782 - accuracy: 1.0000 - val_loss: 0.0352 - val_accuracy: 1.0000\n",
      "Epoch 4/10\n",
      "1/1 [==============================] - 0s 28ms/step - loss: 0.0359 - accuracy: 1.0000 - val_loss: 0.0173 - val_accuracy: 1.0000\n",
      "Epoch 5/10\n",
      "1/1 [==============================] - 0s 30ms/step - loss: 0.0172 - accuracy: 1.0000 - val_loss: 0.0089 - val_accuracy: 1.0000\n",
      "Epoch 6/10\n",
      "1/1 [==============================] - 0s 29ms/step - loss: 0.0086 - accuracy: 1.0000 - val_loss: 0.0048 - val_accuracy: 1.0000\n"
     ]
    },
    {
     "name": "stderr",
     "output_type": "stream",
     "text": [
      "2022-01-07 15:43:24.889559: I tensorflow/core/grappler/optimizers/custom_graph_optimizer_registry.cc:112] Plugin optimizer for device_type GPU is enabled.\n"
     ]
    },
    {
     "name": "stdout",
     "output_type": "stream",
     "text": [
      "Epoch 7/10\n",
      "1/1 [==============================] - 0s 29ms/step - loss: 0.0046 - accuracy: 1.0000 - val_loss: 0.0027 - val_accuracy: 1.0000\n",
      "Epoch 8/10\n",
      "1/1 [==============================] - 0s 28ms/step - loss: 0.0025 - accuracy: 1.0000 - val_loss: 0.0016 - val_accuracy: 1.0000\n",
      "Epoch 9/10\n",
      "1/1 [==============================] - 0s 28ms/step - loss: 0.0015 - accuracy: 1.0000 - val_loss: 9.4188e-04 - val_accuracy: 1.0000\n",
      "Epoch 10/10\n",
      "1/1 [==============================] - 0s 27ms/step - loss: 8.8237e-04 - accuracy: 1.0000 - val_loss: 5.8588e-04 - val_accuracy: 1.0000\n"
     ]
    }
   ],
   "source": [
    "# train \n",
    "history = model.fit([doc_a_features, doc_b_features], y, epochs = 10,\n",
    "                    batch_size = 100, validation_split=0.2)"
   ]
  },
  {
   "cell_type": "code",
   "execution_count": null,
   "id": "1f44b121-465e-4697-af54-55af4c4d34a7",
   "metadata": {},
   "outputs": [],
   "source": []
  }
 ],
 "metadata": {
  "kernelspec": {
   "display_name": "Python 3 (ipykernel)",
   "language": "python",
   "name": "python3"
  },
  "language_info": {
   "codemirror_mode": {
    "name": "ipython",
    "version": 3
   },
   "file_extension": ".py",
   "mimetype": "text/x-python",
   "name": "python",
   "nbconvert_exporter": "python",
   "pygments_lexer": "ipython3",
   "version": "3.9.7"
  }
 },
 "nbformat": 4,
 "nbformat_minor": 5
}
