{
 "cells": [
  {
   "cell_type": "markdown",
   "id": "cc563aac-3051-4e69-a141-d34c9d2eaa65",
   "metadata": {},
   "source": [
    "### DART 기업 데이터 수집 \n",
    "env : tf_kon "
   ]
  },
  {
   "cell_type": "code",
   "execution_count": 4,
   "id": "753f8054-8b7f-400c-85cb-249df542a4dd",
   "metadata": {},
   "outputs": [],
   "source": [
    "import dart_fss as dart\n",
    "import configparser\n",
    "import warnings \n",
    "import pandas as pd\n",
    "\n",
    "\n",
    "warnings.filterwarnings('ignore')"
   ]
  },
  {
   "cell_type": "code",
   "execution_count": 5,
   "id": "9467a59f-0ac5-4db2-b70b-9f4c50d89445",
   "metadata": {},
   "outputs": [],
   "source": [
    "config = configparser.ConfigParser()\n",
    "config.read('config.ini', encoding ='utf-8')\n",
    "api_key = config['dart']['key']"
   ]
  },
  {
   "cell_type": "code",
   "execution_count": null,
   "id": "290bbb06-177c-4dcd-9762-6100f5f28b86",
   "metadata": {},
   "outputs": [],
   "source": [
    "dart.set_api_key(api_key = api_key)"
   ]
  },
  {
   "cell_type": "code",
   "execution_count": 7,
   "id": "6df9ac0b-30fe-4c57-be36-6e842c74a319",
   "metadata": {},
   "outputs": [
    {
     "data": {
      "application/vnd.jupyter.widget-view+json": {
       "model_id": "cf66c62ac8a6444daf3f29a5d1373eab",
       "version_major": 2,
       "version_minor": 0
      },
      "text/plain": [
       "Output()"
      ]
     },
     "metadata": {},
     "output_type": "display_data"
    }
   ],
   "source": [
    "corp_code = pd.DataFrame(dart.api.filings.get_corp_code())"
   ]
  },
  {
   "cell_type": "code",
   "execution_count": 8,
   "id": "29468bcd-a65e-41c1-9ac6-67a4aff0a742",
   "metadata": {},
   "outputs": [],
   "source": [
    "corp_code['상장여부'] = corp_code['stock_code'].apply(lambda x : 999999999 if x is None else x)"
   ]
  },
  {
   "cell_type": "code",
   "execution_count": 9,
   "id": "607305a2-e60f-4fbd-91a6-6ac42ded57f4",
   "metadata": {},
   "outputs": [],
   "source": [
    "stock_company = corp_code[corp_code['상장여부'] != 999999999]"
   ]
  },
  {
   "cell_type": "code",
   "execution_count": 10,
   "id": "e2899feb-d37c-4cea-9dac-c6b8ddd6c825",
   "metadata": {},
   "outputs": [],
   "source": [
    "stock_company.to_csv('dataset/stock_company.csv', index =False)"
   ]
  },
  {
   "cell_type": "markdown",
   "id": "7dd05ab0-fe11-407d-a274-a32ccdb0c1b4",
   "metadata": {
    "tags": []
   },
   "source": [
    "### 상장기업에 대한 사업보고서 데이터 수집"
   ]
  },
  {
   "cell_type": "code",
   "execution_count": 11,
   "id": "51c815b1-99fb-4163-8f00-8840f370e8ce",
   "metadata": {},
   "outputs": [
    {
     "data": {
      "text/html": [
       "<div>\n",
       "<style scoped>\n",
       "    .dataframe tbody tr th:only-of-type {\n",
       "        vertical-align: middle;\n",
       "    }\n",
       "\n",
       "    .dataframe tbody tr th {\n",
       "        vertical-align: top;\n",
       "    }\n",
       "\n",
       "    .dataframe thead th {\n",
       "        text-align: right;\n",
       "    }\n",
       "</style>\n",
       "<table border=\"1\" class=\"dataframe\">\n",
       "  <thead>\n",
       "    <tr style=\"text-align: right;\">\n",
       "      <th></th>\n",
       "      <th>corp_code</th>\n",
       "      <th>corp_name</th>\n",
       "      <th>stock_code</th>\n",
       "      <th>modify_date</th>\n",
       "      <th>상장여부</th>\n",
       "    </tr>\n",
       "  </thead>\n",
       "  <tbody>\n",
       "    <tr>\n",
       "      <th>2013</th>\n",
       "      <td>00260985</td>\n",
       "      <td>한빛네트</td>\n",
       "      <td>036720</td>\n",
       "      <td>20170630</td>\n",
       "      <td>036720</td>\n",
       "    </tr>\n",
       "    <tr>\n",
       "      <th>2025</th>\n",
       "      <td>00264529</td>\n",
       "      <td>엔플렉스</td>\n",
       "      <td>040130</td>\n",
       "      <td>20170630</td>\n",
       "      <td>040130</td>\n",
       "    </tr>\n",
       "    <tr>\n",
       "      <th>2026</th>\n",
       "      <td>00358545</td>\n",
       "      <td>동서정보기술</td>\n",
       "      <td>055000</td>\n",
       "      <td>20170630</td>\n",
       "      <td>055000</td>\n",
       "    </tr>\n",
       "    <tr>\n",
       "      <th>2788</th>\n",
       "      <td>00231567</td>\n",
       "      <td>애드모바일</td>\n",
       "      <td>032600</td>\n",
       "      <td>20170630</td>\n",
       "      <td>032600</td>\n",
       "    </tr>\n",
       "    <tr>\n",
       "      <th>3896</th>\n",
       "      <td>00247939</td>\n",
       "      <td>씨모스</td>\n",
       "      <td>037600</td>\n",
       "      <td>20170630</td>\n",
       "      <td>037600</td>\n",
       "    </tr>\n",
       "    <tr>\n",
       "      <th>...</th>\n",
       "      <td>...</td>\n",
       "      <td>...</td>\n",
       "      <td>...</td>\n",
       "      <td>...</td>\n",
       "      <td>...</td>\n",
       "    </tr>\n",
       "    <tr>\n",
       "      <th>89904</th>\n",
       "      <td>00526872</td>\n",
       "      <td>이수앱지스</td>\n",
       "      <td>086890</td>\n",
       "      <td>20220228</td>\n",
       "      <td>086890</td>\n",
       "    </tr>\n",
       "    <tr>\n",
       "      <th>89909</th>\n",
       "      <td>00567222</td>\n",
       "      <td>우림피티에스</td>\n",
       "      <td>101170</td>\n",
       "      <td>20220228</td>\n",
       "      <td>101170</td>\n",
       "    </tr>\n",
       "    <tr>\n",
       "      <th>89918</th>\n",
       "      <td>00361594</td>\n",
       "      <td>DMS</td>\n",
       "      <td>068790</td>\n",
       "      <td>20220228</td>\n",
       "      <td>068790</td>\n",
       "    </tr>\n",
       "    <tr>\n",
       "      <th>89922</th>\n",
       "      <td>01136348</td>\n",
       "      <td>나무기술</td>\n",
       "      <td>242040</td>\n",
       "      <td>20220228</td>\n",
       "      <td>242040</td>\n",
       "    </tr>\n",
       "    <tr>\n",
       "      <th>89938</th>\n",
       "      <td>00141626</td>\n",
       "      <td>오리엔트바이오</td>\n",
       "      <td>002630</td>\n",
       "      <td>20220228</td>\n",
       "      <td>002630</td>\n",
       "    </tr>\n",
       "  </tbody>\n",
       "</table>\n",
       "<p>3422 rows × 5 columns</p>\n",
       "</div>"
      ],
      "text/plain": [
       "      corp_code corp_name stock_code modify_date    상장여부\n",
       "2013   00260985      한빛네트     036720    20170630  036720\n",
       "2025   00264529      엔플렉스     040130    20170630  040130\n",
       "2026   00358545    동서정보기술     055000    20170630  055000\n",
       "2788   00231567     애드모바일     032600    20170630  032600\n",
       "3896   00247939       씨모스     037600    20170630  037600\n",
       "...         ...       ...        ...         ...     ...\n",
       "89904  00526872     이수앱지스     086890    20220228  086890\n",
       "89909  00567222    우림피티에스     101170    20220228  101170\n",
       "89918  00361594       DMS     068790    20220228  068790\n",
       "89922  01136348      나무기술     242040    20220228  242040\n",
       "89938  00141626   오리엔트바이오     002630    20220228  002630\n",
       "\n",
       "[3422 rows x 5 columns]"
      ]
     },
     "execution_count": 11,
     "metadata": {},
     "output_type": "execute_result"
    }
   ],
   "source": [
    "stock_company"
   ]
  },
  {
   "cell_type": "code",
   "execution_count": null,
   "id": "c7de5d7f-233f-4e2b-b960-0b9213f34909",
   "metadata": {},
   "outputs": [],
   "source": []
  }
 ],
 "metadata": {
  "kernelspec": {
   "display_name": "Python 3 (ipykernel)",
   "language": "python",
   "name": "python3"
  },
  "language_info": {
   "codemirror_mode": {
    "name": "ipython",
    "version": 3
   },
   "file_extension": ".py",
   "mimetype": "text/x-python",
   "name": "python",
   "nbconvert_exporter": "python",
   "pygments_lexer": "ipython3",
   "version": "3.8.12"
  }
 },
 "nbformat": 4,
 "nbformat_minor": 5
}
