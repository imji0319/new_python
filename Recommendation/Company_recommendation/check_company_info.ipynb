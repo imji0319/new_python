{
 "cells": [
  {
   "cell_type": "code",
   "execution_count": 1,
   "id": "ea868387-491f-4852-9199-e82a68c8cae3",
   "metadata": {},
   "outputs": [
    {
     "name": "stderr",
     "output_type": "stream",
     "text": [
      "Error occurred during loading data. Trying to use cache server https://fake-useragent.herokuapp.com/browsers/0.1.11\n",
      "Traceback (most recent call last):\n",
      "  File \"/Users/openknowl/miniforge3/envs/tf_kon/lib/python3.8/site-packages/fake_useragent/utils.py\", line 154, in load\n",
      "    for item in get_browsers(verify_ssl=verify_ssl):\n",
      "  File \"/Users/openknowl/miniforge3/envs/tf_kon/lib/python3.8/site-packages/fake_useragent/utils.py\", line 99, in get_browsers\n",
      "    html = html.split('<table class=\"w3-table-all notranslate\">')[1]\n",
      "IndexError: list index out of range\n"
     ]
    }
   ],
   "source": [
    "import dart_fss as dart\n",
    "import configparser\n",
    "import warnings \n",
    "import pandas as pd\n",
    "\n",
    "config = configparser.ConfigParser()\n",
    "config.read('config.ini', encoding ='utf-8')\n",
    "api_key = config['dart']['key']"
   ]
  },
  {
   "cell_type": "code",
   "execution_count": null,
   "id": "fad33959-0d56-4665-adc1-4224bcfd8bbf",
   "metadata": {
    "tags": []
   },
   "outputs": [],
   "source": [
    "dart.set_api_key(api_key = api_key)"
   ]
  },
  {
   "cell_type": "code",
   "execution_count": 5,
   "id": "3ff8fe58-3d68-4966-9df5-d8afd2f55bea",
   "metadata": {},
   "outputs": [
    {
     "data": {
      "application/vnd.jupyter.widget-view+json": {
       "model_id": "b624ba528f19475f83e06222036eb9f2",
       "version_major": 2,
       "version_minor": 0
      },
      "text/plain": [
       "Output()"
      ]
     },
     "metadata": {},
     "output_type": "display_data"
    },
    {
     "data": {
      "application/vnd.jupyter.widget-view+json": {
       "model_id": "13e642c5987646a1a22aed550c629fbd",
       "version_major": 2,
       "version_minor": 0
      },
      "text/plain": [
       "Output()"
      ]
     },
     "metadata": {},
     "output_type": "display_data"
    },
    {
     "data": {
      "application/vnd.jupyter.widget-view+json": {
       "model_id": "b4e5c5f5a0204b4c82deb52bfbb4618b",
       "version_major": 2,
       "version_minor": 0
      },
      "text/plain": [
       "Output()"
      ]
     },
     "metadata": {},
     "output_type": "display_data"
    }
   ],
   "source": [
    "corp_list = dart.get_corp_list()"
   ]
  },
  {
   "cell_type": "code",
   "execution_count": 11,
   "id": "9c902360-2a63-4ebc-81c4-a36c693481c6",
   "metadata": {},
   "outputs": [
    {
     "data": {
      "text/html": [
       "\n",
       "    <style scoped>\n",
       "        .dart-table tbody tr th {\n",
       "            vertical-align: top;\n",
       "            text-overflow: ellipsis;\n",
       "        }\n",
       "        .dart-table thead th {\n",
       "            text-align: right;\n",
       "            text-overflow: ellipsis;\n",
       "        }\n",
       "    </style>\n",
       "    <table border=\"1\" class=\"dart-table\"><thead><tr style=\"text-align: right;\"><th>Label</th><th>Data</th></tr></thead><tbody><tr><th>corp_code</th><td>00126371</td></tr><tr><th>corp_name</th><td>삼성전기</td></tr><tr><th>stock_code</th><td>009150</td></tr><tr><th>modify_date</th><td>20220317</td></tr><tr><th>sector</th><td>전자부품 제조업</td></tr><tr><th>product</th><td>영상,음향,통신장비,모듈,다층인쇄회로기판,적층세라믹콘덴서,고주파필터,전압제어발진기,온도보상형수정발진기,칩인덕터,디지털위성방송수신기,광픽업,편향코일</td></tr><tr><th>corp_cls</th><td>Y</td></tr></tbody></table>"
      ],
      "text/plain": [
       "[00126371]삼성전기"
      ]
     },
     "execution_count": 11,
     "metadata": {},
     "output_type": "execute_result"
    }
   ],
   "source": [
    "corp_list.find_by_corp_code('00126371')"
   ]
  },
  {
   "cell_type": "code",
   "execution_count": 12,
   "id": "da32d3e9-6d36-41cb-b340-0f8f5bb3d7f4",
   "metadata": {},
   "outputs": [
    {
     "data": {
      "text/html": [
       "\n",
       "    <style scoped>\n",
       "        .dart-table tbody tr th {\n",
       "            vertical-align: top;\n",
       "            text-overflow: ellipsis;\n",
       "        }\n",
       "        .dart-table thead th {\n",
       "            text-align: right;\n",
       "            text-overflow: ellipsis;\n",
       "        }\n",
       "    </style>\n",
       "    <table border=\"1\" class=\"dart-table\"><thead><tr style=\"text-align: right;\"><th>Label</th><th>Data</th></tr></thead><tbody><tr><th>corp_code</th><td>00164779</td></tr><tr><th>corp_name</th><td>SK하이닉스</td></tr><tr><th>stock_code</th><td>000660</td></tr><tr><th>modify_date</th><td>20220308</td></tr><tr><th>sector</th><td>반도체 제조업</td></tr><tr><th>product</th><td>반도체,컴퓨터,통신기기 제조,도매</td></tr><tr><th>corp_cls</th><td>Y</td></tr></tbody></table>"
      ],
      "text/plain": [
       "[00164779]SK하이닉스"
      ]
     },
     "execution_count": 12,
     "metadata": {},
     "output_type": "execute_result"
    }
   ],
   "source": [
    "corp_list.find_by_corp_code('00164779')"
   ]
  },
  {
   "cell_type": "code",
   "execution_count": 13,
   "id": "b9e64042-c3f0-4297-bda8-6b0dba4595a5",
   "metadata": {},
   "outputs": [
    {
     "data": {
      "text/html": [
       "\n",
       "    <style scoped>\n",
       "        .dart-table tbody tr th {\n",
       "            vertical-align: top;\n",
       "            text-overflow: ellipsis;\n",
       "        }\n",
       "        .dart-table thead th {\n",
       "            text-align: right;\n",
       "            text-overflow: ellipsis;\n",
       "        }\n",
       "    </style>\n",
       "    <table border=\"1\" class=\"dart-table\"><thead><tr style=\"text-align: right;\"><th>Label</th><th>Data</th></tr></thead><tbody><tr><th>corp_code</th><td>00160843</td></tr><tr><th>corp_name</th><td>DB하이텍</td></tr><tr><th>stock_code</th><td>000990</td></tr><tr><th>modify_date</th><td>20220216</td></tr><tr><th>sector</th><td>반도체 제조업</td></tr><tr><th>product</th><td>반도체 제조</td></tr><tr><th>corp_cls</th><td>Y</td></tr></tbody></table>"
      ],
      "text/plain": [
       "[00160843]DB하이텍"
      ]
     },
     "execution_count": 13,
     "metadata": {},
     "output_type": "execute_result"
    }
   ],
   "source": [
    "corp_list.find_by_corp_code('00160843')"
   ]
  },
  {
   "cell_type": "code",
   "execution_count": 14,
   "id": "d304955a-f81a-4e76-adba-2d69a3f3cedf",
   "metadata": {},
   "outputs": [
    {
     "data": {
      "text/html": [
       "\n",
       "    <style scoped>\n",
       "        .dart-table tbody tr th {\n",
       "            vertical-align: top;\n",
       "            text-overflow: ellipsis;\n",
       "        }\n",
       "        .dart-table thead th {\n",
       "            text-align: right;\n",
       "            text-overflow: ellipsis;\n",
       "        }\n",
       "    </style>\n",
       "    <table border=\"1\" class=\"dart-table\"><thead><tr style=\"text-align: right;\"><th>Label</th><th>Data</th></tr></thead><tbody><tr><th>corp_code</th><td>00152127</td></tr><tr><th>corp_name</th><td>심텍홀딩스</td></tr><tr><th>stock_code</th><td>036710</td></tr><tr><th>modify_date</th><td>20220222</td></tr><tr><th>sector</th><td>통신 및 방송 장비 제조업</td></tr><tr><th>product</th><td>반도체용 인쇄회로기판</td></tr><tr><th>corp_cls</th><td>K</td></tr></tbody></table>"
      ],
      "text/plain": [
       "[00152127]심텍홀딩스"
      ]
     },
     "execution_count": 14,
     "metadata": {},
     "output_type": "execute_result"
    }
   ],
   "source": [
    "corp_list.find_by_corp_code('00152127')"
   ]
  },
  {
   "cell_type": "code",
   "execution_count": 15,
   "id": "fd75691e-38f2-40d3-ad19-e968f11b48a1",
   "metadata": {},
   "outputs": [
    {
     "data": {
      "text/html": [
       "\n",
       "    <style scoped>\n",
       "        .dart-table tbody tr th {\n",
       "            vertical-align: top;\n",
       "            text-overflow: ellipsis;\n",
       "        }\n",
       "        .dart-table thead th {\n",
       "            text-align: right;\n",
       "            text-overflow: ellipsis;\n",
       "        }\n",
       "    </style>\n",
       "    <table border=\"1\" class=\"dart-table\"><thead><tr style=\"text-align: right;\"><th>Label</th><th>Data</th></tr></thead><tbody><tr><th>corp_code</th><td>00105873</td></tr><tr><th>corp_name</th><td>LG디스플레이</td></tr><tr><th>stock_code</th><td>034220</td></tr><tr><th>modify_date</th><td>20220302</td></tr><tr><th>sector</th><td>전자부품 제조업</td></tr><tr><th>product</th><td>액정표시장치(TFT-LCD) 제조</td></tr><tr><th>corp_cls</th><td>Y</td></tr></tbody></table>"
      ],
      "text/plain": [
       "[00105873]LG디스플레이"
      ]
     },
     "execution_count": 15,
     "metadata": {},
     "output_type": "execute_result"
    }
   ],
   "source": [
    "corp_list.find_by_corp_code('00105873')"
   ]
  },
  {
   "cell_type": "code",
   "execution_count": 16,
   "id": "f5f95910-da1b-41f1-abc0-a7eedfd23dcb",
   "metadata": {},
   "outputs": [
    {
     "data": {
      "text/html": [
       "\n",
       "    <style scoped>\n",
       "        .dart-table tbody tr th {\n",
       "            vertical-align: top;\n",
       "            text-overflow: ellipsis;\n",
       "        }\n",
       "        .dart-table thead th {\n",
       "            text-align: right;\n",
       "            text-overflow: ellipsis;\n",
       "        }\n",
       "    </style>\n",
       "    <table border=\"1\" class=\"dart-table\"><thead><tr style=\"text-align: right;\"><th>Label</th><th>Data</th></tr></thead><tbody><tr><th>corp_code</th><td>00657002</td></tr><tr><th>corp_name</th><td>에이디테크놀로지</td></tr><tr><th>stock_code</th><td>200710</td></tr><tr><th>modify_date</th><td>20211117</td></tr><tr><th>sector</th><td>반도체 제조업</td></tr><tr><th>product</th><td>주문형 반도체</td></tr><tr><th>corp_cls</th><td>K</td></tr></tbody></table>"
      ],
      "text/plain": [
       "[00657002]에이디테크놀로지"
      ]
     },
     "execution_count": 16,
     "metadata": {},
     "output_type": "execute_result"
    }
   ],
   "source": [
    "corp_list.find_by_corp_code('00657002')"
   ]
  },
  {
   "cell_type": "code",
   "execution_count": 17,
   "id": "ab105365-183a-427c-b598-dbf4ee0e7057",
   "metadata": {},
   "outputs": [
    {
     "data": {
      "text/html": [
       "\n",
       "    <style scoped>\n",
       "        .dart-table tbody tr th {\n",
       "            vertical-align: top;\n",
       "            text-overflow: ellipsis;\n",
       "        }\n",
       "        .dart-table thead th {\n",
       "            text-align: right;\n",
       "            text-overflow: ellipsis;\n",
       "        }\n",
       "    </style>\n",
       "    <table border=\"1\" class=\"dart-table\"><thead><tr style=\"text-align: right;\"><th>Label</th><th>Data</th></tr></thead><tbody><tr><th>corp_code</th><td>00401731</td></tr><tr><th>corp_name</th><td>LG전자</td></tr><tr><th>stock_code</th><td>066570</td></tr><tr><th>modify_date</th><td>20220114</td></tr><tr><th>sector</th><td>통신 및 방송 장비 제조업</td></tr><tr><th>product</th><td>이동통신단말기,C-TV,V.C.R.,컴퓨터,완전평면 TV,플라즈마 디스플레이 패널 TV,전자제품(세탁기외),CDMA(코드분할다중접속)이동통신,전자교환기,전송기기</td></tr><tr><th>corp_cls</th><td>Y</td></tr></tbody></table>"
      ],
      "text/plain": [
       "[00401731]LG전자"
      ]
     },
     "execution_count": 17,
     "metadata": {},
     "output_type": "execute_result"
    }
   ],
   "source": [
    "corp_list.find_by_corp_code('00401731')"
   ]
  },
  {
   "cell_type": "code",
   "execution_count": 18,
   "id": "c08b1466-a6e1-4afe-b84d-f4e273c94142",
   "metadata": {},
   "outputs": [
    {
     "data": {
      "text/html": [
       "\n",
       "    <style scoped>\n",
       "        .dart-table tbody tr th {\n",
       "            vertical-align: top;\n",
       "            text-overflow: ellipsis;\n",
       "        }\n",
       "        .dart-table thead th {\n",
       "            text-align: right;\n",
       "            text-overflow: ellipsis;\n",
       "        }\n",
       "    </style>\n",
       "    <table border=\"1\" class=\"dart-table\"><thead><tr style=\"text-align: right;\"><th>Label</th><th>Data</th></tr></thead><tbody><tr><th>corp_code</th><td>01159233</td></tr><tr><th>corp_name</th><td>솔루엠</td></tr><tr><th>stock_code</th><td>248070</td></tr><tr><th>modify_date</th><td>20220208</td></tr><tr><th>sector</th><td>전자부품 제조업</td></tr><tr><th>product</th><td>POWER, 3in1 Board, ESL 등</td></tr><tr><th>corp_cls</th><td>Y</td></tr></tbody></table>"
      ],
      "text/plain": [
       "[01159233]솔루엠"
      ]
     },
     "execution_count": 18,
     "metadata": {},
     "output_type": "execute_result"
    }
   ],
   "source": [
    "corp_list.find_by_corp_code('01159233')"
   ]
  },
  {
   "cell_type": "code",
   "execution_count": 20,
   "id": "f019bfec-0316-4c33-adfe-e4a91f5f00c2",
   "metadata": {},
   "outputs": [
    {
     "data": {
      "text/html": [
       "\n",
       "    <style scoped>\n",
       "        .dart-table tbody tr th {\n",
       "            vertical-align: top;\n",
       "            text-overflow: ellipsis;\n",
       "        }\n",
       "        .dart-table thead th {\n",
       "            text-align: right;\n",
       "            text-overflow: ellipsis;\n",
       "        }\n",
       "    </style>\n",
       "    <table border=\"1\" class=\"dart-table\"><thead><tr style=\"text-align: right;\"><th>Label</th><th>Data</th></tr></thead><tbody><tr><th>corp_code</th><td>00152686</td></tr><tr><th>corp_name</th><td>코리아써키트</td></tr><tr><th>stock_code</th><td>007810</td></tr><tr><th>modify_date</th><td>20211203</td></tr><tr><th>sector</th><td>전자부품 제조업</td></tr><tr><th>product</th><td>인쇄회로기판,Module 제조/부동산(건물) 임대</td></tr><tr><th>corp_cls</th><td>Y</td></tr></tbody></table>"
      ],
      "text/plain": [
       "[00152686]코리아써키트"
      ]
     },
     "execution_count": 20,
     "metadata": {},
     "output_type": "execute_result"
    }
   ],
   "source": [
    "corp_list.find_by_corp_code('00152686')"
   ]
  },
  {
   "cell_type": "code",
   "execution_count": 21,
   "id": "2f3434f6-9e50-4ea4-a987-9fc26677a854",
   "metadata": {},
   "outputs": [
    {
     "data": {
      "text/html": [
       "\n",
       "    <style scoped>\n",
       "        .dart-table tbody tr th {\n",
       "            vertical-align: top;\n",
       "            text-overflow: ellipsis;\n",
       "        }\n",
       "        .dart-table thead th {\n",
       "            text-align: right;\n",
       "            text-overflow: ellipsis;\n",
       "        }\n",
       "    </style>\n",
       "    <table border=\"1\" class=\"dart-table\"><thead><tr style=\"text-align: right;\"><th>Label</th><th>Data</th></tr></thead><tbody><tr><th>corp_code</th><td>00130763</td></tr><tr><th>corp_name</th><td>서울반도체</td></tr><tr><th>stock_code</th><td>046890</td></tr><tr><th>modify_date</th><td>20220221</td></tr><tr><th>sector</th><td>반도체 제조업</td></tr><tr><th>product</th><td>Display, Chip LED, Lamp</td></tr><tr><th>corp_cls</th><td>K</td></tr></tbody></table>"
      ],
      "text/plain": [
       "[00130763]서울반도체"
      ]
     },
     "execution_count": 21,
     "metadata": {},
     "output_type": "execute_result"
    }
   ],
   "source": [
    "corp_list.find_by_corp_code('00130763')"
   ]
  },
  {
   "cell_type": "code",
   "execution_count": null,
   "id": "1c0ca11d-6504-462a-baca-93f873b5aef8",
   "metadata": {},
   "outputs": [],
   "source": []
  }
 ],
 "metadata": {
  "kernelspec": {
   "display_name": "Python 3 (ipykernel)",
   "language": "python",
   "name": "python3"
  },
  "language_info": {
   "codemirror_mode": {
    "name": "ipython",
    "version": 3
   },
   "file_extension": ".py",
   "mimetype": "text/x-python",
   "name": "python",
   "nbconvert_exporter": "python",
   "pygments_lexer": "ipython3",
   "version": "3.8.12"
  }
 },
 "nbformat": 4,
 "nbformat_minor": 5
}
