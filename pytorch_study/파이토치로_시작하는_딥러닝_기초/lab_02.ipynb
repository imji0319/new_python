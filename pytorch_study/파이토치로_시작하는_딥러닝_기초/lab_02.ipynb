{
 "cells": [
  {
   "cell_type": "code",
   "execution_count": 1,
   "id": "89fc600b-a7bd-4130-bb5e-60b193f1653f",
   "metadata": {},
   "outputs": [
    {
     "name": "stderr",
     "output_type": "stream",
     "text": [
      "/Users/openknowl/miniforge3/envs/pytorch_env/lib/python3.8/site-packages/tqdm/auto.py:22: TqdmWarning: IProgress not found. Please update jupyter and ipywidgets. See https://ipywidgets.readthedocs.io/en/stable/user_install.html\n",
      "  from .autonotebook import tqdm as notebook_tqdm\n"
     ]
    }
   ],
   "source": [
    "import torch"
   ]
  },
  {
   "cell_type": "code",
   "execution_count": 10,
   "id": "c12dd39c-83c6-4f26-91aa-00e2baf1961f",
   "metadata": {},
   "outputs": [],
   "source": [
    "x_train = torch.FloatTensor([[1],[2],[3]])\n",
    "y_train = torch.FloatTensor([[2],[4],[6]])"
   ]
  },
  {
   "cell_type": "code",
   "execution_count": 11,
   "id": "5ef6735d-e283-4e21-9ff0-57ddd29af1b4",
   "metadata": {},
   "outputs": [
    {
     "data": {
      "text/plain": [
       "tensor([[1., 2.],\n",
       "        [2., 4.],\n",
       "        [3., 6.]])"
      ]
     },
     "execution_count": 11,
     "metadata": {},
     "output_type": "execute_result"
    }
   ],
   "source": [
    "torch.cat([x_train,y_train], dim =1)"
   ]
  },
  {
   "cell_type": "code",
   "execution_count": 18,
   "id": "2ffa3e1f-e2a3-489e-b3c8-aaceb20d5e36",
   "metadata": {},
   "outputs": [],
   "source": [
    "# hyperparameters 초기화\n",
    "W = torch.zeros(1, requires_grad = True)\n",
    "b = torch.zeros(1, requires_grad = True)"
   ]
  },
  {
   "cell_type": "code",
   "execution_count": 19,
   "id": "6b434f26-0850-4ade-bf91-24e8082c8230",
   "metadata": {},
   "outputs": [],
   "source": [
    "# hypothesis\n",
    "hypothesis = x_train*W + b"
   ]
  },
  {
   "cell_type": "code",
   "execution_count": 20,
   "id": "d973706c-b8f6-46e8-b479-12f216c74312",
   "metadata": {},
   "outputs": [],
   "source": [
    "# mse \n",
    "cost = torch.mean((hypothesis - y_train) **2 )"
   ]
  },
  {
   "cell_type": "code",
   "execution_count": 21,
   "id": "b29ca2cb-10a5-49bb-bda5-61f37f7d59ff",
   "metadata": {},
   "outputs": [],
   "source": [
    "from torch import optim"
   ]
  },
  {
   "cell_type": "code",
   "execution_count": 24,
   "id": "7a2125ef-df22-40f9-a432-c1868291151c",
   "metadata": {},
   "outputs": [],
   "source": [
    "# 데이터 정의 \n",
    "x_train = torch.FloatTensor([[1],[2],[3]])\n",
    "y_train = torch.FloatTensor([[2],[4],[6]])\n",
    "\n",
    "# hyperparameters 초기화\n",
    "W = torch.zeros(1, requires_grad = True)\n",
    "b = torch.zeros(1, requires_grad = True)\n",
    "\n",
    "# Optimizer 정의 : Gradient Descent model\n",
    "optimizer = optim.SGD([W,b], lr = 0.01)"
   ]
  },
  {
   "cell_type": "code",
   "execution_count": 26,
   "id": "b34111d5-a286-427f-add0-114866f72ed2",
   "metadata": {},
   "outputs": [],
   "source": [
    "nb_epochs = 1000 \n",
    "\n",
    "for epoch in range(1,nb_epochs+1):\n",
    "    hypothesis = x_train*W + b\n",
    "    cost = torch.mean((hypothesis - y_train) **2 ) \n",
    "    \n",
    "    optimizer.zero_grad()\n",
    "    cost.backward()\n",
    "    optimizer.step() "
   ]
  },
  {
   "cell_type": "code",
   "execution_count": null,
   "id": "939553ba-593b-4666-94ba-bfa5d6e6ed7c",
   "metadata": {},
   "outputs": [],
   "source": []
  }
 ],
 "metadata": {
  "kernelspec": {
   "display_name": "Python 3 (ipykernel)",
   "language": "python",
   "name": "python3"
  },
  "language_info": {
   "codemirror_mode": {
    "name": "ipython",
    "version": 3
   },
   "file_extension": ".py",
   "mimetype": "text/x-python",
   "name": "python",
   "nbconvert_exporter": "python",
   "pygments_lexer": "ipython3",
   "version": "3.8.12"
  }
 },
 "nbformat": 4,
 "nbformat_minor": 5
}
