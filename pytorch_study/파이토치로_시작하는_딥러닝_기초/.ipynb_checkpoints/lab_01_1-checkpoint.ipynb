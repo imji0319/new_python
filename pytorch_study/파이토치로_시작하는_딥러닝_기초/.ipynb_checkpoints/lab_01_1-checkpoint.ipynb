{
 "cells": [
  {
   "cell_type": "code",
   "execution_count": 1,
   "id": "5d512daf-21ac-4263-b371-2e64414be21d",
   "metadata": {},
   "outputs": [
    {
     "name": "stderr",
     "output_type": "stream",
     "text": [
      "/Users/openknowl/miniforge3/envs/pytorch_env/lib/python3.8/site-packages/tqdm/auto.py:22: TqdmWarning: IProgress not found. Please update jupyter and ipywidgets. See https://ipywidgets.readthedocs.io/en/stable/user_install.html\n",
      "  from .autonotebook import tqdm as notebook_tqdm\n"
     ]
    }
   ],
   "source": [
    "import numpy as np \n",
    "import torch"
   ]
  },
  {
   "cell_type": "markdown",
   "id": "a259732c-3365-4c21-857e-a33be8300892",
   "metadata": {},
   "source": [
    "### 1D Array With NumPy"
   ]
  },
  {
   "cell_type": "code",
   "execution_count": 2,
   "id": "4039d2d3-4333-43a5-9769-15508854379b",
   "metadata": {},
   "outputs": [
    {
     "data": {
      "text/plain": [
       "array([0, 1, 2, 3, 4, 5, 6])"
      ]
     },
     "execution_count": 2,
     "metadata": {},
     "output_type": "execute_result"
    }
   ],
   "source": [
    "t = np.array([0,1,2,3,4,5,6])\n",
    "t"
   ]
  },
  {
   "cell_type": "code",
   "execution_count": 3,
   "id": "d4924a70-a34b-43e0-b666-a0eb443e333e",
   "metadata": {},
   "outputs": [
    {
     "data": {
      "text/plain": [
       "array([0., 1., 2., 3., 4., 5., 6.])"
      ]
     },
     "execution_count": 3,
     "metadata": {},
     "output_type": "execute_result"
    }
   ],
   "source": [
    "t = np.array([0.,1.,2.,3.,4.,5.,6.])\n",
    "t"
   ]
  },
  {
   "cell_type": "code",
   "execution_count": 4,
   "id": "3fd81b64-f7c7-4f50-9b53-36570ca2ef31",
   "metadata": {},
   "outputs": [
    {
     "name": "stdout",
     "output_type": "stream",
     "text": [
      "Rank of t :  1\n",
      "Shape of t :  (7,)\n"
     ]
    }
   ],
   "source": [
    "print('Rank of t : ', t.ndim)\n",
    "print('Shape of t : ', t.shape)"
   ]
  },
  {
   "cell_type": "markdown",
   "id": "2b207385-e32c-4252-9bab-6cf8415e61d2",
   "metadata": {},
   "source": [
    "### 2D Array With NumPy"
   ]
  },
  {
   "cell_type": "code",
   "execution_count": 7,
   "id": "b3fceb2e-bba3-4f3e-bc3b-d6360bb4d448",
   "metadata": {},
   "outputs": [
    {
     "name": "stdout",
     "output_type": "stream",
     "text": [
      "[[ 1.  2.  3.]\n",
      " [ 4.  5.  6.]\n",
      " [ 7.  8.  9.]\n",
      " [10. 11. 12.]]\n"
     ]
    }
   ],
   "source": [
    "t = np.array([[1., 2.,3.],\n",
    "              [4.,5.,6.],\n",
    "              [7.,8.,9.,],\n",
    "             [10.,11.,12.]])\n",
    "print(t)"
   ]
  },
  {
   "cell_type": "code",
   "execution_count": 8,
   "id": "ad3b2a64-a10d-4449-a926-df41d812a65b",
   "metadata": {},
   "outputs": [
    {
     "name": "stdout",
     "output_type": "stream",
     "text": [
      "Rank of t :  2\n",
      "Shape of t :  (4, 3)\n"
     ]
    }
   ],
   "source": [
    "print('Rank of t : ', t.ndim)\n",
    "print('Shape of t : ', t.shape)"
   ]
  },
  {
   "cell_type": "markdown",
   "id": "d5e1e9ae-bc08-4774-b5cb-4834090ac7e8",
   "metadata": {},
   "source": [
    "### 1D Array with PyTorch"
   ]
  },
  {
   "cell_type": "code",
   "execution_count": 9,
   "id": "2c8e9b39-d896-428e-9606-eaa7a5bd6ab0",
   "metadata": {},
   "outputs": [
    {
     "name": "stdout",
     "output_type": "stream",
     "text": [
      "tensor([0., 1., 2., 3., 4., 5., 6.])\n"
     ]
    }
   ],
   "source": [
    "t = torch.FloatTensor([0.,1.,2.,3.,4.,5.,6.])\n",
    "print(t)"
   ]
  },
  {
   "cell_type": "code",
   "execution_count": 11,
   "id": "34ed8a3c-0c4e-46df-861a-9a1fe234b0cc",
   "metadata": {},
   "outputs": [
    {
     "name": "stdout",
     "output_type": "stream",
     "text": [
      "1\n",
      "torch.Size([7])\n",
      "torch.Size([7])\n"
     ]
    }
   ],
   "source": [
    "print(t.dim())\n",
    "print(t.shape)\n",
    "print(t.size())"
   ]
  },
  {
   "cell_type": "markdown",
   "id": "f63329ae-7fb5-4563-8901-19c6df3d4780",
   "metadata": {},
   "source": [
    "### 2D Array With PyTorch "
   ]
  },
  {
   "cell_type": "code",
   "execution_count": 12,
   "id": "ad555362-c770-4857-9a6f-fd25a613dd3b",
   "metadata": {},
   "outputs": [
    {
     "name": "stdout",
     "output_type": "stream",
     "text": [
      "tensor([[ 1.,  2.,  3.],\n",
      "        [ 4.,  5.,  6.],\n",
      "        [ 7.,  8.,  9.],\n",
      "        [10., 11., 12.]])\n"
     ]
    }
   ],
   "source": [
    "t = torch.FloatTensor([[1., 2.,3.],\n",
    "              [4.,5.,6.],\n",
    "              [7.,8.,9.,],\n",
    "             [10.,11.,12.]])\n",
    "print(t)"
   ]
  },
  {
   "cell_type": "code",
   "execution_count": 13,
   "id": "b873b906-f8c4-4702-ad55-42baf905ed92",
   "metadata": {},
   "outputs": [
    {
     "name": "stdout",
     "output_type": "stream",
     "text": [
      "2\n",
      "torch.Size([4, 3])\n",
      "torch.Size([4, 3])\n"
     ]
    }
   ],
   "source": [
    "print(t.dim())\n",
    "print(t.shape)\n",
    "print(t.size())"
   ]
  },
  {
   "cell_type": "code",
   "execution_count": 15,
   "id": "b63f7da8-f9ca-4d51-b699-aa60c25955df",
   "metadata": {},
   "outputs": [
    {
     "name": "stdout",
     "output_type": "stream",
     "text": [
      "tensor([ 2.,  5.,  8., 11.])\n",
      "torch.Size([4])\n",
      "tensor([[ 1.,  2.],\n",
      "        [ 4.,  5.],\n",
      "        [ 7.,  8.],\n",
      "        [10., 11.]])\n"
     ]
    }
   ],
   "source": [
    "print(t[:,1])\n",
    "print(t[:,1].size())\n",
    "print(t[:,:-1])"
   ]
  },
  {
   "cell_type": "markdown",
   "id": "1c889b44-9498-4d48-be2e-bf79f4fe9470",
   "metadata": {},
   "source": [
    "## Broadcasting"
   ]
  },
  {
   "cell_type": "code",
   "execution_count": 17,
   "id": "1e08b518-7233-4d88-9159-ec100d2e4886",
   "metadata": {},
   "outputs": [
    {
     "name": "stdout",
     "output_type": "stream",
     "text": [
      "tensor([[5., 5.]])\n"
     ]
    }
   ],
   "source": [
    "# same shape \n",
    "m1 = torch.FloatTensor([[3,3]])\n",
    "m2 = torch.FloatTensor([[2,2]])\n",
    "print(m1+m2)"
   ]
  },
  {
   "cell_type": "code",
   "execution_count": 19,
   "id": "0689058a-478e-4d00-b29e-32a9265b57fa",
   "metadata": {},
   "outputs": [
    {
     "name": "stdout",
     "output_type": "stream",
     "text": [
      "tensor([[4., 5.]])\n"
     ]
    }
   ],
   "source": [
    "# vector + scaler \n",
    "m1 = torch.FloatTensor([[1,2]])\n",
    "m2 = torch.FloatTensor([3]) # -> [[3,3]]\n",
    "print(m1+m2)"
   ]
  },
  {
   "cell_type": "code",
   "execution_count": 24,
   "id": "da3a9246-cd00-4353-8e3f-4698666c2823",
   "metadata": {},
   "outputs": [
    {
     "name": "stdout",
     "output_type": "stream",
     "text": [
      "tensor([[4., 5.],\n",
      "        [5., 6.]])\n"
     ]
    }
   ],
   "source": [
    "# 2 X 1 vector + 1 X 2 scaler \n",
    "m1 = torch.FloatTensor([[1,2]]) # -> [1,2][1,2]\n",
    "m2 = torch.FloatTensor([[3],[4]]) # -> [3,3],[4,4]\n",
    "print(m1+m2)"
   ]
  },
  {
   "cell_type": "code",
   "execution_count": 23,
   "id": "21c70647-8a0f-4828-8902-f70e9a434d46",
   "metadata": {},
   "outputs": [
    {
     "ename": "RuntimeError",
     "evalue": "The size of tensor a (2) must match the size of tensor b (3) at non-singleton dimension 0",
     "output_type": "error",
     "traceback": [
      "\u001b[0;31m---------------------------------------------------------------------------\u001b[0m",
      "\u001b[0;31mRuntimeError\u001b[0m                              Traceback (most recent call last)",
      "Input \u001b[0;32mIn [23]\u001b[0m, in \u001b[0;36m<cell line: 7>\u001b[0;34m()\u001b[0m\n\u001b[1;32m      2\u001b[0m m1 \u001b[38;5;241m=\u001b[39m torch\u001b[38;5;241m.\u001b[39mFloatTensor([[\u001b[38;5;241m1\u001b[39m,\u001b[38;5;241m1\u001b[39m],\n\u001b[1;32m      3\u001b[0m                        [\u001b[38;5;241m1\u001b[39m,\u001b[38;5;241m1\u001b[39m]]) \n\u001b[1;32m      4\u001b[0m m2 \u001b[38;5;241m=\u001b[39m torch\u001b[38;5;241m.\u001b[39mFloatTensor([[\u001b[38;5;241m3\u001b[39m,\u001b[38;5;241m3\u001b[39m],\n\u001b[1;32m      5\u001b[0m                         [\u001b[38;5;241m4\u001b[39m,\u001b[38;5;241m4\u001b[39m],\n\u001b[1;32m      6\u001b[0m                         [\u001b[38;5;241m5\u001b[39m,\u001b[38;5;241m5\u001b[39m]])\n\u001b[0;32m----> 7\u001b[0m \u001b[38;5;28mprint\u001b[39m(\u001b[43mm1\u001b[49m\u001b[38;5;241;43m+\u001b[39;49m\u001b[43mm2\u001b[49m)\n",
      "\u001b[0;31mRuntimeError\u001b[0m: The size of tensor a (2) must match the size of tensor b (3) at non-singleton dimension 0"
     ]
    }
   ],
   "source": [
    "# 2 X 2 vector + 2 X 3 scaler \n",
    "m1 = torch.FloatTensor([[1,1],\n",
    "                       [1,1]]) \n",
    "m2 = torch.FloatTensor([[3,3],\n",
    "                        [4,4],\n",
    "                        [5,5]])\n",
    "print(m1+m2)"
   ]
  },
  {
   "cell_type": "markdown",
   "id": "a252453a-1c21-4bcc-bf55-a770d26f904c",
   "metadata": {},
   "source": [
    "## Multiplication vs. Matrix Multiplication "
   ]
  },
  {
   "cell_type": "code",
   "execution_count": 26,
   "id": "7e7e1afa-9fa3-4609-b8e7-9506bfcd08f0",
   "metadata": {},
   "outputs": [
    {
     "name": "stdout",
     "output_type": "stream",
     "text": [
      "tensor([[ 5.],\n",
      "        [11.]])\n"
     ]
    }
   ],
   "source": [
    "# 행렬곱\n",
    "m1 = torch.FloatTensor([[1,2],\n",
    "                       [3,4]]) # 2x2 \n",
    "m2 = torch.FloatTensor([[1],[2]]) # 2x1\n",
    "print(m1.matmul(m2))"
   ]
  },
  {
   "cell_type": "code",
   "execution_count": 27,
   "id": "334c6980-bac3-4d9f-a913-399c86a0c36a",
   "metadata": {},
   "outputs": [
    {
     "name": "stdout",
     "output_type": "stream",
     "text": [
      "tensor([[1., 2.],\n",
      "        [6., 8.]])\n"
     ]
    }
   ],
   "source": [
    "print(m1*m2)"
   ]
  },
  {
   "cell_type": "markdown",
   "id": "0d7625a0-b476-4aaa-930d-738e6b0b1d0f",
   "metadata": {},
   "source": [
    "### Mean , Sum"
   ]
  },
  {
   "cell_type": "code",
   "execution_count": 31,
   "id": "0dfbf314-9309-466b-86cf-00125b09fe10",
   "metadata": {},
   "outputs": [],
   "source": [
    "t = torch.FloatTensor([[1,2],\n",
    "                      [3,4]])"
   ]
  },
  {
   "cell_type": "code",
   "execution_count": 32,
   "id": "49a7cbd2-94dc-4afe-91b6-6e010c2dd330",
   "metadata": {},
   "outputs": [
    {
     "data": {
      "text/plain": [
       "tensor(2.5000)"
      ]
     },
     "execution_count": 32,
     "metadata": {},
     "output_type": "execute_result"
    }
   ],
   "source": [
    "t.mean()"
   ]
  },
  {
   "cell_type": "code",
   "execution_count": 33,
   "id": "3640ad05-0255-4598-a5cb-cc1fb4c26628",
   "metadata": {},
   "outputs": [
    {
     "name": "stdout",
     "output_type": "stream",
     "text": [
      "tensor([2., 3.])\n",
      "tensor([1.5000, 3.5000])\n",
      "tensor([1.5000, 3.5000])\n"
     ]
    }
   ],
   "source": [
    "print(t.mean(dim=0))\n",
    "print(t.mean(dim=1))\n",
    "print(t.mean(dim=-1))"
   ]
  },
  {
   "cell_type": "code",
   "execution_count": 34,
   "id": "4550cb58-97fe-42b7-b6bc-6099a79c3888",
   "metadata": {},
   "outputs": [
    {
     "name": "stdout",
     "output_type": "stream",
     "text": [
      "tensor([4., 6.])\n",
      "tensor([3., 7.])\n",
      "tensor([3., 7.])\n"
     ]
    }
   ],
   "source": [
    "print(t.sum(dim=0))\n",
    "print(t.sum(dim=1))\n",
    "print(t.sum(dim=-1))"
   ]
  },
  {
   "cell_type": "code",
   "execution_count": 35,
   "id": "1a5ad013-1abd-45e3-b287-2a4a0fa164bd",
   "metadata": {},
   "outputs": [
    {
     "name": "stdout",
     "output_type": "stream",
     "text": [
      "torch.return_types.max(\n",
      "values=tensor([3., 4.]),\n",
      "indices=tensor([1, 1]))\n",
      "torch.return_types.max(\n",
      "values=tensor([2., 4.]),\n",
      "indices=tensor([1, 1]))\n",
      "torch.return_types.max(\n",
      "values=tensor([2., 4.]),\n",
      "indices=tensor([1, 1]))\n"
     ]
    }
   ],
   "source": [
    "print(t.max(dim=0))\n",
    "print(t.max(dim=1))\n",
    "print(t.max(dim=-1))"
   ]
  },
  {
   "cell_type": "code",
   "execution_count": 36,
   "id": "b0a61af8-f9a4-4dff-bb74-7c254c3d759c",
   "metadata": {},
   "outputs": [
    {
     "name": "stdout",
     "output_type": "stream",
     "text": [
      "Max tensor([3., 4.])\n",
      "ArgMax tensor([1, 1])\n"
     ]
    }
   ],
   "source": [
    "print('Max' , t.max(dim=0)[0])\n",
    "print('ArgMax' , t.max(dim=0)[1])"
   ]
  },
  {
   "cell_type": "code",
   "execution_count": null,
   "id": "d7485285-1b26-428f-a7f5-67c1c51e3cc7",
   "metadata": {},
   "outputs": [],
   "source": []
  }
 ],
 "metadata": {
  "kernelspec": {
   "display_name": "Python 3 (ipykernel)",
   "language": "python",
   "name": "python3"
  },
  "language_info": {
   "codemirror_mode": {
    "name": "ipython",
    "version": 3
   },
   "file_extension": ".py",
   "mimetype": "text/x-python",
   "name": "python",
   "nbconvert_exporter": "python",
   "pygments_lexer": "ipython3",
   "version": "3.8.12"
  }
 },
 "nbformat": 4,
 "nbformat_minor": 5
}
