{
 "cells": [
  {
   "cell_type": "code",
   "execution_count": 1,
   "id": "3e9a7b34-7c04-40d8-adf8-7d37c613d5b8",
   "metadata": {},
   "outputs": [
    {
     "name": "stderr",
     "output_type": "stream",
     "text": [
      "/Users/openknowl/miniforge3/envs/pytorch_env/lib/python3.8/site-packages/tqdm/auto.py:22: TqdmWarning: IProgress not found. Please update jupyter and ipywidgets. See https://ipywidgets.readthedocs.io/en/stable/user_install.html\n",
      "  from .autonotebook import tqdm as notebook_tqdm\n"
     ]
    }
   ],
   "source": [
    "import torch"
   ]
  },
  {
   "cell_type": "code",
   "execution_count": 2,
   "id": "1354ebc6-396d-47ad-bbc1-60d0784b7e3e",
   "metadata": {},
   "outputs": [],
   "source": [
    "x_train = torch.FloatTensor([[1],[2],[3]])\n",
    "y_train = torch.FloatTensor([[1],[2],[3]])"
   ]
  },
  {
   "cell_type": "code",
   "execution_count": 11,
   "id": "ad21012d-bdfb-4a4b-9a97-767850fc6edd",
   "metadata": {},
   "outputs": [],
   "source": [
    "W = torch.zeros(1)"
   ]
  },
  {
   "cell_type": "code",
   "execution_count": 12,
   "id": "ea69f921-a9c1-4fd0-bc31-bf456960f4d7",
   "metadata": {},
   "outputs": [
    {
     "name": "stdout",
     "output_type": "stream",
     "text": [
      "Epochs    0/10 W: 0.000000, Cost : 4.666667\n",
      "Epochs    1/10 W: 1.400000, Cost : 0.746666\n",
      "Epochs    2/10 W: 0.840000, Cost : 0.119467\n",
      "Epochs    3/10 W: 1.064000, Cost : 0.019115\n",
      "Epochs    4/10 W: 0.974400, Cost : 0.003058\n",
      "Epochs    5/10 W: 1.010240, Cost : 0.000489\n",
      "Epochs    6/10 W: 0.995904, Cost : 0.000078\n",
      "Epochs    7/10 W: 1.001638, Cost : 0.000013\n",
      "Epochs    8/10 W: 0.999345, Cost : 0.000002\n",
      "Epochs    9/10 W: 1.000262, Cost : 0.000000\n",
      "Epochs   10/10 W: 0.999895, Cost : 0.000000\n"
     ]
    }
   ],
   "source": [
    "nb_epochs = 10\n",
    "W = torch.zeros(1)\n",
    "lr = 0.1\n",
    "\n",
    "for epoch in range(nb_epochs +1):\n",
    "    # h(x) \n",
    "    hypothesis = x_train * W\n",
    "    \n",
    "    # cost \n",
    "    cost = torch.mean((hypothesis - y_train) **2)\n",
    "    gradient = torch.sum((W * x_train -y_train) * x_train)\n",
    "    \n",
    "    print('Epochs {:4d}/{} W: {:3f}, Cost : {:.6f}'.format(epoch, nb_epochs, \n",
    "                                                           W.item(), cost.item()))\n",
    "    \n",
    "    # cost gradient 로 H(x) 개선 \n",
    "    W -= lr * gradient "
   ]
  },
  {
   "cell_type": "code",
   "execution_count": 13,
   "id": "121b423e-05d7-4bee-8a3c-2e6086cbd045",
   "metadata": {},
   "outputs": [],
   "source": [
    "from torch import optim"
   ]
  },
  {
   "cell_type": "code",
   "execution_count": 15,
   "id": "1f3db68a-438d-4bdd-ae98-2d635fd331ce",
   "metadata": {},
   "outputs": [
    {
     "name": "stdout",
     "output_type": "stream",
     "text": [
      "Epochs    0/10 W: 0.000000, Cost : 4.666667\n",
      "Epochs    1/10 W: 1.400000, Cost : 0.746667\n",
      "Epochs    2/10 W: 0.840000, Cost : 0.119467\n",
      "Epochs    3/10 W: 1.064000, Cost : 0.019115\n",
      "Epochs    4/10 W: 0.974400, Cost : 0.003058\n",
      "Epochs    5/10 W: 1.010240, Cost : 0.000489\n",
      "Epochs    6/10 W: 0.995904, Cost : 0.000078\n",
      "Epochs    7/10 W: 1.001638, Cost : 0.000013\n",
      "Epochs    8/10 W: 0.999345, Cost : 0.000002\n",
      "Epochs    9/10 W: 1.000262, Cost : 0.000000\n",
      "Epochs   10/10 W: 0.999895, Cost : 0.000000\n"
     ]
    }
   ],
   "source": [
    "nb_epochs = 10\n",
    "W = torch.zeros(1, requires_grad= True)\n",
    "optimzier = optim.SGD([W], lr = 0.15)\n",
    "\n",
    "for epoch in range(nb_epochs +1):\n",
    "    # h(x) \n",
    "    hypothesis = x_train * W\n",
    "    \n",
    "    # cost \n",
    "    cost = torch.mean((hypothesis - y_train) **2)\n",
    "    \n",
    "    print('Epochs {:4d}/{} W: {:3f}, Cost : {:.6f}'.format(epoch, nb_epochs, \n",
    "                                                           W.item(), cost.item()))\n",
    "    \n",
    "    # Cost 로 H(x) 개선 \n",
    "    optimzier.zero_grad()\n",
    "    cost.backward() \n",
    "    optimzier.step() "
   ]
  },
  {
   "cell_type": "code",
   "execution_count": null,
   "id": "5f2490cd-16dd-4a51-8285-8d102b244d6a",
   "metadata": {},
   "outputs": [],
   "source": []
  }
 ],
 "metadata": {
  "kernelspec": {
   "display_name": "Python 3 (ipykernel)",
   "language": "python",
   "name": "python3"
  },
  "language_info": {
   "codemirror_mode": {
    "name": "ipython",
    "version": 3
   },
   "file_extension": ".py",
   "mimetype": "text/x-python",
   "name": "python",
   "nbconvert_exporter": "python",
   "pygments_lexer": "ipython3",
   "version": "3.8.12"
  }
 },
 "nbformat": 4,
 "nbformat_minor": 5
}
