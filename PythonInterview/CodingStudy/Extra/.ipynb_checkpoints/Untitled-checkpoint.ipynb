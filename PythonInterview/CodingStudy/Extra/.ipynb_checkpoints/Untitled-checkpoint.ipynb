{
 "cells": [
  {
   "cell_type": "code",
   "execution_count": 3,
   "id": "46775a62-08ce-4e3e-a72a-b502d1783f9a",
   "metadata": {},
   "outputs": [],
   "source": [
    "def levenshtein(s1, s2, debug = False ):\n",
    "    if len(s1) < len(s2):\n",
    "        return levenshtein(s2, s1, debug) # 길이 긴 것 기준\n",
    "\n",
    "    if len(s2) == 0:\n",
    "        return len(s1)\n",
    "\n",
    "\n",
    "    previous_row = range(len(s2) + 1)\n",
    "\n",
    "    for i , c1 in enumerate(s1):\n",
    "        current_row  =[ i + 1 ]\n",
    "\n",
    "        for j, c2 in enumerate(s2):\n",
    "            insertions = previous_row[j+1] + 1\n",
    "            deletions = current_row[j] + 1\n",
    "            substitutions = previous_row[j] + (c1 != c2)\n",
    "\n",
    "            current_row.append(min(insertions,\n",
    "                                   deletions,\n",
    "                                   substitutions))\n",
    "\n",
    "        if debug :\n",
    "            print(current_row[1:])\n",
    "        previous_row = current_row\n",
    "\n",
    "\n",
    "    return previous_row[-1]"
   ]
  },
  {
   "cell_type": "code",
   "execution_count": 4,
   "id": "ad3d436e-4a8e-459b-a7cc-c63611acf154",
   "metadata": {},
   "outputs": [
    {
     "name": "stdout",
     "output_type": "stream",
     "text": [
      "[1, 2, 3, 4, 5]\n",
      "[2, 2, 3, 4, 5]\n",
      "[3, 3, 3, 4, 5]\n",
      "[4, 4, 4, 4, 5]\n",
      "[4, 5, 5, 4, 5]\n",
      "[5, 4, 5, 5, 4]\n"
     ]
    },
    {
     "data": {
      "text/plain": [
       "4"
      ]
     },
     "execution_count": 4,
     "metadata": {},
     "output_type": "execute_result"
    }
   ],
   "source": [
    "s1 = '꿈을꾸는아이'\n",
    "s2 = '아이오아이'\n",
    "\n",
    "levenshtein(s1, s2, debug=True)"
   ]
  },
  {
   "cell_type": "code",
   "execution_count": null,
   "id": "7e3dac34-b793-422b-8999-92a595dd1258",
   "metadata": {},
   "outputs": [],
   "source": []
  }
 ],
 "metadata": {
  "kernelspec": {
   "display_name": "Python 3 (ipykernel)",
   "language": "python",
   "name": "python3"
  },
  "language_info": {
   "codemirror_mode": {
    "name": "ipython",
    "version": 3
   },
   "file_extension": ".py",
   "mimetype": "text/x-python",
   "name": "python",
   "nbconvert_exporter": "python",
   "pygments_lexer": "ipython3",
   "version": "3.8.12"
  }
 },
 "nbformat": 4,
 "nbformat_minor": 5
}
