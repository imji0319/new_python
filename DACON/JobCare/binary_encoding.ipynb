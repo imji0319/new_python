{
 "cells": [
  {
   "cell_type": "code",
   "execution_count": 1,
   "id": "03f8171b-4133-43e8-82ab-ab3a336a83b3",
   "metadata": {},
   "outputs": [],
   "source": [
    "import numpy as np\n",
    "import pandas as pd\n",
    "from category_encoders import BinaryEncoder"
   ]
  },
  {
   "cell_type": "markdown",
   "id": "accdca72-b3d9-4cda-8bb9-2c5556e7ba19",
   "metadata": {},
   "source": [
    "y = sc_train1['label']\n",
    "X = sc_train1.drop('label', axis =1)\n",
    "ce_bin = BinaryEncoder(cols = sc_train1.select_dtypes('object').columns.tolist())\n",
    "temp = ce_bin.fit_transform(X,y)\n",
    "en_train1 = pd.concat([temp, y], axis= 1)"
   ]
  },
  {
   "cell_type": "code",
   "execution_count": 2,
   "id": "f0298c91-2595-4008-9202-5d365a0c2bc2",
   "metadata": {},
   "outputs": [],
   "source": [
    "train = pd.read_csv('Jobcare_data/train.csv')\n",
    "test = pd.read_csv('Jobcare_data/test.csv')\n",
    "sub = pd.read_csv('Jobcare_data/sample_submission.csv')\n",
    "\n",
    "d_code = pd.read_csv('Jobcare_data/속성_D_코드.csv')\n",
    "h_code = pd.read_csv('Jobcare_data/속성_H_코드.csv')\n",
    "l_code = pd.read_csv('Jobcare_data/속성_L_코드.csv')"
   ]
  },
  {
   "cell_type": "code",
   "execution_count": 4,
   "id": "f98836f3-74ac-4c49-b57c-1b2a785938a0",
   "metadata": {},
   "outputs": [],
   "source": [
    "def merge_dataset(df, code, left_col, col_list):\n",
    "    temp = df.copy()\n",
    "    code_df = code.copy()\n",
    "    code_df.columns = [left_col + '_'+i for i in col_list]\n",
    "    \n",
    "    temp = pd.merge(temp, code_df, how ='left', left_on = left_col, right_on =code_df.columns[0])\n",
    "    return temp"
   ]
  },
  {
   "cell_type": "code",
   "execution_count": 6,
   "id": "654e762d-c745-4cfa-a1d5-d1cda262867f",
   "metadata": {},
   "outputs": [],
   "source": [
    "d_code.columns = ['d_code','d_ss','d_s','d_m','d_l']\n",
    "h_code.columns = ['h_code','h_m', 'h_l']\n",
    "l_code.columns = ['l_code','l_ss','l_s','l_m','l_l']"
   ]
  },
  {
   "cell_type": "code",
   "execution_count": 7,
   "id": "9abaa470-e777-424b-844e-5eee00f43e83",
   "metadata": {},
   "outputs": [],
   "source": [
    "# 회원 선호 - d_code \n",
    "temp = merge_dataset(train, d_code, 'person_prefer_d_1', d_code.columns)\n",
    "temp = merge_dataset(temp, d_code, 'person_prefer_d_2', d_code.columns)\n",
    "temp = merge_dataset(temp, d_code, 'person_prefer_d_3', d_code.columns)\n",
    "\n",
    "# 회원 선호 -  h_code\n",
    "temp = merge_dataset(temp, h_code, 'person_prefer_h_1', h_code.columns)\n",
    "temp = merge_dataset(temp, h_code, 'person_prefer_h_2', h_code.columns)\n",
    "temp = merge_dataset(temp, h_code, 'person_prefer_h_3', h_code.columns)\n",
    "\n",
    "# 콘텐츠  - l_code\n",
    "temp = merge_dataset(temp, l_code, 'contents_attribute_l', l_code.columns)\n",
    "temp = merge_dataset(temp, d_code, 'contents_attribute_d', d_code.columns)\n",
    "temp = merge_dataset(temp, h_code, 'contents_attribute_h', h_code.columns)\n",
    "\n",
    "train_new = temp.copy()\n",
    "\n",
    "# test 데이터 속성변수 추가 \n",
    "# 회원 선호 - d_code \n",
    "temp = merge_dataset(test, d_code, 'person_prefer_d_1', d_code.columns)\n",
    "temp = merge_dataset(temp, d_code, 'person_prefer_d_2', d_code.columns)\n",
    "temp = merge_dataset(temp, d_code, 'person_prefer_d_3', d_code.columns)\n",
    "\n",
    "# 회원 선호 -  h_code\n",
    "temp = merge_dataset(temp, h_code, 'person_prefer_h_1', h_code.columns)\n",
    "temp = merge_dataset(temp, h_code, 'person_prefer_h_2', h_code.columns)\n",
    "temp = merge_dataset(temp, h_code, 'person_prefer_h_3', h_code.columns)\n",
    "\n",
    "# 콘텐츠  - l_code\n",
    "temp = merge_dataset(temp, l_code, 'contents_attribute_l', l_code.columns)\n",
    "temp = merge_dataset(temp, d_code, 'contents_attribute_d', d_code.columns)\n",
    "temp = merge_dataset(temp, h_code, 'contents_attribute_h', h_code.columns)\n",
    "\n",
    "test_new = temp.copy()\n",
    "del temp"
   ]
  },
  {
   "cell_type": "code",
   "execution_count": 8,
   "id": "14df2ae7-92af-4c5b-8f59-8d0b1c1b16dc",
   "metadata": {},
   "outputs": [],
   "source": [
    "train_new = train_new.drop(['person_prefer_d_1','person_prefer_d_2','person_prefer_d_3','person_prefer_f','person_prefer_g',\n",
    "                'person_prefer_h_1','person_prefer_h_2','person_prefer_h_3',\n",
    "                'contents_attribute_d','contents_attribute_l','contents_attribute_h',\n",
    "                'person_prefer_d_1_d_code','person_prefer_d_2_d_code','person_prefer_d_3_d_code',\n",
    "                'person_prefer_h_1_h_code','person_prefer_h_2_h_code','person_prefer_h_3_h_code',\n",
    "                'contents_attribute_l_l_code','contents_attribute_d_d_code','contents_attribute_h_h_code',\n",
    "                ], axis = 1)\n",
    "\n",
    "test_new = test_new.drop(['person_prefer_d_1','person_prefer_d_2','person_prefer_d_3','person_prefer_f','person_prefer_g',\n",
    "                'person_prefer_h_1','person_prefer_h_2','person_prefer_h_3',\n",
    "                'contents_attribute_d','contents_attribute_l','contents_attribute_h',\n",
    "                'person_prefer_d_1_d_code','person_prefer_d_2_d_code','person_prefer_d_3_d_code',\n",
    "                'person_prefer_h_1_h_code','person_prefer_h_2_h_code','person_prefer_h_3_h_code',\n",
    "                'contents_attribute_l_l_code','contents_attribute_d_d_code','contents_attribute_h_h_code',\n",
    "                ], axis = 1)"
   ]
  },
  {
   "cell_type": "code",
   "execution_count": 9,
   "id": "e3a27b21-4931-41ec-9d8a-310ea2db894c",
   "metadata": {},
   "outputs": [],
   "source": [
    "train_new = train_new.drop(['id','person_rn','contents_rn','contents_open_dt'], axis = 1)\n",
    "test_new = test_new.drop(['id','person_rn','contents_rn','contents_open_dt'], axis = 1)"
   ]
  },
  {
   "cell_type": "code",
   "execution_count": 11,
   "id": "64285fa6-0051-45a0-b3cb-d800b6554601",
   "metadata": {},
   "outputs": [
    {
     "name": "stdout",
     "output_type": "stream",
     "text": [
      "<class 'pandas.core.frame.DataFrame'>\n",
      "Int64Index: 501951 entries, 0 to 501950\n",
      "Data columns (total 48 columns):\n",
      " #   Column                     Non-Null Count   Dtype\n",
      "---  ------                     --------------   -----\n",
      " 0   d_l_match_yn               501951 non-null  bool \n",
      " 1   d_m_match_yn               501951 non-null  bool \n",
      " 2   d_s_match_yn               501951 non-null  bool \n",
      " 3   h_l_match_yn               501951 non-null  bool \n",
      " 4   h_m_match_yn               501951 non-null  bool \n",
      " 5   h_s_match_yn               501951 non-null  bool \n",
      " 6   person_attribute_a         501951 non-null  int64\n",
      " 7   person_attribute_a_1       501951 non-null  int64\n",
      " 8   person_attribute_b         501951 non-null  int64\n",
      " 9   person_prefer_c            501951 non-null  int64\n",
      " 10  person_prefer_e            501951 non-null  int64\n",
      " 11  contents_attribute_i       501951 non-null  int64\n",
      " 12  contents_attribute_a       501951 non-null  int64\n",
      " 13  contents_attribute_j_1     501951 non-null  int64\n",
      " 14  contents_attribute_j       501951 non-null  int64\n",
      " 15  contents_attribute_c       501951 non-null  int64\n",
      " 16  contents_attribute_k       501951 non-null  int64\n",
      " 17  contents_attribute_m       501951 non-null  int64\n",
      " 18  contents_attribute_e       501951 non-null  int64\n",
      " 19  target                     501951 non-null  int64\n",
      " 20  person_prefer_d_1_d_ss     501951 non-null  int64\n",
      " 21  person_prefer_d_1_d_s      501951 non-null  int64\n",
      " 22  person_prefer_d_1_d_m      501951 non-null  int64\n",
      " 23  person_prefer_d_1_d_l      501951 non-null  int64\n",
      " 24  person_prefer_d_2_d_ss     501951 non-null  int64\n",
      " 25  person_prefer_d_2_d_s      501951 non-null  int64\n",
      " 26  person_prefer_d_2_d_m      501951 non-null  int64\n",
      " 27  person_prefer_d_2_d_l      501951 non-null  int64\n",
      " 28  person_prefer_d_3_d_ss     501951 non-null  int64\n",
      " 29  person_prefer_d_3_d_s      501951 non-null  int64\n",
      " 30  person_prefer_d_3_d_m      501951 non-null  int64\n",
      " 31  person_prefer_d_3_d_l      501951 non-null  int64\n",
      " 32  person_prefer_h_1_h_m      501951 non-null  int64\n",
      " 33  person_prefer_h_1_h_l      501951 non-null  int64\n",
      " 34  person_prefer_h_2_h_m      501951 non-null  int64\n",
      " 35  person_prefer_h_2_h_l      501951 non-null  int64\n",
      " 36  person_prefer_h_3_h_m      501951 non-null  int64\n",
      " 37  person_prefer_h_3_h_l      501951 non-null  int64\n",
      " 38  contents_attribute_l_l_ss  501951 non-null  int64\n",
      " 39  contents_attribute_l_l_s   501951 non-null  int64\n",
      " 40  contents_attribute_l_l_m   501951 non-null  int64\n",
      " 41  contents_attribute_l_l_l   501951 non-null  int64\n",
      " 42  contents_attribute_d_d_ss  501951 non-null  int64\n",
      " 43  contents_attribute_d_d_s   501951 non-null  int64\n",
      " 44  contents_attribute_d_d_m   501951 non-null  int64\n",
      " 45  contents_attribute_d_d_l   501951 non-null  int64\n",
      " 46  contents_attribute_h_h_m   501951 non-null  int64\n",
      " 47  contents_attribute_h_h_l   501951 non-null  int64\n",
      "dtypes: bool(6), int64(42)\n",
      "memory usage: 167.5 MB\n"
     ]
    }
   ],
   "source": [
    "train_new.info()"
   ]
  },
  {
   "cell_type": "code",
   "execution_count": 42,
   "id": "1a5ea585-0332-4bbb-a41f-44c1b39b8d46",
   "metadata": {},
   "outputs": [],
   "source": [
    "X = train_new.drop('target', axis = 1)\n",
    "y = train_new['target']"
   ]
  },
  {
   "cell_type": "code",
   "execution_count": 43,
   "id": "ce8c37bc-e59b-4ff0-8fce-d8010e83d55a",
   "metadata": {},
   "outputs": [],
   "source": [
    "X[X.iloc[:,6:].columns.tolist()] = X[X.iloc[:,6:].columns.tolist()].apply(lambda x : x.astype('str'))"
   ]
  },
  {
   "cell_type": "code",
   "execution_count": 28,
   "id": "e43231b5-07ac-4168-a1bd-fe9ec4b362ce",
   "metadata": {
    "collapsed": true,
    "jupyter": {
     "outputs_hidden": true
    },
    "tags": []
   },
   "outputs": [
    {
     "name": "stdout",
     "output_type": "stream",
     "text": [
      "<class 'pandas.core.frame.DataFrame'>\n",
      "Int64Index: 501951 entries, 0 to 501950\n",
      "Data columns (total 47 columns):\n",
      " #   Column                     Non-Null Count   Dtype \n",
      "---  ------                     --------------   ----- \n",
      " 0   d_l_match_yn               501951 non-null  bool  \n",
      " 1   d_m_match_yn               501951 non-null  bool  \n",
      " 2   d_s_match_yn               501951 non-null  bool  \n",
      " 3   h_l_match_yn               501951 non-null  bool  \n",
      " 4   h_m_match_yn               501951 non-null  bool  \n",
      " 5   h_s_match_yn               501951 non-null  bool  \n",
      " 6   person_attribute_a         501951 non-null  object\n",
      " 7   person_attribute_a_1       501951 non-null  object\n",
      " 8   person_attribute_b         501951 non-null  object\n",
      " 9   person_prefer_c            501951 non-null  object\n",
      " 10  person_prefer_e            501951 non-null  object\n",
      " 11  contents_attribute_i       501951 non-null  object\n",
      " 12  contents_attribute_a       501951 non-null  object\n",
      " 13  contents_attribute_j_1     501951 non-null  object\n",
      " 14  contents_attribute_j       501951 non-null  object\n",
      " 15  contents_attribute_c       501951 non-null  object\n",
      " 16  contents_attribute_k       501951 non-null  object\n",
      " 17  contents_attribute_m       501951 non-null  object\n",
      " 18  contents_attribute_e       501951 non-null  object\n",
      " 19  person_prefer_d_1_d_ss     501951 non-null  object\n",
      " 20  person_prefer_d_1_d_s      501951 non-null  object\n",
      " 21  person_prefer_d_1_d_m      501951 non-null  object\n",
      " 22  person_prefer_d_1_d_l      501951 non-null  object\n",
      " 23  person_prefer_d_2_d_ss     501951 non-null  object\n",
      " 24  person_prefer_d_2_d_s      501951 non-null  object\n",
      " 25  person_prefer_d_2_d_m      501951 non-null  object\n",
      " 26  person_prefer_d_2_d_l      501951 non-null  object\n",
      " 27  person_prefer_d_3_d_ss     501951 non-null  object\n",
      " 28  person_prefer_d_3_d_s      501951 non-null  object\n",
      " 29  person_prefer_d_3_d_m      501951 non-null  object\n",
      " 30  person_prefer_d_3_d_l      501951 non-null  object\n",
      " 31  person_prefer_h_1_h_m      501951 non-null  object\n",
      " 32  person_prefer_h_1_h_l      501951 non-null  object\n",
      " 33  person_prefer_h_2_h_m      501951 non-null  object\n",
      " 34  person_prefer_h_2_h_l      501951 non-null  object\n",
      " 35  person_prefer_h_3_h_m      501951 non-null  object\n",
      " 36  person_prefer_h_3_h_l      501951 non-null  object\n",
      " 37  contents_attribute_l_l_ss  501951 non-null  object\n",
      " 38  contents_attribute_l_l_s   501951 non-null  object\n",
      " 39  contents_attribute_l_l_m   501951 non-null  object\n",
      " 40  contents_attribute_l_l_l   501951 non-null  object\n",
      " 41  contents_attribute_d_d_ss  501951 non-null  object\n",
      " 42  contents_attribute_d_d_s   501951 non-null  object\n",
      " 43  contents_attribute_d_d_m   501951 non-null  object\n",
      " 44  contents_attribute_d_d_l   501951 non-null  object\n",
      " 45  contents_attribute_h_h_m   501951 non-null  object\n",
      " 46  contents_attribute_h_h_l   501951 non-null  object\n",
      "dtypes: bool(6), object(41)\n",
      "memory usage: 163.7+ MB\n"
     ]
    }
   ],
   "source": [
    "X.info()"
   ]
  },
  {
   "cell_type": "code",
   "execution_count": 44,
   "id": "783c782d-fe52-498f-aa9d-708fb67f10e9",
   "metadata": {},
   "outputs": [],
   "source": [
    "ce_X = X.iloc[:,6:]"
   ]
  },
  {
   "cell_type": "code",
   "execution_count": 67,
   "id": "2f8be8be-4d84-4f30-bbac-b79e77a4eee2",
   "metadata": {},
   "outputs": [],
   "source": [
    "ce_X.columns = [i for i in range(len(ce_X.columns))]"
   ]
  },
  {
   "cell_type": "code",
   "execution_count": 53,
   "id": "c0ec929b-8b9e-45ad-8ba8-f2dcfa597fc3",
   "metadata": {},
   "outputs": [
    {
     "name": "stdout",
     "output_type": "stream",
     "text": [
      "CPU times: user 11.5 s, sys: 5.73 s, total: 17.2 s\n",
      "Wall time: 17.9 s\n"
     ]
    }
   ],
   "source": [
    "%%time\n",
    "ce_bin = BinaryEncoder(cols = ce_X.select_dtypes('object').columns.tolist())\n",
    "temp = ce_bin.fit_transform(ce_X,y)"
   ]
  },
  {
   "cell_type": "code",
   "execution_count": 68,
   "id": "36675a49-0fb4-4e5a-a89f-01da24e5e9d2",
   "metadata": {},
   "outputs": [
    {
     "data": {
      "text/plain": [
       "BinaryEncoder(cols=[0, 1, 2, 3, 4, 5, 6, 7, 8, 9, 10, 11, 12, 13, 14, 15, 16,\n",
       "                    17, 18, 19, 20, 21, 22, 23, 24, 25, 26, 27, 28, 29, ...])"
      ]
     },
     "execution_count": 68,
     "metadata": {},
     "output_type": "execute_result"
    }
   ],
   "source": [
    "ce_bin = BinaryEncoder(cols = ce_X.select_dtypes('object').columns.tolist())\n",
    "ce_bin.fit(ce_X,y)"
   ]
  },
  {
   "cell_type": "code",
   "execution_count": 71,
   "id": "b58b4fe7-0556-475e-b43e-f7f1daa6bda8",
   "metadata": {},
   "outputs": [],
   "source": [
    "temp = ce_bin.transform(ce_X)"
   ]
  },
  {
   "cell_type": "code",
   "execution_count": 58,
   "id": "eacd623d-a478-4cd5-98a4-a5162c43c66d",
   "metadata": {},
   "outputs": [],
   "source": [
    "from lightgbm import LGBMClassifier"
   ]
  },
  {
   "cell_type": "code",
   "execution_count": 61,
   "id": "5f558171-f73f-4b4d-9dc6-7709f52a3275",
   "metadata": {},
   "outputs": [
    {
     "data": {
      "text/plain": [
       "0.6138348165458382"
      ]
     },
     "execution_count": 61,
     "metadata": {},
     "output_type": "execute_result"
    }
   ],
   "source": [
    "lgb.score(temp, y)"
   ]
  },
  {
   "cell_type": "code",
   "execution_count": 73,
   "id": "400bc98f-e343-4e98-9a7a-5acf99919524",
   "metadata": {},
   "outputs": [],
   "source": [
    "ce_test = test_new.iloc[:,6:]\n",
    "ce_test.columns = [i for i in range(len(ce_X.columns))]"
   ]
  },
  {
   "cell_type": "code",
   "execution_count": 74,
   "id": "9a9907aa-0686-4768-b519-1ef92ab4c72e",
   "metadata": {},
   "outputs": [],
   "source": [
    "ce_test_tmp = ce_bin.transform(ce_test)"
   ]
  },
  {
   "cell_type": "code",
   "execution_count": 77,
   "id": "f87a0ca5-ce63-492b-b0a5-68381d00d509",
   "metadata": {},
   "outputs": [],
   "source": [
    "temp_train_X = pd.concat([X.iloc[:,:6], temp], axis =1)\n",
    "temp_test_X = pd.concat([test_new.iloc[:,:6], ce_test_tmp], axis = 1)"
   ]
  },
  {
   "cell_type": "code",
   "execution_count": 78,
   "id": "aecd2890-8e7a-4a81-91b5-016e89f056d6",
   "metadata": {},
   "outputs": [
    {
     "data": {
      "text/plain": [
       "LGBMClassifier()"
      ]
     },
     "execution_count": 78,
     "metadata": {},
     "output_type": "execute_result"
    }
   ],
   "source": [
    "lgb = LGBMClassifier()\n",
    "lgb.fit(temp_train_X, y)"
   ]
  },
  {
   "cell_type": "code",
   "execution_count": 79,
   "id": "f91b9544-5489-4d28-9283-c5666ad3df69",
   "metadata": {},
   "outputs": [
    {
     "data": {
      "text/plain": [
       "0.6183790848110672"
      ]
     },
     "execution_count": 79,
     "metadata": {},
     "output_type": "execute_result"
    }
   ],
   "source": [
    "lgb.score(temp_train_X, y)"
   ]
  },
  {
   "cell_type": "code",
   "execution_count": 80,
   "id": "15455e26-8ac5-4f15-8fd7-9fa1cdf78284",
   "metadata": {},
   "outputs": [],
   "source": [
    "from sklearn.metrics import f1_score"
   ]
  },
  {
   "cell_type": "code",
   "execution_count": 82,
   "id": "d305d9d0-b652-474c-8479-933b7e73896e",
   "metadata": {},
   "outputs": [],
   "source": [
    "pred = lgb.predict(temp_test_X)"
   ]
  },
  {
   "cell_type": "code",
   "execution_count": 84,
   "id": "652dd593-1cbc-4548-8d19-9e1206d42c15",
   "metadata": {},
   "outputs": [],
   "source": [
    "sub['target'] = pred"
   ]
  },
  {
   "cell_type": "code",
   "execution_count": 85,
   "id": "9a838807-3e34-4f40-b617-e0ba4ac6c031",
   "metadata": {},
   "outputs": [],
   "source": [
    "sub.to_csv('submission/binary_lgb.csv', index =False)"
   ]
  },
  {
   "cell_type": "code",
   "execution_count": null,
   "id": "6364517e-8f4d-446b-b6dc-8510963745e1",
   "metadata": {},
   "outputs": [],
   "source": []
  }
 ],
 "metadata": {
  "kernelspec": {
   "display_name": "Python 3 (ipykernel)",
   "language": "python",
   "name": "python3"
  },
  "language_info": {
   "codemirror_mode": {
    "name": "ipython",
    "version": 3
   },
   "file_extension": ".py",
   "mimetype": "text/x-python",
   "name": "python",
   "nbconvert_exporter": "python",
   "pygments_lexer": "ipython3",
   "version": "3.8.12"
  }
 },
 "nbformat": 4,
 "nbformat_minor": 5
}
