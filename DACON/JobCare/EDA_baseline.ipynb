{
 "cells": [
  {
   "cell_type": "code",
   "execution_count": 1,
   "id": "120eac48-b993-4c0c-a540-802cb8bf8847",
   "metadata": {},
   "outputs": [],
   "source": [
    "import numpy as np\n",
    "import pandas as pd "
   ]
  },
  {
   "cell_type": "code",
   "execution_count": 2,
   "id": "6afb9e62-4d34-42cd-a411-ed45af6159fd",
   "metadata": {},
   "outputs": [],
   "source": [
    "pd.set_option('max_columns',None)"
   ]
  },
  {
   "cell_type": "code",
   "execution_count": 3,
   "id": "55d4a048-aeb4-4ddd-b29d-316d7f02c848",
   "metadata": {},
   "outputs": [],
   "source": [
    "train = pd.read_csv('Jobcare_data/train.csv')\n",
    "test = pd.read_csv('Jobcare_data/test.csv')"
   ]
  },
  {
   "cell_type": "code",
   "execution_count": 4,
   "id": "41ab7bbf-0795-4b79-a764-38b1d679b0da",
   "metadata": {},
   "outputs": [
    {
     "data": {
      "text/html": [
       "<div>\n",
       "<style scoped>\n",
       "    .dataframe tbody tr th:only-of-type {\n",
       "        vertical-align: middle;\n",
       "    }\n",
       "\n",
       "    .dataframe tbody tr th {\n",
       "        vertical-align: top;\n",
       "    }\n",
       "\n",
       "    .dataframe thead th {\n",
       "        text-align: right;\n",
       "    }\n",
       "</style>\n",
       "<table border=\"1\" class=\"dataframe\">\n",
       "  <thead>\n",
       "    <tr style=\"text-align: right;\">\n",
       "      <th></th>\n",
       "      <th>id</th>\n",
       "      <th>d_l_match_yn</th>\n",
       "      <th>d_m_match_yn</th>\n",
       "      <th>d_s_match_yn</th>\n",
       "      <th>h_l_match_yn</th>\n",
       "      <th>h_m_match_yn</th>\n",
       "      <th>h_s_match_yn</th>\n",
       "      <th>person_attribute_a</th>\n",
       "      <th>person_attribute_a_1</th>\n",
       "      <th>person_attribute_b</th>\n",
       "      <th>person_prefer_c</th>\n",
       "      <th>person_prefer_d_1</th>\n",
       "      <th>person_prefer_d_2</th>\n",
       "      <th>person_prefer_d_3</th>\n",
       "      <th>person_prefer_e</th>\n",
       "      <th>person_prefer_f</th>\n",
       "      <th>person_prefer_g</th>\n",
       "      <th>person_prefer_h_1</th>\n",
       "      <th>person_prefer_h_2</th>\n",
       "      <th>person_prefer_h_3</th>\n",
       "      <th>contents_attribute_i</th>\n",
       "      <th>contents_attribute_a</th>\n",
       "      <th>contents_attribute_j_1</th>\n",
       "      <th>contents_attribute_j</th>\n",
       "      <th>contents_attribute_c</th>\n",
       "      <th>contents_attribute_k</th>\n",
       "      <th>contents_attribute_l</th>\n",
       "      <th>contents_attribute_d</th>\n",
       "      <th>contents_attribute_m</th>\n",
       "      <th>contents_attribute_e</th>\n",
       "      <th>contents_attribute_h</th>\n",
       "      <th>person_rn</th>\n",
       "      <th>contents_rn</th>\n",
       "      <th>contents_open_dt</th>\n",
       "      <th>target</th>\n",
       "    </tr>\n",
       "  </thead>\n",
       "  <tbody>\n",
       "    <tr>\n",
       "      <th>0</th>\n",
       "      <td>0</td>\n",
       "      <td>True</td>\n",
       "      <td>True</td>\n",
       "      <td>True</td>\n",
       "      <td>False</td>\n",
       "      <td>False</td>\n",
       "      <td>False</td>\n",
       "      <td>1</td>\n",
       "      <td>4</td>\n",
       "      <td>3</td>\n",
       "      <td>5</td>\n",
       "      <td>275</td>\n",
       "      <td>370</td>\n",
       "      <td>369</td>\n",
       "      <td>8</td>\n",
       "      <td>1</td>\n",
       "      <td>1</td>\n",
       "      <td>4</td>\n",
       "      <td>95</td>\n",
       "      <td>59</td>\n",
       "      <td>3</td>\n",
       "      <td>3</td>\n",
       "      <td>10</td>\n",
       "      <td>2</td>\n",
       "      <td>1</td>\n",
       "      <td>2</td>\n",
       "      <td>1608</td>\n",
       "      <td>275</td>\n",
       "      <td>1</td>\n",
       "      <td>4</td>\n",
       "      <td>139</td>\n",
       "      <td>618822</td>\n",
       "      <td>354805</td>\n",
       "      <td>2020-01-17 12:09:36</td>\n",
       "      <td>1</td>\n",
       "    </tr>\n",
       "    <tr>\n",
       "      <th>1</th>\n",
       "      <td>1</td>\n",
       "      <td>False</td>\n",
       "      <td>False</td>\n",
       "      <td>False</td>\n",
       "      <td>True</td>\n",
       "      <td>True</td>\n",
       "      <td>False</td>\n",
       "      <td>1</td>\n",
       "      <td>3</td>\n",
       "      <td>4</td>\n",
       "      <td>1</td>\n",
       "      <td>114</td>\n",
       "      <td>181</td>\n",
       "      <td>175</td>\n",
       "      <td>4</td>\n",
       "      <td>1</td>\n",
       "      <td>1</td>\n",
       "      <td>131</td>\n",
       "      <td>101</td>\n",
       "      <td>96</td>\n",
       "      <td>1</td>\n",
       "      <td>3</td>\n",
       "      <td>5</td>\n",
       "      <td>1</td>\n",
       "      <td>1</td>\n",
       "      <td>2</td>\n",
       "      <td>1608</td>\n",
       "      <td>275</td>\n",
       "      <td>1</td>\n",
       "      <td>4</td>\n",
       "      <td>133</td>\n",
       "      <td>571659</td>\n",
       "      <td>346213</td>\n",
       "      <td>2020-06-18 17:48:52</td>\n",
       "      <td>0</td>\n",
       "    </tr>\n",
       "    <tr>\n",
       "      <th>2</th>\n",
       "      <td>2</td>\n",
       "      <td>False</td>\n",
       "      <td>False</td>\n",
       "      <td>False</td>\n",
       "      <td>True</td>\n",
       "      <td>False</td>\n",
       "      <td>False</td>\n",
       "      <td>2</td>\n",
       "      <td>0</td>\n",
       "      <td>3</td>\n",
       "      <td>5</td>\n",
       "      <td>464</td>\n",
       "      <td>175</td>\n",
       "      <td>452</td>\n",
       "      <td>3</td>\n",
       "      <td>1</td>\n",
       "      <td>1</td>\n",
       "      <td>54</td>\n",
       "      <td>263</td>\n",
       "      <td>56</td>\n",
       "      <td>3</td>\n",
       "      <td>1</td>\n",
       "      <td>10</td>\n",
       "      <td>2</td>\n",
       "      <td>1</td>\n",
       "      <td>1</td>\n",
       "      <td>1600</td>\n",
       "      <td>94</td>\n",
       "      <td>1</td>\n",
       "      <td>4</td>\n",
       "      <td>53</td>\n",
       "      <td>399816</td>\n",
       "      <td>206408</td>\n",
       "      <td>2020-07-08 20:00:10</td>\n",
       "      <td>0</td>\n",
       "    </tr>\n",
       "    <tr>\n",
       "      <th>3</th>\n",
       "      <td>3</td>\n",
       "      <td>False</td>\n",
       "      <td>False</td>\n",
       "      <td>False</td>\n",
       "      <td>True</td>\n",
       "      <td>False</td>\n",
       "      <td>False</td>\n",
       "      <td>2</td>\n",
       "      <td>0</td>\n",
       "      <td>2</td>\n",
       "      <td>5</td>\n",
       "      <td>703</td>\n",
       "      <td>705</td>\n",
       "      <td>704</td>\n",
       "      <td>3</td>\n",
       "      <td>1</td>\n",
       "      <td>1</td>\n",
       "      <td>72</td>\n",
       "      <td>227</td>\n",
       "      <td>2</td>\n",
       "      <td>1</td>\n",
       "      <td>3</td>\n",
       "      <td>5</td>\n",
       "      <td>1</td>\n",
       "      <td>1</td>\n",
       "      <td>2</td>\n",
       "      <td>1608</td>\n",
       "      <td>275</td>\n",
       "      <td>5</td>\n",
       "      <td>3</td>\n",
       "      <td>74</td>\n",
       "      <td>827967</td>\n",
       "      <td>572323</td>\n",
       "      <td>2020-01-13 18:09:34</td>\n",
       "      <td>0</td>\n",
       "    </tr>\n",
       "    <tr>\n",
       "      <th>4</th>\n",
       "      <td>4</td>\n",
       "      <td>True</td>\n",
       "      <td>True</td>\n",
       "      <td>True</td>\n",
       "      <td>False</td>\n",
       "      <td>False</td>\n",
       "      <td>False</td>\n",
       "      <td>1</td>\n",
       "      <td>3</td>\n",
       "      <td>4</td>\n",
       "      <td>5</td>\n",
       "      <td>275</td>\n",
       "      <td>370</td>\n",
       "      <td>369</td>\n",
       "      <td>4</td>\n",
       "      <td>1</td>\n",
       "      <td>1</td>\n",
       "      <td>214</td>\n",
       "      <td>210</td>\n",
       "      <td>209</td>\n",
       "      <td>1</td>\n",
       "      <td>1</td>\n",
       "      <td>10</td>\n",
       "      <td>2</td>\n",
       "      <td>1</td>\n",
       "      <td>2</td>\n",
       "      <td>1608</td>\n",
       "      <td>275</td>\n",
       "      <td>1</td>\n",
       "      <td>4</td>\n",
       "      <td>74</td>\n",
       "      <td>831614</td>\n",
       "      <td>573899</td>\n",
       "      <td>2020-03-09 20:39:22</td>\n",
       "      <td>0</td>\n",
       "    </tr>\n",
       "  </tbody>\n",
       "</table>\n",
       "</div>"
      ],
      "text/plain": [
       "   id  d_l_match_yn  d_m_match_yn  d_s_match_yn  h_l_match_yn  h_m_match_yn  \\\n",
       "0   0          True          True          True         False         False   \n",
       "1   1         False         False         False          True          True   \n",
       "2   2         False         False         False          True         False   \n",
       "3   3         False         False         False          True         False   \n",
       "4   4          True          True          True         False         False   \n",
       "\n",
       "   h_s_match_yn  person_attribute_a  person_attribute_a_1  person_attribute_b  \\\n",
       "0         False                   1                     4                   3   \n",
       "1         False                   1                     3                   4   \n",
       "2         False                   2                     0                   3   \n",
       "3         False                   2                     0                   2   \n",
       "4         False                   1                     3                   4   \n",
       "\n",
       "   person_prefer_c  person_prefer_d_1  person_prefer_d_2  person_prefer_d_3  \\\n",
       "0                5                275                370                369   \n",
       "1                1                114                181                175   \n",
       "2                5                464                175                452   \n",
       "3                5                703                705                704   \n",
       "4                5                275                370                369   \n",
       "\n",
       "   person_prefer_e  person_prefer_f  person_prefer_g  person_prefer_h_1  \\\n",
       "0                8                1                1                  4   \n",
       "1                4                1                1                131   \n",
       "2                3                1                1                 54   \n",
       "3                3                1                1                 72   \n",
       "4                4                1                1                214   \n",
       "\n",
       "   person_prefer_h_2  person_prefer_h_3  contents_attribute_i  \\\n",
       "0                 95                 59                     3   \n",
       "1                101                 96                     1   \n",
       "2                263                 56                     3   \n",
       "3                227                  2                     1   \n",
       "4                210                209                     1   \n",
       "\n",
       "   contents_attribute_a  contents_attribute_j_1  contents_attribute_j  \\\n",
       "0                     3                      10                     2   \n",
       "1                     3                       5                     1   \n",
       "2                     1                      10                     2   \n",
       "3                     3                       5                     1   \n",
       "4                     1                      10                     2   \n",
       "\n",
       "   contents_attribute_c  contents_attribute_k  contents_attribute_l  \\\n",
       "0                     1                     2                  1608   \n",
       "1                     1                     2                  1608   \n",
       "2                     1                     1                  1600   \n",
       "3                     1                     2                  1608   \n",
       "4                     1                     2                  1608   \n",
       "\n",
       "   contents_attribute_d  contents_attribute_m  contents_attribute_e  \\\n",
       "0                   275                     1                     4   \n",
       "1                   275                     1                     4   \n",
       "2                    94                     1                     4   \n",
       "3                   275                     5                     3   \n",
       "4                   275                     1                     4   \n",
       "\n",
       "   contents_attribute_h  person_rn  contents_rn     contents_open_dt  target  \n",
       "0                   139     618822       354805  2020-01-17 12:09:36       1  \n",
       "1                   133     571659       346213  2020-06-18 17:48:52       0  \n",
       "2                    53     399816       206408  2020-07-08 20:00:10       0  \n",
       "3                    74     827967       572323  2020-01-13 18:09:34       0  \n",
       "4                    74     831614       573899  2020-03-09 20:39:22       0  "
      ]
     },
     "execution_count": 4,
     "metadata": {},
     "output_type": "execute_result"
    }
   ],
   "source": [
    "train.head()"
   ]
  },
  {
   "cell_type": "code",
   "execution_count": 5,
   "id": "9e10bb0a-3238-40b1-ac47-671bb6f03f6b",
   "metadata": {},
   "outputs": [
    {
     "name": "stdout",
     "output_type": "stream",
     "text": [
      "<class 'pandas.core.frame.DataFrame'>\n",
      "RangeIndex: 501951 entries, 0 to 501950\n",
      "Data columns (total 35 columns):\n",
      " #   Column                  Non-Null Count   Dtype \n",
      "---  ------                  --------------   ----- \n",
      " 0   id                      501951 non-null  int64 \n",
      " 1   d_l_match_yn            501951 non-null  bool  \n",
      " 2   d_m_match_yn            501951 non-null  bool  \n",
      " 3   d_s_match_yn            501951 non-null  bool  \n",
      " 4   h_l_match_yn            501951 non-null  bool  \n",
      " 5   h_m_match_yn            501951 non-null  bool  \n",
      " 6   h_s_match_yn            501951 non-null  bool  \n",
      " 7   person_attribute_a      501951 non-null  int64 \n",
      " 8   person_attribute_a_1    501951 non-null  int64 \n",
      " 9   person_attribute_b      501951 non-null  int64 \n",
      " 10  person_prefer_c         501951 non-null  int64 \n",
      " 11  person_prefer_d_1       501951 non-null  int64 \n",
      " 12  person_prefer_d_2       501951 non-null  int64 \n",
      " 13  person_prefer_d_3       501951 non-null  int64 \n",
      " 14  person_prefer_e         501951 non-null  int64 \n",
      " 15  person_prefer_f         501951 non-null  int64 \n",
      " 16  person_prefer_g         501951 non-null  int64 \n",
      " 17  person_prefer_h_1       501951 non-null  int64 \n",
      " 18  person_prefer_h_2       501951 non-null  int64 \n",
      " 19  person_prefer_h_3       501951 non-null  int64 \n",
      " 20  contents_attribute_i    501951 non-null  int64 \n",
      " 21  contents_attribute_a    501951 non-null  int64 \n",
      " 22  contents_attribute_j_1  501951 non-null  int64 \n",
      " 23  contents_attribute_j    501951 non-null  int64 \n",
      " 24  contents_attribute_c    501951 non-null  int64 \n",
      " 25  contents_attribute_k    501951 non-null  int64 \n",
      " 26  contents_attribute_l    501951 non-null  int64 \n",
      " 27  contents_attribute_d    501951 non-null  int64 \n",
      " 28  contents_attribute_m    501951 non-null  int64 \n",
      " 29  contents_attribute_e    501951 non-null  int64 \n",
      " 30  contents_attribute_h    501951 non-null  int64 \n",
      " 31  person_rn               501951 non-null  int64 \n",
      " 32  contents_rn             501951 non-null  int64 \n",
      " 33  contents_open_dt        501951 non-null  object\n",
      " 34  target                  501951 non-null  int64 \n",
      "dtypes: bool(6), int64(28), object(1)\n",
      "memory usage: 113.9+ MB\n"
     ]
    }
   ],
   "source": [
    "train.info()"
   ]
  },
  {
   "cell_type": "code",
   "execution_count": 6,
   "id": "14bdd0f8-6570-41b6-b856-5a4e7dbaca71",
   "metadata": {},
   "outputs": [
    {
     "name": "stdout",
     "output_type": "stream",
     "text": [
      "<class 'pandas.core.frame.DataFrame'>\n",
      "RangeIndex: 46404 entries, 0 to 46403\n",
      "Data columns (total 34 columns):\n",
      " #   Column                  Non-Null Count  Dtype \n",
      "---  ------                  --------------  ----- \n",
      " 0   id                      46404 non-null  int64 \n",
      " 1   d_l_match_yn            46404 non-null  bool  \n",
      " 2   d_m_match_yn            46404 non-null  bool  \n",
      " 3   d_s_match_yn            46404 non-null  bool  \n",
      " 4   h_l_match_yn            46404 non-null  bool  \n",
      " 5   h_m_match_yn            46404 non-null  bool  \n",
      " 6   h_s_match_yn            46404 non-null  bool  \n",
      " 7   person_attribute_a      46404 non-null  int64 \n",
      " 8   person_attribute_a_1    46404 non-null  int64 \n",
      " 9   person_attribute_b      46404 non-null  int64 \n",
      " 10  person_prefer_c         46404 non-null  int64 \n",
      " 11  person_prefer_d_1       46404 non-null  int64 \n",
      " 12  person_prefer_d_2       46404 non-null  int64 \n",
      " 13  person_prefer_d_3       46404 non-null  int64 \n",
      " 14  person_prefer_e         46404 non-null  int64 \n",
      " 15  person_prefer_f         46404 non-null  int64 \n",
      " 16  person_prefer_g         46404 non-null  int64 \n",
      " 17  person_prefer_h_1       46404 non-null  int64 \n",
      " 18  person_prefer_h_2       46404 non-null  int64 \n",
      " 19  person_prefer_h_3       46404 non-null  int64 \n",
      " 20  contents_attribute_i    46404 non-null  int64 \n",
      " 21  contents_attribute_a    46404 non-null  int64 \n",
      " 22  contents_attribute_j_1  46404 non-null  int64 \n",
      " 23  contents_attribute_j    46404 non-null  int64 \n",
      " 24  contents_attribute_c    46404 non-null  int64 \n",
      " 25  contents_attribute_k    46404 non-null  int64 \n",
      " 26  contents_attribute_l    46404 non-null  int64 \n",
      " 27  contents_attribute_d    46404 non-null  int64 \n",
      " 28  contents_attribute_m    46404 non-null  int64 \n",
      " 29  contents_attribute_e    46404 non-null  int64 \n",
      " 30  contents_attribute_h    46404 non-null  int64 \n",
      " 31  person_rn               46404 non-null  int64 \n",
      " 32  contents_rn             46404 non-null  int64 \n",
      " 33  contents_open_dt        46404 non-null  object\n",
      "dtypes: bool(6), int64(27), object(1)\n",
      "memory usage: 10.2+ MB\n"
     ]
    }
   ],
   "source": [
    "test.info()"
   ]
  },
  {
   "cell_type": "markdown",
   "id": "492901d1-8d60-44d6-9079-34a9c37bcb6d",
   "metadata": {},
   "source": [
    "## 필요 데이터 추출 \n",
    "모델 학습시 id 는 불필요.  \n",
    "베이스라인에서는 Contents_open_dt 제외 "
   ]
  },
  {
   "cell_type": "code",
   "execution_count": 7,
   "id": "94c88d75-c00e-4bbe-a41f-8e89f7511e62",
   "metadata": {},
   "outputs": [],
   "source": [
    "train_bs = train.drop(['id','contents_open_dt'], axis=1)\n",
    "test_bs = test.drop(['id','contents_open_dt'], axis =1)"
   ]
  },
  {
   "cell_type": "code",
   "execution_count": 8,
   "id": "7f92d231-118d-4ff9-986c-533b1910648f",
   "metadata": {},
   "outputs": [],
   "source": [
    "from sklearn.ensemble import RandomForestClassifier\n",
    "from sklearn.preprocessing import LabelEncoder"
   ]
  },
  {
   "cell_type": "code",
   "execution_count": 9,
   "id": "0869840a-d096-4d26-81e7-ee6031ece8ee",
   "metadata": {},
   "outputs": [],
   "source": [
    "model = RandomForestClassifier(n_estimators=300,\n",
    "                               max_depth=60,\n",
    "                               n_jobs = -1)"
   ]
  },
  {
   "cell_type": "code",
   "execution_count": 12,
   "id": "aee464c3-2989-4a1d-bc0e-5515520b34bd",
   "metadata": {},
   "outputs": [],
   "source": [
    "x= train_bs.iloc[:,:-1]\n",
    "y = train_bs.iloc[:,-1]"
   ]
  },
  {
   "cell_type": "code",
   "execution_count": 13,
   "id": "f8cb68dd-06c6-4540-8d80-d2bee73b7b9c",
   "metadata": {},
   "outputs": [
    {
     "data": {
      "text/plain": [
       "RandomForestClassifier(max_depth=60, n_estimators=300, n_jobs=-1)"
      ]
     },
     "execution_count": 13,
     "metadata": {},
     "output_type": "execute_result"
    }
   ],
   "source": [
    "model.fit(x,y)"
   ]
  },
  {
   "cell_type": "code",
   "execution_count": 14,
   "id": "e34a6e34-b152-4dac-8ee4-2974da89ce96",
   "metadata": {},
   "outputs": [],
   "source": [
    "pred = model.predict(test_bs)"
   ]
  },
  {
   "cell_type": "code",
   "execution_count": 15,
   "id": "4df26fe9-d969-495f-a743-9135da27d04a",
   "metadata": {},
   "outputs": [],
   "source": [
    "submission = pd.read_csv('JobCare_data/sample_submission.csv')"
   ]
  },
  {
   "cell_type": "code",
   "execution_count": 17,
   "id": "7cb9fe0d-ba5f-44e4-b605-0b178048721b",
   "metadata": {},
   "outputs": [],
   "source": [
    "submission['target'] = pred"
   ]
  },
  {
   "cell_type": "code",
   "execution_count": 18,
   "id": "f2b8615c-d607-4243-8584-49ea8860671a",
   "metadata": {},
   "outputs": [],
   "source": [
    "submission.to_csv('submission/baseline.csv', index = False)"
   ]
  },
  {
   "cell_type": "markdown",
   "id": "f8164b64-c04c-4fd0-8632-476597929a4b",
   "metadata": {},
   "source": [
    "## EDA "
   ]
  },
  {
   "cell_type": "code",
   "execution_count": 34,
   "id": "15bd7986-6947-4806-be0e-23f752eb9369",
   "metadata": {},
   "outputs": [],
   "source": [
    "interactions = train[['person_rn','contents_rn','target']]"
   ]
  },
  {
   "cell_type": "code",
   "execution_count": 35,
   "id": "982c3f67-722f-45a4-b0a7-9d54435a8a31",
   "metadata": {},
   "outputs": [
    {
     "data": {
      "text/html": [
       "<div>\n",
       "<style scoped>\n",
       "    .dataframe tbody tr th:only-of-type {\n",
       "        vertical-align: middle;\n",
       "    }\n",
       "\n",
       "    .dataframe tbody tr th {\n",
       "        vertical-align: top;\n",
       "    }\n",
       "\n",
       "    .dataframe thead th {\n",
       "        text-align: right;\n",
       "    }\n",
       "</style>\n",
       "<table border=\"1\" class=\"dataframe\">\n",
       "  <thead>\n",
       "    <tr style=\"text-align: right;\">\n",
       "      <th></th>\n",
       "      <th>person_rn</th>\n",
       "      <th>contents_rn</th>\n",
       "      <th>target</th>\n",
       "    </tr>\n",
       "  </thead>\n",
       "  <tbody>\n",
       "    <tr>\n",
       "      <th>0</th>\n",
       "      <td>618822</td>\n",
       "      <td>354805</td>\n",
       "      <td>1</td>\n",
       "    </tr>\n",
       "    <tr>\n",
       "      <th>1</th>\n",
       "      <td>571659</td>\n",
       "      <td>346213</td>\n",
       "      <td>0</td>\n",
       "    </tr>\n",
       "    <tr>\n",
       "      <th>2</th>\n",
       "      <td>399816</td>\n",
       "      <td>206408</td>\n",
       "      <td>0</td>\n",
       "    </tr>\n",
       "    <tr>\n",
       "      <th>3</th>\n",
       "      <td>827967</td>\n",
       "      <td>572323</td>\n",
       "      <td>0</td>\n",
       "    </tr>\n",
       "    <tr>\n",
       "      <th>4</th>\n",
       "      <td>831614</td>\n",
       "      <td>573899</td>\n",
       "      <td>0</td>\n",
       "    </tr>\n",
       "  </tbody>\n",
       "</table>\n",
       "</div>"
      ],
      "text/plain": [
       "   person_rn  contents_rn  target\n",
       "0     618822       354805       1\n",
       "1     571659       346213       0\n",
       "2     399816       206408       0\n",
       "3     827967       572323       0\n",
       "4     831614       573899       0"
      ]
     },
     "execution_count": 35,
     "metadata": {},
     "output_type": "execute_result"
    }
   ],
   "source": [
    "interactions.head()"
   ]
  },
  {
   "cell_type": "code",
   "execution_count": 37,
   "id": "a0344415-1917-40cd-ad27-e482c1ecc9da",
   "metadata": {},
   "outputs": [
    {
     "data": {
      "text/html": [
       "<div>\n",
       "<style scoped>\n",
       "    .dataframe tbody tr th:only-of-type {\n",
       "        vertical-align: middle;\n",
       "    }\n",
       "\n",
       "    .dataframe tbody tr th {\n",
       "        vertical-align: top;\n",
       "    }\n",
       "\n",
       "    .dataframe thead th {\n",
       "        text-align: right;\n",
       "    }\n",
       "</style>\n",
       "<table border=\"1\" class=\"dataframe\">\n",
       "  <thead>\n",
       "    <tr style=\"text-align: right;\">\n",
       "      <th></th>\n",
       "      <th>person_rn</th>\n",
       "      <th>contents_rn</th>\n",
       "      <th>target</th>\n",
       "    </tr>\n",
       "  </thead>\n",
       "  <tbody>\n",
       "    <tr>\n",
       "      <th>277295</th>\n",
       "      <td>7</td>\n",
       "      <td>553015</td>\n",
       "      <td>1</td>\n",
       "    </tr>\n",
       "    <tr>\n",
       "      <th>449852</th>\n",
       "      <td>21</td>\n",
       "      <td>44666</td>\n",
       "      <td>1</td>\n",
       "    </tr>\n",
       "    <tr>\n",
       "      <th>21452</th>\n",
       "      <td>27</td>\n",
       "      <td>470651</td>\n",
       "      <td>1</td>\n",
       "    </tr>\n",
       "    <tr>\n",
       "      <th>37261</th>\n",
       "      <td>29</td>\n",
       "      <td>571791</td>\n",
       "      <td>1</td>\n",
       "    </tr>\n",
       "    <tr>\n",
       "      <th>301486</th>\n",
       "      <td>30</td>\n",
       "      <td>2348</td>\n",
       "      <td>1</td>\n",
       "    </tr>\n",
       "    <tr>\n",
       "      <th>...</th>\n",
       "      <td>...</td>\n",
       "      <td>...</td>\n",
       "      <td>...</td>\n",
       "    </tr>\n",
       "    <tr>\n",
       "      <th>164800</th>\n",
       "      <td>1048996</td>\n",
       "      <td>430238</td>\n",
       "      <td>1</td>\n",
       "    </tr>\n",
       "    <tr>\n",
       "      <th>31670</th>\n",
       "      <td>1048999</td>\n",
       "      <td>716072</td>\n",
       "      <td>0</td>\n",
       "    </tr>\n",
       "    <tr>\n",
       "      <th>241654</th>\n",
       "      <td>1049003</td>\n",
       "      <td>376950</td>\n",
       "      <td>0</td>\n",
       "    </tr>\n",
       "    <tr>\n",
       "      <th>230562</th>\n",
       "      <td>1049003</td>\n",
       "      <td>450390</td>\n",
       "      <td>0</td>\n",
       "    </tr>\n",
       "    <tr>\n",
       "      <th>109197</th>\n",
       "      <td>1049005</td>\n",
       "      <td>692664</td>\n",
       "      <td>0</td>\n",
       "    </tr>\n",
       "  </tbody>\n",
       "</table>\n",
       "<p>501951 rows × 3 columns</p>\n",
       "</div>"
      ],
      "text/plain": [
       "        person_rn  contents_rn  target\n",
       "277295          7       553015       1\n",
       "449852         21        44666       1\n",
       "21452          27       470651       1\n",
       "37261          29       571791       1\n",
       "301486         30         2348       1\n",
       "...           ...          ...     ...\n",
       "164800    1048996       430238       1\n",
       "31670     1048999       716072       0\n",
       "241654    1049003       376950       0\n",
       "230562    1049003       450390       0\n",
       "109197    1049005       692664       0\n",
       "\n",
       "[501951 rows x 3 columns]"
      ]
     },
     "execution_count": 37,
     "metadata": {},
     "output_type": "execute_result"
    }
   ],
   "source": [
    "interactions.sort_values('person_rn')"
   ]
  },
  {
   "cell_type": "code",
   "execution_count": 38,
   "id": "7f30bbfd-235f-473f-ba85-32554b6c850e",
   "metadata": {},
   "outputs": [
    {
     "data": {
      "text/plain": [
       "person_rn      300177\n",
       "contents_rn    283359\n",
       "target              2\n",
       "dtype: int64"
      ]
     },
     "execution_count": 38,
     "metadata": {},
     "output_type": "execute_result"
    }
   ],
   "source": [
    "interactions.nunique()"
   ]
  },
  {
   "cell_type": "code",
   "execution_count": 50,
   "id": "8d37cd83-7d39-495e-927a-8a41a17c1986",
   "metadata": {},
   "outputs": [],
   "source": [
    "implicit_data = interactions[interactions['target'] == 1 ]"
   ]
  },
  {
   "cell_type": "code",
   "execution_count": 53,
   "id": "09133772-5b4c-447a-bf46-13f68d484ccc",
   "metadata": {},
   "outputs": [],
   "source": [
    "pt = pd.pivot_table(implicit_data, index =['person_rn','contents_rn']).sort_index()"
   ]
  },
  {
   "cell_type": "code",
   "execution_count": 54,
   "id": "8327832c-9e34-426e-97f3-084bc9aecf2a",
   "metadata": {},
   "outputs": [],
   "source": [
    "from scipy.sparse import csr_matrix"
   ]
  },
  {
   "cell_type": "code",
   "execution_count": 62,
   "id": "9c3c2214-3cb4-4000-a24b-fa48604a11e1",
   "metadata": {},
   "outputs": [],
   "source": [
    "rows = interactions.person_rn.astype('category').cat.codes\n",
    "cols = interactions.contents_rn.astype('category').cat.codes"
   ]
  },
  {
   "cell_type": "code",
   "execution_count": 68,
   "id": "0836d9aa-899c-40cf-be8d-50e653a16700",
   "metadata": {},
   "outputs": [],
   "source": [
    "num_user = interactions.person_rn.nunique()\n",
    "num_content = interactions.contents_rn.nunique()"
   ]
  },
  {
   "cell_type": "code",
   "execution_count": 69,
   "id": "4ae7255e-14d4-494e-9f2f-8539b378b190",
   "metadata": {},
   "outputs": [],
   "source": [
    "csr_data = csr_matrix((interactions.target, (rows, cols)),\n",
    "                      shape = (num_user, num_content))"
   ]
  },
  {
   "cell_type": "code",
   "execution_count": 70,
   "id": "6e46ecc7-87f8-4d0f-8464-98ad90fbc1f8",
   "metadata": {},
   "outputs": [
    {
     "data": {
      "text/plain": [
       "<300177x283359 sparse matrix of type '<class 'numpy.int64'>'\n",
       "\twith 501951 stored elements in Compressed Sparse Row format>"
      ]
     },
     "execution_count": 70,
     "metadata": {},
     "output_type": "execute_result"
    }
   ],
   "source": [
    "csr_data"
   ]
  },
  {
   "cell_type": "code",
   "execution_count": 71,
   "id": "c86dc2e7-322a-4a87-b94b-9b26a1a20bb2",
   "metadata": {},
   "outputs": [],
   "source": [
    "from implicit.als import AlternatingLeastSquares"
   ]
  },
  {
   "cell_type": "code",
   "execution_count": 72,
   "id": "73830b76-b78d-4dee-8669-f4379fc68e02",
   "metadata": {},
   "outputs": [],
   "source": [
    "import os \n",
    "\n",
    "# implicit 라이브러리에서 권장 \n",
    "\n",
    "os.environ['OPENBLAS_NUM_THREADS'] = '1'\n",
    "os.environ['KMP_DUPLICATE_LIB_OK']='True'\n",
    "os.environ['MKL_NUM_THREADS'] = '1'"
   ]
  },
  {
   "cell_type": "code",
   "execution_count": 74,
   "id": "69b10302-0e68-483d-939a-056a2c067b63",
   "metadata": {},
   "outputs": [],
   "source": [
    "als_model = AlternatingLeastSquares(factors = 100,\n",
    "                                    regularization = 0.01,\n",
    "                                    use_gpu = False,\n",
    "                                    iterations = 15)"
   ]
  },
  {
   "cell_type": "code",
   "execution_count": 75,
   "id": "d06b8205-6e18-4894-9adf-dab60e9f65ad",
   "metadata": {},
   "outputs": [
    {
     "data": {
      "application/vnd.jupyter.widget-view+json": {
       "model_id": "5d3884c130f74f149411f2b7df25e9ac",
       "version_major": 2,
       "version_minor": 0
      },
      "text/plain": [
       "  0%|          | 0/15 [00:00<?, ?it/s]"
      ]
     },
     "metadata": {},
     "output_type": "display_data"
    },
    {
     "name": "stdout",
     "output_type": "stream",
     "text": [
      "CPU times: user 11min 14s, sys: 1min 53s, total: 13min 8s\n",
      "Wall time: 2min\n"
     ]
    }
   ],
   "source": [
    "%%time\n",
    "als_model.fit(csr_data.T)"
   ]
  },
  {
   "cell_type": "code",
   "execution_count": 79,
   "id": "4424f7ee-f138-4536-a481-141c41be69aa",
   "metadata": {},
   "outputs": [
    {
     "data": {
      "text/plain": [
       "person_rn      34534\n",
       "contents_rn    31489\n",
       "dtype: int64"
      ]
     },
     "execution_count": 79,
     "metadata": {},
     "output_type": "execute_result"
    }
   ],
   "source": [
    "test[['person_rn','contents_rn']].nunique()"
   ]
  },
  {
   "cell_type": "code",
   "execution_count": 85,
   "id": "6ec4c673-a1fc-49ed-aba3-56ad27296a31",
   "metadata": {},
   "outputs": [
    {
     "data": {
      "text/plain": [
       "8148"
      ]
     },
     "execution_count": 85,
     "metadata": {},
     "output_type": "execute_result"
    }
   ],
   "source": [
    "len(set(train['person_rn'].unique()).intersection(set(test['person_rn'].unique()) ))"
   ]
  },
  {
   "cell_type": "code",
   "execution_count": 80,
   "id": "c160480a-bdc5-467c-b5ee-2a76fcfd5b08",
   "metadata": {},
   "outputs": [
    {
     "data": {
      "text/html": [
       "<div>\n",
       "<style scoped>\n",
       "    .dataframe tbody tr th:only-of-type {\n",
       "        vertical-align: middle;\n",
       "    }\n",
       "\n",
       "    .dataframe tbody tr th {\n",
       "        vertical-align: top;\n",
       "    }\n",
       "\n",
       "    .dataframe thead th {\n",
       "        text-align: right;\n",
       "    }\n",
       "</style>\n",
       "<table border=\"1\" class=\"dataframe\">\n",
       "  <thead>\n",
       "    <tr style=\"text-align: right;\">\n",
       "      <th></th>\n",
       "      <th></th>\n",
       "    </tr>\n",
       "    <tr>\n",
       "      <th>person_rn</th>\n",
       "      <th>contents_rn</th>\n",
       "    </tr>\n",
       "  </thead>\n",
       "  <tbody>\n",
       "    <tr>\n",
       "      <th>598</th>\n",
       "      <th>643819</th>\n",
       "    </tr>\n",
       "    <tr>\n",
       "      <th>1063</th>\n",
       "      <th>73762</th>\n",
       "    </tr>\n",
       "    <tr>\n",
       "      <th>1406</th>\n",
       "      <th>469483</th>\n",
       "    </tr>\n",
       "    <tr>\n",
       "      <th>1491</th>\n",
       "      <th>62723</th>\n",
       "    </tr>\n",
       "    <tr>\n",
       "      <th>1663</th>\n",
       "      <th>23767</th>\n",
       "    </tr>\n",
       "    <tr>\n",
       "      <th>...</th>\n",
       "      <th>...</th>\n",
       "    </tr>\n",
       "    <tr>\n",
       "      <th>1048857</th>\n",
       "      <th>10538</th>\n",
       "    </tr>\n",
       "    <tr>\n",
       "      <th>1048880</th>\n",
       "      <th>589176</th>\n",
       "    </tr>\n",
       "    <tr>\n",
       "      <th>1048903</th>\n",
       "      <th>421282</th>\n",
       "    </tr>\n",
       "    <tr>\n",
       "      <th>1048964</th>\n",
       "      <th>726602</th>\n",
       "    </tr>\n",
       "    <tr>\n",
       "      <th>1048983</th>\n",
       "      <th>704733</th>\n",
       "    </tr>\n",
       "  </tbody>\n",
       "</table>\n",
       "<p>46404 rows × 0 columns</p>\n",
       "</div>"
      ],
      "text/plain": [
       "Empty DataFrame\n",
       "Columns: []\n",
       "Index: [(598, 643819), (1063, 73762), (1406, 469483), (1491, 62723), (1663, 23767), (1774, 9877), (2138, 35724), (2138, 477547), (2207, 43800), (2286, 62755), (2322, 747088), (2425, 36151), (2551, 24734), (2815, 73827), (2874, 73557), (2907, 23970), (2988, 9128), (3005, 175122), (3008, 704889), (3078, 158258), (3124, 741818), (3273, 10533), (3311, 10326), (3333, 9489), (3346, 34631), (3374, 44368), (3467, 35767), (3489, 300998), (3491, 302080), (3496, 542416), (3542, 74142), (3545, 9672), (3549, 409267), (3563, 56707), (3566, 36358), (3571, 74411), (3581, 44103), (3662, 8294), (3683, 10733), (3695, 512779), (3717, 499849), (3718, 9996), (3722, 36088), (3738, 17269), (3754, 43541), (3754, 498064), (3754, 513915), (3770, 9896), (3792, 9876), (3796, 542970), (3799, 17989), (3814, 24340), (3826, 73150), (3830, 236827), (3835, 9024), (3836, 44043), (3851, 56183), (3872, 24422), (3876, 477641), (3878, 498253), (3898, 743513), (3900, 10172), (3902, 72649), (3906, 9937), (3921, 9718), (3926, 35233), (3934, 44087), (3944, 352131), (3944, 658964), (3951, 229063), (3967, 34487), (3982, 499179), (3982, 529628), (3983, 10051), (3983, 10052), (3994, 72970), (3999, 44109), (4003, 18272), (4003, 455601), (4014, 24546), (4017, 10698), (4020, 36044), (4030, 513443), (4031, 10284), (4036, 36463), (4042, 62952), (4043, 10145), (4043, 10685), (4050, 568898), (4056, 10259), (4057, 10460), (4062, 658552), (4063, 17435), (4064, 681517), (4066, 10326), (4069, 47618), (4086, 465621), (4096, 74306), (4108, 589634), (4111, 10064), ...]\n",
       "\n",
       "[46404 rows x 0 columns]"
      ]
     },
     "execution_count": 80,
     "metadata": {},
     "output_type": "execute_result"
    }
   ],
   "source": [
    "pd.pivot_table(test[['person_rn','contents_rn']], index =['person_rn','contents_rn'])"
   ]
  },
  {
   "cell_type": "code",
   "execution_count": 81,
   "id": "a3a03641-ea8e-4ea7-9513-f35d6701da91",
   "metadata": {},
   "outputs": [
    {
     "data": {
      "text/plain": [
       "993298    15\n",
       "427267    11\n",
       "992664    10\n",
       "288636    10\n",
       "212364    10\n",
       "          ..\n",
       "691087     1\n",
       "688229     1\n",
       "49195      1\n",
       "240749     1\n",
       "309401     1\n",
       "Name: person_rn, Length: 34534, dtype: int64"
      ]
     },
     "execution_count": 81,
     "metadata": {},
     "output_type": "execute_result"
    }
   ],
   "source": [
    "test['person_rn'].value_counts()"
   ]
  },
  {
   "cell_type": "code",
   "execution_count": 90,
   "id": "830fd2c3-3c01-4fcc-aac7-2826f6d07bca",
   "metadata": {},
   "outputs": [],
   "source": [
    "df = pd.DataFrame(data ={'일자':['2016-12','2017-12','2018-12','2019-12','2020-12'],\n",
    "                    '매출액':[13, 689,3756,6649,8042],\n",
    "                   '영업이익':[-153,-1042,-212,133,1226]}\n",
    "            )"
   ]
  },
  {
   "cell_type": "code",
   "execution_count": 98,
   "id": "9d517a4c-9951-4fff-949f-35f744037d29",
   "metadata": {},
   "outputs": [],
   "source": [
    "import matplotlib.pyplot as plt \n",
    "import seaborn as sns\n",
    "\n",
    "plt.rc('font', family='AppleGothic')\n",
    "plt.rcParams['axes.unicode_minus'] = False"
   ]
  },
  {
   "cell_type": "code",
   "execution_count": 94,
   "id": "f952e951-7082-4e65-8cdb-bcabc9ea03c0",
   "metadata": {},
   "outputs": [],
   "source": [
    "df = df.set_index('일자')"
   ]
  },
  {
   "cell_type": "code",
   "execution_count": 104,
   "id": "d5263606-fa09-458b-94ce-412ae8f2fcfc",
   "metadata": {},
   "outputs": [
    {
     "data": {
      "text/plain": [
       "<AxesSubplot:xlabel='일자'>"
      ]
     },
     "execution_count": 104,
     "metadata": {},
     "output_type": "execute_result"
    },
    {
     "data": {
      "image/png": "[encoded data removed]",
      "text/plain": [
       "<Figure size 1008x360 with 1 Axes>"
      ]
     },
     "metadata": {
      "needs_background": "light"
     },
     "output_type": "display_data"
    }
   ],
   "source": [
    "df.plot(figsize = (14,5))\n"
   ]
  },
  {
   "cell_type": "code",
   "execution_count": null,
   "id": "c89e2009-8f59-4d72-800c-97b54ae6b336",
   "metadata": {},
   "outputs": [],
   "source": []
  }
 ],
 "metadata": {
  "kernelspec": {
   "display_name": "Python 3 (ipykernel)",
   "language": "python",
   "name": "python3"
  },
  "language_info": {
   "codemirror_mode": {
    "name": "ipython",
    "version": 3
   },
   "file_extension": ".py",
   "mimetype": "text/x-python",
   "name": "python",
   "nbconvert_exporter": "python",
   "pygments_lexer": "ipython3",
   "version": "3.8.12"
  }
 },
 "nbformat": 4,
 "nbformat_minor": 5
}
