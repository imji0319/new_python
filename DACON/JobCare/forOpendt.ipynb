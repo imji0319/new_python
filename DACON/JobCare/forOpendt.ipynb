{
 "cells": [
  {
   "cell_type": "code",
   "execution_count": 1,
   "id": "d7ef27cd-8096-4310-abd8-7ffef1ceefb0",
   "metadata": {},
   "outputs": [],
   "source": [
    "import numpy as np\n",
    "import pandas as pd "
   ]
  },
  {
   "cell_type": "code",
   "execution_count": 4,
   "id": "122ece39-b18a-4f98-83d3-523d5bbca6fd",
   "metadata": {},
   "outputs": [],
   "source": [
    "pd.set_option('max_columns',None)"
   ]
  },
  {
   "cell_type": "code",
   "execution_count": 5,
   "id": "d220ed63-9fb2-402d-b87f-f01ec517050d",
   "metadata": {},
   "outputs": [],
   "source": [
    "train = pd.read_csv('Jobcare_data/train.csv')"
   ]
  },
  {
   "cell_type": "code",
   "execution_count": 11,
   "id": "0bf935cc-3656-4075-b6c7-8525f7154f1c",
   "metadata": {},
   "outputs": [],
   "source": [
    "train['contents_open_dt'] = pd.to_datetime(train['contents_open_dt'])"
   ]
  },
  {
   "cell_type": "code",
   "execution_count": 25,
   "id": "9ccc6e2d-582d-45a8-bddb-d3c5a5c02e31",
   "metadata": {},
   "outputs": [],
   "source": [
    "train['open_year'] = train['contents_open_dt'].dt.year\n",
    "train['open_month']= train['contents_open_dt'].dt.month\n",
    "train['open_day']= train['contents_open_dt'].dt.day\n",
    "train['open_week'] = train['contents_open_dt'].dt.dayofweek\n",
    "train['open_time'] = train['contents_open_dt'].dt.hour\n",
    "train['open_minute']=train['contents_open_dt'].dt.minute"
   ]
  },
  {
   "cell_type": "code",
   "execution_count": 27,
   "id": "6138f5b5-7630-4e78-8db1-733391ad8594",
   "metadata": {},
   "outputs": [
    {
     "data": {
      "text/plain": [
       "id                        501951\n",
       "d_l_match_yn                   2\n",
       "d_m_match_yn                   2\n",
       "d_s_match_yn                   2\n",
       "h_l_match_yn                   2\n",
       "h_m_match_yn                   2\n",
       "h_s_match_yn                   2\n",
       "person_attribute_a             2\n",
       "person_attribute_a_1           8\n",
       "person_attribute_b             6\n",
       "person_prefer_c                5\n",
       "person_prefer_d_1           1093\n",
       "person_prefer_d_2           1081\n",
       "person_prefer_d_3           1043\n",
       "person_prefer_e               12\n",
       "person_prefer_f                1\n",
       "person_prefer_g                1\n",
       "person_prefer_h_1            279\n",
       "person_prefer_h_2            279\n",
       "person_prefer_h_3            279\n",
       "contents_attribute_i           3\n",
       "contents_attribute_a           3\n",
       "contents_attribute_j_1         9\n",
       "contents_attribute_j           2\n",
       "contents_attribute_c           4\n",
       "contents_attribute_k           2\n",
       "contents_attribute_l        1752\n",
       "contents_attribute_d        1065\n",
       "contents_attribute_m           5\n",
       "contents_attribute_e          12\n",
       "contents_attribute_h         250\n",
       "person_rn                 300177\n",
       "contents_rn               283359\n",
       "contents_open_dt          494952\n",
       "target                         2\n",
       "open_year                      1\n",
       "open_month                    11\n",
       "open_day                      31\n",
       "open_week                      7\n",
       "open_time                     24\n",
       "open_minute                   60\n",
       "dtype: int64"
      ]
     },
     "execution_count": 27,
     "metadata": {},
     "output_type": "execute_result"
    }
   ],
   "source": [
    "train.nunique()"
   ]
  },
  {
   "cell_type": "code",
   "execution_count": null,
   "id": "13797ac3-72fb-4512-abe8-513eacaa67a6",
   "metadata": {},
   "outputs": [],
   "source": []
  }
 ],
 "metadata": {
  "kernelspec": {
   "display_name": "Python 3 (ipykernel)",
   "language": "python",
   "name": "python3"
  },
  "language_info": {
   "codemirror_mode": {
    "name": "ipython",
    "version": 3
   },
   "file_extension": ".py",
   "mimetype": "text/x-python",
   "name": "python",
   "nbconvert_exporter": "python",
   "pygments_lexer": "ipython3",
   "version": "3.9.7"
  }
 },
 "nbformat": 4,
 "nbformat_minor": 5
}
