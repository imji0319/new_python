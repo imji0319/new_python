{
 "cells": [
  {
   "cell_type": "markdown",
   "metadata": {},
   "source": [
    "# 600 Times 을 분할하여 파생변수 생성 \n",
    "600 Times을 Aggregation 하여 학습한 결과, 각 id별 한 개의 데이터만 존재.    \n",
    "중복되는 label이 있지만, 데이터셋이 부족하여 과적합의 가능성이 높음.    \n",
    "\n",
    "1. 3125 * 600 = 1,875,000 개 \n",
    "    - 모든 데이터셋 전체 학습 \n",
    "2. 3125 * ( 600 / 100 ) = 18,750 개 \n",
    "    - 100 타임별로 분할하여 max, min, mean 계산하여 데이터셋 구성\n",
    "3. 3125 * ( 600 / 50 ) = 37,500 개 \n",
    "    - 50 타임별 분할하여 max, min, mean 계산하여 데이터셋 구성\n",
    "4. 3125 * ( 600 / 10 ) = 187,500 개\n",
    "    - 10 타임별 분할하여 max, min, mean 계산하여 데이터셋 구성\n"
   ]
  },
  {
   "cell_type": "code",
   "execution_count": null,
   "metadata": {},
   "outputs": [],
   "source": []
  }
 ],
 "metadata": {
  "kernelspec": {
   "display_name": "Python 3",
   "language": "python",
   "name": "python3"
  },
  "language_info": {
   "codemirror_mode": {
    "name": "ipython",
    "version": 3
   },
   "file_extension": ".py",
   "mimetype": "text/x-python",
   "name": "python",
   "nbconvert_exporter": "python",
   "pygments_lexer": "ipython3",
   "version": "3.8.3"
  }
 },
 "nbformat": 4,
 "nbformat_minor": 4
}
