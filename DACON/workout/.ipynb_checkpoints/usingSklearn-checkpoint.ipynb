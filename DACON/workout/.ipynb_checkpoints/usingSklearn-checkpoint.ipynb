{
 "cells": [
  {
   "cell_type": "markdown",
   "metadata": {},
   "source": [
    "# 로지스틱 회귀 활용 "
   ]
  },
  {
   "cell_type": "code",
   "execution_count": 2,
   "metadata": {},
   "outputs": [],
   "source": [
    "import numpy as np\n",
    "import pandas as pd \n",
    "import warnings\n",
    "warnings.filterwarnings('ignore')\n",
    "pd.set_option('display.max_columns', None)\n",
    "\n",
    "train = pd.read_csv('train_features.csv')\n",
    "test = pd.read_csv('test_features.csv')\n",
    "train_label = pd.read_csv('train_labels.csv')\n",
    "submission = pd.read_csv('sample_submission.csv')"
   ]
  },
  {
   "cell_type": "code",
   "execution_count": 4,
   "metadata": {},
   "outputs": [],
   "source": [
    "gb_train = train.drop('time', axis = 1, inplace =False).groupby('id')\n",
    "gb_test = test.drop('time',axis =1, inplace =False).groupby('id')"
   ]
  },
  {
   "cell_type": "code",
   "execution_count": 5,
   "metadata": {},
   "outputs": [],
   "source": [
    "def mad(x):\n",
    "    return np.median(np.absolute(x - np.median(x, axis=0)), axis=0)\n",
    "\n",
    "def energy(x): # enengy\n",
    "    x = np.array(x)\n",
    "    return np.sum(np.square(x)) / len(x)\n",
    "\n",
    "def iqr(x):\n",
    "    return np.subtract(*np.percentile(x, [75, 25]))\n",
    "\n",
    "def entropy(x):\n",
    "    p = x/x.sum()\n",
    "    return (-p*np.log2(p)).sum()\n",
    "\n",
    "def skewness(x):\n",
    "    from scipy.stats import skew \n",
    "    return skew(x)\n",
    "\n",
    "def kurtosis(x):\n",
    "    from scipy.stats import kurtosis \n",
    "    return kurtosis(x)\n",
    "\n",
    "def angleBet(u, v):\n",
    "    from numpy import (array, dot, arccos, clip)\n",
    "    from numpy.linalg import norm\n",
    "\n",
    "    c = dot(u,v)/norm(u)/norm(v) # -> cosine of the angle\n",
    "    angle = arccos(clip(c, -1, 1)) # if you really want the angle\n",
    "    \n",
    "    return angle"
   ]
  },
  {
   "cell_type": "code",
   "execution_count": 6,
   "metadata": {},
   "outputs": [],
   "source": [
    "gb_train_agg =  gb_train.agg([np.min, np.max, np.std, np.mean, \n",
    "              mad, energy, iqr, entropy, skewness, kurtosis ])\n",
    "gb_test_agg = gb_test.agg([np.min, np.max, np.std, np.mean, \n",
    "              mad, energy, iqr, entropy, skewness, kurtosis ])"
   ]
  },
  {
   "cell_type": "code",
   "execution_count": 7,
   "metadata": {},
   "outputs": [],
   "source": [
    "def addAngle(dfs):\n",
    "    # test x, y, z 각 features 간의 angle \n",
    "    angle_acc_xy = []\n",
    "    angle_acc_xz = []\n",
    "    angle_acc_yz = [] \n",
    "    angle_gy_xy = [] \n",
    "    angle_gy_xz = [] \n",
    "    angle_gy_yz = [] \n",
    "\n",
    "    for i in range(len(dfs)):\n",
    "    # acc x, y, z\n",
    "        a_xy = angleBet(dfs[i].acc_x, dfs[i].acc_y)\n",
    "        a_xz = angleBet(dfs[i].acc_x, dfs[i].acc_z)\n",
    "        a_yz = angleBet(dfs[i].acc_y, dfs[i].acc_z)\n",
    "        angle_acc_xy = np.append(angle_acc_xy, a_xy)\n",
    "        angle_acc_xz = np.append(angle_acc_xz, a_xz)\n",
    "        angle_acc_yz = np.append(angle_acc_yz, a_yz)\n",
    "    \n",
    "    # gy x, y, z\n",
    "        g_xy = angleBet(dfs[i].gy_x, dfs[i].gy_y)\n",
    "        g_xz = angleBet(dfs[i].gy_x, dfs[i].gy_z)\n",
    "        g_yz = angleBet(dfs[i].gy_y, dfs[i].gy_z)\n",
    "        angle_gy_xy = np.append(angle_gy_xy, g_xy)\n",
    "        angle_gy_xz = np.append(angle_gy_xz, g_xz) \n",
    "        angle_gy_yz = np.append(angle_gy_yz, g_yz)\n",
    "    \n",
    "    \n",
    "    angles = {'angle_acc_xy' : angle_acc_xy, \n",
    "         'angle_acc_yz' : angle_acc_yz,\n",
    "         'angle_acc_xz' : angle_acc_xz,\n",
    "         'angle_gy_xy' : angle_gy_xy,\n",
    "         'angle_gy_yz': angle_gy_yz,\n",
    "         'angle_gy_xz': angle_gy_xz}\n",
    "\n",
    "    angles = pd.DataFrame(angles)\n",
    "    \n",
    "    return angles"
   ]
  },
  {
   "cell_type": "code",
   "execution_count": 9,
   "metadata": {},
   "outputs": [],
   "source": [
    "train_ids = train.id.nunique()\n",
    "test_ids = test.id.nunique()\n",
    "train_df = [] \n",
    "for i in range(train_ids):\n",
    "    train_df.append(train.iloc[600*i : 600*i + 600])\n",
    "    \n",
    "test_df = []\n",
    "for i in range(test_ids):\n",
    "    test_df.append(test.iloc[600*i : 600*i + 600 ])"
   ]
  },
  {
   "cell_type": "code",
   "execution_count": 11,
   "metadata": {},
   "outputs": [],
   "source": [
    "train_ang = addAngle(train_df)\n",
    "test_ang = addAngle(test_df)\n",
    "\n",
    "gb_train_agg.columns = ['_'.join(col) for col in gb_train_agg.columns]\n",
    "gb_test_agg.columns = ['_'.join(col) for col in gb_test_agg.columns]\n",
    "\n",
    "gb_train_df = pd.merge(gb_train_agg, train_ang, left_index = True,right_index=True)\n",
    "gb_test_df = pd.merge(gb_test_agg.reset_index(), test_ang, left_index = True, right_index = True)\n",
    "gb_test_df.set_index('id', inplace = True)"
   ]
  },
  {
   "cell_type": "code",
   "execution_count": 12,
   "metadata": {},
   "outputs": [],
   "source": [
    "y = train_label['label']"
   ]
  },
  {
   "cell_type": "code",
   "execution_count": 15,
   "metadata": {},
   "outputs": [],
   "source": [
    "from sklearn.linear_model import LogisticRegression\n",
    "from sklearn.metrics import log_loss, accuracy_score\n",
    "from sklearn.model_selection import train_test_split"
   ]
  },
  {
   "cell_type": "code",
   "execution_count": 16,
   "metadata": {},
   "outputs": [],
   "source": [
    "X_train, X_test, y_train, y_test = train_test_split(gb_train_df, y, test_size = 0.2,\n",
    "                                                   random_state = 42)"
   ]
  },
  {
   "cell_type": "code",
   "execution_count": 18,
   "metadata": {},
   "outputs": [],
   "source": [
    "lr_clf = LogisticRegression().fit(X_train, y_train)"
   ]
  },
  {
   "cell_type": "code",
   "execution_count": 19,
   "metadata": {},
   "outputs": [
    {
     "data": {
      "text/plain": [
       "2.4208208107993165"
      ]
     },
     "execution_count": 19,
     "metadata": {},
     "output_type": "execute_result"
    }
   ],
   "source": [
    "log_loss(y_test, lr_clf.predict_proba(X_test))"
   ]
  },
  {
   "cell_type": "code",
   "execution_count": 20,
   "metadata": {},
   "outputs": [
    {
     "data": {
      "text/plain": [
       "0.5392"
      ]
     },
     "execution_count": 20,
     "metadata": {},
     "output_type": "execute_result"
    }
   ],
   "source": [
    "accuracy_score(y_test, lr_clf.predict(X_test))"
   ]
  },
  {
   "cell_type": "code",
   "execution_count": 22,
   "metadata": {},
   "outputs": [],
   "source": [
    "from sklearn.svm import SVC"
   ]
  },
  {
   "cell_type": "code",
   "execution_count": 23,
   "metadata": {},
   "outputs": [],
   "source": [
    "rbf = SVC(kernel='rbf', gamma=0.5, C=0.1).fit(X_train, y_train)\n",
    "poly = SVC(kernel='poly', degree=3, C=1).fit(X_train, y_train)"
   ]
  },
  {
   "cell_type": "code",
   "execution_count": 24,
   "metadata": {},
   "outputs": [],
   "source": [
    "poly_pred = poly.predict(X_test)\n",
    "rbf_pred = rbf.predict(X_test)"
   ]
  },
  {
   "cell_type": "code",
   "execution_count": 25,
   "metadata": {},
   "outputs": [
    {
     "data": {
      "text/plain": [
       "0.5248"
      ]
     },
     "execution_count": 25,
     "metadata": {},
     "output_type": "execute_result"
    }
   ],
   "source": [
    "accuracy_score(y_test, poly_pred)"
   ]
  },
  {
   "cell_type": "code",
   "execution_count": 26,
   "metadata": {},
   "outputs": [
    {
     "data": {
      "text/plain": [
       "0.5024"
      ]
     },
     "execution_count": 26,
     "metadata": {},
     "output_type": "execute_result"
    }
   ],
   "source": [
    "accuracy_score(y_test, rbf_pred)"
   ]
  },
  {
   "cell_type": "code",
   "execution_count": null,
   "metadata": {},
   "outputs": [],
   "source": []
  }
 ],
 "metadata": {
  "kernelspec": {
   "display_name": "Python 3",
   "language": "python",
   "name": "python3"
  },
  "language_info": {
   "codemirror_mode": {
    "name": "ipython",
    "version": 3
   },
   "file_extension": ".py",
   "mimetype": "text/x-python",
   "name": "python",
   "nbconvert_exporter": "python",
   "pygments_lexer": "ipython3",
   "version": "3.8.3"
  }
 },
 "nbformat": 4,
 "nbformat_minor": 4
}
