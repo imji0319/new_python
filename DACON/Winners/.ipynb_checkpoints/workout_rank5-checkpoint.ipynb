{
 "cells": [
  {
   "cell_type": "markdown",
   "metadata": {},
   "source": [
    "# [운동 동작 분류 AI - Private 5위](https://dacon.io/competitions/official/235689/codeshare/2387?page=2&dtype=recent&ptype=pub)\n",
    "\n",
    "\n",
    "ML : LGBM + XGB + EXT ~ Voting Classifier  \n",
    "DL : CBAM "
   ]
  },
  {
   "cell_type": "code",
   "execution_count": 6,
   "metadata": {},
   "outputs": [],
   "source": [
    "import pandas as pd\n",
    "import numpy as np\n",
    "import random\n",
    "import matplotlib.pyplot as plt\n",
    "import warnings\n",
    "warnings.filterwarnings('ignore')\n",
    "\n",
    "\n",
    "from itertools import combinations\n",
    "import math\n",
    "from sklearn.preprocessing import PowerTransformer, MinMaxScaler, StandardScaler, MaxAbsScaler, RobustScaler,OneHotEncoder \n",
    "from tqdm import tqdm\n",
    "\n",
    "import shap\n",
    "from sklearn.feature_selection import SelectPercentile\n",
    "from sklearn.model_selection import cross_val_score\n",
    "from scipy.ndimage import gaussian_filter1d\n",
    "\n",
    "from lightgbm import LGBMClassifier\n",
    "from xgboost import XGBClassifier\n",
    "from sklearn.ensemble import RandomForestClassifier, ExtraTreesClassifier, VotingClassifier\n",
    "from sklearn.cluster import KMeans\n",
    "from scipy.stats import skew, kurtosis\n",
    "\n",
    "\n",
    "from sklearn.metrics import mean_squared_error, log_loss, make_scorer\n",
    "from sklearn.model_selection import RandomizedSearchCV, train_test_split, StratifiedKFold, GridSearchCV\n",
    "\n",
    "import time\n",
    "from bayes_opt import BayesianOptimization\n",
    "from vecstack import stacking \n",
    "from datetime import datetime \n",
    "\n",
    "from scipy.stats import gmean"
   ]
  },
  {
   "cell_type": "code",
   "execution_count": 12,
   "metadata": {},
   "outputs": [],
   "source": [
    "train_x = pd.read_csv('../workout/train_features.csv')\n",
    "test = pd.read_csv('../workout/test_features.csv')\n",
    "y = pd.read_csv('../workout/train_labels.csv')"
   ]
  },
  {
   "cell_type": "code",
   "execution_count": 9,
   "metadata": {},
   "outputs": [],
   "source": [
    "pd.set_option('display.max_columns', None)"
   ]
  },
  {
   "cell_type": "code",
   "execution_count": 14,
   "metadata": {},
   "outputs": [
    {
     "data": {
      "text/html": [
       "<div>\n",
       "<style scoped>\n",
       "    .dataframe tbody tr th:only-of-type {\n",
       "        vertical-align: middle;\n",
       "    }\n",
       "\n",
       "    .dataframe tbody tr th {\n",
       "        vertical-align: top;\n",
       "    }\n",
       "\n",
       "    .dataframe thead th {\n",
       "        text-align: right;\n",
       "    }\n",
       "</style>\n",
       "<table border=\"1\" class=\"dataframe\">\n",
       "  <thead>\n",
       "    <tr style=\"text-align: right;\">\n",
       "      <th></th>\n",
       "      <th>id</th>\n",
       "      <th>time</th>\n",
       "      <th>acc_x</th>\n",
       "      <th>acc_y</th>\n",
       "      <th>acc_z</th>\n",
       "      <th>gy_x</th>\n",
       "      <th>gy_y</th>\n",
       "      <th>gy_z</th>\n",
       "    </tr>\n",
       "  </thead>\n",
       "  <tbody>\n",
       "    <tr>\n",
       "      <th>0</th>\n",
       "      <td>0</td>\n",
       "      <td>0</td>\n",
       "      <td>1.206087</td>\n",
       "      <td>-0.179371</td>\n",
       "      <td>-0.148447</td>\n",
       "      <td>-0.591608</td>\n",
       "      <td>-30.549010</td>\n",
       "      <td>-31.676112</td>\n",
       "    </tr>\n",
       "    <tr>\n",
       "      <th>1</th>\n",
       "      <td>0</td>\n",
       "      <td>1</td>\n",
       "      <td>1.287696</td>\n",
       "      <td>-0.198974</td>\n",
       "      <td>-0.182444</td>\n",
       "      <td>0.303100</td>\n",
       "      <td>-39.139103</td>\n",
       "      <td>-24.927216</td>\n",
       "    </tr>\n",
       "  </tbody>\n",
       "</table>\n",
       "</div>"
      ],
      "text/plain": [
       "   id  time     acc_x     acc_y     acc_z      gy_x       gy_y       gy_z\n",
       "0   0     0  1.206087 -0.179371 -0.148447 -0.591608 -30.549010 -31.676112\n",
       "1   0     1  1.287696 -0.198974 -0.182444  0.303100 -39.139103 -24.927216"
      ]
     },
     "execution_count": 14,
     "metadata": {},
     "output_type": "execute_result"
    }
   ],
   "source": [
    "train_x.head(2)"
   ]
  },
  {
   "cell_type": "markdown",
   "metadata": {},
   "source": [
    "## Feature Gerneration \n",
    "\n",
    "데이터에 방향성으로 속도 조합하기 "
   ]
  },
  {
   "cell_type": "code",
   "execution_count": 46,
   "metadata": {},
   "outputs": [],
   "source": [
    "acc_col = train_x.columns[2:5]\n",
    "gy_col = train_x.columns[5:]\n",
    "\n",
    "\n",
    "for target_list in [acc_col, gy_col]:\n",
    "    for a,b in combinations(target_list,2):\n",
    "        columns_name = a+b[-1]\n",
    "        \n",
    "        train_x[columns_name] = (train_x[a]**2 + train_x[b]**2) ** (1/2)\n",
    "    "
   ]
  },
  {
   "cell_type": "code",
   "execution_count": 47,
   "metadata": {},
   "outputs": [
    {
     "data": {
      "text/html": [
       "<div>\n",
       "<style scoped>\n",
       "    .dataframe tbody tr th:only-of-type {\n",
       "        vertical-align: middle;\n",
       "    }\n",
       "\n",
       "    .dataframe tbody tr th {\n",
       "        vertical-align: top;\n",
       "    }\n",
       "\n",
       "    .dataframe thead th {\n",
       "        text-align: right;\n",
       "    }\n",
       "</style>\n",
       "<table border=\"1\" class=\"dataframe\">\n",
       "  <thead>\n",
       "    <tr style=\"text-align: right;\">\n",
       "      <th></th>\n",
       "      <th>id</th>\n",
       "      <th>time</th>\n",
       "      <th>acc_x</th>\n",
       "      <th>acc_y</th>\n",
       "      <th>acc_z</th>\n",
       "      <th>gy_x</th>\n",
       "      <th>gy_y</th>\n",
       "      <th>gy_z</th>\n",
       "      <th>acc_xy</th>\n",
       "      <th>acc_xz</th>\n",
       "      <th>acc_yz</th>\n",
       "      <th>gy_xy</th>\n",
       "      <th>gy_xz</th>\n",
       "      <th>gy_yz</th>\n",
       "    </tr>\n",
       "  </thead>\n",
       "  <tbody>\n",
       "    <tr>\n",
       "      <th>0</th>\n",
       "      <td>0</td>\n",
       "      <td>0</td>\n",
       "      <td>1.206087</td>\n",
       "      <td>-0.179371</td>\n",
       "      <td>-0.148447</td>\n",
       "      <td>-0.591608</td>\n",
       "      <td>-30.549010</td>\n",
       "      <td>-31.676112</td>\n",
       "      <td>1.219352</td>\n",
       "      <td>1.215188</td>\n",
       "      <td>0.232832</td>\n",
       "      <td>30.554737</td>\n",
       "      <td>31.681636</td>\n",
       "      <td>44.007023</td>\n",
       "    </tr>\n",
       "    <tr>\n",
       "      <th>1</th>\n",
       "      <td>0</td>\n",
       "      <td>1</td>\n",
       "      <td>1.287696</td>\n",
       "      <td>-0.198974</td>\n",
       "      <td>-0.182444</td>\n",
       "      <td>0.303100</td>\n",
       "      <td>-39.139103</td>\n",
       "      <td>-24.927216</td>\n",
       "      <td>1.302978</td>\n",
       "      <td>1.300557</td>\n",
       "      <td>0.269956</td>\n",
       "      <td>39.140277</td>\n",
       "      <td>24.929059</td>\n",
       "      <td>46.402968</td>\n",
       "    </tr>\n",
       "    <tr>\n",
       "      <th>2</th>\n",
       "      <td>0</td>\n",
       "      <td>2</td>\n",
       "      <td>1.304609</td>\n",
       "      <td>-0.195114</td>\n",
       "      <td>-0.253382</td>\n",
       "      <td>-3.617278</td>\n",
       "      <td>-44.122565</td>\n",
       "      <td>-25.019629</td>\n",
       "      <td>1.319119</td>\n",
       "      <td>1.328987</td>\n",
       "      <td>0.319800</td>\n",
       "      <td>44.270593</td>\n",
       "      <td>25.279765</td>\n",
       "      <td>50.722604</td>\n",
       "    </tr>\n",
       "  </tbody>\n",
       "</table>\n",
       "</div>"
      ],
      "text/plain": [
       "   id  time     acc_x     acc_y     acc_z      gy_x       gy_y       gy_z  \\\n",
       "0   0     0  1.206087 -0.179371 -0.148447 -0.591608 -30.549010 -31.676112   \n",
       "1   0     1  1.287696 -0.198974 -0.182444  0.303100 -39.139103 -24.927216   \n",
       "2   0     2  1.304609 -0.195114 -0.253382 -3.617278 -44.122565 -25.019629   \n",
       "\n",
       "     acc_xy    acc_xz    acc_yz      gy_xy      gy_xz      gy_yz  \n",
       "0  1.219352  1.215188  0.232832  30.554737  31.681636  44.007023  \n",
       "1  1.302978  1.300557  0.269956  39.140277  24.929059  46.402968  \n",
       "2  1.319119  1.328987  0.319800  44.270593  25.279765  50.722604  "
      ]
     },
     "execution_count": 47,
     "metadata": {},
     "output_type": "execute_result"
    }
   ],
   "source": [
    "train_x.head(3)"
   ]
  },
  {
   "cell_type": "code",
   "execution_count": 48,
   "metadata": {},
   "outputs": [],
   "source": [
    "train_x['acc_xyz'] = (train_x['acc_x']**2 + train_x['acc_y']**2 + train_x['acc_z']**2) ** (1/3)\n",
    "train_x['gy_xyz'] = (train_x['gy_x']**2 + train_x['gy_y']**2 + train_x['gy_z']**2) ** (1/3)"
   ]
  },
  {
   "cell_type": "code",
   "execution_count": 49,
   "metadata": {},
   "outputs": [],
   "source": [
    "for target_list in [acc_col, gy_col]:\n",
    "    for a, b in combinations(target_list, 2):\n",
    "        col_name = a + b[-1]\n",
    "        \n",
    "        test[col_name] = (test[a]**2 + test[b]**2 ) ** (1/2)\n",
    "        \n",
    "        \n",
    "test['acc_xyz'] = (test['acc_x']**2 + test['acc_y']**2 + test['acc_z']**2) ** (1/3)\n",
    "test['gy_xyz'] = (test['gy_x']**2 + test['gy_y']**2 + test['gy_z']**2 ) **(1/3)"
   ]
  },
  {
   "cell_type": "markdown",
   "metadata": {},
   "source": [
    "### Pivot Table"
   ]
  },
  {
   "cell_type": "code",
   "execution_count": 51,
   "metadata": {},
   "outputs": [],
   "source": [
    "agg_train_x = pd.pivot_table(train_x, values = train_x.columns[2:], index ='id', \n",
    "               aggfunc = ['sum', 'mean', 'mad',\n",
    "                         'median','min','max',\n",
    "                         'std','var',\n",
    "                         'sem', 'skew','quantile']).reset_index() \n",
    "\n",
    "agg_train_x.columns  =  [i[0] +'_'+ i[1] for i in agg_train_x.columns]"
   ]
  },
  {
   "cell_type": "code",
   "execution_count": 52,
   "metadata": {},
   "outputs": [],
   "source": [
    "agg_test_x = pd.pivot_table(test, values = test.columns[2:], index ='id', \n",
    "               aggfunc = ['sum', 'mean', 'mad',\n",
    "                         'median','min','max',\n",
    "                         'std','var',\n",
    "                         'sem', 'skew','quantile']).reset_index() \n",
    "\n",
    "agg_test_x.columns  =  [i[0] +'_'+ i[1] for i in agg_test_x.columns]"
   ]
  },
  {
   "cell_type": "code",
   "execution_count": 54,
   "metadata": {},
   "outputs": [
    {
     "name": "stdout",
     "output_type": "stream",
     "text": [
      "(3125, 155) (782, 155)\n"
     ]
    }
   ],
   "source": [
    "print(agg_train_x.shape, agg_test_x.shape)"
   ]
  },
  {
   "cell_type": "markdown",
   "metadata": {},
   "source": [
    "### Make Features with Logloss"
   ]
  },
  {
   "cell_type": "code",
   "execution_count": 59,
   "metadata": {},
   "outputs": [
    {
     "data": {
      "text/plain": [
       "(1875000, 16)"
      ]
     },
     "execution_count": 59,
     "metadata": {},
     "output_type": "execute_result"
    }
   ],
   "source": [
    "train_x.shape"
   ]
  },
  {
   "cell_type": "code",
   "execution_count": 60,
   "metadata": {},
   "outputs": [],
   "source": [
    "grouped_train_x = train_x.iloc[:,2:].values.reshape(-1, 600, train_x.shape[1]-2)\n",
    "grouped_test_x = test.iloc[:,2:].values.reshape(-1, 600, test.shape[1] -2 )"
   ]
  },
  {
   "cell_type": "code",
   "execution_count": 61,
   "metadata": {},
   "outputs": [
    {
     "name": "stdout",
     "output_type": "stream",
     "text": [
      "(3125, 600, 14) (782, 600, 14)\n"
     ]
    }
   ],
   "source": [
    "print(grouped_train_x.shape, grouped_test_x.shape)"
   ]
  },
  {
   "cell_type": "code",
   "execution_count": 64,
   "metadata": {},
   "outputs": [],
   "source": [
    "times = []\n",
    "for num in ['002','010','020','030','050','100','200','300','600' ]:\n",
    "    \n",
    "    target_time = float(num[0]+'.'+num[1:])\n",
    "    # times.append(target_time)\n",
    "    globals()['log_'+num+'_train_x'] =np.zeros((grouped_train_x.shape[0], \n",
    "                                               grouped_train_x.shape[1] - int(target_time//0.02),\n",
    "                                              grouped_train_x.shape[2]))\n",
    "    \n",
    "# times"
   ]
  },
  {
   "cell_type": "code",
   "execution_count": null,
   "metadata": {},
   "outputs": [],
   "source": []
  }
 ],
 "metadata": {
  "kernelspec": {
   "display_name": "Python 3",
   "language": "python",
   "name": "python3"
  },
  "language_info": {
   "codemirror_mode": {
    "name": "ipython",
    "version": 3
   },
   "file_extension": ".py",
   "mimetype": "text/x-python",
   "name": "python",
   "nbconvert_exporter": "python",
   "pygments_lexer": "ipython3",
   "version": "3.8.3"
  }
 },
 "nbformat": 4,
 "nbformat_minor": 4
}
