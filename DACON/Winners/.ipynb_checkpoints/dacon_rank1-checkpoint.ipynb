{
 "cells": [
  {
   "cell_type": "markdown",
   "metadata": {},
   "source": [
    "# [2020 DACON GA 데이터 - Private 1위](https://dacon.io/competitions/official/235683/codeshare/2341?page=1&dtype=recent&ptype=pub) \n",
    "\n",
    "미래의 사용자 행동 패턴 예측 "
   ]
  },
  {
   "cell_type": "code",
   "execution_count": 24,
   "metadata": {},
   "outputs": [],
   "source": [
    "import pandas as pd \n",
    "import numpy as np\n",
    "import warnings\n",
    "warnings.filterwarnings('ignore')\n",
    "\n",
    "import seaborn as sns\n",
    "import matplotlib.pyplot as plt\n",
    "import plotly.graph_objs as go\n",
    "\n",
    "from sklearn.preprocessing import MinMaxScaler\n",
    "from sklearn.model_selection import cross_val_score \n",
    "from sklearn.neighbors import KNeighborsRegressor\n",
    "from sklearn.linear_model import LinearRegression\n",
    "from sklearn.svm import SVR\n",
    "from sklearn.ensemble import RandomForestRegressor\n",
    "from lightgbm import LGBMRegressor\n",
    "\n",
    "# 한글 깨짐 해결 \n",
    "from matplotlib import rc\n",
    "rc('font', family='NanumMyeongjo')\n",
    "plt.rcParams['axes.unicode_minus'] = False"
   ]
  },
  {
   "cell_type": "code",
   "execution_count": 15,
   "metadata": {},
   "outputs": [],
   "source": [
    "train1 = pd.read_csv('2020DACON_GA/1차_open_data/train.csv', encoding = 'cp949')\n",
    "train2 = pd.read_csv('2020DACON_GA/2차_open_data/2차_train.csv', encoding = 'cp949')\n",
    "\n",
    "train = pd.concat([train1, train2], axis = 0)\n",
    "submission =pd.read_csv('2020DACON_GA/1차_open_data/submission.csv', encoding = 'cp949')"
   ]
  },
  {
   "cell_type": "code",
   "execution_count": 5,
   "metadata": {},
   "outputs": [
    {
     "data": {
      "text/html": [
       "<div>\n",
       "<style scoped>\n",
       "    .dataframe tbody tr th:only-of-type {\n",
       "        vertical-align: middle;\n",
       "    }\n",
       "\n",
       "    .dataframe tbody tr th {\n",
       "        vertical-align: top;\n",
       "    }\n",
       "\n",
       "    .dataframe thead th {\n",
       "        text-align: right;\n",
       "    }\n",
       "</style>\n",
       "<table border=\"1\" class=\"dataframe\">\n",
       "  <thead>\n",
       "    <tr style=\"text-align: right;\">\n",
       "      <th></th>\n",
       "      <th>DateTime</th>\n",
       "      <th>사용자</th>\n",
       "      <th>세션</th>\n",
       "      <th>신규방문자</th>\n",
       "      <th>페이지뷰</th>\n",
       "    </tr>\n",
       "  </thead>\n",
       "  <tbody>\n",
       "    <tr>\n",
       "      <th>0</th>\n",
       "      <td>2018-09-09 00:00:00</td>\n",
       "      <td>19</td>\n",
       "      <td>19</td>\n",
       "      <td>8</td>\n",
       "      <td>206</td>\n",
       "    </tr>\n",
       "    <tr>\n",
       "      <th>1</th>\n",
       "      <td>2018-09-09 01:00:00</td>\n",
       "      <td>20</td>\n",
       "      <td>19</td>\n",
       "      <td>9</td>\n",
       "      <td>259</td>\n",
       "    </tr>\n",
       "    <tr>\n",
       "      <th>2</th>\n",
       "      <td>2018-09-09 02:00:00</td>\n",
       "      <td>12</td>\n",
       "      <td>9</td>\n",
       "      <td>1</td>\n",
       "      <td>48</td>\n",
       "    </tr>\n",
       "  </tbody>\n",
       "</table>\n",
       "</div>"
      ],
      "text/plain": [
       "              DateTime  사용자  세션  신규방문자  페이지뷰\n",
       "0  2018-09-09 00:00:00   19  19      8   206\n",
       "1  2018-09-09 01:00:00   20  19      9   259\n",
       "2  2018-09-09 02:00:00   12   9      1    48"
      ]
     },
     "execution_count": 5,
     "metadata": {},
     "output_type": "execute_result"
    }
   ],
   "source": [
    "train.head(3)"
   ]
  },
  {
   "cell_type": "code",
   "execution_count": 6,
   "metadata": {},
   "outputs": [],
   "source": [
    "info_comp = pd.read_csv('2020DACON_GA/2차_추가데이터/new_competition_info.csv', encoding= 'cp949')\n",
    "info_login = pd.read_csv('2020DACON_GA/2차_추가데이터/new_login_info.csv', encoding= 'cp949')\n",
    "info_user = pd.read_csv('2020DACON_GA/2차_추가데이터/new_user_info.csv', encoding= 'cp949')\n",
    "info_sub = pd.read_csv('2020DACON_GA/2차_추가데이터/new_submission_info.csv', encoding= 'cp949')"
   ]
  },
  {
   "cell_type": "code",
   "execution_count": 11,
   "metadata": {},
   "outputs": [
    {
     "name": "stdout",
     "output_type": "stream",
     "text": [
      "(52, 17) (164121, 6) (25011, 10) (113635, 6)\n"
     ]
    }
   ],
   "source": [
    "print(info_comp.shape, info_login.shape, info_user.shape, info_sub.shape)"
   ]
  },
  {
   "cell_type": "code",
   "execution_count": 16,
   "metadata": {},
   "outputs": [
    {
     "data": {
      "text/html": [
       "<div>\n",
       "<style scoped>\n",
       "    .dataframe tbody tr th:only-of-type {\n",
       "        vertical-align: middle;\n",
       "    }\n",
       "\n",
       "    .dataframe tbody tr th {\n",
       "        vertical-align: top;\n",
       "    }\n",
       "\n",
       "    .dataframe thead th {\n",
       "        text-align: right;\n",
       "    }\n",
       "</style>\n",
       "<table border=\"1\" class=\"dataframe\">\n",
       "  <thead>\n",
       "    <tr style=\"text-align: right;\">\n",
       "      <th></th>\n",
       "      <th>date</th>\n",
       "      <th>사용자</th>\n",
       "      <th>세션</th>\n",
       "      <th>신규방문자</th>\n",
       "      <th>페이지뷰</th>\n",
       "    </tr>\n",
       "  </thead>\n",
       "  <tbody>\n",
       "    <tr>\n",
       "      <th>817</th>\n",
       "      <td>2020-12-04</td>\n",
       "      <td>3189</td>\n",
       "      <td>3068</td>\n",
       "      <td>743</td>\n",
       "      <td>75730</td>\n",
       "    </tr>\n",
       "    <tr>\n",
       "      <th>818</th>\n",
       "      <td>2020-12-05</td>\n",
       "      <td>2055</td>\n",
       "      <td>2019</td>\n",
       "      <td>497</td>\n",
       "      <td>47638</td>\n",
       "    </tr>\n",
       "    <tr>\n",
       "      <th>819</th>\n",
       "      <td>2020-12-06</td>\n",
       "      <td>2119</td>\n",
       "      <td>2077</td>\n",
       "      <td>460</td>\n",
       "      <td>46914</td>\n",
       "    </tr>\n",
       "    <tr>\n",
       "      <th>820</th>\n",
       "      <td>2020-12-07</td>\n",
       "      <td>2979</td>\n",
       "      <td>2988</td>\n",
       "      <td>753</td>\n",
       "      <td>77443</td>\n",
       "    </tr>\n",
       "    <tr>\n",
       "      <th>821</th>\n",
       "      <td>2020-12-08</td>\n",
       "      <td>3033</td>\n",
       "      <td>2990</td>\n",
       "      <td>772</td>\n",
       "      <td>68857</td>\n",
       "    </tr>\n",
       "  </tbody>\n",
       "</table>\n",
       "</div>"
      ],
      "text/plain": [
       "           date   사용자    세션  신규방문자   페이지뷰\n",
       "817  2020-12-04  3189  3068    743  75730\n",
       "818  2020-12-05  2055  2019    497  47638\n",
       "819  2020-12-06  2119  2077    460  46914\n",
       "820  2020-12-07  2979  2988    753  77443\n",
       "821  2020-12-08  3033  2990    772  68857"
      ]
     },
     "execution_count": 16,
     "metadata": {},
     "output_type": "execute_result"
    }
   ],
   "source": [
    "# train 데이터 일별로 summary \n",
    "train['DateTime'] =pd.to_datetime(train['DateTime'])\n",
    "train['date'] = train['DateTime'].dt.date\n",
    "\n",
    "train = train.groupby('date').sum().reset_index()\n",
    "train.tail()"
   ]
  },
  {
   "cell_type": "code",
   "execution_count": 25,
   "metadata": {},
   "outputs": [
    {
     "data": {
      "text/plain": [
       "Text(0.5, 0, '날짜')"
      ]
     },
     "execution_count": 25,
     "metadata": {},
     "output_type": "execute_result"
    },
    {
     "data": {
      "image/png": "[encoded data removed]",
      "text/plain": [
       "<Figure size 1080x576 with 1 Axes>"
      ]
     },
     "metadata": {
      "needs_background": "light"
     },
     "output_type": "display_data"
    }
   ],
   "source": [
    "plt.figure(figsize = (15, 8))\n",
    "plt.scatter(x = train['date'], y =train['사용자'])\n",
    "plt.ylabel('사용자')\n",
    "plt.xlabel('날짜')"
   ]
  },
  {
   "cell_type": "markdown",
   "metadata": {},
   "source": [
    "### Feature Extraction "
   ]
  },
  {
   "cell_type": "code",
   "execution_count": 34,
   "metadata": {},
   "outputs": [],
   "source": [
    "comp = info_comp.dropna(how = 'all')\n",
    "login = info_login.dropna(how = 'all')\n",
    "user = info_user.dropna(how = 'all')\n",
    "sub = info_sub.dropna(how ='all')"
   ]
  },
  {
   "cell_type": "code",
   "execution_count": 35,
   "metadata": {},
   "outputs": [
    {
     "name": "stdout",
     "output_type": "stream",
     "text": [
      "(52, 17) (164121, 6) (25011, 10) (113635, 6)\n",
      "(51, 17) (161408, 6) (24606, 10) (110272, 6)\n"
     ]
    }
   ],
   "source": [
    "print(info_comp.shape, info_login.shape, info_user.shape, info_sub.shape)\n",
    "print(comp.shape, login.shape, user.shape, sub.shape)"
   ]
  },
  {
   "cell_type": "code",
   "execution_count": 36,
   "metadata": {},
   "outputs": [],
   "source": [
    "comp['period_start'] = pd.to_datetime(comp['period_start'])\n",
    "comp['period_end'] = pd.to_datetime(comp['period_end'])\n",
    "comp['start_date'] = comp['period_start'].dt.date\n",
    "comp['end_date'] = comp['period_end'].dt.date"
   ]
  },
  {
   "cell_type": "code",
   "execution_count": 37,
   "metadata": {},
   "outputs": [],
   "source": [
    "start_comp_fe = comp.groupby('start_date').count().reset_index()[['start_date', 'cpt_id']]"
   ]
  },
  {
   "cell_type": "code",
   "execution_count": 40,
   "metadata": {},
   "outputs": [],
   "source": [
    "start_comp_fe.columns = ['date','start_comp_count']"
   ]
  },
  {
   "cell_type": "code",
   "execution_count": 41,
   "metadata": {},
   "outputs": [],
   "source": [
    "end_comp_fe = comp.groupby('end_date').count().reset_index()[['end_date','cpt_id']]\n",
    "end_comp_fe.columns = ['date','end_comp_count']"
   ]
  },
  {
   "cell_type": "code",
   "execution_count": 43,
   "metadata": {},
   "outputs": [
    {
     "data": {
      "text/html": [
       "<div>\n",
       "<style scoped>\n",
       "    .dataframe tbody tr th:only-of-type {\n",
       "        vertical-align: middle;\n",
       "    }\n",
       "\n",
       "    .dataframe tbody tr th {\n",
       "        vertical-align: top;\n",
       "    }\n",
       "\n",
       "    .dataframe thead th {\n",
       "        text-align: right;\n",
       "    }\n",
       "</style>\n",
       "<table border=\"1\" class=\"dataframe\">\n",
       "  <thead>\n",
       "    <tr style=\"text-align: right;\">\n",
       "      <th></th>\n",
       "      <th>Unnamed: 0</th>\n",
       "      <th>login_id</th>\n",
       "      <th>user_id</th>\n",
       "      <th>c_time</th>\n",
       "      <th>platform</th>\n",
       "      <th>browser</th>\n",
       "    </tr>\n",
       "  </thead>\n",
       "  <tbody>\n",
       "    <tr>\n",
       "      <th>0</th>\n",
       "      <td>0.0</td>\n",
       "      <td>14196.0</td>\n",
       "      <td>14446.0</td>\n",
       "      <td>2018-09-23 1:30</td>\n",
       "      <td>Windows 8</td>\n",
       "      <td>Internet Explorer 10.0</td>\n",
       "    </tr>\n",
       "    <tr>\n",
       "      <th>1</th>\n",
       "      <td>1.0</td>\n",
       "      <td>14234.0</td>\n",
       "      <td>7287.0</td>\n",
       "      <td>2018-09-23 2:46</td>\n",
       "      <td>Windows</td>\n",
       "      <td>Chrome 67.0.3396.99</td>\n",
       "    </tr>\n",
       "    <tr>\n",
       "      <th>2</th>\n",
       "      <td>2.0</td>\n",
       "      <td>14256.0</td>\n",
       "      <td>7356.0</td>\n",
       "      <td>2018-09-23 3:35</td>\n",
       "      <td>Windows</td>\n",
       "      <td>Chrome 69.0.3497.100</td>\n",
       "    </tr>\n",
       "  </tbody>\n",
       "</table>\n",
       "</div>"
      ],
      "text/plain": [
       "   Unnamed: 0  login_id  user_id           c_time   platform  \\\n",
       "0         0.0   14196.0  14446.0  2018-09-23 1:30  Windows 8   \n",
       "1         1.0   14234.0   7287.0  2018-09-23 2:46    Windows   \n",
       "2         2.0   14256.0   7356.0  2018-09-23 3:35    Windows   \n",
       "\n",
       "                  browser  \n",
       "0  Internet Explorer 10.0  \n",
       "1     Chrome 67.0.3396.99  \n",
       "2    Chrome 69.0.3497.100  "
      ]
     },
     "execution_count": 43,
     "metadata": {},
     "output_type": "execute_result"
    }
   ],
   "source": [
    "# login 데이터 일별로 summary \n",
    "login.head(3)"
   ]
  },
  {
   "cell_type": "code",
   "execution_count": null,
   "metadata": {},
   "outputs": [],
   "source": []
  }
 ],
 "metadata": {
  "kernelspec": {
   "display_name": "Python 3",
   "language": "python",
   "name": "python3"
  },
  "language_info": {
   "codemirror_mode": {
    "name": "ipython",
    "version": 3
   },
   "file_extension": ".py",
   "mimetype": "text/x-python",
   "name": "python",
   "nbconvert_exporter": "python",
   "pygments_lexer": "ipython3",
   "version": "3.8.3"
  }
 },
 "nbformat": 4,
 "nbformat_minor": 4
}
