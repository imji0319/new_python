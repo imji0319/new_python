{
 "cells": [
  {
   "cell_type": "markdown",
   "metadata": {},
   "source": [
    "# [북극 해빙 예측 AI](https://dacon.io/competitions/official/235706/overview/)\n",
    "\n",
    "## 1. Shared Code 따라하기"
   ]
  },
  {
   "cell_type": "code",
   "execution_count": 1,
   "metadata": {},
   "outputs": [],
   "source": [
    "import os, glob\n",
    "import numpy as np\n",
    "import pandas as pd\n",
    "import matplotlib.pyplot as plt"
   ]
  },
  {
   "cell_type": "code",
   "execution_count": 2,
   "metadata": {},
   "outputs": [],
   "source": [
    "def sorted_list(path):\n",
    "    tmplist = glob.glob(path)\n",
    "    tmplist.sort()\n",
    "    \n",
    "    return tmplist \n",
    "\n",
    "\n",
    "def read_csv(path):\n",
    "    df = pd.read_csv(path)\n",
    "    \n",
    "    return df \n",
    "\n",
    "\n",
    "def load_npy(path):\n",
    "    npy = np.load(path)\n",
    "    \n",
    "    return npy \n",
    "\n",
    "def show_data(npy):\n",
    "    \n",
    "    num_channel = npy.shape[-1]\n",
    "    plt.figure(figsize = ( 3*num_channel, 5 ))\n",
    "    \n",
    "    for channel in range(num_channel):\n",
    "        \n",
    "        tmping = npy[:,:,channel]\n",
    "        \n",
    "        plt.subplot(1, num_channel, channel + 1)\n",
    "        plt.imshow(tmping)\n",
    "        \n",
    "        \n",
    "    plt.tight_layout()\n",
    "    plt.show()\n",
    "    plt.close()"
   ]
  },
  {
   "cell_type": "code",
   "execution_count": null,
   "metadata": {},
   "outputs": [],
   "source": []
  }
 ],
 "metadata": {
  "kernelspec": {
   "display_name": "Python 3",
   "language": "python",
   "name": "python3"
  },
  "language_info": {
   "codemirror_mode": {
    "name": "ipython",
    "version": 3
   },
   "file_extension": ".py",
   "mimetype": "text/x-python",
   "name": "python",
   "nbconvert_exporter": "python",
   "pygments_lexer": "ipython3",
   "version": "3.8.3"
  }
 },
 "nbformat": 4,
 "nbformat_minor": 4
}
