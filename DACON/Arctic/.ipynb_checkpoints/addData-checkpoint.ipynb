{
 "cells": [
  {
   "cell_type": "markdown",
   "metadata": {},
   "source": [
    "# 북극 관련 추가 데이터 활용 \n",
    "\n",
    "< 참조 논문 > \n",
    "### Prediction of monthly Arctic sea ice concentrations using satellite and reanalysis data based on convolutional neural networks      \n",
    "[NISDC](https://nsidc.org/data/search/#keywords=CLIMATE/sortKeys=score,,desc/facetFilters=%257B%257D/pageNumber=1/itemsPerPage=25)\n",
    "\n",
    "1. [일일 해빙 농도 데이터](https://nsidc.org/data/G02135/versions/3)   \n",
    "The first dataset is the daily sea ice concentration observation dataset, obtained from the National Snow and Ice Data Center (NSIDC), which is derived from the Nimbus-7 Scanning Multichannel Microwave Radiometer (SMMR) and the Defense Meteorological Satellite Program (DMSP) Special Sensor Microwave Imager (SSM/I and SS- MIS).\n",
    "\n",
    "2. [일일 해수면 온도 데이터](https://psl.noaa.gov/data/gridded/tables/arctic.html)   \n",
    "The second dataset is the daily sea surface temperature dataset, obtained from National Oceanic and Atmospheric Administration (NOAA) Optimal Interpolation Sea Surface Temperature (OISST) version 2, which is con- structed from Advanced Very High Resolution Radiometer (AVHRR) observation data with 0.25◦ resolution from 1988 to 2017. \n",
    "\n",
    "3. [유럽 중거리 일기 예보 센터](https://www.ecmwf.int/en/forecasts/datasets/browse-reanalysis-datasets)     \n",
    "The third dataset is the monthly European Centre for Medium-Range Weather Forecasts (ECMWF) reanalysis (ERA-Interim) dataset, which is used in order to construct predictors for 1-month SIC prediction, including the surface air temperature, albedo, and v-wind vector with 0.125◦ resolution.\n",
    "\n",
    "\n",
    "\n",
    "* 해수면 Dataset \n",
    "https://climatedataguide.ucar.edu/climate-data?page=3"
   ]
  },
  {
   "cell_type": "code",
   "execution_count": null,
   "metadata": {},
   "outputs": [],
   "source": []
  }
 ],
 "metadata": {
  "kernelspec": {
   "display_name": "Python 3",
   "language": "python",
   "name": "python3"
  },
  "language_info": {
   "codemirror_mode": {
    "name": "ipython",
    "version": 3
   },
   "file_extension": ".py",
   "mimetype": "text/x-python",
   "name": "python",
   "nbconvert_exporter": "python",
   "pygments_lexer": "ipython3",
   "version": "3.8.3"
  }
 },
 "nbformat": 4,
 "nbformat_minor": 4
}
