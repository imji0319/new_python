{
 "cells": [
  {
   "cell_type": "code",
   "execution_count": 53,
   "metadata": {},
   "outputs": [],
   "source": [
    "import numpy as np\n",
    "import pandas as pd \n",
    "import matplotlib.pyplot as plt \n",
    "import warnings\n",
    "\n",
    "import tensorflow as tf\n",
    "import keras\n",
    "from keras.layers import Input, Conv2D, Flatten, Dense, Conv2DTranspose,Reshape\n",
    "from keras.layers import Activation, LeakyReLU, Dropout, BatchNormalization, MaxPooling2D\n",
    "from keras.models import Model\n",
    "from keras import backend as K \n",
    "from keras.optimizers import Adam\n",
    "\n",
    "from sklearn.metrics import mean_squared_error as mse "
   ]
  },
  {
   "cell_type": "code",
   "execution_count": 2,
   "metadata": {},
   "outputs": [],
   "source": [
    "data = np.load('data/total_data.npy')"
   ]
  },
  {
   "cell_type": "code",
   "execution_count": 3,
   "metadata": {},
   "outputs": [
    {
     "data": {
      "text/plain": [
       "(482, 448, 304, 5)"
      ]
     },
     "execution_count": 3,
     "metadata": {},
     "output_type": "execute_result"
    }
   ],
   "source": [
    "data.shape"
   ]
  },
  {
   "cell_type": "code",
   "execution_count": 17,
   "metadata": {},
   "outputs": [],
   "source": [
    "ice_con = data[...,0]\n",
    "ice_con = ice_con.reshape(len(ice_con), 448, 304, 1)"
   ]
  },
  {
   "cell_type": "code",
   "execution_count": 18,
   "metadata": {},
   "outputs": [
    {
     "name": "stdout",
     "output_type": "stream",
     "text": [
      "(434, 448, 304, 1) (48, 448, 304, 1)\n"
     ]
    }
   ],
   "source": [
    "train = ice_con[:-48]\n",
    "test = ice_con[-48:]\n",
    "print(train.shape, test.shape)"
   ]
  },
  {
   "cell_type": "code",
   "execution_count": 19,
   "metadata": {},
   "outputs": [
    {
     "name": "stdout",
     "output_type": "stream",
     "text": [
      "(326, 448, 304, 1) (108, 448, 304, 1)\n"
     ]
    }
   ],
   "source": [
    "split_len = int(len(train)*0.25 )\n",
    "\n",
    "val = train[-split_len:]\n",
    "train = train[:-split_len]\n",
    "\n",
    "print(train.shape, val.shape)"
   ]
  },
  {
   "cell_type": "markdown",
   "metadata": {},
   "source": [
    "# 데이터셋 구성 \n",
    "2년(24개월) 의 해빙농도를 통해 향후 24개월의 해빙농도를 예측하기 위한 데이터셋 구성.         \n",
    "window_size = 24(개월)  \n",
    "target_days = 24(개월)   \n",
    "\n",
    "\n",
    "참고자료 : https://teddylee777.github.io/tensorflow/dataset-batch-window"
   ]
  },
  {
   "cell_type": "code",
   "execution_count": 44,
   "metadata": {},
   "outputs": [],
   "source": [
    "# 데이터셋 구성\n",
    "# 2년(24개월 데이터) -> 향후 2년(24개월) 예측 \n",
    "\n",
    "window_size = 24\n",
    "target_days = 24"
   ]
  },
  {
   "cell_type": "code",
   "execution_count": 45,
   "metadata": {},
   "outputs": [],
   "source": [
    "train_ds = tf.data.Dataset.from_tensor_slices(train\n",
    "                                       ).window(window_size+target_days, shift = 1, drop_remainder = True\n",
    "                                       ).flat_map(lambda w : w.batch(window_size + target_days)\n",
    "                                       ).shuffle(1000\n",
    "                                       ).map(lambda x : (x[:-target_days],x[-target_days:])\n",
    "                                       ).batch(10)"
   ]
  },
  {
   "cell_type": "code",
   "execution_count": 46,
   "metadata": {},
   "outputs": [
    {
     "name": "stdout",
     "output_type": "stream",
     "text": [
      "(10, 24, 448, 304, 1)\n",
      "(10, 24, 448, 304, 1)\n"
     ]
    }
   ],
   "source": [
    "for x, y in train_ds.take(1):\n",
    "    print(x.shape)\n",
    "    print(y.shape)"
   ]
  },
  {
   "cell_type": "code",
   "execution_count": 50,
   "metadata": {},
   "outputs": [],
   "source": [
    "val_ds = tf.data.Dataset.from_tensor_slices(val\n",
    "                                       ).window(window_size+target_days, shift = 1, drop_remainder = True\n",
    "                                       ).flat_map(lambda w : w.batch(window_size + target_days)\n",
    "                                       ).shuffle(1000\n",
    "                                       ).map(lambda x : (x[:-target_days],x[-target_days:])\n",
    "                                       ).batch(10)"
   ]
  },
  {
   "cell_type": "code",
   "execution_count": 51,
   "metadata": {},
   "outputs": [
    {
     "name": "stdout",
     "output_type": "stream",
     "text": [
      "(10, 24, 448, 304, 1)\n",
      "(10, 24, 448, 304, 1)\n"
     ]
    }
   ],
   "source": [
    "for x, y in val_ds.take(1):\n",
    "    print(x.shape)\n",
    "    print(y.shape)"
   ]
  },
  {
   "cell_type": "code",
   "execution_count": 48,
   "metadata": {},
   "outputs": [],
   "source": [
    "test_ds = tf.data.Dataset.from_tensor_slices(test\n",
    "                                       ).window(window_size+target_days, shift = 1, drop_remainder = True\n",
    "                                       ).flat_map(lambda w : w.batch(window_size + target_days)\n",
    "                                       ).shuffle(1000\n",
    "                                       ).map(lambda x : (x[:-target_days],x[-target_days:]))"
   ]
  },
  {
   "cell_type": "code",
   "execution_count": 49,
   "metadata": {},
   "outputs": [
    {
     "name": "stdout",
     "output_type": "stream",
     "text": [
      "(1, 24, 448, 304, 1)\n",
      "(1, 24, 448, 304, 1)\n"
     ]
    }
   ],
   "source": [
    "for x, y in test_ds.take(1):\n",
    "    print(x.shape)\n",
    "    print(y.shape)"
   ]
  }
 ],
 "metadata": {
  "kernelspec": {
   "display_name": "Python 3",
   "language": "python",
   "name": "python3"
  },
  "language_info": {
   "codemirror_mode": {
    "name": "ipython",
    "version": 3
   },
   "file_extension": ".py",
   "mimetype": "text/x-python",
   "name": "python",
   "nbconvert_exporter": "python",
   "pygments_lexer": "ipython3",
   "version": "3.8.3"
  }
 },
 "nbformat": 4,
 "nbformat_minor": 4
}
