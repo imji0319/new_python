{
 "cells": [
  {
   "cell_type": "markdown",
   "metadata": {},
   "source": [
    "# 범주형 데이터 처리 \n",
    "\n",
    "base 모델에서 모든 Object 변수를 동일하게 더미변수화하여 처리하였으나, 교육 수준의 경우 단계별 순위가 있다는 것을 알 수 있음. \n",
    "- 가설 1. 교육 수준이 높으면 연간소득이 높다. \n",
    "- 가설 2. 교육 수준에 따라 신용도의 차이가 있다. \n",
    "- 가설 3. 연간 소득에 따라 신용도의 차이가 있다. "
   ]
  },
  {
   "cell_type": "code",
   "execution_count": null,
   "metadata": {},
   "outputs": [],
   "source": []
  }
 ],
 "metadata": {
  "kernelspec": {
   "display_name": "Python 3",
   "language": "python",
   "name": "python3"
  },
  "language_info": {
   "codemirror_mode": {
    "name": "ipython",
    "version": 3
   },
   "file_extension": ".py",
   "mimetype": "text/x-python",
   "name": "python",
   "nbconvert_exporter": "python",
   "pygments_lexer": "ipython3",
   "version": "3.8.3"
  }
 },
 "nbformat": 4,
 "nbformat_minor": 4
}
