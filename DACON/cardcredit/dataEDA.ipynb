{
 "cells": [
  {
   "cell_type": "markdown",
   "metadata": {},
   "source": [
    "# 신용카드 사용자 연체 예측 AI 경진대회 데이터 EDA "
   ]
  },
  {
   "cell_type": "code",
   "execution_count": 228,
   "metadata": {},
   "outputs": [],
   "source": [
    "import pandas as pd \n",
    "import numpy as np\n",
    "import matplotlib.pyplot as plt \n",
    "import seaborn as sns\n",
    "\n",
    "from matplotlib import rc \n",
    "rc('font', family = 'NanumMyeongjo')\n",
    "plt.rcParams['axes.unicode_minus'] = False"
   ]
  },
  {
   "cell_type": "code",
   "execution_count": 7,
   "metadata": {},
   "outputs": [],
   "source": [
    "train = pd.read_csv('card_dataset/train.csv', index_col = 0)"
   ]
  },
  {
   "cell_type": "code",
   "execution_count": 8,
   "metadata": {},
   "outputs": [
    {
     "data": {
      "text/html": [
       "<div>\n",
       "<style scoped>\n",
       "    .dataframe tbody tr th:only-of-type {\n",
       "        vertical-align: middle;\n",
       "    }\n",
       "\n",
       "    .dataframe tbody tr th {\n",
       "        vertical-align: top;\n",
       "    }\n",
       "\n",
       "    .dataframe thead th {\n",
       "        text-align: right;\n",
       "    }\n",
       "</style>\n",
       "<table border=\"1\" class=\"dataframe\">\n",
       "  <thead>\n",
       "    <tr style=\"text-align: right;\">\n",
       "      <th></th>\n",
       "      <th>gender</th>\n",
       "      <th>car</th>\n",
       "      <th>reality</th>\n",
       "      <th>child_num</th>\n",
       "      <th>income_total</th>\n",
       "      <th>income_type</th>\n",
       "      <th>edu_type</th>\n",
       "      <th>family_type</th>\n",
       "      <th>house_type</th>\n",
       "      <th>DAYS_BIRTH</th>\n",
       "      <th>DAYS_EMPLOYED</th>\n",
       "      <th>FLAG_MOBIL</th>\n",
       "      <th>work_phone</th>\n",
       "      <th>phone</th>\n",
       "      <th>email</th>\n",
       "      <th>occyp_type</th>\n",
       "      <th>family_size</th>\n",
       "      <th>begin_month</th>\n",
       "      <th>credit</th>\n",
       "    </tr>\n",
       "    <tr>\n",
       "      <th>index</th>\n",
       "      <th></th>\n",
       "      <th></th>\n",
       "      <th></th>\n",
       "      <th></th>\n",
       "      <th></th>\n",
       "      <th></th>\n",
       "      <th></th>\n",
       "      <th></th>\n",
       "      <th></th>\n",
       "      <th></th>\n",
       "      <th></th>\n",
       "      <th></th>\n",
       "      <th></th>\n",
       "      <th></th>\n",
       "      <th></th>\n",
       "      <th></th>\n",
       "      <th></th>\n",
       "      <th></th>\n",
       "      <th></th>\n",
       "    </tr>\n",
       "  </thead>\n",
       "  <tbody>\n",
       "    <tr>\n",
       "      <th>0</th>\n",
       "      <td>F</td>\n",
       "      <td>N</td>\n",
       "      <td>N</td>\n",
       "      <td>0</td>\n",
       "      <td>202500.0</td>\n",
       "      <td>Commercial associate</td>\n",
       "      <td>Higher education</td>\n",
       "      <td>Married</td>\n",
       "      <td>Municipal apartment</td>\n",
       "      <td>-13899</td>\n",
       "      <td>-4709</td>\n",
       "      <td>1</td>\n",
       "      <td>0</td>\n",
       "      <td>0</td>\n",
       "      <td>0</td>\n",
       "      <td>NaN</td>\n",
       "      <td>2.0</td>\n",
       "      <td>-6.0</td>\n",
       "      <td>1.0</td>\n",
       "    </tr>\n",
       "    <tr>\n",
       "      <th>1</th>\n",
       "      <td>F</td>\n",
       "      <td>N</td>\n",
       "      <td>Y</td>\n",
       "      <td>1</td>\n",
       "      <td>247500.0</td>\n",
       "      <td>Commercial associate</td>\n",
       "      <td>Secondary / secondary special</td>\n",
       "      <td>Civil marriage</td>\n",
       "      <td>House / apartment</td>\n",
       "      <td>-11380</td>\n",
       "      <td>-1540</td>\n",
       "      <td>1</td>\n",
       "      <td>0</td>\n",
       "      <td>0</td>\n",
       "      <td>1</td>\n",
       "      <td>Laborers</td>\n",
       "      <td>3.0</td>\n",
       "      <td>-5.0</td>\n",
       "      <td>1.0</td>\n",
       "    </tr>\n",
       "    <tr>\n",
       "      <th>2</th>\n",
       "      <td>M</td>\n",
       "      <td>Y</td>\n",
       "      <td>Y</td>\n",
       "      <td>0</td>\n",
       "      <td>450000.0</td>\n",
       "      <td>Working</td>\n",
       "      <td>Higher education</td>\n",
       "      <td>Married</td>\n",
       "      <td>House / apartment</td>\n",
       "      <td>-19087</td>\n",
       "      <td>-4434</td>\n",
       "      <td>1</td>\n",
       "      <td>0</td>\n",
       "      <td>1</td>\n",
       "      <td>0</td>\n",
       "      <td>Managers</td>\n",
       "      <td>2.0</td>\n",
       "      <td>-22.0</td>\n",
       "      <td>2.0</td>\n",
       "    </tr>\n",
       "    <tr>\n",
       "      <th>3</th>\n",
       "      <td>F</td>\n",
       "      <td>N</td>\n",
       "      <td>Y</td>\n",
       "      <td>0</td>\n",
       "      <td>202500.0</td>\n",
       "      <td>Commercial associate</td>\n",
       "      <td>Secondary / secondary special</td>\n",
       "      <td>Married</td>\n",
       "      <td>House / apartment</td>\n",
       "      <td>-15088</td>\n",
       "      <td>-2092</td>\n",
       "      <td>1</td>\n",
       "      <td>0</td>\n",
       "      <td>1</td>\n",
       "      <td>0</td>\n",
       "      <td>Sales staff</td>\n",
       "      <td>2.0</td>\n",
       "      <td>-37.0</td>\n",
       "      <td>0.0</td>\n",
       "    </tr>\n",
       "    <tr>\n",
       "      <th>4</th>\n",
       "      <td>F</td>\n",
       "      <td>Y</td>\n",
       "      <td>Y</td>\n",
       "      <td>0</td>\n",
       "      <td>157500.0</td>\n",
       "      <td>State servant</td>\n",
       "      <td>Higher education</td>\n",
       "      <td>Married</td>\n",
       "      <td>House / apartment</td>\n",
       "      <td>-15037</td>\n",
       "      <td>-2105</td>\n",
       "      <td>1</td>\n",
       "      <td>0</td>\n",
       "      <td>0</td>\n",
       "      <td>0</td>\n",
       "      <td>Managers</td>\n",
       "      <td>2.0</td>\n",
       "      <td>-26.0</td>\n",
       "      <td>2.0</td>\n",
       "    </tr>\n",
       "  </tbody>\n",
       "</table>\n",
       "</div>"
      ],
      "text/plain": [
       "      gender car reality  child_num  income_total           income_type  \\\n",
       "index                                                                     \n",
       "0          F   N       N          0      202500.0  Commercial associate   \n",
       "1          F   N       Y          1      247500.0  Commercial associate   \n",
       "2          M   Y       Y          0      450000.0               Working   \n",
       "3          F   N       Y          0      202500.0  Commercial associate   \n",
       "4          F   Y       Y          0      157500.0         State servant   \n",
       "\n",
       "                            edu_type     family_type           house_type  \\\n",
       "index                                                                       \n",
       "0                   Higher education         Married  Municipal apartment   \n",
       "1      Secondary / secondary special  Civil marriage    House / apartment   \n",
       "2                   Higher education         Married    House / apartment   \n",
       "3      Secondary / secondary special         Married    House / apartment   \n",
       "4                   Higher education         Married    House / apartment   \n",
       "\n",
       "       DAYS_BIRTH  DAYS_EMPLOYED  FLAG_MOBIL  work_phone  phone  email  \\\n",
       "index                                                                    \n",
       "0          -13899          -4709           1           0      0      0   \n",
       "1          -11380          -1540           1           0      0      1   \n",
       "2          -19087          -4434           1           0      1      0   \n",
       "3          -15088          -2092           1           0      1      0   \n",
       "4          -15037          -2105           1           0      0      0   \n",
       "\n",
       "        occyp_type  family_size  begin_month  credit  \n",
       "index                                                 \n",
       "0              NaN          2.0         -6.0     1.0  \n",
       "1         Laborers          3.0         -5.0     1.0  \n",
       "2         Managers          2.0        -22.0     2.0  \n",
       "3      Sales staff          2.0        -37.0     0.0  \n",
       "4         Managers          2.0        -26.0     2.0  "
      ]
     },
     "execution_count": 8,
     "metadata": {},
     "output_type": "execute_result"
    }
   ],
   "source": [
    "train.head()"
   ]
  },
  {
   "cell_type": "markdown",
   "metadata": {},
   "source": [
    "## 데이터 변수 설명 \n",
    "### 'credit' 변수가 가지는 값으로 분류하는 것. \n",
    "\n",
    "- gender : 성별 \n",
    "- car : 차량 소유여부 \n",
    "- reality : 부동산 소유여부 \n",
    "- child_num : 자녀 수 \n",
    "- income_total : 연간소득\n",
    "- income_type : 소득 분류 (5)   \n",
    "['Commercial associate', 'Working', 'State sevant', 'Pensioner', 'Student']\n",
    "- edu_type : 교육 수준 (5)   \n",
    "['Higher education', 'Secondary/secondary special', 'Incomplete higher', 'Lower secondary', 'Academic degree']\n",
    "- family_type : 결혼 여부 (5)   \n",
    "['Married', 'Civil marriage', 'Separated', 'Single/not married', 'Widow']\n",
    "- house_type : 생활 방식 (6)  \n",
    "['Municipal apartment','House/apartment','With parents','Co-op apartment','Rented apartment','Office apartment']  \n",
    "- DAYS_BIRTH : 출생일 \n",
    "    * 데이터 수집 당시를 0으로 역으로 셈. 즉 -1은 데이터 수집일 하루 전에 태어났음을 의미 \n",
    "- DAYS_EMPLOYED : 업무 시작일 \n",
    "    * 데이터 수집 당시를 0으로 역으로 셈. 즉 -1은 데이터 수집일 하루 전부터 일을 시작함을 의미. \n",
    "    * 양수 값은 고용되지 않은 상태를 의미 \n",
    "- FLAG_MOBIL : 핸드폰 소유 여부 \n",
    "- work_phone : 업무용 전화 소유 여부 \n",
    "- phone : 가정용 전화 소유 여부 \n",
    "- email : 이메일 소유 여부 \n",
    "- occyp_type : 직업 유형 \n",
    "- family_size : 가족 구죠 \n",
    "- begin_month : 신용카드 발급 월 \n",
    "    * 데이터 수집 당시를 0으로 역으로 셈. 즉 -1은 데이터 수집일 한달 전에 신용카드를 발급함.  \n",
    "- credit : 사용자의 신용카드 대금 연체를 기준으로 한 신용도 \n",
    "    * 낮을 수록 높은 신용카드 사용자 의미 "
   ]
  },
  {
   "cell_type": "code",
   "execution_count": 14,
   "metadata": {},
   "outputs": [
    {
     "name": "stdout",
     "output_type": "stream",
     "text": [
      "<class 'pandas.core.frame.DataFrame'>\n",
      "Int64Index: 26457 entries, 0 to 26456\n",
      "Data columns (total 19 columns):\n",
      " #   Column         Non-Null Count  Dtype  \n",
      "---  ------         --------------  -----  \n",
      " 0   gender         26457 non-null  object \n",
      " 1   car            26457 non-null  object \n",
      " 2   reality        26457 non-null  object \n",
      " 3   child_num      26457 non-null  int64  \n",
      " 4   income_total   26457 non-null  float64\n",
      " 5   income_type    26457 non-null  object \n",
      " 6   edu_type       26457 non-null  object \n",
      " 7   family_type    26457 non-null  object \n",
      " 8   house_type     26457 non-null  object \n",
      " 9   DAYS_BIRTH     26457 non-null  int64  \n",
      " 10  DAYS_EMPLOYED  26457 non-null  int64  \n",
      " 11  FLAG_MOBIL     26457 non-null  int64  \n",
      " 12  work_phone     26457 non-null  int64  \n",
      " 13  phone          26457 non-null  int64  \n",
      " 14  email          26457 non-null  int64  \n",
      " 15  occyp_type     18286 non-null  object \n",
      " 16  family_size    26457 non-null  float64\n",
      " 17  begin_month    26457 non-null  float64\n",
      " 18  credit         26457 non-null  float64\n",
      "dtypes: float64(4), int64(7), object(8)\n",
      "memory usage: 4.0+ MB\n"
     ]
    }
   ],
   "source": [
    "train.info()"
   ]
  },
  {
   "cell_type": "code",
   "execution_count": 26,
   "metadata": {},
   "outputs": [
    {
     "data": {
      "text/plain": [
       "0    20511\n",
       "1     5946\n",
       "Name: work_phone, dtype: int64"
      ]
     },
     "execution_count": 26,
     "metadata": {},
     "output_type": "execute_result"
    }
   ],
   "source": [
    "train['work_phone'].value_counts()"
   ]
  },
  {
   "cell_type": "code",
   "execution_count": 27,
   "metadata": {},
   "outputs": [
    {
     "data": {
      "text/plain": [
       "0    18672\n",
       "1     7785\n",
       "Name: phone, dtype: int64"
      ]
     },
     "execution_count": 27,
     "metadata": {},
     "output_type": "execute_result"
    }
   ],
   "source": [
    "train['phone'].value_counts()"
   ]
  },
  {
   "cell_type": "code",
   "execution_count": 29,
   "metadata": {},
   "outputs": [
    {
     "data": {
      "text/plain": [
       "0    24042\n",
       "1     2415\n",
       "Name: email, dtype: int64"
      ]
     },
     "execution_count": 29,
     "metadata": {},
     "output_type": "execute_result"
    }
   ],
   "source": [
    "train['email'].value_counts()"
   ]
  },
  {
   "cell_type": "code",
   "execution_count": 30,
   "metadata": {},
   "outputs": [
    {
     "data": {
      "text/plain": [
       "2.0    16968\n",
       "1.0     6267\n",
       "0.0     3222\n",
       "Name: credit, dtype: int64"
      ]
     },
     "execution_count": 30,
     "metadata": {},
     "output_type": "execute_result"
    }
   ],
   "source": [
    "train['credit'].value_counts()"
   ]
  },
  {
   "cell_type": "code",
   "execution_count": 193,
   "metadata": {},
   "outputs": [],
   "source": [
    "train[['work_phone','phone','email','credit','FLAG_MOBIL']] = train[['work_phone','phone','email','credit','FLAG_MOBIL']].astype('object')"
   ]
  },
  {
   "cell_type": "code",
   "execution_count": 221,
   "metadata": {},
   "outputs": [
    {
     "data": {
      "text/plain": [
       "1    26457\n",
       "Name: FLAG_MOBIL, dtype: int64"
      ]
     },
     "execution_count": 221,
     "metadata": {},
     "output_type": "execute_result"
    }
   ],
   "source": [
    "train['FLAG_MOBIL'].value_counts()"
   ]
  },
  {
   "cell_type": "code",
   "execution_count": 194,
   "metadata": {},
   "outputs": [
    {
     "name": "stdout",
     "output_type": "stream",
     "text": [
      "<class 'pandas.core.frame.DataFrame'>\n",
      "Int64Index: 26457 entries, 0 to 26456\n",
      "Data columns (total 19 columns):\n",
      " #   Column         Non-Null Count  Dtype  \n",
      "---  ------         --------------  -----  \n",
      " 0   gender         26457 non-null  object \n",
      " 1   car            26457 non-null  object \n",
      " 2   reality        26457 non-null  object \n",
      " 3   child_num      26457 non-null  int64  \n",
      " 4   income_total   26457 non-null  float64\n",
      " 5   income_type    26457 non-null  object \n",
      " 6   edu_type       26457 non-null  object \n",
      " 7   family_type    26457 non-null  object \n",
      " 8   house_type     26457 non-null  object \n",
      " 9   DAYS_BIRTH     26457 non-null  int64  \n",
      " 10  DAYS_EMPLOYED  26457 non-null  int64  \n",
      " 11  FLAG_MOBIL     26457 non-null  object \n",
      " 12  work_phone     26457 non-null  object \n",
      " 13  phone          26457 non-null  object \n",
      " 14  email          26457 non-null  object \n",
      " 15  occyp_type     18286 non-null  object \n",
      " 16  family_size    26457 non-null  float64\n",
      " 17  begin_month    26457 non-null  float64\n",
      " 18  credit         26457 non-null  object \n",
      "dtypes: float64(3), int64(3), object(13)\n",
      "memory usage: 4.0+ MB\n"
     ]
    }
   ],
   "source": [
    "train.info()"
   ]
  },
  {
   "cell_type": "code",
   "execution_count": 195,
   "metadata": {},
   "outputs": [
    {
     "data": {
      "text/plain": [
       "gender              0\n",
       "car                 0\n",
       "reality             0\n",
       "child_num           0\n",
       "income_total        0\n",
       "income_type         0\n",
       "edu_type            0\n",
       "family_type         0\n",
       "house_type          0\n",
       "DAYS_BIRTH          0\n",
       "DAYS_EMPLOYED       0\n",
       "FLAG_MOBIL          0\n",
       "work_phone          0\n",
       "phone               0\n",
       "email               0\n",
       "occyp_type       8171\n",
       "family_size         0\n",
       "begin_month         0\n",
       "credit              0\n",
       "dtype: int64"
      ]
     },
     "execution_count": 195,
     "metadata": {},
     "output_type": "execute_result"
    }
   ],
   "source": [
    "train.isnull().sum()"
   ]
  },
  {
   "cell_type": "code",
   "execution_count": 196,
   "metadata": {},
   "outputs": [
    {
     "data": {
      "text/plain": [
       "Laborers                 4512\n",
       "Core staff               2646\n",
       "Sales staff              2539\n",
       "Managers                 2167\n",
       "Drivers                  1575\n",
       "High skill tech staff    1040\n",
       "Accountants               902\n",
       "Medicine staff            864\n",
       "Cooking staff             457\n",
       "Security staff            424\n",
       "Cleaning staff            403\n",
       "Private service staff     243\n",
       "Low-skill Laborers        127\n",
       "Waiters/barmen staff      124\n",
       "Secretaries                97\n",
       "Realty agents              63\n",
       "HR staff                   62\n",
       "IT staff                   41\n",
       "Name: occyp_type, dtype: int64"
      ]
     },
     "execution_count": 196,
     "metadata": {},
     "output_type": "execute_result"
    }
   ],
   "source": [
    "train['occyp_type'].value_counts()"
   ]
  },
  {
   "cell_type": "markdown",
   "metadata": {},
   "source": [
    "## 결측값이 존재하는 직업 유형(occyp_type) 확인 및 처리 \n",
    "1. income_type에 따라 구분 가능 \n",
    "    * 'Pensioner' 즉 연금으로 되어 있는 개수가 4440으로 반 이상을 차지. 연금이라는 것은 이미 은퇴한 사람일 가능성이 높음. ('Retired')  \n",
    "    * 'State servant'는 공무원으로 새로운 직업 타입 추가 ('State servant') \n",
    "    * 'working'으로 되어 있으나 occyp_type이 결측값이 경우 occyp_type에 지정된 직업 이외의 직업을 가졌을 가능성이 있음.  \n",
    "    * 'working'과 'Commercial associate', 'Student'에 대해 그 외 값으로 지정 ('extra staff') \n",
    "\n",
    "2. Pensioner 이지만 DAYS_EMPLOYED가 0 이하인 값과 직업 유형이 있는 경우가 있음. \n",
    "    * 이상값으로 데이터처리가 불가피함. \n",
    "  \n",
    "\n",
    "#### -> income_type = 'Pensioner' 인 경우 전부 occyp_type ='Retired'로 변경 \n",
    "#### -> occyp_type = NaN & income_type = 'State servant'인 경우 occyp_type ='State servant' 로 변경\n",
    "#### -> occyp_type = NaN & income_type  in ('working', 'Commerical associate', 'Student) 일 경우 occyp_type ='Extra staff'로 변경 \n"
   ]
  },
  {
   "cell_type": "code",
   "execution_count": 197,
   "metadata": {},
   "outputs": [],
   "source": [
    "NaN_occ = train[train['occyp_type'].isnull()]"
   ]
  },
  {
   "cell_type": "code",
   "execution_count": 198,
   "metadata": {},
   "outputs": [
    {
     "data": {
      "text/html": [
       "<div>\n",
       "<style scoped>\n",
       "    .dataframe tbody tr th:only-of-type {\n",
       "        vertical-align: middle;\n",
       "    }\n",
       "\n",
       "    .dataframe tbody tr th {\n",
       "        vertical-align: top;\n",
       "    }\n",
       "\n",
       "    .dataframe thead th {\n",
       "        text-align: right;\n",
       "    }\n",
       "</style>\n",
       "<table border=\"1\" class=\"dataframe\">\n",
       "  <thead>\n",
       "    <tr style=\"text-align: right;\">\n",
       "      <th></th>\n",
       "      <th>gender</th>\n",
       "      <th>car</th>\n",
       "      <th>reality</th>\n",
       "      <th>child_num</th>\n",
       "      <th>income_total</th>\n",
       "      <th>income_type</th>\n",
       "      <th>edu_type</th>\n",
       "      <th>family_type</th>\n",
       "      <th>house_type</th>\n",
       "      <th>DAYS_BIRTH</th>\n",
       "      <th>DAYS_EMPLOYED</th>\n",
       "      <th>FLAG_MOBIL</th>\n",
       "      <th>work_phone</th>\n",
       "      <th>phone</th>\n",
       "      <th>email</th>\n",
       "      <th>occyp_type</th>\n",
       "      <th>family_size</th>\n",
       "      <th>begin_month</th>\n",
       "      <th>credit</th>\n",
       "    </tr>\n",
       "    <tr>\n",
       "      <th>index</th>\n",
       "      <th></th>\n",
       "      <th></th>\n",
       "      <th></th>\n",
       "      <th></th>\n",
       "      <th></th>\n",
       "      <th></th>\n",
       "      <th></th>\n",
       "      <th></th>\n",
       "      <th></th>\n",
       "      <th></th>\n",
       "      <th></th>\n",
       "      <th></th>\n",
       "      <th></th>\n",
       "      <th></th>\n",
       "      <th></th>\n",
       "      <th></th>\n",
       "      <th></th>\n",
       "      <th></th>\n",
       "      <th></th>\n",
       "    </tr>\n",
       "  </thead>\n",
       "  <tbody>\n",
       "    <tr>\n",
       "      <th>26439</th>\n",
       "      <td>F</td>\n",
       "      <td>N</td>\n",
       "      <td>Y</td>\n",
       "      <td>0</td>\n",
       "      <td>67500.0</td>\n",
       "      <td>Pensioner</td>\n",
       "      <td>Secondary / secondary special</td>\n",
       "      <td>Married</td>\n",
       "      <td>House / apartment</td>\n",
       "      <td>-19238</td>\n",
       "      <td>365243</td>\n",
       "      <td>1</td>\n",
       "      <td>0</td>\n",
       "      <td>0</td>\n",
       "      <td>0</td>\n",
       "      <td>NaN</td>\n",
       "      <td>2.0</td>\n",
       "      <td>-57.0</td>\n",
       "      <td>2</td>\n",
       "    </tr>\n",
       "    <tr>\n",
       "      <th>26441</th>\n",
       "      <td>F</td>\n",
       "      <td>N</td>\n",
       "      <td>Y</td>\n",
       "      <td>0</td>\n",
       "      <td>90000.0</td>\n",
       "      <td>Pensioner</td>\n",
       "      <td>Incomplete higher</td>\n",
       "      <td>Separated</td>\n",
       "      <td>House / apartment</td>\n",
       "      <td>-24129</td>\n",
       "      <td>365243</td>\n",
       "      <td>1</td>\n",
       "      <td>0</td>\n",
       "      <td>0</td>\n",
       "      <td>0</td>\n",
       "      <td>NaN</td>\n",
       "      <td>1.0</td>\n",
       "      <td>-43.0</td>\n",
       "      <td>2</td>\n",
       "    </tr>\n",
       "    <tr>\n",
       "      <th>26443</th>\n",
       "      <td>F</td>\n",
       "      <td>N</td>\n",
       "      <td>Y</td>\n",
       "      <td>0</td>\n",
       "      <td>90000.0</td>\n",
       "      <td>Pensioner</td>\n",
       "      <td>Secondary / secondary special</td>\n",
       "      <td>Single / not married</td>\n",
       "      <td>House / apartment</td>\n",
       "      <td>-22286</td>\n",
       "      <td>365243</td>\n",
       "      <td>1</td>\n",
       "      <td>0</td>\n",
       "      <td>0</td>\n",
       "      <td>0</td>\n",
       "      <td>NaN</td>\n",
       "      <td>1.0</td>\n",
       "      <td>-21.0</td>\n",
       "      <td>1</td>\n",
       "    </tr>\n",
       "    <tr>\n",
       "      <th>26449</th>\n",
       "      <td>F</td>\n",
       "      <td>N</td>\n",
       "      <td>N</td>\n",
       "      <td>0</td>\n",
       "      <td>90000.0</td>\n",
       "      <td>Working</td>\n",
       "      <td>Secondary / secondary special</td>\n",
       "      <td>Married</td>\n",
       "      <td>House / apartment</td>\n",
       "      <td>-10498</td>\n",
       "      <td>-2418</td>\n",
       "      <td>1</td>\n",
       "      <td>1</td>\n",
       "      <td>1</td>\n",
       "      <td>0</td>\n",
       "      <td>NaN</td>\n",
       "      <td>2.0</td>\n",
       "      <td>-2.0</td>\n",
       "      <td>1</td>\n",
       "    </tr>\n",
       "    <tr>\n",
       "      <th>26453</th>\n",
       "      <td>F</td>\n",
       "      <td>N</td>\n",
       "      <td>Y</td>\n",
       "      <td>1</td>\n",
       "      <td>180000.0</td>\n",
       "      <td>Working</td>\n",
       "      <td>Higher education</td>\n",
       "      <td>Separated</td>\n",
       "      <td>House / apartment</td>\n",
       "      <td>-15291</td>\n",
       "      <td>-2475</td>\n",
       "      <td>1</td>\n",
       "      <td>0</td>\n",
       "      <td>0</td>\n",
       "      <td>0</td>\n",
       "      <td>NaN</td>\n",
       "      <td>2.0</td>\n",
       "      <td>-47.0</td>\n",
       "      <td>2</td>\n",
       "    </tr>\n",
       "  </tbody>\n",
       "</table>\n",
       "</div>"
      ],
      "text/plain": [
       "      gender car reality  child_num  income_total income_type  \\\n",
       "index                                                           \n",
       "26439      F   N       Y          0       67500.0   Pensioner   \n",
       "26441      F   N       Y          0       90000.0   Pensioner   \n",
       "26443      F   N       Y          0       90000.0   Pensioner   \n",
       "26449      F   N       N          0       90000.0     Working   \n",
       "26453      F   N       Y          1      180000.0     Working   \n",
       "\n",
       "                            edu_type           family_type         house_type  \\\n",
       "index                                                                           \n",
       "26439  Secondary / secondary special               Married  House / apartment   \n",
       "26441              Incomplete higher             Separated  House / apartment   \n",
       "26443  Secondary / secondary special  Single / not married  House / apartment   \n",
       "26449  Secondary / secondary special               Married  House / apartment   \n",
       "26453               Higher education             Separated  House / apartment   \n",
       "\n",
       "       DAYS_BIRTH  DAYS_EMPLOYED FLAG_MOBIL work_phone phone email occyp_type  \\\n",
       "index                                                                           \n",
       "26439      -19238         365243          1          0     0     0        NaN   \n",
       "26441      -24129         365243          1          0     0     0        NaN   \n",
       "26443      -22286         365243          1          0     0     0        NaN   \n",
       "26449      -10498          -2418          1          1     1     0        NaN   \n",
       "26453      -15291          -2475          1          0     0     0        NaN   \n",
       "\n",
       "       family_size  begin_month credit  \n",
       "index                                   \n",
       "26439          2.0        -57.0      2  \n",
       "26441          1.0        -43.0      2  \n",
       "26443          1.0        -21.0      1  \n",
       "26449          2.0         -2.0      1  \n",
       "26453          2.0        -47.0      2  "
      ]
     },
     "execution_count": 198,
     "metadata": {},
     "output_type": "execute_result"
    }
   ],
   "source": [
    "NaN_occ.tail(5)"
   ]
  },
  {
   "cell_type": "code",
   "execution_count": 199,
   "metadata": {},
   "outputs": [
    {
     "data": {
      "text/plain": [
       "Pensioner               4440\n",
       "Working                 2312\n",
       "Commercial associate    1026\n",
       "State servant            392\n",
       "Student                    1\n",
       "Name: income_type, dtype: int64"
      ]
     },
     "execution_count": 199,
     "metadata": {},
     "output_type": "execute_result"
    }
   ],
   "source": [
    "NaN_occ['income_type'].value_counts()"
   ]
  },
  {
   "cell_type": "code",
   "execution_count": 200,
   "metadata": {},
   "outputs": [
    {
     "data": {
      "text/plain": [
       "Core staff    4\n",
       "Laborers      2\n",
       "Name: occyp_type, dtype: int64"
      ]
     },
     "execution_count": 200,
     "metadata": {},
     "output_type": "execute_result"
    }
   ],
   "source": [
    "train[train['income_type']=='Student'].occyp_type.value_counts()"
   ]
  },
  {
   "cell_type": "code",
   "execution_count": 201,
   "metadata": {},
   "outputs": [
    {
     "data": {
      "text/plain": [
       "<matplotlib.axes._subplots.AxesSubplot at 0x7fb16c8c8c70>"
      ]
     },
     "execution_count": 201,
     "metadata": {},
     "output_type": "execute_result"
    },
    {
     "data": {
      "image/png": "[encoded data removed]",
      "text/plain": [
       "<Figure size 432x288 with 1 Axes>"
      ]
     },
     "metadata": {
      "needs_background": "light"
     },
     "output_type": "display_data"
    }
   ],
   "source": [
    "NaN_occ['DAYS_EMPLOYED'].hist()"
   ]
  },
  {
   "cell_type": "code",
   "execution_count": 202,
   "metadata": {},
   "outputs": [
    {
     "data": {
      "text/plain": [
       "365243    4438\n",
       "Name: DAYS_EMPLOYED, dtype: int64"
      ]
     },
     "execution_count": 202,
     "metadata": {},
     "output_type": "execute_result"
    }
   ],
   "source": [
    "NaN_occ[NaN_occ['DAYS_EMPLOYED']> -1].DAYS_EMPLOYED.value_counts()"
   ]
  },
  {
   "cell_type": "code",
   "execution_count": 203,
   "metadata": {},
   "outputs": [
    {
     "data": {
      "text/plain": [
       "Pensioner    4438\n",
       "Name: income_type, dtype: int64"
      ]
     },
     "execution_count": 203,
     "metadata": {},
     "output_type": "execute_result"
    }
   ],
   "source": [
    "NaN_occ[NaN_occ['DAYS_EMPLOYED'] > -1 ].income_type.value_counts()"
   ]
  },
  {
   "cell_type": "code",
   "execution_count": 204,
   "metadata": {},
   "outputs": [
    {
     "data": {
      "text/plain": [
       " 365243    4438\n",
       "-673          1\n",
       "-586          1\n",
       "Name: DAYS_EMPLOYED, dtype: int64"
      ]
     },
     "execution_count": 204,
     "metadata": {},
     "output_type": "execute_result"
    }
   ],
   "source": [
    "NaN_occ[NaN_occ['income_type'] == 'Pensioner'].DAYS_EMPLOYED.value_counts()"
   ]
  },
  {
   "cell_type": "markdown",
   "metadata": {},
   "source": [
    "income_type이 'Pensioner' 인 경우 DAYS_EMPLOYED 값이 365243으로 이상치의 값으로 존재함.       \n",
    "DAYS_EMPLOYED 값은 근무일수를 역으로 나타낸 값으로 365243이라는 값을 그대로 넣을 경우 모델에 정확도 영향을 줄 수 있음.       \n",
    "연금이라는 의미는 일반적으로 은퇴 이후에 들어오는 소득으로 일생으로 따졌을 때 근무일수가 오래되었을 것으로 추정이 가능함.   \n",
    "하지만 현재 근무를 하고 있는 것이 아니고 이후 근무 일수가 늘어날 가능성이 낮음.   \n",
    "이를 고려했을 때 우선 'Pensioner' 일 때 해당 변수의 값을 0으로 지정. "
   ]
  },
  {
   "cell_type": "markdown",
   "metadata": {},
   "source": [
    "## 결측치 처리 "
   ]
  },
  {
   "cell_type": "code",
   "execution_count": 205,
   "metadata": {},
   "outputs": [],
   "source": [
    "new_train = train.copy()"
   ]
  },
  {
   "cell_type": "code",
   "execution_count": 206,
   "metadata": {},
   "outputs": [
    {
     "data": {
      "text/plain": [
       "Laborers                 4512\n",
       "Core staff               2646\n",
       "Sales staff              2539\n",
       "Managers                 2167\n",
       "Drivers                  1575\n",
       "High skill tech staff    1040\n",
       "Accountants               902\n",
       "Medicine staff            864\n",
       "Cooking staff             457\n",
       "Security staff            424\n",
       "Cleaning staff            403\n",
       "Private service staff     243\n",
       "Low-skill Laborers        127\n",
       "Waiters/barmen staff      124\n",
       "Secretaries                97\n",
       "Realty agents              63\n",
       "HR staff                   62\n",
       "IT staff                   41\n",
       "Name: occyp_type, dtype: int64"
      ]
     },
     "execution_count": 206,
     "metadata": {},
     "output_type": "execute_result"
    }
   ],
   "source": [
    "new_train.occyp_type.value_counts()"
   ]
  },
  {
   "cell_type": "code",
   "execution_count": 207,
   "metadata": {},
   "outputs": [],
   "source": [
    "## 1. income_type = 'Pensioner' 일때 occyp_type = 'Retired' and DAYS_EMPLOYED \n",
    "\n",
    "new_train.loc[new_train['income_type'] == 'Pensioner', 'occyp_type'] = 'Retired'\n",
    "new_train.loc[new_train['income_type'] == 'Pensioner', 'DAYS_EMPLOYED'] = 0 "
   ]
  },
  {
   "cell_type": "code",
   "execution_count": 208,
   "metadata": {},
   "outputs": [
    {
     "data": {
      "text/plain": [
       "Laborers                 4509\n",
       "Retired                  4449\n",
       "Core staff               2644\n",
       "Sales staff              2539\n",
       "Managers                 2166\n",
       "Drivers                  1574\n",
       "High skill tech staff    1040\n",
       "Accountants               901\n",
       "Medicine staff            863\n",
       "Cooking staff             457\n",
       "Security staff            424\n",
       "Cleaning staff            403\n",
       "Private service staff     243\n",
       "Low-skill Laborers        127\n",
       "Waiters/barmen staff      124\n",
       "Secretaries                97\n",
       "Realty agents              63\n",
       "HR staff                   62\n",
       "IT staff                   41\n",
       "Name: occyp_type, dtype: int64"
      ]
     },
     "execution_count": 208,
     "metadata": {},
     "output_type": "execute_result"
    }
   ],
   "source": [
    "new_train.occyp_type.value_counts()"
   ]
  },
  {
   "cell_type": "code",
   "execution_count": 209,
   "metadata": {},
   "outputs": [
    {
     "data": {
      "text/plain": [
       "0    4449\n",
       "Name: DAYS_EMPLOYED, dtype: int64"
      ]
     },
     "execution_count": 209,
     "metadata": {},
     "output_type": "execute_result"
    }
   ],
   "source": [
    "new_train[new_train['income_type'] == 'Pensioner'].DAYS_EMPLOYED.value_counts()"
   ]
  },
  {
   "cell_type": "code",
   "execution_count": 210,
   "metadata": {},
   "outputs": [
    {
     "data": {
      "text/plain": [
       "gender              0\n",
       "car                 0\n",
       "reality             0\n",
       "child_num           0\n",
       "income_total        0\n",
       "income_type         0\n",
       "edu_type            0\n",
       "family_type         0\n",
       "house_type          0\n",
       "DAYS_BIRTH          0\n",
       "DAYS_EMPLOYED       0\n",
       "FLAG_MOBIL          0\n",
       "work_phone          0\n",
       "phone               0\n",
       "email               0\n",
       "occyp_type       3731\n",
       "family_size         0\n",
       "begin_month         0\n",
       "credit              0\n",
       "dtype: int64"
      ]
     },
     "execution_count": 210,
     "metadata": {},
     "output_type": "execute_result"
    }
   ],
   "source": [
    "new_train.isnull().sum()"
   ]
  },
  {
   "cell_type": "code",
   "execution_count": 211,
   "metadata": {},
   "outputs": [
    {
     "data": {
      "text/plain": [
       "Core staff               655\n",
       "NaN                      392\n",
       "Medicine staff           274\n",
       "Managers                 226\n",
       "High skill tech staff    148\n",
       "Laborers                 142\n",
       "Drivers                   87\n",
       "Accountants               69\n",
       "Cooking staff             41\n",
       "Waiters/barmen staff      31\n",
       "Secretaries               22\n",
       "Cleaning staff            16\n",
       "Private service staff     15\n",
       "Security staff            14\n",
       "Sales staff               10\n",
       "IT staff                   6\n",
       "Low-skill Laborers         3\n",
       "HR staff                   3\n",
       "Name: occyp_type, dtype: int64"
      ]
     },
     "execution_count": 211,
     "metadata": {},
     "output_type": "execute_result"
    }
   ],
   "source": [
    "new_train[new_train.income_type == 'State servant'].occyp_type.value_counts(dropna = False)"
   ]
  },
  {
   "cell_type": "code",
   "execution_count": 212,
   "metadata": {},
   "outputs": [],
   "source": [
    "## 2. occyp_type = NaN & income_type = 'State servant'인 경우 occyp_type ='State servant' 로 변경\n",
    "\n",
    "new_train.loc[(new_train.occyp_type.isna())  & (new_train.income_type == 'State servant'), 'occyp_type'] = 'State servant' "
   ]
  },
  {
   "cell_type": "code",
   "execution_count": 213,
   "metadata": {},
   "outputs": [
    {
     "data": {
      "text/plain": [
       "Core staff               655\n",
       "State servant            392\n",
       "Medicine staff           274\n",
       "Managers                 226\n",
       "High skill tech staff    148\n",
       "Laborers                 142\n",
       "Drivers                   87\n",
       "Accountants               69\n",
       "Cooking staff             41\n",
       "Waiters/barmen staff      31\n",
       "Secretaries               22\n",
       "Cleaning staff            16\n",
       "Private service staff     15\n",
       "Security staff            14\n",
       "Sales staff               10\n",
       "IT staff                   6\n",
       "Low-skill Laborers         3\n",
       "HR staff                   3\n",
       "Name: occyp_type, dtype: int64"
      ]
     },
     "execution_count": 213,
     "metadata": {},
     "output_type": "execute_result"
    }
   ],
   "source": [
    "new_train[new_train.income_type == 'State servant'].occyp_type.value_counts(dropna = False)"
   ]
  },
  {
   "cell_type": "code",
   "execution_count": 214,
   "metadata": {},
   "outputs": [
    {
     "data": {
      "text/plain": [
       "gender              0\n",
       "car                 0\n",
       "reality             0\n",
       "child_num           0\n",
       "income_total        0\n",
       "income_type         0\n",
       "edu_type            0\n",
       "family_type         0\n",
       "house_type          0\n",
       "DAYS_BIRTH          0\n",
       "DAYS_EMPLOYED       0\n",
       "FLAG_MOBIL          0\n",
       "work_phone          0\n",
       "phone               0\n",
       "email               0\n",
       "occyp_type       3339\n",
       "family_size         0\n",
       "begin_month         0\n",
       "credit              0\n",
       "dtype: int64"
      ]
     },
     "execution_count": 214,
     "metadata": {},
     "output_type": "execute_result"
    }
   ],
   "source": [
    "new_train.isnull().sum()"
   ]
  },
  {
   "cell_type": "code",
   "execution_count": 215,
   "metadata": {},
   "outputs": [],
   "source": [
    "## 3. occyp_type = NaN & income_type  in ('working', 'Commercial associate', 'Student) 일 경우 occyp_type ='Extra staff'로 변경 \n",
    "\n",
    "\n",
    "new_train.loc[(new_train.occyp_type.isna())  & (new_train.income_type.isin(['Working','Commercial associate','Student'])), 'occyp_type'] = 'Extra staff' "
   ]
  },
  {
   "cell_type": "code",
   "execution_count": 216,
   "metadata": {},
   "outputs": [
    {
     "data": {
      "text/plain": [
       "gender           0\n",
       "car              0\n",
       "reality          0\n",
       "child_num        0\n",
       "income_total     0\n",
       "income_type      0\n",
       "edu_type         0\n",
       "family_type      0\n",
       "house_type       0\n",
       "DAYS_BIRTH       0\n",
       "DAYS_EMPLOYED    0\n",
       "FLAG_MOBIL       0\n",
       "work_phone       0\n",
       "phone            0\n",
       "email            0\n",
       "occyp_type       0\n",
       "family_size      0\n",
       "begin_month      0\n",
       "credit           0\n",
       "dtype: int64"
      ]
     },
     "execution_count": 216,
     "metadata": {},
     "output_type": "execute_result"
    }
   ],
   "source": [
    "new_train.isnull().sum()"
   ]
  },
  {
   "cell_type": "markdown",
   "metadata": {},
   "source": [
    "## 변수별 EDA 그래프 "
   ]
  },
  {
   "cell_type": "code",
   "execution_count": 217,
   "metadata": {},
   "outputs": [],
   "source": [
    "bar_data = new_train.select_dtypes(include= ['object'])"
   ]
  },
  {
   "cell_type": "code",
   "execution_count": 218,
   "metadata": {},
   "outputs": [
    {
     "data": {
      "text/html": [
       "<div>\n",
       "<style scoped>\n",
       "    .dataframe tbody tr th:only-of-type {\n",
       "        vertical-align: middle;\n",
       "    }\n",
       "\n",
       "    .dataframe tbody tr th {\n",
       "        vertical-align: top;\n",
       "    }\n",
       "\n",
       "    .dataframe thead th {\n",
       "        text-align: right;\n",
       "    }\n",
       "</style>\n",
       "<table border=\"1\" class=\"dataframe\">\n",
       "  <thead>\n",
       "    <tr style=\"text-align: right;\">\n",
       "      <th></th>\n",
       "      <th>gender</th>\n",
       "      <th>car</th>\n",
       "      <th>reality</th>\n",
       "      <th>income_type</th>\n",
       "      <th>edu_type</th>\n",
       "      <th>family_type</th>\n",
       "      <th>house_type</th>\n",
       "      <th>FLAG_MOBIL</th>\n",
       "      <th>work_phone</th>\n",
       "      <th>phone</th>\n",
       "      <th>email</th>\n",
       "      <th>occyp_type</th>\n",
       "      <th>credit</th>\n",
       "    </tr>\n",
       "    <tr>\n",
       "      <th>index</th>\n",
       "      <th></th>\n",
       "      <th></th>\n",
       "      <th></th>\n",
       "      <th></th>\n",
       "      <th></th>\n",
       "      <th></th>\n",
       "      <th></th>\n",
       "      <th></th>\n",
       "      <th></th>\n",
       "      <th></th>\n",
       "      <th></th>\n",
       "      <th></th>\n",
       "      <th></th>\n",
       "    </tr>\n",
       "  </thead>\n",
       "  <tbody>\n",
       "    <tr>\n",
       "      <th>0</th>\n",
       "      <td>F</td>\n",
       "      <td>N</td>\n",
       "      <td>N</td>\n",
       "      <td>Commercial associate</td>\n",
       "      <td>Higher education</td>\n",
       "      <td>Married</td>\n",
       "      <td>Municipal apartment</td>\n",
       "      <td>1</td>\n",
       "      <td>0</td>\n",
       "      <td>0</td>\n",
       "      <td>0</td>\n",
       "      <td>Extra staff</td>\n",
       "      <td>1</td>\n",
       "    </tr>\n",
       "    <tr>\n",
       "      <th>1</th>\n",
       "      <td>F</td>\n",
       "      <td>N</td>\n",
       "      <td>Y</td>\n",
       "      <td>Commercial associate</td>\n",
       "      <td>Secondary / secondary special</td>\n",
       "      <td>Civil marriage</td>\n",
       "      <td>House / apartment</td>\n",
       "      <td>1</td>\n",
       "      <td>0</td>\n",
       "      <td>0</td>\n",
       "      <td>1</td>\n",
       "      <td>Laborers</td>\n",
       "      <td>1</td>\n",
       "    </tr>\n",
       "    <tr>\n",
       "      <th>2</th>\n",
       "      <td>M</td>\n",
       "      <td>Y</td>\n",
       "      <td>Y</td>\n",
       "      <td>Working</td>\n",
       "      <td>Higher education</td>\n",
       "      <td>Married</td>\n",
       "      <td>House / apartment</td>\n",
       "      <td>1</td>\n",
       "      <td>0</td>\n",
       "      <td>1</td>\n",
       "      <td>0</td>\n",
       "      <td>Managers</td>\n",
       "      <td>2</td>\n",
       "    </tr>\n",
       "    <tr>\n",
       "      <th>3</th>\n",
       "      <td>F</td>\n",
       "      <td>N</td>\n",
       "      <td>Y</td>\n",
       "      <td>Commercial associate</td>\n",
       "      <td>Secondary / secondary special</td>\n",
       "      <td>Married</td>\n",
       "      <td>House / apartment</td>\n",
       "      <td>1</td>\n",
       "      <td>0</td>\n",
       "      <td>1</td>\n",
       "      <td>0</td>\n",
       "      <td>Sales staff</td>\n",
       "      <td>0</td>\n",
       "    </tr>\n",
       "    <tr>\n",
       "      <th>4</th>\n",
       "      <td>F</td>\n",
       "      <td>Y</td>\n",
       "      <td>Y</td>\n",
       "      <td>State servant</td>\n",
       "      <td>Higher education</td>\n",
       "      <td>Married</td>\n",
       "      <td>House / apartment</td>\n",
       "      <td>1</td>\n",
       "      <td>0</td>\n",
       "      <td>0</td>\n",
       "      <td>0</td>\n",
       "      <td>Managers</td>\n",
       "      <td>2</td>\n",
       "    </tr>\n",
       "    <tr>\n",
       "      <th>...</th>\n",
       "      <td>...</td>\n",
       "      <td>...</td>\n",
       "      <td>...</td>\n",
       "      <td>...</td>\n",
       "      <td>...</td>\n",
       "      <td>...</td>\n",
       "      <td>...</td>\n",
       "      <td>...</td>\n",
       "      <td>...</td>\n",
       "      <td>...</td>\n",
       "      <td>...</td>\n",
       "      <td>...</td>\n",
       "      <td>...</td>\n",
       "    </tr>\n",
       "    <tr>\n",
       "      <th>26452</th>\n",
       "      <td>F</td>\n",
       "      <td>N</td>\n",
       "      <td>N</td>\n",
       "      <td>State servant</td>\n",
       "      <td>Secondary / secondary special</td>\n",
       "      <td>Married</td>\n",
       "      <td>House / apartment</td>\n",
       "      <td>1</td>\n",
       "      <td>0</td>\n",
       "      <td>0</td>\n",
       "      <td>0</td>\n",
       "      <td>Core staff</td>\n",
       "      <td>1</td>\n",
       "    </tr>\n",
       "    <tr>\n",
       "      <th>26453</th>\n",
       "      <td>F</td>\n",
       "      <td>N</td>\n",
       "      <td>Y</td>\n",
       "      <td>Working</td>\n",
       "      <td>Higher education</td>\n",
       "      <td>Separated</td>\n",
       "      <td>House / apartment</td>\n",
       "      <td>1</td>\n",
       "      <td>0</td>\n",
       "      <td>0</td>\n",
       "      <td>0</td>\n",
       "      <td>Extra staff</td>\n",
       "      <td>2</td>\n",
       "    </tr>\n",
       "    <tr>\n",
       "      <th>26454</th>\n",
       "      <td>F</td>\n",
       "      <td>Y</td>\n",
       "      <td>N</td>\n",
       "      <td>Working</td>\n",
       "      <td>Secondary / secondary special</td>\n",
       "      <td>Civil marriage</td>\n",
       "      <td>With parents</td>\n",
       "      <td>1</td>\n",
       "      <td>0</td>\n",
       "      <td>0</td>\n",
       "      <td>0</td>\n",
       "      <td>Core staff</td>\n",
       "      <td>2</td>\n",
       "    </tr>\n",
       "    <tr>\n",
       "      <th>26455</th>\n",
       "      <td>M</td>\n",
       "      <td>N</td>\n",
       "      <td>Y</td>\n",
       "      <td>Working</td>\n",
       "      <td>Incomplete higher</td>\n",
       "      <td>Single / not married</td>\n",
       "      <td>House / apartment</td>\n",
       "      <td>1</td>\n",
       "      <td>0</td>\n",
       "      <td>0</td>\n",
       "      <td>0</td>\n",
       "      <td>Laborers</td>\n",
       "      <td>2</td>\n",
       "    </tr>\n",
       "    <tr>\n",
       "      <th>26456</th>\n",
       "      <td>F</td>\n",
       "      <td>N</td>\n",
       "      <td>N</td>\n",
       "      <td>Working</td>\n",
       "      <td>Secondary / secondary special</td>\n",
       "      <td>Civil marriage</td>\n",
       "      <td>House / apartment</td>\n",
       "      <td>1</td>\n",
       "      <td>0</td>\n",
       "      <td>0</td>\n",
       "      <td>0</td>\n",
       "      <td>Security staff</td>\n",
       "      <td>2</td>\n",
       "    </tr>\n",
       "  </tbody>\n",
       "</table>\n",
       "<p>26457 rows × 13 columns</p>\n",
       "</div>"
      ],
      "text/plain": [
       "      gender car reality           income_type                       edu_type  \\\n",
       "index                                                                           \n",
       "0          F   N       N  Commercial associate               Higher education   \n",
       "1          F   N       Y  Commercial associate  Secondary / secondary special   \n",
       "2          M   Y       Y               Working               Higher education   \n",
       "3          F   N       Y  Commercial associate  Secondary / secondary special   \n",
       "4          F   Y       Y         State servant               Higher education   \n",
       "...      ...  ..     ...                   ...                            ...   \n",
       "26452      F   N       N         State servant  Secondary / secondary special   \n",
       "26453      F   N       Y               Working               Higher education   \n",
       "26454      F   Y       N               Working  Secondary / secondary special   \n",
       "26455      M   N       Y               Working              Incomplete higher   \n",
       "26456      F   N       N               Working  Secondary / secondary special   \n",
       "\n",
       "                family_type           house_type FLAG_MOBIL work_phone phone  \\\n",
       "index                                                                          \n",
       "0                   Married  Municipal apartment          1          0     0   \n",
       "1            Civil marriage    House / apartment          1          0     0   \n",
       "2                   Married    House / apartment          1          0     1   \n",
       "3                   Married    House / apartment          1          0     1   \n",
       "4                   Married    House / apartment          1          0     0   \n",
       "...                     ...                  ...        ...        ...   ...   \n",
       "26452               Married    House / apartment          1          0     0   \n",
       "26453             Separated    House / apartment          1          0     0   \n",
       "26454        Civil marriage         With parents          1          0     0   \n",
       "26455  Single / not married    House / apartment          1          0     0   \n",
       "26456        Civil marriage    House / apartment          1          0     0   \n",
       "\n",
       "      email      occyp_type credit  \n",
       "index                               \n",
       "0         0     Extra staff      1  \n",
       "1         1        Laborers      1  \n",
       "2         0        Managers      2  \n",
       "3         0     Sales staff      0  \n",
       "4         0        Managers      2  \n",
       "...     ...             ...    ...  \n",
       "26452     0      Core staff      1  \n",
       "26453     0     Extra staff      2  \n",
       "26454     0      Core staff      2  \n",
       "26455     0        Laborers      2  \n",
       "26456     0  Security staff      2  \n",
       "\n",
       "[26457 rows x 13 columns]"
      ]
     },
     "execution_count": 218,
     "metadata": {},
     "output_type": "execute_result"
    }
   ],
   "source": [
    "bar_data"
   ]
  },
  {
   "cell_type": "code",
   "execution_count": 219,
   "metadata": {},
   "outputs": [
    {
     "data": {
      "text/plain": [
       "index\n",
       "0        F\n",
       "1        F\n",
       "2        M\n",
       "3        F\n",
       "4        F\n",
       "        ..\n",
       "26452    F\n",
       "26453    F\n",
       "26454    F\n",
       "26455    M\n",
       "26456    F\n",
       "Name: gender, Length: 26457, dtype: object"
      ]
     },
     "execution_count": 219,
     "metadata": {},
     "output_type": "execute_result"
    }
   ],
   "source": [
    "bar_data.iloc[:,0]"
   ]
  },
  {
   "cell_type": "code",
   "execution_count": 220,
   "metadata": {},
   "outputs": [
    {
     "data": {
      "image/png": "[encoded data removed]",
      "text/plain": [
       "<Figure size 2160x720 with 12 Axes>"
      ]
     },
     "metadata": {
      "needs_background": "light"
     },
     "output_type": "display_data"
    }
   ],
   "source": [
    "fig, axes = plt.subplots(3,4, figsize = (30,10))\n",
    "\n",
    "\n",
    "for i, ax in enumerate(axes.flat):\n",
    "    ax.hist(bar_data.iloc[:,i])\n",
    "    ax.title.set_text('{}'.format(bar_data.columns[i]))\n",
    "    \n",
    "fig.tight_layout()"
   ]
  },
  {
   "cell_type": "code",
   "execution_count": 222,
   "metadata": {},
   "outputs": [
    {
     "data": {
      "image/png": "[encoded data removed]",
      "text/plain": [
       "<Figure size 2160x720 with 3 Axes>"
      ]
     },
     "metadata": {
      "needs_background": "light"
     },
     "output_type": "display_data"
    }
   ],
   "source": [
    "bar_data[['income_type','house_type','occyp_type']]\n",
    "\n",
    "\n",
    "fig, axes = plt.subplots(3,1, figsize = (30,10))\n",
    "\n",
    "for i, ax in enumerate(axes.flat):\n",
    "    ax.hist(bar_data[['income_type','house_type','occyp_type']].iloc[:,i])\n",
    "    ax.title.set_text('{}'.format(bar_data.columns[i]))\n",
    "    \n",
    "fig.tight_layout()"
   ]
  },
  {
   "cell_type": "code",
   "execution_count": 223,
   "metadata": {},
   "outputs": [],
   "source": [
    "num_data = new_train.select_dtypes(include= ['float', 'int'])"
   ]
  },
  {
   "cell_type": "code",
   "execution_count": 224,
   "metadata": {},
   "outputs": [
    {
     "data": {
      "text/html": [
       "<div>\n",
       "<style scoped>\n",
       "    .dataframe tbody tr th:only-of-type {\n",
       "        vertical-align: middle;\n",
       "    }\n",
       "\n",
       "    .dataframe tbody tr th {\n",
       "        vertical-align: top;\n",
       "    }\n",
       "\n",
       "    .dataframe thead th {\n",
       "        text-align: right;\n",
       "    }\n",
       "</style>\n",
       "<table border=\"1\" class=\"dataframe\">\n",
       "  <thead>\n",
       "    <tr style=\"text-align: right;\">\n",
       "      <th></th>\n",
       "      <th>child_num</th>\n",
       "      <th>income_total</th>\n",
       "      <th>DAYS_BIRTH</th>\n",
       "      <th>DAYS_EMPLOYED</th>\n",
       "      <th>family_size</th>\n",
       "      <th>begin_month</th>\n",
       "    </tr>\n",
       "    <tr>\n",
       "      <th>index</th>\n",
       "      <th></th>\n",
       "      <th></th>\n",
       "      <th></th>\n",
       "      <th></th>\n",
       "      <th></th>\n",
       "      <th></th>\n",
       "    </tr>\n",
       "  </thead>\n",
       "  <tbody>\n",
       "    <tr>\n",
       "      <th>0</th>\n",
       "      <td>0</td>\n",
       "      <td>202500.0</td>\n",
       "      <td>-13899</td>\n",
       "      <td>-4709</td>\n",
       "      <td>2.0</td>\n",
       "      <td>-6.0</td>\n",
       "    </tr>\n",
       "    <tr>\n",
       "      <th>1</th>\n",
       "      <td>1</td>\n",
       "      <td>247500.0</td>\n",
       "      <td>-11380</td>\n",
       "      <td>-1540</td>\n",
       "      <td>3.0</td>\n",
       "      <td>-5.0</td>\n",
       "    </tr>\n",
       "    <tr>\n",
       "      <th>2</th>\n",
       "      <td>0</td>\n",
       "      <td>450000.0</td>\n",
       "      <td>-19087</td>\n",
       "      <td>-4434</td>\n",
       "      <td>2.0</td>\n",
       "      <td>-22.0</td>\n",
       "    </tr>\n",
       "    <tr>\n",
       "      <th>3</th>\n",
       "      <td>0</td>\n",
       "      <td>202500.0</td>\n",
       "      <td>-15088</td>\n",
       "      <td>-2092</td>\n",
       "      <td>2.0</td>\n",
       "      <td>-37.0</td>\n",
       "    </tr>\n",
       "    <tr>\n",
       "      <th>4</th>\n",
       "      <td>0</td>\n",
       "      <td>157500.0</td>\n",
       "      <td>-15037</td>\n",
       "      <td>-2105</td>\n",
       "      <td>2.0</td>\n",
       "      <td>-26.0</td>\n",
       "    </tr>\n",
       "    <tr>\n",
       "      <th>...</th>\n",
       "      <td>...</td>\n",
       "      <td>...</td>\n",
       "      <td>...</td>\n",
       "      <td>...</td>\n",
       "      <td>...</td>\n",
       "      <td>...</td>\n",
       "    </tr>\n",
       "    <tr>\n",
       "      <th>26452</th>\n",
       "      <td>2</td>\n",
       "      <td>225000.0</td>\n",
       "      <td>-12079</td>\n",
       "      <td>-1984</td>\n",
       "      <td>4.0</td>\n",
       "      <td>-2.0</td>\n",
       "    </tr>\n",
       "    <tr>\n",
       "      <th>26453</th>\n",
       "      <td>1</td>\n",
       "      <td>180000.0</td>\n",
       "      <td>-15291</td>\n",
       "      <td>-2475</td>\n",
       "      <td>2.0</td>\n",
       "      <td>-47.0</td>\n",
       "    </tr>\n",
       "    <tr>\n",
       "      <th>26454</th>\n",
       "      <td>0</td>\n",
       "      <td>292500.0</td>\n",
       "      <td>-10082</td>\n",
       "      <td>-2015</td>\n",
       "      <td>2.0</td>\n",
       "      <td>-25.0</td>\n",
       "    </tr>\n",
       "    <tr>\n",
       "      <th>26455</th>\n",
       "      <td>0</td>\n",
       "      <td>171000.0</td>\n",
       "      <td>-10145</td>\n",
       "      <td>-107</td>\n",
       "      <td>1.0</td>\n",
       "      <td>-59.0</td>\n",
       "    </tr>\n",
       "    <tr>\n",
       "      <th>26456</th>\n",
       "      <td>0</td>\n",
       "      <td>81000.0</td>\n",
       "      <td>-19569</td>\n",
       "      <td>-1013</td>\n",
       "      <td>2.0</td>\n",
       "      <td>-9.0</td>\n",
       "    </tr>\n",
       "  </tbody>\n",
       "</table>\n",
       "<p>26457 rows × 6 columns</p>\n",
       "</div>"
      ],
      "text/plain": [
       "       child_num  income_total  DAYS_BIRTH  DAYS_EMPLOYED  family_size  \\\n",
       "index                                                                    \n",
       "0              0      202500.0      -13899          -4709          2.0   \n",
       "1              1      247500.0      -11380          -1540          3.0   \n",
       "2              0      450000.0      -19087          -4434          2.0   \n",
       "3              0      202500.0      -15088          -2092          2.0   \n",
       "4              0      157500.0      -15037          -2105          2.0   \n",
       "...          ...           ...         ...            ...          ...   \n",
       "26452          2      225000.0      -12079          -1984          4.0   \n",
       "26453          1      180000.0      -15291          -2475          2.0   \n",
       "26454          0      292500.0      -10082          -2015          2.0   \n",
       "26455          0      171000.0      -10145           -107          1.0   \n",
       "26456          0       81000.0      -19569          -1013          2.0   \n",
       "\n",
       "       begin_month  \n",
       "index               \n",
       "0             -6.0  \n",
       "1             -5.0  \n",
       "2            -22.0  \n",
       "3            -37.0  \n",
       "4            -26.0  \n",
       "...            ...  \n",
       "26452         -2.0  \n",
       "26453        -47.0  \n",
       "26454        -25.0  \n",
       "26455        -59.0  \n",
       "26456         -9.0  \n",
       "\n",
       "[26457 rows x 6 columns]"
      ]
     },
     "execution_count": 224,
     "metadata": {},
     "output_type": "execute_result"
    }
   ],
   "source": [
    "num_data"
   ]
  },
  {
   "cell_type": "code",
   "execution_count": 229,
   "metadata": {},
   "outputs": [
    {
     "data": {
      "text/plain": [
       "Text(0.5, 1.0, '수치형 변수 간의 상관계수')"
      ]
     },
     "execution_count": 229,
     "metadata": {},
     "output_type": "execute_result"
    },
    {
     "data": {
      "image/png": "[encoded data removed]",
      "text/plain": [
       "<Figure size 432x288 with 2 Axes>"
      ]
     },
     "metadata": {
      "needs_background": "light"
     },
     "output_type": "display_data"
    }
   ],
   "source": [
    "sns.heatmap(num_data.corr())\n",
    "plt.title('수치형 변수 간의 상관계수')"
   ]
  },
  {
   "cell_type": "markdown",
   "metadata": {},
   "source": [
    "# test dataset 결측값 처리"
   ]
  },
  {
   "cell_type": "code",
   "execution_count": 231,
   "metadata": {},
   "outputs": [
    {
     "data": {
      "text/html": [
       "<div>\n",
       "<style scoped>\n",
       "    .dataframe tbody tr th:only-of-type {\n",
       "        vertical-align: middle;\n",
       "    }\n",
       "\n",
       "    .dataframe tbody tr th {\n",
       "        vertical-align: top;\n",
       "    }\n",
       "\n",
       "    .dataframe thead th {\n",
       "        text-align: right;\n",
       "    }\n",
       "</style>\n",
       "<table border=\"1\" class=\"dataframe\">\n",
       "  <thead>\n",
       "    <tr style=\"text-align: right;\">\n",
       "      <th></th>\n",
       "      <th>gender</th>\n",
       "      <th>car</th>\n",
       "      <th>reality</th>\n",
       "      <th>child_num</th>\n",
       "      <th>income_total</th>\n",
       "      <th>income_type</th>\n",
       "      <th>edu_type</th>\n",
       "      <th>family_type</th>\n",
       "      <th>house_type</th>\n",
       "      <th>DAYS_BIRTH</th>\n",
       "      <th>DAYS_EMPLOYED</th>\n",
       "      <th>FLAG_MOBIL</th>\n",
       "      <th>work_phone</th>\n",
       "      <th>phone</th>\n",
       "      <th>email</th>\n",
       "      <th>occyp_type</th>\n",
       "      <th>family_size</th>\n",
       "      <th>begin_month</th>\n",
       "    </tr>\n",
       "    <tr>\n",
       "      <th>index</th>\n",
       "      <th></th>\n",
       "      <th></th>\n",
       "      <th></th>\n",
       "      <th></th>\n",
       "      <th></th>\n",
       "      <th></th>\n",
       "      <th></th>\n",
       "      <th></th>\n",
       "      <th></th>\n",
       "      <th></th>\n",
       "      <th></th>\n",
       "      <th></th>\n",
       "      <th></th>\n",
       "      <th></th>\n",
       "      <th></th>\n",
       "      <th></th>\n",
       "      <th></th>\n",
       "      <th></th>\n",
       "    </tr>\n",
       "  </thead>\n",
       "  <tbody>\n",
       "    <tr>\n",
       "      <th>26457</th>\n",
       "      <td>M</td>\n",
       "      <td>Y</td>\n",
       "      <td>N</td>\n",
       "      <td>0</td>\n",
       "      <td>112500.0</td>\n",
       "      <td>Pensioner</td>\n",
       "      <td>Secondary / secondary special</td>\n",
       "      <td>Civil marriage</td>\n",
       "      <td>House / apartment</td>\n",
       "      <td>-21990</td>\n",
       "      <td>365243</td>\n",
       "      <td>1</td>\n",
       "      <td>0</td>\n",
       "      <td>1</td>\n",
       "      <td>0</td>\n",
       "      <td>NaN</td>\n",
       "      <td>2.0</td>\n",
       "      <td>-60.0</td>\n",
       "    </tr>\n",
       "    <tr>\n",
       "      <th>26458</th>\n",
       "      <td>F</td>\n",
       "      <td>N</td>\n",
       "      <td>Y</td>\n",
       "      <td>0</td>\n",
       "      <td>135000.0</td>\n",
       "      <td>State servant</td>\n",
       "      <td>Higher education</td>\n",
       "      <td>Married</td>\n",
       "      <td>House / apartment</td>\n",
       "      <td>-18964</td>\n",
       "      <td>-8671</td>\n",
       "      <td>1</td>\n",
       "      <td>0</td>\n",
       "      <td>1</td>\n",
       "      <td>0</td>\n",
       "      <td>Core staff</td>\n",
       "      <td>2.0</td>\n",
       "      <td>-36.0</td>\n",
       "    </tr>\n",
       "    <tr>\n",
       "      <th>26459</th>\n",
       "      <td>F</td>\n",
       "      <td>N</td>\n",
       "      <td>Y</td>\n",
       "      <td>0</td>\n",
       "      <td>69372.0</td>\n",
       "      <td>Working</td>\n",
       "      <td>Secondary / secondary special</td>\n",
       "      <td>Married</td>\n",
       "      <td>House / apartment</td>\n",
       "      <td>-15887</td>\n",
       "      <td>-217</td>\n",
       "      <td>1</td>\n",
       "      <td>1</td>\n",
       "      <td>1</td>\n",
       "      <td>0</td>\n",
       "      <td>Laborers</td>\n",
       "      <td>2.0</td>\n",
       "      <td>-40.0</td>\n",
       "    </tr>\n",
       "    <tr>\n",
       "      <th>26460</th>\n",
       "      <td>M</td>\n",
       "      <td>Y</td>\n",
       "      <td>N</td>\n",
       "      <td>0</td>\n",
       "      <td>112500.0</td>\n",
       "      <td>Commercial associate</td>\n",
       "      <td>Secondary / secondary special</td>\n",
       "      <td>Married</td>\n",
       "      <td>House / apartment</td>\n",
       "      <td>-19270</td>\n",
       "      <td>-2531</td>\n",
       "      <td>1</td>\n",
       "      <td>1</td>\n",
       "      <td>0</td>\n",
       "      <td>0</td>\n",
       "      <td>Drivers</td>\n",
       "      <td>2.0</td>\n",
       "      <td>-41.0</td>\n",
       "    </tr>\n",
       "    <tr>\n",
       "      <th>26461</th>\n",
       "      <td>F</td>\n",
       "      <td>Y</td>\n",
       "      <td>Y</td>\n",
       "      <td>0</td>\n",
       "      <td>225000.0</td>\n",
       "      <td>State servant</td>\n",
       "      <td>Higher education</td>\n",
       "      <td>Married</td>\n",
       "      <td>House / apartment</td>\n",
       "      <td>-17822</td>\n",
       "      <td>-9385</td>\n",
       "      <td>1</td>\n",
       "      <td>1</td>\n",
       "      <td>0</td>\n",
       "      <td>0</td>\n",
       "      <td>Managers</td>\n",
       "      <td>2.0</td>\n",
       "      <td>-8.0</td>\n",
       "    </tr>\n",
       "  </tbody>\n",
       "</table>\n",
       "</div>"
      ],
      "text/plain": [
       "      gender car reality  child_num  income_total           income_type  \\\n",
       "index                                                                     \n",
       "26457      M   Y       N          0      112500.0             Pensioner   \n",
       "26458      F   N       Y          0      135000.0         State servant   \n",
       "26459      F   N       Y          0       69372.0               Working   \n",
       "26460      M   Y       N          0      112500.0  Commercial associate   \n",
       "26461      F   Y       Y          0      225000.0         State servant   \n",
       "\n",
       "                            edu_type     family_type         house_type  \\\n",
       "index                                                                     \n",
       "26457  Secondary / secondary special  Civil marriage  House / apartment   \n",
       "26458               Higher education         Married  House / apartment   \n",
       "26459  Secondary / secondary special         Married  House / apartment   \n",
       "26460  Secondary / secondary special         Married  House / apartment   \n",
       "26461               Higher education         Married  House / apartment   \n",
       "\n",
       "       DAYS_BIRTH  DAYS_EMPLOYED  FLAG_MOBIL  work_phone  phone  email  \\\n",
       "index                                                                    \n",
       "26457      -21990         365243           1           0      1      0   \n",
       "26458      -18964          -8671           1           0      1      0   \n",
       "26459      -15887           -217           1           1      1      0   \n",
       "26460      -19270          -2531           1           1      0      0   \n",
       "26461      -17822          -9385           1           1      0      0   \n",
       "\n",
       "       occyp_type  family_size  begin_month  \n",
       "index                                        \n",
       "26457         NaN          2.0        -60.0  \n",
       "26458  Core staff          2.0        -36.0  \n",
       "26459    Laborers          2.0        -40.0  \n",
       "26460     Drivers          2.0        -41.0  \n",
       "26461    Managers          2.0         -8.0  "
      ]
     },
     "execution_count": 231,
     "metadata": {},
     "output_type": "execute_result"
    }
   ],
   "source": [
    "test = pd.read_csv('card_dataset/test.csv', index_col = 0)\n",
    "test.head()"
   ]
  },
  {
   "cell_type": "code",
   "execution_count": 233,
   "metadata": {},
   "outputs": [
    {
     "data": {
      "text/plain": [
       "gender              0\n",
       "car                 0\n",
       "reality             0\n",
       "child_num           0\n",
       "income_total        0\n",
       "income_type         0\n",
       "edu_type            0\n",
       "family_type         0\n",
       "house_type          0\n",
       "DAYS_BIRTH          0\n",
       "DAYS_EMPLOYED       0\n",
       "FLAG_MOBIL          0\n",
       "work_phone          0\n",
       "phone               0\n",
       "email               0\n",
       "occyp_type       3152\n",
       "family_size         0\n",
       "begin_month         0\n",
       "dtype: int64"
      ]
     },
     "execution_count": 233,
     "metadata": {},
     "output_type": "execute_result"
    }
   ],
   "source": [
    "test.isnull().sum()"
   ]
  },
  {
   "cell_type": "code",
   "execution_count": 235,
   "metadata": {},
   "outputs": [],
   "source": [
    "test[['work_phone','phone','email','FLAG_MOBIL']] = test[['work_phone','phone','email','FLAG_MOBIL']].astype('object')"
   ]
  },
  {
   "cell_type": "code",
   "execution_count": 236,
   "metadata": {},
   "outputs": [],
   "source": [
    "new_test = test.copy()"
   ]
  },
  {
   "cell_type": "code",
   "execution_count": 237,
   "metadata": {},
   "outputs": [
    {
     "data": {
      "text/plain": [
       "NaN                   1699\n",
       "Core staff               3\n",
       "Low-skill Laborers       1\n",
       "Name: occyp_type, dtype: int64"
      ]
     },
     "execution_count": 237,
     "metadata": {},
     "output_type": "execute_result"
    }
   ],
   "source": [
    "new_test[new_test['income_type'] == 'Pensioner'].occyp_type.value_counts(dropna= False)"
   ]
  },
  {
   "cell_type": "code",
   "execution_count": 238,
   "metadata": {},
   "outputs": [
    {
     "data": {
      "text/plain": [
       " 365243    1697\n",
       "-7553         2\n",
       "-1644         1\n",
       "-913          1\n",
       "-678          1\n",
       "-2269         1\n",
       "Name: DAYS_EMPLOYED, dtype: int64"
      ]
     },
     "execution_count": 238,
     "metadata": {},
     "output_type": "execute_result"
    }
   ],
   "source": [
    "new_test[new_test['income_type'] == 'Pensioner'].DAYS_EMPLOYED.value_counts(dropna= False)"
   ]
  },
  {
   "cell_type": "code",
   "execution_count": 240,
   "metadata": {},
   "outputs": [],
   "source": [
    "## 1. income_type = 'Pensioner' 일때 occyp_type = 'Retired' and DAYS_EMPLOYED \n",
    "\n",
    "new_test.loc[new_test['income_type'] == 'Pensioner', 'occyp_type'] = 'Retired'\n",
    "new_test.loc[new_test['income_type'] == 'Pensioner', 'DAYS_EMPLOYED'] = 0 "
   ]
  },
  {
   "cell_type": "code",
   "execution_count": 241,
   "metadata": {},
   "outputs": [
    {
     "data": {
      "text/plain": [
       "Core staff               245\n",
       "NaN                      156\n",
       "Medicine staff           126\n",
       "Managers                  78\n",
       "High skill tech staff     52\n",
       "Laborers                  50\n",
       "Drivers                   32\n",
       "Accountants               23\n",
       "Cooking staff             22\n",
       "Secretaries               13\n",
       "Waiters/barmen staff      13\n",
       "Security staff             7\n",
       "Private service staff      5\n",
       "IT staff                   4\n",
       "Cleaning staff             3\n",
       "Sales staff                2\n",
       "Name: occyp_type, dtype: int64"
      ]
     },
     "execution_count": 241,
     "metadata": {},
     "output_type": "execute_result"
    }
   ],
   "source": [
    "new_test[new_test.income_type == 'State servant'].occyp_type.value_counts(dropna = False)"
   ]
  },
  {
   "cell_type": "code",
   "execution_count": 242,
   "metadata": {},
   "outputs": [],
   "source": [
    "## 2. occyp_type = NaN & income_type = 'State servant'인 경우 occyp_type ='State servant' 로 변경\n",
    "\n",
    "new_test.loc[(new_test.occyp_type.isna())  & (new_test.income_type == 'State servant'), 'occyp_type'] = 'State servant' "
   ]
  },
  {
   "cell_type": "code",
   "execution_count": 243,
   "metadata": {},
   "outputs": [
    {
     "data": {
      "text/plain": [
       "Core staff               245\n",
       "State servant            156\n",
       "Medicine staff           126\n",
       "Managers                  78\n",
       "High skill tech staff     52\n",
       "Laborers                  50\n",
       "Drivers                   32\n",
       "Accountants               23\n",
       "Cooking staff             22\n",
       "Secretaries               13\n",
       "Waiters/barmen staff      13\n",
       "Security staff             7\n",
       "Private service staff      5\n",
       "IT staff                   4\n",
       "Cleaning staff             3\n",
       "Sales staff                2\n",
       "Name: occyp_type, dtype: int64"
      ]
     },
     "execution_count": 243,
     "metadata": {},
     "output_type": "execute_result"
    }
   ],
   "source": [
    "new_test[new_test.income_type == 'State servant'].occyp_type.value_counts(dropna = False)"
   ]
  },
  {
   "cell_type": "code",
   "execution_count": 244,
   "metadata": {},
   "outputs": [],
   "source": [
    "## 3. occyp_type = NaN & income_type  in ('working', 'Commercial associate', 'Student) 일 경우 occyp_type ='Extra staff'로 변경 \n",
    "\n",
    "new_test.loc[(new_test.occyp_type.isna())  & (new_test.income_type.isin(['Working','Commercial associate','Student'])), 'occyp_type'] = 'Extra staff' "
   ]
  },
  {
   "cell_type": "code",
   "execution_count": 245,
   "metadata": {},
   "outputs": [
    {
     "data": {
      "text/plain": [
       "gender           0\n",
       "car              0\n",
       "reality          0\n",
       "child_num        0\n",
       "income_total     0\n",
       "income_type      0\n",
       "edu_type         0\n",
       "family_type      0\n",
       "house_type       0\n",
       "DAYS_BIRTH       0\n",
       "DAYS_EMPLOYED    0\n",
       "FLAG_MOBIL       0\n",
       "work_phone       0\n",
       "phone            0\n",
       "email            0\n",
       "occyp_type       0\n",
       "family_size      0\n",
       "begin_month      0\n",
       "dtype: int64"
      ]
     },
     "execution_count": 245,
     "metadata": {},
     "output_type": "execute_result"
    }
   ],
   "source": [
    "new_test.isnull().sum()"
   ]
  },
  {
   "cell_type": "code",
   "execution_count": 246,
   "metadata": {},
   "outputs": [
    {
     "data": {
      "text/plain": [
       "1    10000\n",
       "Name: FLAG_MOBIL, dtype: int64"
      ]
     },
     "execution_count": 246,
     "metadata": {},
     "output_type": "execute_result"
    }
   ],
   "source": [
    "new_test.FLAG_MOBIL.value_counts()"
   ]
  },
  {
   "cell_type": "markdown",
   "metadata": {},
   "source": [
    "# 모델링 학습을 위한 데이터처리 \n",
    "\n",
    "1. FLAG_MOBIL 변수 삭제 \n",
    "    * train 과 test에 모두 동일하게 1로 나타나고 있기 때문에 의미 없는 변수 \n",
    "\n",
    "2. target 변수 credit 분할 \n",
    "3. 범주형 변수를 수치형 데이터 변수로 변경 "
   ]
  },
  {
   "cell_type": "code",
   "execution_count": 250,
   "metadata": {},
   "outputs": [],
   "source": [
    "# 1. FLAG_MOBIL 변수 삭제\n",
    "m_train = new_train.drop('FLAG_MOBIL', axis = 1)\n",
    "m_test = new_test.drop('FLAG_MOBIL', axis =1)"
   ]
  },
  {
   "cell_type": "code",
   "execution_count": 253,
   "metadata": {},
   "outputs": [
    {
     "name": "stdout",
     "output_type": "stream",
     "text": [
      "<class 'pandas.core.frame.DataFrame'>\n",
      "Int64Index: 26457 entries, 0 to 26456\n",
      "Data columns (total 18 columns):\n",
      " #   Column         Non-Null Count  Dtype  \n",
      "---  ------         --------------  -----  \n",
      " 0   gender         26457 non-null  object \n",
      " 1   car            26457 non-null  object \n",
      " 2   reality        26457 non-null  object \n",
      " 3   child_num      26457 non-null  int64  \n",
      " 4   income_total   26457 non-null  float64\n",
      " 5   income_type    26457 non-null  object \n",
      " 6   edu_type       26457 non-null  object \n",
      " 7   family_type    26457 non-null  object \n",
      " 8   house_type     26457 non-null  object \n",
      " 9   DAYS_BIRTH     26457 non-null  int64  \n",
      " 10  DAYS_EMPLOYED  26457 non-null  int64  \n",
      " 11  work_phone     26457 non-null  object \n",
      " 12  phone          26457 non-null  object \n",
      " 13  email          26457 non-null  object \n",
      " 14  occyp_type     26457 non-null  object \n",
      " 15  family_size    26457 non-null  float64\n",
      " 16  begin_month    26457 non-null  float64\n",
      " 17  credit         26457 non-null  object \n",
      "dtypes: float64(3), int64(3), object(12)\n",
      "memory usage: 5.1+ MB\n"
     ]
    }
   ],
   "source": [
    "m_train.info()"
   ]
  },
  {
   "cell_type": "code",
   "execution_count": 256,
   "metadata": {},
   "outputs": [],
   "source": [
    "# 2. credit 변수 분할 \n",
    "\n",
    "target_credit = m_train['credit']\n",
    "m_train_x = m_train.drop('credit', axis = 1)"
   ]
  },
  {
   "cell_type": "code",
   "execution_count": 258,
   "metadata": {},
   "outputs": [],
   "source": [
    "dum_train_x = pd.get_dummies(m_train_x, drop_first = True)"
   ]
  },
  {
   "cell_type": "code",
   "execution_count": 259,
   "metadata": {},
   "outputs": [
    {
     "data": {
      "text/html": [
       "<div>\n",
       "<style scoped>\n",
       "    .dataframe tbody tr th:only-of-type {\n",
       "        vertical-align: middle;\n",
       "    }\n",
       "\n",
       "    .dataframe tbody tr th {\n",
       "        vertical-align: top;\n",
       "    }\n",
       "\n",
       "    .dataframe thead th {\n",
       "        text-align: right;\n",
       "    }\n",
       "</style>\n",
       "<table border=\"1\" class=\"dataframe\">\n",
       "  <thead>\n",
       "    <tr style=\"text-align: right;\">\n",
       "      <th></th>\n",
       "      <th>child_num</th>\n",
       "      <th>income_total</th>\n",
       "      <th>DAYS_BIRTH</th>\n",
       "      <th>DAYS_EMPLOYED</th>\n",
       "      <th>family_size</th>\n",
       "      <th>begin_month</th>\n",
       "      <th>gender_M</th>\n",
       "      <th>car_Y</th>\n",
       "      <th>reality_Y</th>\n",
       "      <th>income_type_Pensioner</th>\n",
       "      <th>...</th>\n",
       "      <th>occyp_type_Managers</th>\n",
       "      <th>occyp_type_Medicine staff</th>\n",
       "      <th>occyp_type_Private service staff</th>\n",
       "      <th>occyp_type_Realty agents</th>\n",
       "      <th>occyp_type_Retired</th>\n",
       "      <th>occyp_type_Sales staff</th>\n",
       "      <th>occyp_type_Secretaries</th>\n",
       "      <th>occyp_type_Security staff</th>\n",
       "      <th>occyp_type_State servant</th>\n",
       "      <th>occyp_type_Waiters/barmen staff</th>\n",
       "    </tr>\n",
       "    <tr>\n",
       "      <th>index</th>\n",
       "      <th></th>\n",
       "      <th></th>\n",
       "      <th></th>\n",
       "      <th></th>\n",
       "      <th></th>\n",
       "      <th></th>\n",
       "      <th></th>\n",
       "      <th></th>\n",
       "      <th></th>\n",
       "      <th></th>\n",
       "      <th></th>\n",
       "      <th></th>\n",
       "      <th></th>\n",
       "      <th></th>\n",
       "      <th></th>\n",
       "      <th></th>\n",
       "      <th></th>\n",
       "      <th></th>\n",
       "      <th></th>\n",
       "      <th></th>\n",
       "      <th></th>\n",
       "    </tr>\n",
       "  </thead>\n",
       "  <tbody>\n",
       "    <tr>\n",
       "      <th>0</th>\n",
       "      <td>0</td>\n",
       "      <td>202500.0</td>\n",
       "      <td>-13899</td>\n",
       "      <td>-4709</td>\n",
       "      <td>2.0</td>\n",
       "      <td>-6.0</td>\n",
       "      <td>0</td>\n",
       "      <td>0</td>\n",
       "      <td>0</td>\n",
       "      <td>0</td>\n",
       "      <td>...</td>\n",
       "      <td>0</td>\n",
       "      <td>0</td>\n",
       "      <td>0</td>\n",
       "      <td>0</td>\n",
       "      <td>0</td>\n",
       "      <td>0</td>\n",
       "      <td>0</td>\n",
       "      <td>0</td>\n",
       "      <td>0</td>\n",
       "      <td>0</td>\n",
       "    </tr>\n",
       "    <tr>\n",
       "      <th>1</th>\n",
       "      <td>1</td>\n",
       "      <td>247500.0</td>\n",
       "      <td>-11380</td>\n",
       "      <td>-1540</td>\n",
       "      <td>3.0</td>\n",
       "      <td>-5.0</td>\n",
       "      <td>0</td>\n",
       "      <td>0</td>\n",
       "      <td>1</td>\n",
       "      <td>0</td>\n",
       "      <td>...</td>\n",
       "      <td>0</td>\n",
       "      <td>0</td>\n",
       "      <td>0</td>\n",
       "      <td>0</td>\n",
       "      <td>0</td>\n",
       "      <td>0</td>\n",
       "      <td>0</td>\n",
       "      <td>0</td>\n",
       "      <td>0</td>\n",
       "      <td>0</td>\n",
       "    </tr>\n",
       "    <tr>\n",
       "      <th>2</th>\n",
       "      <td>0</td>\n",
       "      <td>450000.0</td>\n",
       "      <td>-19087</td>\n",
       "      <td>-4434</td>\n",
       "      <td>2.0</td>\n",
       "      <td>-22.0</td>\n",
       "      <td>1</td>\n",
       "      <td>1</td>\n",
       "      <td>1</td>\n",
       "      <td>0</td>\n",
       "      <td>...</td>\n",
       "      <td>1</td>\n",
       "      <td>0</td>\n",
       "      <td>0</td>\n",
       "      <td>0</td>\n",
       "      <td>0</td>\n",
       "      <td>0</td>\n",
       "      <td>0</td>\n",
       "      <td>0</td>\n",
       "      <td>0</td>\n",
       "      <td>0</td>\n",
       "    </tr>\n",
       "    <tr>\n",
       "      <th>3</th>\n",
       "      <td>0</td>\n",
       "      <td>202500.0</td>\n",
       "      <td>-15088</td>\n",
       "      <td>-2092</td>\n",
       "      <td>2.0</td>\n",
       "      <td>-37.0</td>\n",
       "      <td>0</td>\n",
       "      <td>0</td>\n",
       "      <td>1</td>\n",
       "      <td>0</td>\n",
       "      <td>...</td>\n",
       "      <td>0</td>\n",
       "      <td>0</td>\n",
       "      <td>0</td>\n",
       "      <td>0</td>\n",
       "      <td>0</td>\n",
       "      <td>1</td>\n",
       "      <td>0</td>\n",
       "      <td>0</td>\n",
       "      <td>0</td>\n",
       "      <td>0</td>\n",
       "    </tr>\n",
       "    <tr>\n",
       "      <th>4</th>\n",
       "      <td>0</td>\n",
       "      <td>157500.0</td>\n",
       "      <td>-15037</td>\n",
       "      <td>-2105</td>\n",
       "      <td>2.0</td>\n",
       "      <td>-26.0</td>\n",
       "      <td>0</td>\n",
       "      <td>1</td>\n",
       "      <td>1</td>\n",
       "      <td>0</td>\n",
       "      <td>...</td>\n",
       "      <td>1</td>\n",
       "      <td>0</td>\n",
       "      <td>0</td>\n",
       "      <td>0</td>\n",
       "      <td>0</td>\n",
       "      <td>0</td>\n",
       "      <td>0</td>\n",
       "      <td>0</td>\n",
       "      <td>0</td>\n",
       "      <td>0</td>\n",
       "    </tr>\n",
       "  </tbody>\n",
       "</table>\n",
       "<p>5 rows × 49 columns</p>\n",
       "</div>"
      ],
      "text/plain": [
       "       child_num  income_total  DAYS_BIRTH  DAYS_EMPLOYED  family_size  \\\n",
       "index                                                                    \n",
       "0              0      202500.0      -13899          -4709          2.0   \n",
       "1              1      247500.0      -11380          -1540          3.0   \n",
       "2              0      450000.0      -19087          -4434          2.0   \n",
       "3              0      202500.0      -15088          -2092          2.0   \n",
       "4              0      157500.0      -15037          -2105          2.0   \n",
       "\n",
       "       begin_month  gender_M  car_Y  reality_Y  income_type_Pensioner  ...  \\\n",
       "index                                                                  ...   \n",
       "0             -6.0         0      0          0                      0  ...   \n",
       "1             -5.0         0      0          1                      0  ...   \n",
       "2            -22.0         1      1          1                      0  ...   \n",
       "3            -37.0         0      0          1                      0  ...   \n",
       "4            -26.0         0      1          1                      0  ...   \n",
       "\n",
       "       occyp_type_Managers  occyp_type_Medicine staff  \\\n",
       "index                                                   \n",
       "0                        0                          0   \n",
       "1                        0                          0   \n",
       "2                        1                          0   \n",
       "3                        0                          0   \n",
       "4                        1                          0   \n",
       "\n",
       "       occyp_type_Private service staff  occyp_type_Realty agents  \\\n",
       "index                                                               \n",
       "0                                     0                         0   \n",
       "1                                     0                         0   \n",
       "2                                     0                         0   \n",
       "3                                     0                         0   \n",
       "4                                     0                         0   \n",
       "\n",
       "       occyp_type_Retired  occyp_type_Sales staff  occyp_type_Secretaries  \\\n",
       "index                                                                       \n",
       "0                       0                       0                       0   \n",
       "1                       0                       0                       0   \n",
       "2                       0                       0                       0   \n",
       "3                       0                       1                       0   \n",
       "4                       0                       0                       0   \n",
       "\n",
       "       occyp_type_Security staff  occyp_type_State servant  \\\n",
       "index                                                        \n",
       "0                              0                         0   \n",
       "1                              0                         0   \n",
       "2                              0                         0   \n",
       "3                              0                         0   \n",
       "4                              0                         0   \n",
       "\n",
       "       occyp_type_Waiters/barmen staff  \n",
       "index                                   \n",
       "0                                    0  \n",
       "1                                    0  \n",
       "2                                    0  \n",
       "3                                    0  \n",
       "4                                    0  \n",
       "\n",
       "[5 rows x 49 columns]"
      ]
     },
     "execution_count": 259,
     "metadata": {},
     "output_type": "execute_result"
    }
   ],
   "source": [
    "dum_train_x.head()"
   ]
  },
  {
   "cell_type": "code",
   "execution_count": 328,
   "metadata": {},
   "outputs": [
    {
     "data": {
      "text/plain": [
       "(26457, 49)"
      ]
     },
     "execution_count": 328,
     "metadata": {},
     "output_type": "execute_result"
    }
   ],
   "source": [
    "dum_train_x.shape"
   ]
  },
  {
   "cell_type": "code",
   "execution_count": 274,
   "metadata": {},
   "outputs": [
    {
     "data": {
      "text/plain": [
       "index\n",
       "0        1\n",
       "1        1\n",
       "2        2\n",
       "3        0\n",
       "4        2\n",
       "        ..\n",
       "26452    1\n",
       "26453    2\n",
       "26454    2\n",
       "26455    2\n",
       "26456    2\n",
       "Name: credit, Length: 26457, dtype: object"
      ]
     },
     "execution_count": 274,
     "metadata": {},
     "output_type": "execute_result"
    }
   ],
   "source": [
    "target_credit"
   ]
  },
  {
   "cell_type": "code",
   "execution_count": 329,
   "metadata": {},
   "outputs": [],
   "source": [
    "dum_test_x = pd.get_dummies(m_test, drop_first = True)"
   ]
  },
  {
   "cell_type": "markdown",
   "metadata": {},
   "source": [
    "# 모델 학습 "
   ]
  },
  {
   "cell_type": "code",
   "execution_count": 262,
   "metadata": {},
   "outputs": [],
   "source": [
    "from sklearn.ensemble import RandomForestClassifier\n",
    "from sklearn.model_selection import train_test_split"
   ]
  },
  {
   "cell_type": "code",
   "execution_count": 309,
   "metadata": {},
   "outputs": [],
   "source": [
    "target_credit=target_credit.astype('int')\n",
    "train_x, test_x, train_y, test_y = train_test_split(dum_train_x, target_credit, test_size = 0.25)"
   ]
  },
  {
   "cell_type": "code",
   "execution_count": 310,
   "metadata": {},
   "outputs": [
    {
     "name": "stdout",
     "output_type": "stream",
     "text": [
      "(19842, 49) (19842,) (6615, 49) (6615,)\n"
     ]
    }
   ],
   "source": [
    "print(train_x.shape, train_y.shape, test_x.shape, test_y.shape)"
   ]
  },
  {
   "cell_type": "code",
   "execution_count": 311,
   "metadata": {},
   "outputs": [],
   "source": [
    "clf = RandomForestClassifier(n_estimators = 50)"
   ]
  },
  {
   "cell_type": "code",
   "execution_count": 312,
   "metadata": {},
   "outputs": [
    {
     "data": {
      "text/plain": [
       "RandomForestClassifier(n_estimators=50)"
      ]
     },
     "execution_count": 312,
     "metadata": {},
     "output_type": "execute_result"
    }
   ],
   "source": [
    "clf.fit(train_x, train_y)"
   ]
  },
  {
   "cell_type": "code",
   "execution_count": 313,
   "metadata": {},
   "outputs": [],
   "source": [
    "test_proba = clf.predict_proba(test_x)"
   ]
  },
  {
   "cell_type": "code",
   "execution_count": 314,
   "metadata": {},
   "outputs": [],
   "source": [
    "from sklearn.metrics import log_loss"
   ]
  },
  {
   "cell_type": "code",
   "execution_count": 315,
   "metadata": {},
   "outputs": [],
   "source": [
    "score = log_loss(test_y, test_proba)"
   ]
  },
  {
   "cell_type": "code",
   "execution_count": 316,
   "metadata": {},
   "outputs": [
    {
     "data": {
      "text/plain": [
       "1.2886161728513967"
      ]
     },
     "execution_count": 316,
     "metadata": {},
     "output_type": "execute_result"
    }
   ],
   "source": [
    "score"
   ]
  },
  {
   "cell_type": "code",
   "execution_count": 317,
   "metadata": {},
   "outputs": [
    {
     "name": "stdout",
     "output_type": "stream",
     "text": [
      "최적 하이퍼 파라미터:  {'max_depth': 12, 'min_samples_leaf': 8, 'min_samples_split': 8, 'n_estimators': 100}\n",
      "최고 예측 정확도: 0.6923\n"
     ]
    }
   ],
   "source": [
    "from sklearn.model_selection import GridSearchCV\n",
    "\n",
    "params = { 'n_estimators' : [10, 100],\n",
    "           'max_depth' : [6, 8, 10, 12],\n",
    "           'min_samples_leaf' : [8, 12, 18],\n",
    "           'min_samples_split' : [8, 16, 20]\n",
    "            }\n",
    "\n",
    "# RandomForestClassifier 객체 생성 후 GridSearchCV 수행\n",
    "rf_clf = RandomForestClassifier(random_state = 0, n_jobs = -1)\n",
    "grid_cv = GridSearchCV(rf_clf, param_grid = params, cv = 3, n_jobs = -1)\n",
    "grid_cv.fit(train_x, train_y)\n",
    "\n",
    "print('최적 하이퍼 파라미터: ', grid_cv.best_params_)\n",
    "print('최고 예측 정확도: {:.4f}'.format(grid_cv.best_score_))"
   ]
  },
  {
   "cell_type": "code",
   "execution_count": 318,
   "metadata": {},
   "outputs": [
    {
     "name": "stdout",
     "output_type": "stream",
     "text": [
      "예측 정확도: 0.7959\n"
     ]
    }
   ],
   "source": [
    "#위의 결과로 나온 최적 하이퍼 파라미터로 다시 모델을 학습하여 테스트 세트 데이터에서 예측 성능을 측정\n",
    "rf_clf1 = RandomForestClassifier(n_estimators = 100, \n",
    "                                max_depth = 12,\n",
    "                                min_samples_leaf = 8,\n",
    "                                min_samples_split = 20,\n",
    "                                random_state = 0,\n",
    "                                n_jobs = -1)\n",
    "rf_clf1.fit(train_x, train_y)\n",
    "pred = rf_clf1.predict_proba(test_x)\n",
    "print('예측 정확도: {:.4f}'.format(log_loss(test_y,pred)))"
   ]
  },
  {
   "cell_type": "markdown",
   "metadata": {},
   "source": [
    "# test 데이터에 대한 predict "
   ]
  },
  {
   "cell_type": "code",
   "execution_count": 326,
   "metadata": {},
   "outputs": [
    {
     "data": {
      "text/plain": [
       "RandomForestClassifier(max_depth=12, min_samples_leaf=8, min_samples_split=20,\n",
       "                       n_jobs=-1, random_state=0)"
      ]
     },
     "execution_count": 326,
     "metadata": {},
     "output_type": "execute_result"
    }
   ],
   "source": [
    "rf_clf1.fit(dum_train_x, target_credit)"
   ]
  },
  {
   "cell_type": "code",
   "execution_count": 330,
   "metadata": {},
   "outputs": [],
   "source": [
    "test_pred = rf_clf1.predict_proba(dum_test_x)"
   ]
  },
  {
   "cell_type": "code",
   "execution_count": 332,
   "metadata": {},
   "outputs": [
    {
     "data": {
      "text/plain": [
       "(10000, 3)"
      ]
     },
     "execution_count": 332,
     "metadata": {},
     "output_type": "execute_result"
    }
   ],
   "source": [
    "test_pred.shape"
   ]
  },
  {
   "cell_type": "code",
   "execution_count": 338,
   "metadata": {},
   "outputs": [],
   "source": [
    "submission = pd.read_csv('card_dataset/sample_submission.csv',index_col = 0)"
   ]
  },
  {
   "cell_type": "code",
   "execution_count": 342,
   "metadata": {},
   "outputs": [],
   "source": [
    "submission.iloc[:,:] = test_pred"
   ]
  },
  {
   "cell_type": "code",
   "execution_count": 344,
   "metadata": {},
   "outputs": [],
   "source": [
    "submission.to_csv('submission/base_output.csv', index=True)"
   ]
  },
  {
   "cell_type": "code",
   "execution_count": null,
   "metadata": {},
   "outputs": [],
   "source": []
  }
 ],
 "metadata": {
  "kernelspec": {
   "display_name": "Python 3",
   "language": "python",
   "name": "python3"
  },
  "language_info": {
   "codemirror_mode": {
    "name": "ipython",
    "version": 3
   },
   "file_extension": ".py",
   "mimetype": "text/x-python",
   "name": "python",
   "nbconvert_exporter": "python",
   "pygments_lexer": "ipython3",
   "version": "3.8.3"
  }
 },
 "nbformat": 4,
 "nbformat_minor": 4
}
