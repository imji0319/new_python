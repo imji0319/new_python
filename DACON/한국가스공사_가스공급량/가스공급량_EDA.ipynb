{
 "cells": [
  {
   "cell_type": "code",
   "execution_count": null,
   "id": "d74c467c-8f6c-4ea3-aaad-ba8b407c1962",
   "metadata": {},
   "outputs": [],
   "source": [
    "import numpy as np \n",
    "import pandas as pd"
   ]
  },
  {
   "cell_type": "code",
   "execution_count": null,
   "id": "f29f1a43-954a-49d1-8f33-defcd6ecc753",
   "metadata": {},
   "outputs": [],
   "source": [
    "df = pd.read_csv('한국가스공사_시간별_공급량_20181231.csv')"
   ]
  }
 ],
 "metadata": {
  "kernelspec": {
   "display_name": "",
   "name": ""
  },
  "language_info": {
   "name": ""
  }
 },
 "nbformat": 4,
 "nbformat_minor": 5
}
