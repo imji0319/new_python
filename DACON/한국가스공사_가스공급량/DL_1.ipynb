{
 "cells": [
  {
   "cell_type": "markdown",
   "id": "429d8bcc-ba17-45e5-a4c5-3f003d7c0ca1",
   "metadata": {},
   "source": [
    "# 딥러닝을 활용한 시계열 예측 \n",
    "https://d2.naver.com/helloworld/0065813\n",
    "\n",
    "\n",
    "LSTM 을 활용해 다음 90일 간의 가스 공급량을 예측해보고자 함"
   ]
  },
  {
   "cell_type": "code",
   "execution_count": 1,
   "id": "3ef0295a-9372-4ea9-8a0f-f8a132246661",
   "metadata": {},
   "outputs": [],
   "source": [
    "import numpy as np\n",
    "import pandas as pd \n",
    "import datetime\n",
    "import matplotlib.pyplot as plt \n",
    "%matplotlib inline \n",
    "\n",
    "plt.rc('font', family = 'AppleGothic')\n",
    "plt.rcParams['axes.unicode_minus'] = False\n",
    "\n",
    "\n",
    "df = pd.read_csv('한국가스공사_시간별 공급량_20181231.csv', encoding = 'euc-kr')\n",
    "test = pd.read_csv('가스공급량 수요예측모델개발_data/test.csv')\n",
    "sub = pd.read_csv('가스공급량 수요예측모델개발_data/sample_submission.csv')"
   ]
  },
  {
   "cell_type": "code",
   "execution_count": 2,
   "id": "1fa6f23f-ea90-4e6d-9fd9-abe76a7c32cc",
   "metadata": {},
   "outputs": [],
   "source": [
    "def tohour(val):\n",
    "    if len(val) == 1:\n",
    "        return '0'+val+':00:00'\n",
    "    else:\n",
    "        return val+':00:00'"
   ]
  },
  {
   "cell_type": "code",
   "execution_count": 3,
   "id": "a70173ce-ff82-4bad-adf7-81e32fdc4885",
   "metadata": {},
   "outputs": [],
   "source": [
    "df['시간_수정'] = df['시간'] -1 \n",
    "df['시간_수정'] = df['시간_수정'].astype(str)\n",
    "df['시간_수정'] = df['시간_수정'].apply(tohour)\n",
    "df['연월일시간'] = df['연월일']+' '+df['시간_수정']\n",
    "df['연월일시간'] = pd.to_datetime(df['연월일시간'])"
   ]
  },
  {
   "cell_type": "code",
   "execution_count": 35,
   "id": "ff88deb2-9977-4fd8-be03-42662fadb092",
   "metadata": {},
   "outputs": [],
   "source": [
    "A = df[df['구분'] =='A']\n",
    "B = df[df['구분'] =='B']\n",
    "C = df[df['구분'] =='C']\n",
    "D = df[df['구분'] =='D']\n",
    "E = df[df['구분'] =='E']\n",
    "G = df[df['구분'] =='G']\n",
    "H = df[df['구분'] =='H']"
   ]
  },
  {
   "cell_type": "code",
   "execution_count": 36,
   "id": "26abf23e-70b0-4919-b5dd-f7eefd97e452",
   "metadata": {},
   "outputs": [],
   "source": [
    "def gubun(df):\n",
    "    df = df[['연월일시간','공급량']]\n",
    "    df.columns = ['ds','y']\n",
    "    df = df.set_index('ds')\n",
    "    return df"
   ]
  },
  {
   "cell_type": "code",
   "execution_count": 37,
   "id": "7492b8b2-5cf3-4e3c-82b2-b09ef70e10f8",
   "metadata": {},
   "outputs": [],
   "source": [
    "a = gubun(A)\n",
    "b = gubun(B)\n",
    "c = gubun(C)\n",
    "d = gubun(D)\n",
    "e = gubun(E)\n",
    "g = gubun(G)\n",
    "h = gubun(H)"
   ]
  },
  {
   "cell_type": "code",
   "execution_count": 38,
   "id": "abfcf761-2378-4971-a493-ff49b301a7b5",
   "metadata": {},
   "outputs": [],
   "source": [
    "test['일자'] =test['일자|시간|구분'].str.slice(0,10)\n",
    "test['시간'] = test['일자|시간|구분'].str.slice(11,13)\n",
    "test['구분'] = test['일자|시간|구분'].str.slice(14)\n",
    "test['시간_수정'] = test['시간'].astype(int)-1\n",
    "test['시간_수정'] =test['시간_수정'].astype(str)\n",
    "test['시간_수정'] = test['시간_수정'].apply(tohour)\n",
    "test['연월일시간'] = test['일자'] +' '+ test['시간_수정']\n",
    "test['연월일시간'] = pd.to_datetime(test['연월일시간'])"
   ]
  },
  {
   "cell_type": "code",
   "execution_count": 39,
   "id": "2d13f4db-8630-45df-9dd9-d3b60e4bccf1",
   "metadata": {},
   "outputs": [],
   "source": [
    "def gubun_t(구분):\n",
    "    a_test = test[test['구분'] ==구분][['연월일시간']]\n",
    "    a_test.columns =['ds']\n",
    "    \n",
    "    return a_test"
   ]
  },
  {
   "cell_type": "code",
   "execution_count": 40,
   "id": "2962e4da-f87f-44d8-a8d1-1e4e12b7c67e",
   "metadata": {},
   "outputs": [],
   "source": [
    "a_test = gubun_t('A')\n",
    "b_test = gubun_t('B')\n",
    "c_test = gubun_t('C')\n",
    "d_test = gubun_t('D')\n",
    "e_test = gubun_t('E')\n",
    "g_test = gubun_t('G')\n",
    "h_test = gubun_t('H')"
   ]
  },
  {
   "cell_type": "markdown",
   "id": "500f2178-2059-4edb-a65f-71bbde8d980c",
   "metadata": {},
   "source": [
    "# Kaggle : Hourly energy consumption time series RNN, LSTM\n",
    "https://www.kaggle.com/msripooja/hourly-energy-consumption-time-series-rnn-lstm\n"
   ]
  },
  {
   "cell_type": "code",
   "execution_count": 41,
   "id": "f8a77876-b7ee-4503-aae1-31a2074b18d0",
   "metadata": {
    "scrolled": true,
    "tags": []
   },
   "outputs": [
    {
     "data": {
      "text/html": [
       "<div>\n",
       "<style scoped>\n",
       "    .dataframe tbody tr th:only-of-type {\n",
       "        vertical-align: middle;\n",
       "    }\n",
       "\n",
       "    .dataframe tbody tr th {\n",
       "        vertical-align: top;\n",
       "    }\n",
       "\n",
       "    .dataframe thead th {\n",
       "        text-align: right;\n",
       "    }\n",
       "</style>\n",
       "<table border=\"1\" class=\"dataframe\">\n",
       "  <thead>\n",
       "    <tr style=\"text-align: right;\">\n",
       "      <th></th>\n",
       "      <th>y</th>\n",
       "    </tr>\n",
       "    <tr>\n",
       "      <th>ds</th>\n",
       "      <th></th>\n",
       "    </tr>\n",
       "  </thead>\n",
       "  <tbody>\n",
       "    <tr>\n",
       "      <th>2013-01-01 00:00:00</th>\n",
       "      <td>2497.129</td>\n",
       "    </tr>\n",
       "    <tr>\n",
       "      <th>2013-01-01 01:00:00</th>\n",
       "      <td>2363.265</td>\n",
       "    </tr>\n",
       "    <tr>\n",
       "      <th>2013-01-01 02:00:00</th>\n",
       "      <td>2258.505</td>\n",
       "    </tr>\n",
       "    <tr>\n",
       "      <th>2013-01-01 03:00:00</th>\n",
       "      <td>2243.969</td>\n",
       "    </tr>\n",
       "    <tr>\n",
       "      <th>2013-01-01 04:00:00</th>\n",
       "      <td>2344.105</td>\n",
       "    </tr>\n",
       "    <tr>\n",
       "      <th>...</th>\n",
       "      <td>...</td>\n",
       "    </tr>\n",
       "    <tr>\n",
       "      <th>2018-12-31 19:00:00</th>\n",
       "      <td>3040.868</td>\n",
       "    </tr>\n",
       "    <tr>\n",
       "      <th>2018-12-31 20:00:00</th>\n",
       "      <td>2973.577</td>\n",
       "    </tr>\n",
       "    <tr>\n",
       "      <th>2018-12-31 21:00:00</th>\n",
       "      <td>2840.272</td>\n",
       "    </tr>\n",
       "    <tr>\n",
       "      <th>2018-12-31 22:00:00</th>\n",
       "      <td>2692.385</td>\n",
       "    </tr>\n",
       "    <tr>\n",
       "      <th>2018-12-31 23:00:00</th>\n",
       "      <td>2583.340</td>\n",
       "    </tr>\n",
       "  </tbody>\n",
       "</table>\n",
       "<p>52584 rows × 1 columns</p>\n",
       "</div>"
      ],
      "text/plain": [
       "                            y\n",
       "ds                           \n",
       "2013-01-01 00:00:00  2497.129\n",
       "2013-01-01 01:00:00  2363.265\n",
       "2013-01-01 02:00:00  2258.505\n",
       "2013-01-01 03:00:00  2243.969\n",
       "2013-01-01 04:00:00  2344.105\n",
       "...                       ...\n",
       "2018-12-31 19:00:00  3040.868\n",
       "2018-12-31 20:00:00  2973.577\n",
       "2018-12-31 21:00:00  2840.272\n",
       "2018-12-31 22:00:00  2692.385\n",
       "2018-12-31 23:00:00  2583.340\n",
       "\n",
       "[52584 rows x 1 columns]"
      ]
     },
     "execution_count": 41,
     "metadata": {},
     "output_type": "execute_result"
    }
   ],
   "source": [
    "a"
   ]
  },
  {
   "cell_type": "code",
   "execution_count": 42,
   "id": "3eae0bc9-de83-481e-a2d3-7376e69e322b",
   "metadata": {},
   "outputs": [
    {
     "data": {
      "text/plain": [
       "<AxesSubplot:xlabel='ds'>"
      ]
     },
     "execution_count": 42,
     "metadata": {},
     "output_type": "execute_result"
    },
    {
     "data": {
      "image/png": "[encoded data removed]",
      "text/plain": [
       "<Figure size 1152x288 with 1 Axes>"
      ]
     },
     "metadata": {
      "needs_background": "light"
     },
     "output_type": "display_data"
    }
   ],
   "source": [
    "a.plot(figsize = (16,4))"
   ]
  },
  {
   "cell_type": "code",
   "execution_count": 13,
   "id": "f566b675-73c2-4126-adda-dca041c31b13",
   "metadata": {},
   "outputs": [],
   "source": [
    "#from sklearn.preprocessing import MinMaxScaler\n",
    "#from sklearn.metrics import r2_score\n",
    "import tensorflow as tf \n",
    "from tensorflow import keras\n",
    "\n",
    "from tensorflow.keras.layers import Dense, Dropout, SimpleRNN,LSTM\n",
    "from tensorflow.keras.models import Sequential\n",
    "\n",
    "from sklearn.preprocessing import MinMaxScaler"
   ]
  },
  {
   "cell_type": "code",
   "execution_count": 14,
   "id": "7fd7a7dc",
   "metadata": {},
   "outputs": [],
   "source": [
    "def normalize_data(df):\n",
    "    scaler = MinMaxScaler()\n",
    "    df['y'] = scaler.fit_transform(df['y'].values.reshape(-1,1))\n",
    "    return df"
   ]
  },
  {
   "cell_type": "code",
   "execution_count": 15,
   "id": "c271f014",
   "metadata": {},
   "outputs": [],
   "source": [
    "df_norm = normalize_data(a)"
   ]
  },
  {
   "cell_type": "code",
   "execution_count": 15,
   "id": "a3f306ff",
   "metadata": {},
   "outputs": [
    {
     "data": {
      "text/plain": [
       "<AxesSubplot:xlabel='ds'>"
      ]
     },
     "execution_count": 15,
     "metadata": {},
     "output_type": "execute_result"
    },
    {
     "data": {
      "image/png": "[encoded data removed]",
      "text/plain": [
       "<Figure size 1152x288 with 1 Axes>"
      ]
     },
     "metadata": {
      "needs_background": "light"
     },
     "output_type": "display_data"
    }
   ],
   "source": [
    "df_norm.plot(figsize = (16,4), legend = True)"
   ]
  },
  {
   "cell_type": "markdown",
   "id": "2306279c",
   "metadata": {},
   "source": [
    "#### RNN 모델을 위한 데이터 전처리"
   ]
  },
  {
   "cell_type": "code",
   "execution_count": 16,
   "id": "ec2d47b0",
   "metadata": {},
   "outputs": [],
   "source": [
    "def load_data(stock, seq_len):\n",
    "    X_train = []\n",
    "    y_train = []\n",
    "    \n",
    "    for i in range(seq_len, len(stock)):\n",
    "        X_train.append(stock.iloc[i-seq_len : i, 0])\n",
    "        y_train.append(stock.iloc[i, 0])\n",
    "        \n",
    "    # 400일 데이터를 test로 활용  : 400 * 24 = 9600\n",
    "    X_test = X_train[9600:]\n",
    "    y_test = y_train[9600:]\n",
    "    \n",
    "    # training \n",
    "    X_train = X_train[:9600]\n",
    "    y_train = y_train[:9600]\n",
    "    \n",
    "    # to numpy \n",
    "    X_train = np.array(X_train)\n",
    "    y_train = np.array(y_train)\n",
    "    \n",
    "    X_test = np.array(X_test)\n",
    "    y_test = np.array(y_test)\n",
    "    \n",
    "    # reshape \n",
    "    X_train = np.reshape(X_train, (9600, seq_len, 1))\n",
    "    X_test = np.reshape(X_test, (X_test.shape[0], seq_len, 1))\n",
    "    \n",
    "    return [X_train, y_train, X_test, y_test]\n",
    "    "
   ]
  },
  {
   "cell_type": "code",
   "execution_count": 43,
   "id": "6dbeadeb",
   "metadata": {},
   "outputs": [],
   "source": [
    "X_train, y_train, X_test, y_test = load_data(a, 90)"
   ]
  },
  {
   "cell_type": "code",
   "execution_count": 44,
   "id": "08207aa4",
   "metadata": {
    "scrolled": true
   },
   "outputs": [
    {
     "data": {
      "text/plain": [
       "(9600, 90, 1)"
      ]
     },
     "execution_count": 44,
     "metadata": {},
     "output_type": "execute_result"
    }
   ],
   "source": [
    "X_train.shape"
   ]
  },
  {
   "cell_type": "code",
   "execution_count": 50,
   "id": "fde74655-87f6-4bb3-b3b3-558e7dc93946",
   "metadata": {
    "collapsed": true,
    "jupyter": {
     "outputs_hidden": true
    },
    "tags": []
   },
   "outputs": [
    {
     "data": {
      "text/plain": [
       "array([[[2379.217],\n",
       "        [2100.161],\n",
       "        [1946.265],\n",
       "        ...,\n",
       "        [1806.281],\n",
       "        [1879.849],\n",
       "        [2112.233]],\n",
       "\n",
       "       [[2100.161],\n",
       "        [1946.265],\n",
       "        [2023.825],\n",
       "        ...,\n",
       "        [1879.849],\n",
       "        [2112.233],\n",
       "        [2430.081]],\n",
       "\n",
       "       [[1946.265],\n",
       "        [2023.825],\n",
       "        [2226.561],\n",
       "        ...,\n",
       "        [2112.233],\n",
       "        [2430.081],\n",
       "        [2410.049]],\n",
       "\n",
       "       ...,\n",
       "\n",
       "       [[2389.755],\n",
       "        [2555.288],\n",
       "        [2787.287],\n",
       "        ...,\n",
       "        [2991.729],\n",
       "        [3040.868],\n",
       "        [2973.577]],\n",
       "\n",
       "       [[2555.288],\n",
       "        [2787.287],\n",
       "        [3046.463],\n",
       "        ...,\n",
       "        [3040.868],\n",
       "        [2973.577],\n",
       "        [2840.272]],\n",
       "\n",
       "       [[2787.287],\n",
       "        [3046.463],\n",
       "        [3509.966],\n",
       "        ...,\n",
       "        [2973.577],\n",
       "        [2840.272],\n",
       "        [2692.385]]])"
      ]
     },
     "execution_count": 50,
     "metadata": {},
     "output_type": "execute_result"
    }
   ],
   "source": [
    "X_test"
   ]
  },
  {
   "cell_type": "code",
   "execution_count": 46,
   "id": "e0550a34",
   "metadata": {},
   "outputs": [
    {
     "name": "stdout",
     "output_type": "stream",
     "text": [
      "Model: \"sequential_2\"\n",
      "_________________________________________________________________\n",
      "Layer (type)                 Output Shape              Param #   \n",
      "=================================================================\n",
      "simple_rnn_6 (SimpleRNN)     (None, 90, 40)            1680      \n",
      "_________________________________________________________________\n",
      "dropout_6 (Dropout)          (None, 90, 40)            0         \n",
      "_________________________________________________________________\n",
      "simple_rnn_7 (SimpleRNN)     (None, 90, 40)            3240      \n",
      "_________________________________________________________________\n",
      "dropout_7 (Dropout)          (None, 90, 40)            0         \n",
      "_________________________________________________________________\n",
      "simple_rnn_8 (SimpleRNN)     (None, 40)                3240      \n",
      "_________________________________________________________________\n",
      "dropout_8 (Dropout)          (None, 40)                0         \n",
      "_________________________________________________________________\n",
      "dense_2 (Dense)              (None, 1)                 41        \n",
      "=================================================================\n",
      "Total params: 8,201\n",
      "Trainable params: 8,201\n",
      "Non-trainable params: 0\n",
      "_________________________________________________________________\n"
     ]
    }
   ],
   "source": [
    "rnn_model = Sequential()\n",
    "\n",
    "rnn_model.add(SimpleRNN(40, activation = 'tanh', return_sequences =True, \n",
    "                        input_shape = (X_train.shape[1], 1)))\n",
    "rnn_model.add(Dropout(0.15))\n",
    "\n",
    "rnn_model.add(SimpleRNN(40, activation = 'tanh', return_sequences =True))\n",
    "rnn_model.add(Dropout(0.15))\n",
    "\n",
    "rnn_model.add(SimpleRNN(40, activation = 'tanh', return_sequences =False))\n",
    "rnn_model.add(Dropout(0.15))\n",
    "\n",
    "rnn_model.add(Dense(1))\n",
    "rnn_model.summary()\n",
    "\n"
   ]
  },
  {
   "cell_type": "code",
   "execution_count": 47,
   "id": "ecd2b8ba",
   "metadata": {},
   "outputs": [
    {
     "name": "stdout",
     "output_type": "stream",
     "text": [
      "Epoch 1/10\n",
      "10/10 [==============================] - 2s 123ms/step - loss: 2439091.7500\n",
      "Epoch 2/10\n",
      "10/10 [==============================] - 1s 123ms/step - loss: 2431491.2500\n",
      "Epoch 3/10\n",
      "10/10 [==============================] - 1s 123ms/step - loss: 2426406.5000\n",
      "Epoch 4/10\n",
      "10/10 [==============================] - 1s 123ms/step - loss: 2422975.0000\n",
      "Epoch 5/10\n",
      "10/10 [==============================] - 1s 122ms/step - loss: 2420203.2500\n",
      "Epoch 6/10\n",
      "10/10 [==============================] - 1s 126ms/step - loss: 2418161.0000\n",
      "Epoch 7/10\n",
      "10/10 [==============================] - 1s 125ms/step - loss: 2416548.7500\n",
      "Epoch 8/10\n",
      "10/10 [==============================] - 1s 124ms/step - loss: 2415146.2500\n",
      "Epoch 9/10\n",
      "10/10 [==============================] - 1s 126ms/step - loss: 2413846.5000\n",
      "Epoch 10/10\n",
      "10/10 [==============================] - 1s 125ms/step - loss: 2412548.7500\n"
     ]
    },
    {
     "data": {
      "text/plain": [
       "<keras.callbacks.History at 0x2ac1dc520>"
      ]
     },
     "execution_count": 47,
     "metadata": {},
     "output_type": "execute_result"
    }
   ],
   "source": [
    "rnn_model.compile(optimizer=\"adam\",loss=\"MSE\")\n",
    "rnn_model.fit(X_train, y_train, epochs=10, batch_size=1000)"
   ]
  },
  {
   "cell_type": "code",
   "execution_count": 48,
   "id": "c9f024dc-bc58-473e-bda5-3cd4a1af2cf2",
   "metadata": {},
   "outputs": [
    {
     "name": "stdout",
     "output_type": "stream",
     "text": [
      "R2 Score of RNN model =  -2.457647336250547\n"
     ]
    }
   ],
   "source": [
    "rnn_predictions = rnn_model.predict(X_test)\n",
    "\n",
    "rnn_score = r2_score(y_test,rnn_predictions)\n",
    "print(\"R2 Score of RNN model = \",rnn_score)"
   ]
  },
  {
   "cell_type": "code",
   "execution_count": 49,
   "id": "4a5c5ce3-fd88-444e-9fb2-8a6975011df6",
   "metadata": {},
   "outputs": [
    {
     "data": {
      "text/plain": [
       "array([[11.405799],\n",
       "       [11.405799],\n",
       "       [11.4058  ],\n",
       "       ...,\n",
       "       [11.405799],\n",
       "       [11.405799],\n",
       "       [11.405799]], dtype=float32)"
      ]
     },
     "execution_count": 49,
     "metadata": {},
     "output_type": "execute_result"
    }
   ],
   "source": [
    "rnn_predictions"
   ]
  },
  {
   "cell_type": "code",
   "execution_count": null,
   "id": "6e5879d8-a586-4a75-8a41-3e351596d4f3",
   "metadata": {},
   "outputs": [],
   "source": []
  }
 ],
 "metadata": {
  "kernelspec": {
   "display_name": "Python 3 (ipykernel)",
   "language": "python",
   "name": "python3"
  },
  "language_info": {
   "codemirror_mode": {
    "name": "ipython",
    "version": 3
   },
   "file_extension": ".py",
   "mimetype": "text/x-python",
   "name": "python",
   "nbconvert_exporter": "python",
   "pygments_lexer": "ipython3",
   "version": "3.9.7"
  }
 },
 "nbformat": 4,
 "nbformat_minor": 5
}
