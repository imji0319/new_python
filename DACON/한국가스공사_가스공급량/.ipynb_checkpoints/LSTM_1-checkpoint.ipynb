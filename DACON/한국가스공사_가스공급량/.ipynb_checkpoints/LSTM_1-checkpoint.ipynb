{
 "cells": [
  {
   "cell_type": "markdown",
   "id": "429d8bcc-ba17-45e5-a4c5-3f003d7c0ca1",
   "metadata": {},
   "source": [
    "# 딥러닝을 활용한 시계열 예측 \n",
    "https://d2.naver.com/helloworld/0065813\n",
    "\n",
    "\n",
    "LSTM 을 활용해 다음 90일 간의 가스 공급량을 예측해보고자 함"
   ]
  },
  {
   "cell_type": "code",
   "execution_count": null,
   "id": "3ef0295a-9372-4ea9-8a0f-f8a132246661",
   "metadata": {},
   "outputs": [],
   "source": []
  }
 ],
 "metadata": {
  "kernelspec": {
   "display_name": "Python 3",
   "language": "python",
   "name": "python3"
  },
  "language_info": {
   "codemirror_mode": {
    "name": "ipython",
    "version": 3
   },
   "file_extension": ".py",
   "mimetype": "text/x-python",
   "name": "python",
   "nbconvert_exporter": "python",
   "pygments_lexer": "ipython3",
   "version": "3.8.8"
  }
 },
 "nbformat": 4,
 "nbformat_minor": 5
}
