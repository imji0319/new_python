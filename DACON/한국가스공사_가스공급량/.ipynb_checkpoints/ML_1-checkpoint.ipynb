{
 "cells": [
  {
   "cell_type": "markdown",
   "id": "eb833e76-2cdb-49ba-81b0-2e90ce93fe3a",
   "metadata": {},
   "source": [
    "# 머신러닝 모델 활용"
   ]
  },
  {
   "cell_type": "code",
   "execution_count": 3,
   "id": "f7fd769f-6d10-45d1-b59e-31fefe3f2f20",
   "metadata": {},
   "outputs": [],
   "source": [
    "import numpy as np\n",
    "import pandas as pd \n",
    "import lightgbm as lgb"
   ]
  },
  {
   "cell_type": "code",
   "execution_count": 4,
   "id": "ebf3ee1d-ecd2-4451-8689-67a4b0cdf442",
   "metadata": {},
   "outputs": [],
   "source": [
    "data = pd.read_csv('한국가스공사_시간별 공급량_20181231.csv', encoding ='cp949')"
   ]
  },
  {
   "cell_type": "code",
   "execution_count": 7,
   "id": "79d1bb48-7a1b-40db-903a-d54a24cd9ef6",
   "metadata": {},
   "outputs": [],
   "source": [
    "data['연월일'] = pd.to_datetime(data['연월일'])"
   ]
  },
  {
   "cell_type": "code",
   "execution_count": 9,
   "id": "7eab437c-0485-4c61-b3b3-88835db5ee29",
   "metadata": {},
   "outputs": [],
   "source": [
    "data['year'] = data['연월일'].dt.year\n",
    "data['month'] = data['연월일'].dt.month\n",
    "data['day'] = data['연월일'].dt.day\n",
    "data['weekday'] = data['연월일'].dt.weekday"
   ]
  },
  {
   "cell_type": "code",
   "execution_count": 12,
   "id": "c3008a47-6f78-41ec-ad9f-9881136540d1",
   "metadata": {},
   "outputs": [],
   "source": [
    "d_map ={}\n",
    "for i, d in enumerate(data['구분'].unique()):\n",
    "    d_map[d] = i \n",
    "data['구분'] = data['구분'].map(d_map)"
   ]
  },
  {
   "cell_type": "code",
   "execution_count": 18,
   "id": "45bc8dbc-0c43-4edd-a779-2cb0c61f7c8e",
   "metadata": {},
   "outputs": [
    {
     "data": {
      "text/html": [
       "<div>\n",
       "<style scoped>\n",
       "    .dataframe tbody tr th:only-of-type {\n",
       "        vertical-align: middle;\n",
       "    }\n",
       "\n",
       "    .dataframe tbody tr th {\n",
       "        vertical-align: top;\n",
       "    }\n",
       "\n",
       "    .dataframe thead th {\n",
       "        text-align: right;\n",
       "    }\n",
       "</style>\n",
       "<table border=\"1\" class=\"dataframe\">\n",
       "  <thead>\n",
       "    <tr style=\"text-align: right;\">\n",
       "      <th></th>\n",
       "      <th>연월일</th>\n",
       "      <th>시간</th>\n",
       "      <th>구분</th>\n",
       "      <th>공급량</th>\n",
       "      <th>year</th>\n",
       "      <th>month</th>\n",
       "      <th>day</th>\n",
       "      <th>weekday</th>\n",
       "    </tr>\n",
       "  </thead>\n",
       "  <tbody>\n",
       "    <tr>\n",
       "      <th>0</th>\n",
       "      <td>2013-01-01</td>\n",
       "      <td>1</td>\n",
       "      <td>0</td>\n",
       "      <td>2497.129</td>\n",
       "      <td>2013</td>\n",
       "      <td>1</td>\n",
       "      <td>1</td>\n",
       "      <td>1</td>\n",
       "    </tr>\n",
       "    <tr>\n",
       "      <th>1</th>\n",
       "      <td>2013-01-01</td>\n",
       "      <td>2</td>\n",
       "      <td>0</td>\n",
       "      <td>2363.265</td>\n",
       "      <td>2013</td>\n",
       "      <td>1</td>\n",
       "      <td>1</td>\n",
       "      <td>1</td>\n",
       "    </tr>\n",
       "    <tr>\n",
       "      <th>2</th>\n",
       "      <td>2013-01-01</td>\n",
       "      <td>3</td>\n",
       "      <td>0</td>\n",
       "      <td>2258.505</td>\n",
       "      <td>2013</td>\n",
       "      <td>1</td>\n",
       "      <td>1</td>\n",
       "      <td>1</td>\n",
       "    </tr>\n",
       "    <tr>\n",
       "      <th>3</th>\n",
       "      <td>2013-01-01</td>\n",
       "      <td>4</td>\n",
       "      <td>0</td>\n",
       "      <td>2243.969</td>\n",
       "      <td>2013</td>\n",
       "      <td>1</td>\n",
       "      <td>1</td>\n",
       "      <td>1</td>\n",
       "    </tr>\n",
       "    <tr>\n",
       "      <th>4</th>\n",
       "      <td>2013-01-01</td>\n",
       "      <td>5</td>\n",
       "      <td>0</td>\n",
       "      <td>2344.105</td>\n",
       "      <td>2013</td>\n",
       "      <td>1</td>\n",
       "      <td>1</td>\n",
       "      <td>1</td>\n",
       "    </tr>\n",
       "    <tr>\n",
       "      <th>...</th>\n",
       "      <td>...</td>\n",
       "      <td>...</td>\n",
       "      <td>...</td>\n",
       "      <td>...</td>\n",
       "      <td>...</td>\n",
       "      <td>...</td>\n",
       "      <td>...</td>\n",
       "      <td>...</td>\n",
       "    </tr>\n",
       "    <tr>\n",
       "      <th>368083</th>\n",
       "      <td>2018-12-31</td>\n",
       "      <td>20</td>\n",
       "      <td>6</td>\n",
       "      <td>681.033</td>\n",
       "      <td>2018</td>\n",
       "      <td>12</td>\n",
       "      <td>31</td>\n",
       "      <td>0</td>\n",
       "    </tr>\n",
       "    <tr>\n",
       "      <th>368084</th>\n",
       "      <td>2018-12-31</td>\n",
       "      <td>21</td>\n",
       "      <td>6</td>\n",
       "      <td>669.961</td>\n",
       "      <td>2018</td>\n",
       "      <td>12</td>\n",
       "      <td>31</td>\n",
       "      <td>0</td>\n",
       "    </tr>\n",
       "    <tr>\n",
       "      <th>368085</th>\n",
       "      <td>2018-12-31</td>\n",
       "      <td>22</td>\n",
       "      <td>6</td>\n",
       "      <td>657.941</td>\n",
       "      <td>2018</td>\n",
       "      <td>12</td>\n",
       "      <td>31</td>\n",
       "      <td>0</td>\n",
       "    </tr>\n",
       "    <tr>\n",
       "      <th>368086</th>\n",
       "      <td>2018-12-31</td>\n",
       "      <td>23</td>\n",
       "      <td>6</td>\n",
       "      <td>610.953</td>\n",
       "      <td>2018</td>\n",
       "      <td>12</td>\n",
       "      <td>31</td>\n",
       "      <td>0</td>\n",
       "    </tr>\n",
       "    <tr>\n",
       "      <th>368087</th>\n",
       "      <td>2018-12-31</td>\n",
       "      <td>24</td>\n",
       "      <td>6</td>\n",
       "      <td>560.896</td>\n",
       "      <td>2018</td>\n",
       "      <td>12</td>\n",
       "      <td>31</td>\n",
       "      <td>0</td>\n",
       "    </tr>\n",
       "  </tbody>\n",
       "</table>\n",
       "<p>368088 rows × 8 columns</p>\n",
       "</div>"
      ],
      "text/plain": [
       "              연월일  시간  구분       공급량  year  month  day  weekday\n",
       "0      2013-01-01   1   0  2497.129  2013      1    1        1\n",
       "1      2013-01-01   2   0  2363.265  2013      1    1        1\n",
       "2      2013-01-01   3   0  2258.505  2013      1    1        1\n",
       "3      2013-01-01   4   0  2243.969  2013      1    1        1\n",
       "4      2013-01-01   5   0  2344.105  2013      1    1        1\n",
       "...           ...  ..  ..       ...   ...    ...  ...      ...\n",
       "368083 2018-12-31  20   6   681.033  2018     12   31        0\n",
       "368084 2018-12-31  21   6   669.961  2018     12   31        0\n",
       "368085 2018-12-31  22   6   657.941  2018     12   31        0\n",
       "368086 2018-12-31  23   6   610.953  2018     12   31        0\n",
       "368087 2018-12-31  24   6   560.896  2018     12   31        0\n",
       "\n",
       "[368088 rows x 8 columns]"
      ]
     },
     "execution_count": 18,
     "metadata": {},
     "output_type": "execute_result"
    }
   ],
   "source": [
    "data"
   ]
  },
  {
   "cell_type": "code",
   "execution_count": 19,
   "id": "a43e5033-3fad-4d59-ae86-4330a70780de",
   "metadata": {},
   "outputs": [],
   "source": [
    "y = data['공급량']\n",
    "x = data[['year','month','day','weekday','구분']]"
   ]
  },
  {
   "cell_type": "code",
   "execution_count": 20,
   "id": "89ff8ea7-52aa-419d-94ba-858bdf4d34ec",
   "metadata": {},
   "outputs": [],
   "source": [
    "from sklearn.model_selection import train_test_split"
   ]
  },
  {
   "cell_type": "code",
   "execution_count": 21,
   "id": "96a2ebfc-82ee-426a-b9e9-6a306c11761e",
   "metadata": {},
   "outputs": [],
   "source": [
    "X_train, X_test, y_train, y_test = train_test_split(x, y, test_size = 0.25, shuffle = True, random_state = 1000)"
   ]
  },
  {
   "cell_type": "code",
   "execution_count": 26,
   "id": "26ccd714-babb-48f6-9417-142a7495227d",
   "metadata": {
    "tags": []
   },
   "outputs": [],
   "source": [
    "d_train = lgb.Dataset(X_train, y_train)\n",
    "d_test = lgb.Dataset(X_test, y_test)"
   ]
  },
  {
   "cell_type": "code",
   "execution_count": 27,
   "id": "1e07f0a0-d8d4-4598-89cd-e081ca618fb7",
   "metadata": {},
   "outputs": [],
   "source": [
    "params = {'objective' : 'regression',\n",
    "         'metric':'mae',\n",
    "         'seed' : 1000}"
   ]
  },
  {
   "cell_type": "code",
   "execution_count": 29,
   "id": "442624ea-6afc-4fc1-9a2a-76a0900fca5b",
   "metadata": {},
   "outputs": [
    {
     "name": "stdout",
     "output_type": "stream",
     "text": [
      "[LightGBM] [Warning] Auto-choosing row-wise multi-threading, the overhead of testing was 0.001669 seconds.\n",
      "You can set `force_row_wise=true` to remove the overhead.\n",
      "And if memory is not enough, you can set `force_col_wise=true`.\n",
      "[LightGBM] [Info] Total Bins 66\n",
      "[LightGBM] [Info] Number of data points in the train set: 276066, number of used features: 5\n",
      "[LightGBM] [Info] Start training from score 947.304972\n",
      "Training until validation scores don't improve for 100 rounds\n",
      "[20]\tvalid_0's l1: 232.256\n",
      "[40]\tvalid_0's l1: 192.599\n",
      "[60]\tvalid_0's l1: 186.334\n",
      "[80]\tvalid_0's l1: 183.958\n",
      "[100]\tvalid_0's l1: 182.804\n",
      "[120]\tvalid_0's l1: 181.77\n",
      "[140]\tvalid_0's l1: 180.943\n",
      "[160]\tvalid_0's l1: 180.059\n",
      "[180]\tvalid_0's l1: 179.45\n",
      "[200]\tvalid_0's l1: 178.282\n",
      "[220]\tvalid_0's l1: 177.758\n",
      "[240]\tvalid_0's l1: 177.37\n",
      "[260]\tvalid_0's l1: 176.894\n",
      "[280]\tvalid_0's l1: 176.562\n",
      "[300]\tvalid_0's l1: 176.134\n",
      "[320]\tvalid_0's l1: 175.754\n",
      "[340]\tvalid_0's l1: 175.58\n",
      "[360]\tvalid_0's l1: 175.266\n",
      "[380]\tvalid_0's l1: 175.032\n",
      "[400]\tvalid_0's l1: 174.885\n",
      "[420]\tvalid_0's l1: 174.73\n",
      "[440]\tvalid_0's l1: 174.595\n",
      "[460]\tvalid_0's l1: 174.473\n",
      "[480]\tvalid_0's l1: 174.362\n",
      "[500]\tvalid_0's l1: 174.214\n",
      "Did not meet early stopping. Best iteration is:\n",
      "[500]\tvalid_0's l1: 174.214\n"
     ]
    }
   ],
   "source": [
    "lgbr = lgb.train(params, d_train, 500, d_test, verbose_eval = 20, early_stopping_rounds = 100)"
   ]
  },
  {
   "cell_type": "code",
   "execution_count": 32,
   "id": "ce8062a6-e709-4b77-af27-2f1cb48715fb",
   "metadata": {},
   "outputs": [],
   "source": [
    "test = pd.read_csv('가스공급량 수요예측모델개발_data/test.csv')\n",
    "sub = pd.read_csv('가스공급량 수요예측모델개발_data/sample_submission.csv')"
   ]
  },
  {
   "cell_type": "code",
   "execution_count": 37,
   "id": "d49488a1-b33d-4a27-b549-3765520db01f",
   "metadata": {},
   "outputs": [],
   "source": [
    "test['일자'] = test['일자|시간|구분'].str.split(' ').str[0]\n",
    "test['시간'] = test['일자|시간|구분'].str.split(' ').str[1].astype(int)\n",
    "test['구분'] = test['일자|시간|구분'].str.split(' ').str[2]"
   ]
  },
  {
   "cell_type": "code",
   "execution_count": 40,
   "id": "a6c15856-6534-4764-ab82-5d4f0d46700e",
   "metadata": {},
   "outputs": [],
   "source": [
    "test['일자'] = pd.to_datetime(test['일자'])"
   ]
  },
  {
   "cell_type": "code",
   "execution_count": 41,
   "id": "6b89412f-8f47-42b4-9a90-5345e703b983",
   "metadata": {},
   "outputs": [],
   "source": [
    "test['year'] = test['일자'].dt.year\n",
    "test['month'] = test['일자'].dt.month\n",
    "test['day'] = test['일자'].dt.day\n",
    "test['weekday'] = test['일자'].dt.weekday"
   ]
  },
  {
   "cell_type": "code",
   "execution_count": 44,
   "id": "78aadca1-b5cc-42be-add5-d84a85094c6c",
   "metadata": {},
   "outputs": [],
   "source": [
    "test['구분'] = test['구분'].map(d_map)"
   ]
  },
  {
   "cell_type": "code",
   "execution_count": 47,
   "id": "48e628db-b64c-40e3-b393-ecde220a5b90",
   "metadata": {},
   "outputs": [],
   "source": [
    "test_x = test[['year','month','day','weekday','구분']]"
   ]
  },
  {
   "cell_type": "code",
   "execution_count": 49,
   "id": "14df32e7-482f-4ac6-befa-5911ac9ed777",
   "metadata": {},
   "outputs": [],
   "source": [
    "pred = lgbr.predict(test_x)"
   ]
  },
  {
   "cell_type": "code",
   "execution_count": 51,
   "id": "1019d21f-a652-4e08-9773-b20da9b874e7",
   "metadata": {},
   "outputs": [],
   "source": [
    "sub['공급량']= pred"
   ]
  },
  {
   "cell_type": "code",
   "execution_count": 52,
   "id": "28e358c3-b13e-4e1e-95c7-112ea2f294cc",
   "metadata": {},
   "outputs": [],
   "source": [
    "sub.to_csv('submission/baseline_lgbm.csv', index = False)"
   ]
  },
  {
   "cell_type": "code",
   "execution_count": null,
   "id": "b028d136-d404-46fb-930f-c56a1e86ccf9",
   "metadata": {},
   "outputs": [],
   "source": []
  }
 ],
 "metadata": {
  "kernelspec": {
   "display_name": "Python 3 (ipykernel)",
   "language": "python",
   "name": "python3"
  },
  "language_info": {
   "codemirror_mode": {
    "name": "ipython",
    "version": 3
   },
   "file_extension": ".py",
   "mimetype": "text/x-python",
   "name": "python",
   "nbconvert_exporter": "python",
   "pygments_lexer": "ipython3",
   "version": "3.9.7"
  }
 },
 "nbformat": 4,
 "nbformat_minor": 5
}
