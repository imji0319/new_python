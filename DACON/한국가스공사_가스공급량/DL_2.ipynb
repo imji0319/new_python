{
 "cells": [
  {
   "cell_type": "code",
   "execution_count": 1,
   "id": "d5d4cca5-fa4d-43f0-ac20-60829717550e",
   "metadata": {},
   "outputs": [],
   "source": [
    "import numpy as np\n",
    "import pandas as pd \n",
    "import datetime\n",
    "import matplotlib.pyplot as plt \n",
    "%matplotlib inline \n",
    "\n",
    "plt.rc('font', family = 'AppleGothic')\n",
    "plt.rcParams['axes.unicode_minus'] = False\n",
    "\n",
    "\n",
    "df = pd.read_csv('한국가스공사_시간별 공급량_20181231.csv', encoding = 'euc-kr')\n",
    "test = pd.read_csv('가스공급량 수요예측모델개발_data/test.csv')\n",
    "sub = pd.read_csv('가스공급량 수요예측모델개발_data/sample_submission.csv')"
   ]
  },
  {
   "cell_type": "markdown",
   "id": "67b85d0f-5c1a-40f1-b640-db19aa4aebbd",
   "metadata": {
    "tags": []
   },
   "source": [
    "### 원본 데이터 분할"
   ]
  },
  {
   "cell_type": "code",
   "execution_count": 2,
   "id": "8191c0f4-8620-43c9-872e-c877d4ff47b4",
   "metadata": {},
   "outputs": [],
   "source": [
    "def tohour(val):\n",
    "    if len(val) == 1:\n",
    "        return '0'+val+':00:00'\n",
    "    else:\n",
    "        return val+':00:00'"
   ]
  },
  {
   "cell_type": "code",
   "execution_count": 3,
   "id": "2e3c55bc-9c4c-40ed-96c2-d3e8689584cf",
   "metadata": {},
   "outputs": [],
   "source": [
    "df['시간_수정'] = df['시간'] -1 \n",
    "df['시간_수정'] = df['시간_수정'].astype(str)\n",
    "df['시간_수정'] = df['시간_수정'].apply(tohour)\n",
    "df['연월일시간'] = df['연월일']+' '+df['시간_수정']\n",
    "df['연월일시간'] = pd.to_datetime(df['연월일시간'])"
   ]
  },
  {
   "cell_type": "code",
   "execution_count": 4,
   "id": "6cd63d99-d227-4d5f-aa16-e0544d47a555",
   "metadata": {},
   "outputs": [],
   "source": [
    "A = df[df['구분'] =='A']\n",
    "B = df[df['구분'] =='B']\n",
    "C = df[df['구분'] =='C']\n",
    "D = df[df['구분'] =='D']\n",
    "E = df[df['구분'] =='E']\n",
    "G = df[df['구분'] =='G']\n",
    "H = df[df['구분'] =='H']"
   ]
  },
  {
   "cell_type": "code",
   "execution_count": 5,
   "id": "d2984165-d920-40b4-9c65-57a9e5daa9d0",
   "metadata": {},
   "outputs": [],
   "source": [
    "def gubun(df):\n",
    "    df = df[['연월일시간','공급량']]\n",
    "    df.columns = ['ds','y']\n",
    "    df = df.set_index('ds')\n",
    "    return df"
   ]
  },
  {
   "cell_type": "code",
   "execution_count": 6,
   "id": "ff070cfe-7bbe-4adc-aadb-3020370bb745",
   "metadata": {},
   "outputs": [],
   "source": [
    "a = gubun(A)\n",
    "b = gubun(B)\n",
    "c = gubun(C)\n",
    "d = gubun(D)\n",
    "e = gubun(E)\n",
    "g = gubun(G)\n",
    "h = gubun(H)"
   ]
  },
  {
   "cell_type": "code",
   "execution_count": 7,
   "id": "5b7de4aa-752f-45c3-acfb-a8b04243d2a2",
   "metadata": {},
   "outputs": [],
   "source": [
    "test['일자'] =test['일자|시간|구분'].str.slice(0,10)\n",
    "test['시간'] = test['일자|시간|구분'].str.slice(11,13)\n",
    "test['구분'] = test['일자|시간|구분'].str.slice(14)\n",
    "test['시간_수정'] = test['시간'].astype(int)-1\n",
    "test['시간_수정'] =test['시간_수정'].astype(str)\n",
    "test['시간_수정'] = test['시간_수정'].apply(tohour)\n",
    "test['연월일시간'] = test['일자'] +' '+ test['시간_수정']\n",
    "test['연월일시간'] = pd.to_datetime(test['연월일시간'])"
   ]
  },
  {
   "cell_type": "code",
   "execution_count": 8,
   "id": "5a13e1e8-8265-4b92-b0b4-b5bee3000a0c",
   "metadata": {},
   "outputs": [],
   "source": [
    "def gubun_t(구분):\n",
    "    a_test = test[test['구분'] ==구분][['연월일시간']]\n",
    "    a_test.columns =['ds']\n",
    "    \n",
    "    return a_test"
   ]
  },
  {
   "cell_type": "code",
   "execution_count": 9,
   "id": "7d85474a-bde0-45cc-bd53-f03caecba303",
   "metadata": {},
   "outputs": [],
   "source": [
    "a_test = gubun_t('A')\n",
    "b_test = gubun_t('B')\n",
    "c_test = gubun_t('C')\n",
    "d_test = gubun_t('D')\n",
    "e_test = gubun_t('E')\n",
    "g_test = gubun_t('G')\n",
    "h_test = gubun_t('H')"
   ]
  },
  {
   "cell_type": "markdown",
   "id": "a3b3d608-4f13-4782-bf7e-99ed3672d102",
   "metadata": {
    "tags": []
   },
   "source": [
    "## 데이터 스케일링 및 전처리"
   ]
  },
  {
   "cell_type": "code",
   "execution_count": 18,
   "id": "2a41033b-1b33-4895-8d37-86e715806f75",
   "metadata": {
    "tags": []
   },
   "outputs": [
    {
     "data": {
      "text/html": [
       "<div>\n",
       "<style scoped>\n",
       "    .dataframe tbody tr th:only-of-type {\n",
       "        vertical-align: middle;\n",
       "    }\n",
       "\n",
       "    .dataframe tbody tr th {\n",
       "        vertical-align: top;\n",
       "    }\n",
       "\n",
       "    .dataframe thead th {\n",
       "        text-align: right;\n",
       "    }\n",
       "</style>\n",
       "<table border=\"1\" class=\"dataframe\">\n",
       "  <thead>\n",
       "    <tr style=\"text-align: right;\">\n",
       "      <th></th>\n",
       "      <th>y</th>\n",
       "    </tr>\n",
       "    <tr>\n",
       "      <th>ds</th>\n",
       "      <th></th>\n",
       "    </tr>\n",
       "  </thead>\n",
       "  <tbody>\n",
       "    <tr>\n",
       "      <th>2013-01-01 00:00:00</th>\n",
       "      <td>2497.129</td>\n",
       "    </tr>\n",
       "    <tr>\n",
       "      <th>2013-01-01 01:00:00</th>\n",
       "      <td>2363.265</td>\n",
       "    </tr>\n",
       "    <tr>\n",
       "      <th>2013-01-01 02:00:00</th>\n",
       "      <td>2258.505</td>\n",
       "    </tr>\n",
       "    <tr>\n",
       "      <th>2013-01-01 03:00:00</th>\n",
       "      <td>2243.969</td>\n",
       "    </tr>\n",
       "    <tr>\n",
       "      <th>2013-01-01 04:00:00</th>\n",
       "      <td>2344.105</td>\n",
       "    </tr>\n",
       "    <tr>\n",
       "      <th>...</th>\n",
       "      <td>...</td>\n",
       "    </tr>\n",
       "    <tr>\n",
       "      <th>2018-12-31 19:00:00</th>\n",
       "      <td>3040.868</td>\n",
       "    </tr>\n",
       "    <tr>\n",
       "      <th>2018-12-31 20:00:00</th>\n",
       "      <td>2973.577</td>\n",
       "    </tr>\n",
       "    <tr>\n",
       "      <th>2018-12-31 21:00:00</th>\n",
       "      <td>2840.272</td>\n",
       "    </tr>\n",
       "    <tr>\n",
       "      <th>2018-12-31 22:00:00</th>\n",
       "      <td>2692.385</td>\n",
       "    </tr>\n",
       "    <tr>\n",
       "      <th>2018-12-31 23:00:00</th>\n",
       "      <td>2583.340</td>\n",
       "    </tr>\n",
       "  </tbody>\n",
       "</table>\n",
       "<p>52584 rows × 1 columns</p>\n",
       "</div>"
      ],
      "text/plain": [
       "                            y\n",
       "ds                           \n",
       "2013-01-01 00:00:00  2497.129\n",
       "2013-01-01 01:00:00  2363.265\n",
       "2013-01-01 02:00:00  2258.505\n",
       "2013-01-01 03:00:00  2243.969\n",
       "2013-01-01 04:00:00  2344.105\n",
       "...                       ...\n",
       "2018-12-31 19:00:00  3040.868\n",
       "2018-12-31 20:00:00  2973.577\n",
       "2018-12-31 21:00:00  2840.272\n",
       "2018-12-31 22:00:00  2692.385\n",
       "2018-12-31 23:00:00  2583.340\n",
       "\n",
       "[52584 rows x 1 columns]"
      ]
     },
     "execution_count": 18,
     "metadata": {},
     "output_type": "execute_result"
    }
   ],
   "source": [
    "a"
   ]
  },
  {
   "cell_type": "code",
   "execution_count": 14,
   "id": "a65c56a8-61f6-45af-825e-868d642eeddb",
   "metadata": {
    "collapsed": true,
    "jupyter": {
     "outputs_hidden": true
    },
    "tags": []
   },
   "outputs": [
    {
     "data": {
      "text/html": [
       "<div>\n",
       "<style scoped>\n",
       "    .dataframe tbody tr th:only-of-type {\n",
       "        vertical-align: middle;\n",
       "    }\n",
       "\n",
       "    .dataframe tbody tr th {\n",
       "        vertical-align: top;\n",
       "    }\n",
       "\n",
       "    .dataframe thead th {\n",
       "        text-align: right;\n",
       "    }\n",
       "</style>\n",
       "<table border=\"1\" class=\"dataframe\">\n",
       "  <thead>\n",
       "    <tr style=\"text-align: right;\">\n",
       "      <th></th>\n",
       "      <th>y</th>\n",
       "    </tr>\n",
       "    <tr>\n",
       "      <th>ds</th>\n",
       "      <th></th>\n",
       "    </tr>\n",
       "  </thead>\n",
       "  <tbody>\n",
       "    <tr>\n",
       "      <th>2013-01-01 00:00:00</th>\n",
       "      <td>226.178</td>\n",
       "    </tr>\n",
       "    <tr>\n",
       "      <th>2013-01-01 01:00:00</th>\n",
       "      <td>215.778</td>\n",
       "    </tr>\n",
       "    <tr>\n",
       "      <th>2013-01-01 02:00:00</th>\n",
       "      <td>202.178</td>\n",
       "    </tr>\n",
       "    <tr>\n",
       "      <th>2013-01-01 03:00:00</th>\n",
       "      <td>198.978</td>\n",
       "    </tr>\n",
       "    <tr>\n",
       "      <th>2013-01-01 04:00:00</th>\n",
       "      <td>200.578</td>\n",
       "    </tr>\n",
       "    <tr>\n",
       "      <th>...</th>\n",
       "      <td>...</td>\n",
       "    </tr>\n",
       "    <tr>\n",
       "      <th>2018-12-31 19:00:00</th>\n",
       "      <td>265.980</td>\n",
       "    </tr>\n",
       "    <tr>\n",
       "      <th>2018-12-31 20:00:00</th>\n",
       "      <td>262.239</td>\n",
       "    </tr>\n",
       "    <tr>\n",
       "      <th>2018-12-31 21:00:00</th>\n",
       "      <td>256.000</td>\n",
       "    </tr>\n",
       "    <tr>\n",
       "      <th>2018-12-31 22:00:00</th>\n",
       "      <td>246.020</td>\n",
       "    </tr>\n",
       "    <tr>\n",
       "      <th>2018-12-31 23:00:00</th>\n",
       "      <td>237.911</td>\n",
       "    </tr>\n",
       "  </tbody>\n",
       "</table>\n",
       "<p>52584 rows × 1 columns</p>\n",
       "</div>"
      ],
      "text/plain": [
       "                           y\n",
       "ds                          \n",
       "2013-01-01 00:00:00  226.178\n",
       "2013-01-01 01:00:00  215.778\n",
       "2013-01-01 02:00:00  202.178\n",
       "2013-01-01 03:00:00  198.978\n",
       "2013-01-01 04:00:00  200.578\n",
       "...                      ...\n",
       "2018-12-31 19:00:00  265.980\n",
       "2018-12-31 20:00:00  262.239\n",
       "2018-12-31 21:00:00  256.000\n",
       "2018-12-31 22:00:00  246.020\n",
       "2018-12-31 23:00:00  237.911\n",
       "\n",
       "[52584 rows x 1 columns]"
      ]
     },
     "execution_count": 14,
     "metadata": {},
     "output_type": "execute_result"
    }
   ],
   "source": [
    "c"
   ]
  },
  {
   "cell_type": "code",
   "execution_count": 10,
   "id": "01adc70a-2580-42d0-980f-97541698e23a",
   "metadata": {},
   "outputs": [],
   "source": [
    "from sklearn.preprocessing import MinMaxScaler"
   ]
  },
  {
   "cell_type": "code",
   "execution_count": 22,
   "id": "102e9ce3-f6d1-4f4f-95ee-dd39d1df2ebb",
   "metadata": {},
   "outputs": [],
   "source": [
    "scaler_a = MinMaxScaler()\n",
    "scaler_b = MinMaxScaler()\n",
    "scaler_c = MinMaxScaler()\n",
    "scaler_d = MinMaxScaler()\n",
    "scaler_e = MinMaxScaler()\n",
    "scaler_g = MinMaxScaler()\n",
    "scaler_h = MinMaxScaler()"
   ]
  },
  {
   "cell_type": "code",
   "execution_count": 23,
   "id": "8ca2ffe9-12a2-43c3-9a45-a7a6f8d90552",
   "metadata": {},
   "outputs": [],
   "source": [
    "sc_a = scaler_a.fit_transform(a)\n",
    "sc_b = scaler_b.fit_transform(b)\n",
    "sc_c = scaler_c.fit_transform(c)\n",
    "sc_d = scaler_d.fit_transform(d)\n",
    "sc_e = scaler_e.fit_transform(e)\n",
    "sc_g = scaler_g.fit_transform(g)\n",
    "sc_h = scaler_h.fit_transform(h)"
   ]
  },
  {
   "cell_type": "code",
   "execution_count": 43,
   "id": "af961824-4aaa-4a7a-b525-d7139e378c1f",
   "metadata": {},
   "outputs": [],
   "source": [
    "def create_dataset(signal_data, look_back=1):  \n",
    "    x_arr, y_arr = [], []\n",
    "    for i in range(len(signal_data) - look_back):\n",
    "        x_arr.append(signal_data[i:(i + look_back), 0])\n",
    "        y_arr.append(signal_data[i + look_back, 0])\n",
    "\n",
    "    x_arr = np.array(x_arr)\n",
    "    x_arr = np.reshape(x_arr, (x_arr.shape[0], x_arr.shape[1], 1))\n",
    "    return x_arr, np.array(y_arr)"
   ]
  },
  {
   "cell_type": "code",
   "execution_count": 41,
   "id": "c2e90dee-e48a-4c19-bdbb-b9c01e4fad3a",
   "metadata": {
    "collapsed": true,
    "jupyter": {
     "outputs_hidden": true
    },
    "tags": []
   },
   "outputs": [
    {
     "data": {
      "text/plain": [
       "ds\n",
       "2013-01-01 00:00:00    2497.129\n",
       "2013-01-01 01:00:00    2363.265\n",
       "2013-01-01 02:00:00    2258.505\n",
       "2013-01-01 03:00:00    2243.969\n",
       "2013-01-01 04:00:00    2344.105\n",
       "                         ...   \n",
       "2013-01-16 00:00:00    2261.241\n",
       "2013-01-16 01:00:00    2001.697\n",
       "2013-01-16 02:00:00    1865.097\n",
       "2013-01-16 03:00:00    1914.737\n",
       "2013-01-16 04:00:00    2080.313\n",
       "Name: y, Length: 365, dtype: float64"
      ]
     },
     "execution_count": 41,
     "metadata": {},
     "output_type": "execute_result"
    }
   ],
   "source": [
    "train.iloc[0:365, 0]"
   ]
  },
  {
   "cell_type": "markdown",
   "id": "90cf4769-c09f-4288-a9dc-c631fe5e0f89",
   "metadata": {},
   "source": [
    "## 모델링 및 학습 "
   ]
  },
  {
   "cell_type": "markdown",
   "id": "1d1d7f75-b32b-4b1a-8a31-0a488a18de7f",
   "metadata": {},
   "source": [
    "### 구분 = a"
   ]
  },
  {
   "cell_type": "code",
   "execution_count": 44,
   "id": "cc22e872-b6d9-4b83-9c1d-72a5a42578c7",
   "metadata": {},
   "outputs": [],
   "source": [
    "look_back = 365\n",
    "train = sc_a[0:int(len(sc_a) * 0.5)]  \n",
    "val = sc_a[int(len(sc_a) * 0.5):int(len(sc_a) * 0.75)]  \n",
    "test = sc_a[int(len(sc_a) * 0.75):-1]\n",
    "\n",
    "x_train, y_train = create_dataset(train, look_back)  \n",
    "x_val, y_val = create_dataset(val, look_back)  \n",
    "x_test, y_test = create_dataset(test, look_back)  "
   ]
  },
  {
   "cell_type": "code",
   "execution_count": 69,
   "id": "a7605c6c-094f-45ff-9c3a-31fa52fc4c59",
   "metadata": {
    "tags": []
   },
   "outputs": [
    {
     "data": {
      "text/plain": [
       "(25927, 365, 1)"
      ]
     },
     "execution_count": 69,
     "metadata": {},
     "output_type": "execute_result"
    }
   ],
   "source": [
    "x_train.shape"
   ]
  },
  {
   "cell_type": "code",
   "execution_count": 47,
   "id": "3b675b2e-6c93-4fd3-87db-6f8711727520",
   "metadata": {},
   "outputs": [],
   "source": [
    "import tensorflow as tf \n",
    "from tensorflow import keras\n",
    "\n",
    "from tensorflow.keras.layers import Dense, Dropout, SimpleRNN,LSTM\n",
    "from tensorflow.keras.models import Sequential"
   ]
  },
  {
   "cell_type": "code",
   "execution_count": 48,
   "id": "e72bac48-09de-4f54-8365-ca545b2e2f0e",
   "metadata": {},
   "outputs": [
    {
     "name": "stdout",
     "output_type": "stream",
     "text": [
      "Model: \"sequential_2\"\n",
      "_________________________________________________________________\n",
      "Layer (type)                 Output Shape              Param #   \n",
      "=================================================================\n",
      "lstm_3 (LSTM)                (None, 365, 40)           6720      \n",
      "_________________________________________________________________\n",
      "dropout_3 (Dropout)          (None, 365, 40)           0         \n",
      "_________________________________________________________________\n",
      "lstm_4 (LSTM)                (None, 365, 40)           12960     \n",
      "_________________________________________________________________\n",
      "dropout_4 (Dropout)          (None, 365, 40)           0         \n",
      "_________________________________________________________________\n",
      "lstm_5 (LSTM)                (None, 40)                12960     \n",
      "_________________________________________________________________\n",
      "dropout_5 (Dropout)          (None, 40)                0         \n",
      "_________________________________________________________________\n",
      "dense_1 (Dense)              (None, 1)                 41        \n",
      "=================================================================\n",
      "Total params: 32,681\n",
      "Trainable params: 32,681\n",
      "Non-trainable params: 0\n",
      "_________________________________________________________________\n"
     ]
    }
   ],
   "source": [
    "lstm_model = Sequential()\n",
    "\n",
    "lstm_model.add(LSTM(40,activation=\"tanh\",return_sequences=True, input_shape=(x_train.shape[1],1)))\n",
    "lstm_model.add(Dropout(0.15))\n",
    "\n",
    "lstm_model.add(LSTM(40,activation=\"tanh\",return_sequences=True))\n",
    "lstm_model.add(Dropout(0.15))\n",
    "\n",
    "lstm_model.add(LSTM(40,activation=\"tanh\",return_sequences=False))\n",
    "lstm_model.add(Dropout(0.15))\n",
    "\n",
    "lstm_model.add(Dense(1))\n",
    "\n",
    "lstm_model.summary()"
   ]
  },
  {
   "cell_type": "code",
   "execution_count": 49,
   "id": "2476fd62-36b6-4e16-8ec6-6ce455b9a3ec",
   "metadata": {},
   "outputs": [
    {
     "name": "stdout",
     "output_type": "stream",
     "text": [
      "Epoch 1/10\n",
      "26/26 [==============================] - 44s 2s/step - loss: 0.0028 - val_loss: 6.9828e-04\n",
      "Epoch 2/10\n",
      "26/26 [==============================] - 41s 2s/step - loss: 8.8131e-04 - val_loss: 7.0609e-04\n",
      "Epoch 3/10\n",
      "26/26 [==============================] - 41s 2s/step - loss: 7.9632e-04 - val_loss: 6.8891e-04\n",
      "Epoch 4/10\n",
      "26/26 [==============================] - 44s 2s/step - loss: 7.9073e-04 - val_loss: 6.7933e-04\n",
      "Epoch 5/10\n",
      "26/26 [==============================] - 43s 2s/step - loss: 7.7944e-04 - val_loss: 6.8402e-04\n",
      "Epoch 6/10\n",
      "26/26 [==============================] - 43s 2s/step - loss: 7.6949e-04 - val_loss: 6.6980e-04\n",
      "Epoch 7/10\n",
      "26/26 [==============================] - 40s 2s/step - loss: 7.5684e-04 - val_loss: 6.7549e-04\n",
      "Epoch 8/10\n",
      "26/26 [==============================] - 42s 2s/step - loss: 7.4814e-04 - val_loss: 6.5829e-04\n",
      "Epoch 9/10\n",
      "26/26 [==============================] - 42s 2s/step - loss: 7.3943e-04 - val_loss: 6.5283e-04\n",
      "Epoch 10/10\n",
      "26/26 [==============================] - 41s 2s/step - loss: 7.2414e-04 - val_loss: 6.4805e-04\n"
     ]
    },
    {
     "data": {
      "text/plain": [
       "<keras.callbacks.History at 0x2adb9d6d0>"
      ]
     },
     "execution_count": 49,
     "metadata": {},
     "output_type": "execute_result"
    }
   ],
   "source": [
    "lstm_model.compile(optimizer=\"adam\",loss=\"MSE\")\n",
    "lstm_model.fit(x_train, y_train, epochs=10, batch_size=1000, validation_data =(x_val, y_val))"
   ]
  },
  {
   "cell_type": "code",
   "execution_count": 50,
   "id": "53796198-82ee-4896-a26c-00bf66c54c9c",
   "metadata": {},
   "outputs": [],
   "source": [
    "lstm_predictions = lstm_model.predict(x_test)"
   ]
  },
  {
   "cell_type": "code",
   "execution_count": 58,
   "id": "2a015fcb-e278-448d-b21e-9ab412344cd1",
   "metadata": {},
   "outputs": [],
   "source": [
    "real_pred = scaler_a.inverse_transform(lstm_predictions)"
   ]
  },
  {
   "cell_type": "code",
   "execution_count": 59,
   "id": "5b9f5ced-dfb8-491f-84f7-1fc3bf884e7b",
   "metadata": {},
   "outputs": [
    {
     "data": {
      "text/plain": [
       "array([[ 506.31638],\n",
       "       [ 512.7477 ],\n",
       "       [ 521.1286 ],\n",
       "       ...,\n",
       "       [2662.8667 ],\n",
       "       [2674.9202 ],\n",
       "       [2686.9897 ]], dtype=float32)"
      ]
     },
     "execution_count": 59,
     "metadata": {},
     "output_type": "execute_result"
    }
   ],
   "source": [
    "real_pred"
   ]
  },
  {
   "cell_type": "code",
   "execution_count": 60,
   "id": "bc60b731-f924-4b8a-b587-85e763b8ad62",
   "metadata": {},
   "outputs": [],
   "source": [
    "from sklearn.metrics import r2_score"
   ]
  },
  {
   "cell_type": "code",
   "execution_count": 61,
   "id": "96cba565-c170-4278-ab3b-5b70855ba875",
   "metadata": {},
   "outputs": [
    {
     "data": {
      "text/plain": [
       "-419593835.3613263"
      ]
     },
     "execution_count": 61,
     "metadata": {},
     "output_type": "execute_result"
    }
   ],
   "source": [
    "r2_score(y_test, real_pred)"
   ]
  },
  {
   "cell_type": "code",
   "execution_count": 65,
   "id": "a3534a8d-467c-47e2-a75e-5f52fff46962",
   "metadata": {},
   "outputs": [
    {
     "data": {
      "text/plain": [
       "0.8548188353258834"
      ]
     },
     "execution_count": 65,
     "metadata": {},
     "output_type": "execute_result"
    }
   ],
   "source": [
    "r2_score(y_test, lstm_predictions)"
   ]
  },
  {
   "cell_type": "code",
   "execution_count": 72,
   "id": "135a7859-7ca9-4379-ab7a-6da338eeb9eb",
   "metadata": {
    "tags": []
   },
   "outputs": [
    {
     "data": {
      "text/plain": [
       "(12780, 365, 1)"
      ]
     },
     "execution_count": 72,
     "metadata": {},
     "output_type": "execute_result"
    }
   ],
   "source": [
    "x_test.shape"
   ]
  },
  {
   "cell_type": "code",
   "execution_count": 73,
   "id": "a89d59a9-c5b2-4075-bf63-cb3c3dcb6659",
   "metadata": {},
   "outputs": [
    {
     "data": {
      "text/plain": [
       "(12780,)"
      ]
     },
     "execution_count": 73,
     "metadata": {},
     "output_type": "execute_result"
    }
   ],
   "source": [
    "y_test.shape"
   ]
  },
  {
   "cell_type": "code",
   "execution_count": 71,
   "id": "d4bdc095-783f-4271-beac-62a4070b075d",
   "metadata": {},
   "outputs": [
    {
     "data": {
      "text/plain": [
       "(2160, 1)"
      ]
     },
     "execution_count": 71,
     "metadata": {},
     "output_type": "execute_result"
    }
   ],
   "source": [
    "a_test.shape"
   ]
  },
  {
   "cell_type": "markdown",
   "id": "c263b172-30a8-4d44-a3ae-d6ddd4444df1",
   "metadata": {},
   "source": []
  }
 ],
 "metadata": {
  "kernelspec": {
   "display_name": "Python 3 (ipykernel)",
   "language": "python",
   "name": "python3"
  },
  "language_info": {
   "codemirror_mode": {
    "name": "ipython",
    "version": 3
   },
   "file_extension": ".py",
   "mimetype": "text/x-python",
   "name": "python",
   "nbconvert_exporter": "python",
   "pygments_lexer": "ipython3",
   "version": "3.9.7"
  }
 },
 "nbformat": 4,
 "nbformat_minor": 5
}
