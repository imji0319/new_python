{
 "cells": [
  {
   "cell_type": "code",
   "execution_count": 1,
   "id": "e83336ce-3813-49a8-9d68-0bd4ebda6e64",
   "metadata": {},
   "outputs": [],
   "source": [
    "import numpy as np \n",
    "import pandas as pd \n",
    "import lightgbm as lgb"
   ]
  },
  {
   "cell_type": "code",
   "execution_count": 21,
   "id": "82ed2be2-bea5-48dd-b662-ff64d2abc848",
   "metadata": {},
   "outputs": [],
   "source": [
    "data = pd.read_csv('한국가스공사_시간별 공급량_20181231.csv', encoding ='cp949')\n",
    "data['연월일'] = pd.to_datetime(data['연월일'])\n",
    "data['year'] = data['연월일'].dt.year\n",
    "data['month'] = data['연월일'].dt.month\n",
    "data['day'] = data['연월일'].dt.day\n",
    "data['weekday'] = data['연월일'].dt.weekday"
   ]
  },
  {
   "cell_type": "code",
   "execution_count": 23,
   "id": "f4c4aaec-7aca-4ca6-8ffb-46de1b9de418",
   "metadata": {},
   "outputs": [
    {
     "data": {
      "text/plain": [
       "구분\n",
       "A    52584\n",
       "B    52584\n",
       "C    52584\n",
       "D    52584\n",
       "E    52584\n",
       "G    52584\n",
       "H    52584\n",
       "dtype: int64"
      ]
     },
     "execution_count": 23,
     "metadata": {},
     "output_type": "execute_result"
    }
   ],
   "source": [
    "data.groupby('구분').size()"
   ]
  },
  {
   "cell_type": "code",
   "execution_count": 24,
   "id": "a77779ee-d193-4955-bfae-908fae2f9f18",
   "metadata": {},
   "outputs": [],
   "source": [
    "test = pd.read_csv('가스공급량 수요예측모델개발_data/test.csv')\n",
    "sub = pd.read_csv('가스공급량 수요예측모델개발_data/sample_submission.csv')\n",
    "test['일자'] = test['일자|시간|구분'].str.split(' ').str[0]\n",
    "test['시간'] = test['일자|시간|구분'].str.split(' ').str[1].astype(int)\n",
    "test['구분'] = test['일자|시간|구분'].str.split(' ').str[2]\n",
    "test['일자'] = pd.to_datetime(test['일자'])\n",
    "test['year'] = test['일자'].dt.year\n",
    "test['month'] = test['일자'].dt.month\n",
    "test['day'] = test['일자'].dt.day\n",
    "test['weekday'] = test['일자'].dt.weekday\n",
    "test['구분'] = test['구분'].map(d_map)"
   ]
  },
  {
   "cell_type": "code",
   "execution_count": 26,
   "id": "9294683a-a23d-41c8-b9d1-21fd246cbd2a",
   "metadata": {},
   "outputs": [],
   "source": [
    "elc = pd.read_csv('한국전력거래소_시간별 발전량_20201231.csv', encoding = 'cp949')"
   ]
  },
  {
   "cell_type": "code",
   "execution_count": 27,
   "id": "e086563d-4097-4720-8eb7-6d13178c208b",
   "metadata": {},
   "outputs": [],
   "source": [
    "time_elc = elc.set_index('거래일').stack().reset_index()\n",
    "time_elc.columns = ['연월일','시간','전력발전량']\n",
    "time_elc['시간'] = time_elc['시간'].str.replace('시', '').astype(int)"
   ]
  },
  {
   "cell_type": "code",
   "execution_count": 29,
   "id": "e167727a-79ff-4ed9-861b-e46fb2987242",
   "metadata": {},
   "outputs": [],
   "source": [
    "data['연월일']=data['연월일'].astype(str)\n",
    "time_elc['연월일'] = time_elc['연월일'].astype(str)"
   ]
  },
  {
   "cell_type": "markdown",
   "id": "3b0827b5-13ee-4260-a56e-3a7e11de3842",
   "metadata": {},
   "source": [
    "## 구분을 나누어 모델 생성\n",
    "A-H 까지의 구분을 나누어 lgbm 모델을 생성"
   ]
  },
  {
   "cell_type": "code",
   "execution_count": 30,
   "id": "5027042d-82ef-4428-a66e-8273e835f26d",
   "metadata": {},
   "outputs": [],
   "source": [
    "new_data = pd.merge(time_elc, data, how = 'left', right_index = False)\n",
    "train_data = new_data.dropna()"
   ]
  },
  {
   "cell_type": "code",
   "execution_count": 31,
   "id": "85c1f160-9261-4ed0-a065-bda3046f5dc1",
   "metadata": {
    "collapsed": true,
    "jupyter": {
     "outputs_hidden": true
    },
    "tags": []
   },
   "outputs": [
    {
     "data": {
      "text/html": [
       "<div>\n",
       "<style scoped>\n",
       "    .dataframe tbody tr th:only-of-type {\n",
       "        vertical-align: middle;\n",
       "    }\n",
       "\n",
       "    .dataframe tbody tr th {\n",
       "        vertical-align: top;\n",
       "    }\n",
       "\n",
       "    .dataframe thead th {\n",
       "        text-align: right;\n",
       "    }\n",
       "</style>\n",
       "<table border=\"1\" class=\"dataframe\">\n",
       "  <thead>\n",
       "    <tr style=\"text-align: right;\">\n",
       "      <th></th>\n",
       "      <th>연월일</th>\n",
       "      <th>시간</th>\n",
       "      <th>전력발전량</th>\n",
       "      <th>구분</th>\n",
       "      <th>공급량</th>\n",
       "      <th>year</th>\n",
       "      <th>month</th>\n",
       "      <th>day</th>\n",
       "      <th>weekday</th>\n",
       "    </tr>\n",
       "  </thead>\n",
       "  <tbody>\n",
       "    <tr>\n",
       "      <th>0</th>\n",
       "      <td>2017-01-01</td>\n",
       "      <td>1</td>\n",
       "      <td>55122.00025</td>\n",
       "      <td>A</td>\n",
       "      <td>1637.137</td>\n",
       "      <td>2017.0</td>\n",
       "      <td>1.0</td>\n",
       "      <td>1.0</td>\n",
       "      <td>6.0</td>\n",
       "    </tr>\n",
       "    <tr>\n",
       "      <th>7</th>\n",
       "      <td>2017-01-01</td>\n",
       "      <td>2</td>\n",
       "      <td>52867.08431</td>\n",
       "      <td>A</td>\n",
       "      <td>1528.425</td>\n",
       "      <td>2017.0</td>\n",
       "      <td>1.0</td>\n",
       "      <td>1.0</td>\n",
       "      <td>6.0</td>\n",
       "    </tr>\n",
       "    <tr>\n",
       "      <th>14</th>\n",
       "      <td>2017-01-01</td>\n",
       "      <td>3</td>\n",
       "      <td>51112.85964</td>\n",
       "      <td>A</td>\n",
       "      <td>1425.081</td>\n",
       "      <td>2017.0</td>\n",
       "      <td>1.0</td>\n",
       "      <td>1.0</td>\n",
       "      <td>6.0</td>\n",
       "    </tr>\n",
       "    <tr>\n",
       "      <th>21</th>\n",
       "      <td>2017-01-01</td>\n",
       "      <td>4</td>\n",
       "      <td>50228.43714</td>\n",
       "      <td>A</td>\n",
       "      <td>1422.889</td>\n",
       "      <td>2017.0</td>\n",
       "      <td>1.0</td>\n",
       "      <td>1.0</td>\n",
       "      <td>6.0</td>\n",
       "    </tr>\n",
       "    <tr>\n",
       "      <th>28</th>\n",
       "      <td>2017-01-01</td>\n",
       "      <td>5</td>\n",
       "      <td>50270.22378</td>\n",
       "      <td>A</td>\n",
       "      <td>1519.809</td>\n",
       "      <td>2017.0</td>\n",
       "      <td>1.0</td>\n",
       "      <td>1.0</td>\n",
       "      <td>6.0</td>\n",
       "    </tr>\n",
       "    <tr>\n",
       "      <th>...</th>\n",
       "      <td>...</td>\n",
       "      <td>...</td>\n",
       "      <td>...</td>\n",
       "      <td>...</td>\n",
       "      <td>...</td>\n",
       "      <td>...</td>\n",
       "      <td>...</td>\n",
       "      <td>...</td>\n",
       "      <td>...</td>\n",
       "    </tr>\n",
       "    <tr>\n",
       "      <th>122605</th>\n",
       "      <td>2018-12-31</td>\n",
       "      <td>20</td>\n",
       "      <td>64342.18643</td>\n",
       "      <td>A</td>\n",
       "      <td>3040.868</td>\n",
       "      <td>2018.0</td>\n",
       "      <td>12.0</td>\n",
       "      <td>31.0</td>\n",
       "      <td>0.0</td>\n",
       "    </tr>\n",
       "    <tr>\n",
       "      <th>122612</th>\n",
       "      <td>2018-12-31</td>\n",
       "      <td>21</td>\n",
       "      <td>63316.44165</td>\n",
       "      <td>A</td>\n",
       "      <td>2973.577</td>\n",
       "      <td>2018.0</td>\n",
       "      <td>12.0</td>\n",
       "      <td>31.0</td>\n",
       "      <td>0.0</td>\n",
       "    </tr>\n",
       "    <tr>\n",
       "      <th>122619</th>\n",
       "      <td>2018-12-31</td>\n",
       "      <td>22</td>\n",
       "      <td>62296.87255</td>\n",
       "      <td>A</td>\n",
       "      <td>2840.272</td>\n",
       "      <td>2018.0</td>\n",
       "      <td>12.0</td>\n",
       "      <td>31.0</td>\n",
       "      <td>0.0</td>\n",
       "    </tr>\n",
       "    <tr>\n",
       "      <th>122626</th>\n",
       "      <td>2018-12-31</td>\n",
       "      <td>23</td>\n",
       "      <td>62263.59216</td>\n",
       "      <td>A</td>\n",
       "      <td>2692.385</td>\n",
       "      <td>2018.0</td>\n",
       "      <td>12.0</td>\n",
       "      <td>31.0</td>\n",
       "      <td>0.0</td>\n",
       "    </tr>\n",
       "    <tr>\n",
       "      <th>122633</th>\n",
       "      <td>2018-12-31</td>\n",
       "      <td>24</td>\n",
       "      <td>64571.97440</td>\n",
       "      <td>A</td>\n",
       "      <td>2583.340</td>\n",
       "      <td>2018.0</td>\n",
       "      <td>12.0</td>\n",
       "      <td>31.0</td>\n",
       "      <td>0.0</td>\n",
       "    </tr>\n",
       "  </tbody>\n",
       "</table>\n",
       "<p>17520 rows × 9 columns</p>\n",
       "</div>"
      ],
      "text/plain": [
       "               연월일  시간        전력발전량 구분       공급량    year  month   day  weekday\n",
       "0       2017-01-01   1  55122.00025  A  1637.137  2017.0    1.0   1.0      6.0\n",
       "7       2017-01-01   2  52867.08431  A  1528.425  2017.0    1.0   1.0      6.0\n",
       "14      2017-01-01   3  51112.85964  A  1425.081  2017.0    1.0   1.0      6.0\n",
       "21      2017-01-01   4  50228.43714  A  1422.889  2017.0    1.0   1.0      6.0\n",
       "28      2017-01-01   5  50270.22378  A  1519.809  2017.0    1.0   1.0      6.0\n",
       "...            ...  ..          ... ..       ...     ...    ...   ...      ...\n",
       "122605  2018-12-31  20  64342.18643  A  3040.868  2018.0   12.0  31.0      0.0\n",
       "122612  2018-12-31  21  63316.44165  A  2973.577  2018.0   12.0  31.0      0.0\n",
       "122619  2018-12-31  22  62296.87255  A  2840.272  2018.0   12.0  31.0      0.0\n",
       "122626  2018-12-31  23  62263.59216  A  2692.385  2018.0   12.0  31.0      0.0\n",
       "122633  2018-12-31  24  64571.97440  A  2583.340  2018.0   12.0  31.0      0.0\n",
       "\n",
       "[17520 rows x 9 columns]"
      ]
     },
     "execution_count": 31,
     "metadata": {},
     "output_type": "execute_result"
    }
   ],
   "source": [
    "new_data[new_data['구분'] == 'A']"
   ]
  },
  {
   "cell_type": "code",
   "execution_count": 32,
   "id": "b3d8c220-cbe5-40c3-8114-f810cdd1883a",
   "metadata": {},
   "outputs": [],
   "source": [
    "A = new_data[new_data['구분'] == 'A']\n",
    "B = new_data[new_data['구분'] == 'B']\n",
    "C = new_data[new_data['구분'] == 'C']\n",
    "D = new_data[new_data['구분'] == 'D']\n",
    "E = new_data[new_data['구분'] == 'E']\n",
    "G = new_data[new_data['구분'] == 'G']\n",
    "H = new_data[new_data['구분'] == 'H']"
   ]
  },
  {
   "cell_type": "code",
   "execution_count": 35,
   "id": "c5b690fc-b9ed-4059-8188-0c553edcc0ad",
   "metadata": {
    "tags": []
   },
   "outputs": [],
   "source": [
    "def changeType(train_data):\n",
    "    train_data.year = train_data.year.astype(int)\n",
    "    train_data.month = train_data.month.astype(int)\n",
    "    train_data.day = train_data.day.astype(int)\n",
    "    train_data.weekday = train_data.weekday.astype(int)\n",
    "    \n",
    "    return train_data\n",
    "    "
   ]
  },
  {
   "cell_type": "code",
   "execution_count": 36,
   "id": "768a5f94-92ef-4d92-b645-091315067479",
   "metadata": {},
   "outputs": [
    {
     "name": "stderr",
     "output_type": "stream",
     "text": [
      "/Users/openknowl/miniforge3/envs/tf_pu/lib/python3.9/site-packages/pandas/core/generic.py:5516: SettingWithCopyWarning: \n",
      "A value is trying to be set on a copy of a slice from a DataFrame.\n",
      "Try using .loc[row_indexer,col_indexer] = value instead\n",
      "\n",
      "See the caveats in the documentation: https://pandas.pydata.org/pandas-docs/stable/user_guide/indexing.html#returning-a-view-versus-a-copy\n",
      "  self[name] = value\n"
     ]
    }
   ],
   "source": [
    "A = changeType(A)\n",
    "B = changeType(B)\n",
    "C = changeType(C)\n",
    "D = changeType(D)\n",
    "E = changeType(E)\n",
    "G = changeType(G)\n",
    "H = changeType(H)"
   ]
  },
  {
   "cell_type": "code",
   "execution_count": 49,
   "id": "83ae1bd9-021d-446e-9ce8-45dd6e229776",
   "metadata": {},
   "outputs": [
    {
     "data": {
      "text/plain": [
       "(17520, 9)"
      ]
     },
     "execution_count": 49,
     "metadata": {},
     "output_type": "execute_result"
    }
   ],
   "source": [
    "A.shape"
   ]
  },
  {
   "cell_type": "markdown",
   "id": "ec6e297a-812f-4cf9-9c39-5e8bac225ace",
   "metadata": {},
   "source": [
    "## 구분별 모델 학습 및 예측 "
   ]
  },
  {
   "cell_type": "code",
   "execution_count": 38,
   "id": "65acb2b6-22c7-47d8-9dd4-e992346f51d5",
   "metadata": {},
   "outputs": [],
   "source": [
    "def xy_df(train_data):\n",
    "    y = train_data['공급량'] \n",
    "    x = train_data[['전력발전량','year','month','day','weekday']]\n",
    "    \n",
    "    return x, y "
   ]
  },
  {
   "cell_type": "code",
   "execution_count": 50,
   "id": "da15de31-40c8-4ccd-a8c5-3441ac54d672",
   "metadata": {},
   "outputs": [],
   "source": [
    "a_x, a_y = xy_df(A)\n",
    "b_x, b_y = xy_df(B)\n",
    "c_x, c_y = xy_df(C)\n",
    "d_x, d_y = xy_df(D)\n",
    "e_x, e_y = xy_df(E)\n",
    "g_x, g_y = xy_df(G)\n",
    "h_x, h_y = xy_df(H)"
   ]
  },
  {
   "cell_type": "code",
   "execution_count": 51,
   "id": "8f8928ed-21b2-41de-b9e2-3ec7e28be5a9",
   "metadata": {},
   "outputs": [],
   "source": [
    "from sklearn.preprocessing import MinMaxScaler"
   ]
  },
  {
   "cell_type": "code",
   "execution_count": 52,
   "id": "c2f8391e-8718-4723-8e37-49d78e5c9a64",
   "metadata": {},
   "outputs": [],
   "source": [
    "def scaling(x):\n",
    "    scaler = MinMaxScaler(feature_range = (0,1))\n",
    "    scaler.fit(pd.DataFrame(x['전력발전량']))\n",
    "    x['전력발전량'] = scaler.transform(pd.DataFrame(x['전력발전량']))\n",
    "    return scaler, x "
   ]
  },
  {
   "cell_type": "code",
   "execution_count": 53,
   "id": "dddda3ce-8ece-4d57-b9e4-15694f7cb498",
   "metadata": {
    "collapsed": true,
    "jupyter": {
     "outputs_hidden": true
    },
    "tags": []
   },
   "outputs": [
    {
     "name": "stderr",
     "output_type": "stream",
     "text": [
      "/var/folders/lf/472dwzh15hqd9qhdk_3h5sx40000gp/T/ipykernel_16459/4210794255.py:4: SettingWithCopyWarning: \n",
      "A value is trying to be set on a copy of a slice from a DataFrame.\n",
      "Try using .loc[row_indexer,col_indexer] = value instead\n",
      "\n",
      "See the caveats in the documentation: https://pandas.pydata.org/pandas-docs/stable/user_guide/indexing.html#returning-a-view-versus-a-copy\n",
      "  x['전력발전량'] = scaler.transform(pd.DataFrame(x['전력발전량']))\n",
      "/var/folders/lf/472dwzh15hqd9qhdk_3h5sx40000gp/T/ipykernel_16459/4210794255.py:4: SettingWithCopyWarning: \n",
      "A value is trying to be set on a copy of a slice from a DataFrame.\n",
      "Try using .loc[row_indexer,col_indexer] = value instead\n",
      "\n",
      "See the caveats in the documentation: https://pandas.pydata.org/pandas-docs/stable/user_guide/indexing.html#returning-a-view-versus-a-copy\n",
      "  x['전력발전량'] = scaler.transform(pd.DataFrame(x['전력발전량']))\n",
      "/var/folders/lf/472dwzh15hqd9qhdk_3h5sx40000gp/T/ipykernel_16459/4210794255.py:4: SettingWithCopyWarning: \n",
      "A value is trying to be set on a copy of a slice from a DataFrame.\n",
      "Try using .loc[row_indexer,col_indexer] = value instead\n",
      "\n",
      "See the caveats in the documentation: https://pandas.pydata.org/pandas-docs/stable/user_guide/indexing.html#returning-a-view-versus-a-copy\n",
      "  x['전력발전량'] = scaler.transform(pd.DataFrame(x['전력발전량']))\n",
      "/var/folders/lf/472dwzh15hqd9qhdk_3h5sx40000gp/T/ipykernel_16459/4210794255.py:4: SettingWithCopyWarning: \n",
      "A value is trying to be set on a copy of a slice from a DataFrame.\n",
      "Try using .loc[row_indexer,col_indexer] = value instead\n",
      "\n",
      "See the caveats in the documentation: https://pandas.pydata.org/pandas-docs/stable/user_guide/indexing.html#returning-a-view-versus-a-copy\n",
      "  x['전력발전량'] = scaler.transform(pd.DataFrame(x['전력발전량']))\n",
      "/var/folders/lf/472dwzh15hqd9qhdk_3h5sx40000gp/T/ipykernel_16459/4210794255.py:4: SettingWithCopyWarning: \n",
      "A value is trying to be set on a copy of a slice from a DataFrame.\n",
      "Try using .loc[row_indexer,col_indexer] = value instead\n",
      "\n",
      "See the caveats in the documentation: https://pandas.pydata.org/pandas-docs/stable/user_guide/indexing.html#returning-a-view-versus-a-copy\n",
      "  x['전력발전량'] = scaler.transform(pd.DataFrame(x['전력발전량']))\n",
      "/var/folders/lf/472dwzh15hqd9qhdk_3h5sx40000gp/T/ipykernel_16459/4210794255.py:4: SettingWithCopyWarning: \n",
      "A value is trying to be set on a copy of a slice from a DataFrame.\n",
      "Try using .loc[row_indexer,col_indexer] = value instead\n",
      "\n",
      "See the caveats in the documentation: https://pandas.pydata.org/pandas-docs/stable/user_guide/indexing.html#returning-a-view-versus-a-copy\n",
      "  x['전력발전량'] = scaler.transform(pd.DataFrame(x['전력발전량']))\n",
      "/var/folders/lf/472dwzh15hqd9qhdk_3h5sx40000gp/T/ipykernel_16459/4210794255.py:4: SettingWithCopyWarning: \n",
      "A value is trying to be set on a copy of a slice from a DataFrame.\n",
      "Try using .loc[row_indexer,col_indexer] = value instead\n",
      "\n",
      "See the caveats in the documentation: https://pandas.pydata.org/pandas-docs/stable/user_guide/indexing.html#returning-a-view-versus-a-copy\n",
      "  x['전력발전량'] = scaler.transform(pd.DataFrame(x['전력발전량']))\n"
     ]
    }
   ],
   "source": [
    "scaler_a, a_x = scaling(a_x)\n",
    "scaler_b, b_x = scaling(b_x)\n",
    "scaler_c, c_x = scaling(c_x)\n",
    "scaler_d, d_x = scaling(d_x)\n",
    "scaler_e, e_x = scaling(e_x)\n",
    "scaler_g, g_x = scaling(g_x)\n",
    "scaler_h, h_x = scaling(h_x)"
   ]
  },
  {
   "cell_type": "code",
   "execution_count": 55,
   "id": "1dccf467-c609-4ca3-920c-a684adcf3a89",
   "metadata": {},
   "outputs": [
    {
     "data": {
      "text/plain": [
       "(17520, 5)"
      ]
     },
     "execution_count": 55,
     "metadata": {},
     "output_type": "execute_result"
    }
   ],
   "source": [
    "a_x.shape"
   ]
  },
  {
   "cell_type": "code",
   "execution_count": 59,
   "id": "030ba64a-1ad2-4ca0-8eae-38ca4f10a0a1",
   "metadata": {},
   "outputs": [
    {
     "data": {
      "text/html": [
       "<div>\n",
       "<style scoped>\n",
       "    .dataframe tbody tr th:only-of-type {\n",
       "        vertical-align: middle;\n",
       "    }\n",
       "\n",
       "    .dataframe tbody tr th {\n",
       "        vertical-align: top;\n",
       "    }\n",
       "\n",
       "    .dataframe thead th {\n",
       "        text-align: right;\n",
       "    }\n",
       "</style>\n",
       "<table border=\"1\" class=\"dataframe\">\n",
       "  <thead>\n",
       "    <tr style=\"text-align: right;\">\n",
       "      <th></th>\n",
       "      <th>전력발전량</th>\n",
       "      <th>year</th>\n",
       "      <th>month</th>\n",
       "      <th>day</th>\n",
       "      <th>weekday</th>\n",
       "    </tr>\n",
       "  </thead>\n",
       "  <tbody>\n",
       "    <tr>\n",
       "      <th>0</th>\n",
       "      <td>0.339148</td>\n",
       "      <td>2017</td>\n",
       "      <td>1</td>\n",
       "      <td>1</td>\n",
       "      <td>6</td>\n",
       "    </tr>\n",
       "    <tr>\n",
       "      <th>7</th>\n",
       "      <td>0.291324</td>\n",
       "      <td>2017</td>\n",
       "      <td>1</td>\n",
       "      <td>1</td>\n",
       "      <td>6</td>\n",
       "    </tr>\n",
       "    <tr>\n",
       "      <th>14</th>\n",
       "      <td>0.254119</td>\n",
       "      <td>2017</td>\n",
       "      <td>1</td>\n",
       "      <td>1</td>\n",
       "      <td>6</td>\n",
       "    </tr>\n",
       "    <tr>\n",
       "      <th>21</th>\n",
       "      <td>0.235362</td>\n",
       "      <td>2017</td>\n",
       "      <td>1</td>\n",
       "      <td>1</td>\n",
       "      <td>6</td>\n",
       "    </tr>\n",
       "    <tr>\n",
       "      <th>28</th>\n",
       "      <td>0.236248</td>\n",
       "      <td>2017</td>\n",
       "      <td>1</td>\n",
       "      <td>1</td>\n",
       "      <td>6</td>\n",
       "    </tr>\n",
       "    <tr>\n",
       "      <th>...</th>\n",
       "      <td>...</td>\n",
       "      <td>...</td>\n",
       "      <td>...</td>\n",
       "      <td>...</td>\n",
       "      <td>...</td>\n",
       "    </tr>\n",
       "    <tr>\n",
       "      <th>122605</th>\n",
       "      <td>0.534697</td>\n",
       "      <td>2018</td>\n",
       "      <td>12</td>\n",
       "      <td>31</td>\n",
       "      <td>0</td>\n",
       "    </tr>\n",
       "    <tr>\n",
       "      <th>122612</th>\n",
       "      <td>0.512942</td>\n",
       "      <td>2018</td>\n",
       "      <td>12</td>\n",
       "      <td>31</td>\n",
       "      <td>0</td>\n",
       "    </tr>\n",
       "    <tr>\n",
       "      <th>122619</th>\n",
       "      <td>0.491318</td>\n",
       "      <td>2018</td>\n",
       "      <td>12</td>\n",
       "      <td>31</td>\n",
       "      <td>0</td>\n",
       "    </tr>\n",
       "    <tr>\n",
       "      <th>122626</th>\n",
       "      <td>0.490613</td>\n",
       "      <td>2018</td>\n",
       "      <td>12</td>\n",
       "      <td>31</td>\n",
       "      <td>0</td>\n",
       "    </tr>\n",
       "    <tr>\n",
       "      <th>122633</th>\n",
       "      <td>0.539570</td>\n",
       "      <td>2018</td>\n",
       "      <td>12</td>\n",
       "      <td>31</td>\n",
       "      <td>0</td>\n",
       "    </tr>\n",
       "  </tbody>\n",
       "</table>\n",
       "<p>17520 rows × 5 columns</p>\n",
       "</div>"
      ],
      "text/plain": [
       "           전력발전량  year  month  day  weekday\n",
       "0       0.339148  2017      1    1        6\n",
       "7       0.291324  2017      1    1        6\n",
       "14      0.254119  2017      1    1        6\n",
       "21      0.235362  2017      1    1        6\n",
       "28      0.236248  2017      1    1        6\n",
       "...          ...   ...    ...  ...      ...\n",
       "122605  0.534697  2018     12   31        0\n",
       "122612  0.512942  2018     12   31        0\n",
       "122619  0.491318  2018     12   31        0\n",
       "122626  0.490613  2018     12   31        0\n",
       "122633  0.539570  2018     12   31        0\n",
       "\n",
       "[17520 rows x 5 columns]"
      ]
     },
     "execution_count": 59,
     "metadata": {},
     "output_type": "execute_result"
    }
   ],
   "source": [
    "a_x"
   ]
  },
  {
   "cell_type": "code",
   "execution_count": 45,
   "id": "2e3f2b21-ba39-4959-8928-169e0f769f46",
   "metadata": {},
   "outputs": [],
   "source": [
    "from sklearn.model_selection import train_test_split"
   ]
  },
  {
   "cell_type": "code",
   "execution_count": 12,
   "id": "b759b12b-9e32-4daa-8aca-6a50f06f238b",
   "metadata": {},
   "outputs": [],
   "source": [
    "X_train, X_test, y_train, y_test = train_test_split(x, y, test_size = 0.25, shuffle = True, \n",
    "                                                    random_state = 1000)"
   ]
  },
  {
   "cell_type": "code",
   "execution_count": 13,
   "id": "7d5c318a-7b07-4c23-9253-998fbce4022f",
   "metadata": {},
   "outputs": [],
   "source": [
    "d_train = lgb.Dataset(X_train, y_train)\n",
    "d_test = lgb.Dataset(X_test, y_test)"
   ]
  },
  {
   "cell_type": "code",
   "execution_count": 67,
   "id": "187978e3-21eb-4542-b42a-9b99940fdf25",
   "metadata": {},
   "outputs": [],
   "source": [
    "def model(x, y):\n",
    "    X_train, X_test, y_train, y_test = train_test_split(x, y, test_size = 0.25, \n",
    "                                                        shuffle = True, \n",
    "                                                        random_state = 1000)\n",
    "    \n",
    "    d_train = lgb.Dataset(X_train, y_train)\n",
    "    d_test = lgb.Dataset(X_test, y_test)\n",
    "    \n",
    "    params = {'objective' : 'regression',\n",
    "             'metric':'mae',\n",
    "              'learning_rate' : 0.002,\n",
    "             'seed': 1000}\n",
    "    \n",
    "    lgbr = lgb.train(params, d_train, 50000, d_test, verbose_eval = 5000,\n",
    "                  early_stopping_rounds = 2000)\n",
    "    \n",
    "    \n",
    "    return lgbr"
   ]
  },
  {
   "cell_type": "code",
   "execution_count": 68,
   "id": "c12ccf15-7d8e-40c9-a1b9-bc57dd9de94f",
   "metadata": {
    "tags": []
   },
   "outputs": [
    {
     "name": "stdout",
     "output_type": "stream",
     "text": [
      "[LightGBM] [Warning] Auto-choosing row-wise multi-threading, the overhead of testing was 0.000251 seconds.\n",
      "You can set `force_row_wise=true` to remove the overhead.\n",
      "And if memory is not enough, you can set `force_col_wise=true`.\n",
      "[LightGBM] [Info] Total Bins 310\n",
      "[LightGBM] [Info] Number of data points in the train set: 13140, number of used features: 5\n",
      "[LightGBM] [Info] Start training from score 1192.872535\n",
      "Training until validation scores don't improve for 2000 rounds\n",
      "[5000]\tvalid_0's l1: 143.436\n",
      "[10000]\tvalid_0's l1: 137.802\n",
      "[15000]\tvalid_0's l1: 135.737\n",
      "[20000]\tvalid_0's l1: 134.743\n",
      "[25000]\tvalid_0's l1: 133.897\n",
      "[30000]\tvalid_0's l1: 133.556\n",
      "Early stopping, best iteration is:\n",
      "[32494]\tvalid_0's l1: 133.475\n"
     ]
    }
   ],
   "source": [
    "a_lgbr = model(a_x, a_y)"
   ]
  },
  {
   "cell_type": "code",
   "execution_count": null,
   "id": "af4f7336-a30c-43a7-9da1-14d4057b0ab8",
   "metadata": {},
   "outputs": [],
   "source": [
    "test_x = test[['일자','시간','구분','year','month','day','weekday']]\n",
    "test_x.columns = ['연월일','시간','구분','year','month','day','weekday']\n",
    "test_x['연월일'] = test_x['연월일'].astype(str)\n",
    "\n",
    "test_x = pd.merge(test_x, time_elc, how = 'left', right_index = False)\n",
    "test_x = test_x[['전력발전량','구분','year','month','day','weekday']]\n",
    "test_x['전력발전량'] = scaler.transform(pd.DataFrame(test_x['전력발전량']))"
   ]
  },
  {
   "cell_type": "code",
   "execution_count": null,
   "id": "1505d8bc-70ec-449d-9278-3760a81543de",
   "metadata": {},
   "outputs": [],
   "source": [
    "pred = lgbr.predict(test_x)"
   ]
  },
  {
   "cell_type": "code",
   "execution_count": null,
   "id": "e9246a64-1aeb-425d-9dac-cf57bb111fdd",
   "metadata": {},
   "outputs": [],
   "source": [
    "sub['공급량'] = pred"
   ]
  }
 ],
 "metadata": {
  "kernelspec": {
   "display_name": "Python 3 (ipykernel)",
   "language": "python",
   "name": "python3"
  },
  "language_info": {
   "codemirror_mode": {
    "name": "ipython",
    "version": 3
   },
   "file_extension": ".py",
   "mimetype": "text/x-python",
   "name": "python",
   "nbconvert_exporter": "python",
   "pygments_lexer": "ipython3",
   "version": "3.9.7"
  }
 },
 "nbformat": 4,
 "nbformat_minor": 5
}
