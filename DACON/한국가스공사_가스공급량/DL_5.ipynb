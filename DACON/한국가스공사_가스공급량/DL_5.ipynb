{
 "cells": [
  {
   "cell_type": "markdown",
   "id": "25d111a7-b159-44f7-96d6-624dcd9df4df",
   "metadata": {},
   "source": [
    "## 공급량 데이터만 가지고 LSTM 모델 만들기 "
   ]
  },
  {
   "cell_type": "code",
   "execution_count": 2,
   "id": "6382bdfc-1449-4b11-91aa-cc2bfc6ad6c0",
   "metadata": {},
   "outputs": [],
   "source": [
    "import numpy as np\n",
    "import pandas as pd \n",
    "import datetime\n",
    "import matplotlib.pyplot as plt \n",
    "%matplotlib inline \n",
    "\n",
    "plt.rc('font', family = 'AppleGothic')\n",
    "plt.rcParams['axes.unicode_minus'] = False\n",
    "\n",
    "\n",
    "df = pd.read_csv('한국가스공사_시간별 공급량_20181231.csv', encoding = 'euc-kr')\n",
    "test = pd.read_csv('가스공급량 수요예측모델개발_data/test.csv')\n",
    "sub = pd.read_csv('가스공급량 수요예측모델개발_data/sample_submission.csv')"
   ]
  },
  {
   "cell_type": "code",
   "execution_count": 6,
   "id": "5bf44cd1-af81-4f27-9fea-2450efb23d27",
   "metadata": {},
   "outputs": [],
   "source": [
    "def tohour(val):\n",
    "    if len(val) == 1:\n",
    "        return '0'+val+':00:00'\n",
    "    else:\n",
    "        return val+':00:00'\n",
    "    \n",
    "df['시간_수정'] = df['시간'] -1 \n",
    "df['시간_수정'] = df['시간_수정'].astype(str)\n",
    "df['시간_수정'] = df['시간_수정'].apply(tohour)\n",
    "df['연월일시간'] = df['연월일']+' '+df['시간_수정']\n",
    "df['연월일시간'] = pd.to_datetime(df['연월일시간'])\n",
    "\n",
    "A = df[df['구분'] =='A']\n",
    "B = df[df['구분'] =='B']\n",
    "C = df[df['구분'] =='C']\n",
    "D = df[df['구분'] =='D']\n",
    "E = df[df['구분'] =='E']\n",
    "G = df[df['구분'] =='G']\n",
    "H = df[df['구분'] =='H']"
   ]
  },
  {
   "cell_type": "code",
   "execution_count": 3,
   "id": "a7e6396f-e106-443b-95b7-190514b862eb",
   "metadata": {},
   "outputs": [],
   "source": [
    "from sklearn.preprocessing import MinMaxScaler"
   ]
  },
  {
   "cell_type": "code",
   "execution_count": 4,
   "id": "864a7c08-6285-4e75-9a40-7aee413e7df7",
   "metadata": {},
   "outputs": [],
   "source": [
    "# 학습용 데이터 세트 생성\n",
    "# 'look_back=10'일 때 'x = [[[x0], .. [x10]] [[x1], .. [x11]] ..], y = [[x11], [x12] ..]'의 형태로 학습 데이터가 만들어진다.\n",
    "def create_dataset(signal_data, look_back=1):  \n",
    "    x_arr, y_arr = [], []\n",
    "    for i in range(len(signal_data) - look_back):\n",
    "        x_arr.append(signal_data[i:(i + look_back), 0])\n",
    "        y_arr.append(signal_data[i + look_back, 0])\n",
    "\n",
    "    x_arr = np.array(x_arr)\n",
    "    x_arr = np.reshape(x_arr, (x_arr.shape[0], x_arr.shape[1], 1))\n",
    "    return x_arr, np.array(y_arr)"
   ]
  },
  {
   "cell_type": "markdown",
   "id": "f2c1ccbe-46e0-40f3-a8e7-9122f3f92328",
   "metadata": {},
   "source": [
    "### A "
   ]
  },
  {
   "cell_type": "code",
   "execution_count": 9,
   "id": "d62852cc-776e-418a-a7a0-f9bc471a7a85",
   "metadata": {},
   "outputs": [],
   "source": [
    "scaler = MinMaxScaler(feature_range= (0,1))\n",
    "공급량 = scaler.fit_transform(A['공급량'].to_frame())"
   ]
  },
  {
   "cell_type": "code",
   "execution_count": 10,
   "id": "626bf5f9-cb97-4efc-a402-ec7ae94c1b43",
   "metadata": {},
   "outputs": [],
   "source": [
    "train = 공급량[:int(len(공급량) * 0.5 )]\n",
    "val = 공급량[int(len(공급량)*0.5): int(len(공급량)*0.75)]\n",
    "test = 공급량[int(len(공급량)*0.75) : -1 ]"
   ]
  },
  {
   "cell_type": "code",
   "execution_count": 14,
   "id": "a31a9395-b35b-45b6-9fe0-a4d65be37389",
   "metadata": {},
   "outputs": [],
   "source": [
    "look_back = 90 * 24\n",
    "batch_size = 100\n",
    "x_train, y_train = create_dataset(train, look_back)  \n",
    "x_val, y_val = create_dataset(val, look_back)  \n",
    "x_test, y_test = create_dataset(test, look_back)  "
   ]
  },
  {
   "cell_type": "code",
   "execution_count": 15,
   "id": "d799e115-99e7-43b3-8277-85d482573d96",
   "metadata": {},
   "outputs": [],
   "source": [
    "import tensorflow as tf \n",
    "from tensorflow import keras\n",
    "from tensorflow.keras.layers import Dense, LSTM, Input, TimeDistributed, Dropout\n",
    "from tensorflow.keras.models import Model, Sequential"
   ]
  },
  {
   "cell_type": "code",
   "execution_count": 16,
   "id": "5afb7956-98c1-4271-a739-01ec04f29a46",
   "metadata": {},
   "outputs": [],
   "source": [
    "model = Sequential()  \n",
    "model.add(LSTM(32, batch_input_shape=(batch_size, look_back, 1), stateful=True, return_sequences=True))  \n",
    "model.add(Dropout(0.2)) # overfitting을 막기 위해 20% 가량을 drop  \n",
    "model.add(LSTM(32, batch_input_shape=(batch_size, look_back, 1), stateful=True))  \n",
    "model.add(Dropout(0.2))  \n",
    "model.add(Dense(1))"
   ]
  },
  {
   "cell_type": "code",
   "execution_count": 17,
   "id": "603cc636-ff5e-4316-87fe-74e00be3416b",
   "metadata": {},
   "outputs": [],
   "source": [
    "model.compile(loss='mae', optimizer='adam')"
   ]
  },
  {
   "cell_type": "code",
   "execution_count": null,
   "id": "63350b62-d2c4-4d21-bd3e-670259dbaeea",
   "metadata": {},
   "outputs": [
    {
     "name": "stderr",
     "output_type": "stream",
     "text": [
      "2021-11-12 17:54:58.940721: I tensorflow/compiler/mlir/mlir_graph_optimization_pass.cc:185] None of the MLIR Optimization Passes are enabled (registered 2)\n",
      "2021-11-12 17:54:58.943155: W tensorflow/core/platform/profile_utils/cpu_utils.cc:128] Failed to get CPU frequency: 0 Hz\n"
     ]
    },
    {
     "name": "stdout",
     "output_type": "stream",
     "text": [
      "Epoch 1/100\n"
     ]
    }
   ],
   "source": [
    "model.fit(x_train, y_train, epochs = 100, batch_size = batch_size, validation_data = (x_val, y_val))"
   ]
  },
  {
   "cell_type": "code",
   "execution_count": null,
   "id": "56450fad-54dc-4dc1-8e11-696b2863a3da",
   "metadata": {},
   "outputs": [],
   "source": []
  }
 ],
 "metadata": {
  "kernelspec": {
   "display_name": "Python 3 (ipykernel)",
   "language": "python",
   "name": "python3"
  },
  "language_info": {
   "codemirror_mode": {
    "name": "ipython",
    "version": 3
   },
   "file_extension": ".py",
   "mimetype": "text/x-python",
   "name": "python",
   "nbconvert_exporter": "python",
   "pygments_lexer": "ipython3",
   "version": "3.9.7"
  }
 },
 "nbformat": 4,
 "nbformat_minor": 5
}
