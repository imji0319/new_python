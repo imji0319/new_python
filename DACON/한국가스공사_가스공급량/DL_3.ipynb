{
 "cells": [
  {
   "cell_type": "markdown",
   "id": "2f7e1fec-9d1e-4039-98b2-04ffb4143ffc",
   "metadata": {},
   "source": [
    "# 90일 한도 간의 시간별 가스 공급량 예측 \n",
    "\n",
    "Many to Many LSTM 모델 활용   \n",
    "Many to Many의 input data와 output data의 데이터 형태 모두 (batch size, t, input_length) \n",
    "\n",
    "input_shape = (batch_size, 2160, 1 )\n",
    "output_shape = ( 2160 , 1 )\n",
    "\n",
    "y_test 결과 : 90일 * 24시간 = 2160시간"
   ]
  },
  {
   "cell_type": "markdown",
   "id": "68882b39-f91a-4538-8c65-0799ad784bb9",
   "metadata": {
    "tags": []
   },
   "source": [
    "#### 데이터 로드"
   ]
  },
  {
   "cell_type": "code",
   "execution_count": 1,
   "id": "1f75a656-63d7-475b-a282-c5e8c251f344",
   "metadata": {},
   "outputs": [],
   "source": [
    "import numpy as np\n",
    "import pandas as pd \n",
    "import datetime\n",
    "import matplotlib.pyplot as plt \n",
    "%matplotlib inline \n",
    "\n",
    "plt.rc('font', family = 'AppleGothic')\n",
    "plt.rcParams['axes.unicode_minus'] = False\n",
    "\n",
    "\n",
    "df = pd.read_csv('한국가스공사_시간별 공급량_20181231.csv', encoding = 'euc-kr')\n",
    "test = pd.read_csv('가스공급량 수요예측모델개발_data/test.csv')\n",
    "sub = pd.read_csv('가스공급량 수요예측모델개발_data/sample_submission.csv')\n",
    "\n",
    "def tohour(val):\n",
    "    if len(val) == 1:\n",
    "        return '0'+val+':00:00'\n",
    "    else:\n",
    "        return val+':00:00'\n",
    "    \n",
    "def gubun(df):\n",
    "    df = df[['연월일시간','공급량']]\n",
    "    df.columns = ['ds','y']\n",
    "    df = df.set_index('ds')\n",
    "    return df"
   ]
  },
  {
   "cell_type": "code",
   "execution_count": 2,
   "id": "58fa4ed2-a34d-43c9-a346-f66090aae24b",
   "metadata": {},
   "outputs": [],
   "source": [
    "df['시간_수정'] = df['시간'] -1 \n",
    "df['시간_수정'] = df['시간_수정'].astype(str)\n",
    "df['시간_수정'] = df['시간_수정'].apply(tohour)\n",
    "df['연월일시간'] = df['연월일']+' '+df['시간_수정']\n",
    "df['연월일시간'] = pd.to_datetime(df['연월일시간'])\n",
    "\n",
    "A = df[df['구분'] =='A']\n",
    "a = gubun(A)"
   ]
  },
  {
   "cell_type": "markdown",
   "id": "70e0d447-b632-41f1-9328-0478a2ddfbe4",
   "metadata": {
    "tags": []
   },
   "source": [
    "## 데이터 분할"
   ]
  },
  {
   "cell_type": "code",
   "execution_count": 5,
   "id": "aebf38ad-404c-4d72-a9a7-9c91e14a277d",
   "metadata": {},
   "outputs": [
    {
     "data": {
      "text/html": [
       "<div>\n",
       "<style scoped>\n",
       "    .dataframe tbody tr th:only-of-type {\n",
       "        vertical-align: middle;\n",
       "    }\n",
       "\n",
       "    .dataframe tbody tr th {\n",
       "        vertical-align: top;\n",
       "    }\n",
       "\n",
       "    .dataframe thead th {\n",
       "        text-align: right;\n",
       "    }\n",
       "</style>\n",
       "<table border=\"1\" class=\"dataframe\">\n",
       "  <thead>\n",
       "    <tr style=\"text-align: right;\">\n",
       "      <th></th>\n",
       "      <th>연월일</th>\n",
       "      <th>시간</th>\n",
       "      <th>구분</th>\n",
       "      <th>공급량</th>\n",
       "      <th>시간_수정</th>\n",
       "      <th>연월일시간</th>\n",
       "    </tr>\n",
       "  </thead>\n",
       "  <tbody>\n",
       "    <tr>\n",
       "      <th>0</th>\n",
       "      <td>2013-01-01</td>\n",
       "      <td>1</td>\n",
       "      <td>A</td>\n",
       "      <td>2497.129</td>\n",
       "      <td>00:00:00</td>\n",
       "      <td>2013-01-01 00:00:00</td>\n",
       "    </tr>\n",
       "    <tr>\n",
       "      <th>1</th>\n",
       "      <td>2013-01-01</td>\n",
       "      <td>2</td>\n",
       "      <td>A</td>\n",
       "      <td>2363.265</td>\n",
       "      <td>01:00:00</td>\n",
       "      <td>2013-01-01 01:00:00</td>\n",
       "    </tr>\n",
       "    <tr>\n",
       "      <th>2</th>\n",
       "      <td>2013-01-01</td>\n",
       "      <td>3</td>\n",
       "      <td>A</td>\n",
       "      <td>2258.505</td>\n",
       "      <td>02:00:00</td>\n",
       "      <td>2013-01-01 02:00:00</td>\n",
       "    </tr>\n",
       "  </tbody>\n",
       "</table>\n",
       "</div>"
      ],
      "text/plain": [
       "          연월일  시간 구분       공급량     시간_수정               연월일시간\n",
       "0  2013-01-01   1  A  2497.129  00:00:00 2013-01-01 00:00:00\n",
       "1  2013-01-01   2  A  2363.265  01:00:00 2013-01-01 01:00:00\n",
       "2  2013-01-01   3  A  2258.505  02:00:00 2013-01-01 02:00:00"
      ]
     },
     "execution_count": 5,
     "metadata": {},
     "output_type": "execute_result"
    }
   ],
   "source": [
    "A[:3]"
   ]
  },
  {
   "cell_type": "code",
   "execution_count": 6,
   "id": "8dcc1c46-f745-49bb-9da8-14f7582165eb",
   "metadata": {},
   "outputs": [
    {
     "data": {
      "text/html": [
       "<div>\n",
       "<style scoped>\n",
       "    .dataframe tbody tr th:only-of-type {\n",
       "        vertical-align: middle;\n",
       "    }\n",
       "\n",
       "    .dataframe tbody tr th {\n",
       "        vertical-align: top;\n",
       "    }\n",
       "\n",
       "    .dataframe thead th {\n",
       "        text-align: right;\n",
       "    }\n",
       "</style>\n",
       "<table border=\"1\" class=\"dataframe\">\n",
       "  <thead>\n",
       "    <tr style=\"text-align: right;\">\n",
       "      <th></th>\n",
       "      <th>y</th>\n",
       "    </tr>\n",
       "    <tr>\n",
       "      <th>ds</th>\n",
       "      <th></th>\n",
       "    </tr>\n",
       "  </thead>\n",
       "  <tbody>\n",
       "    <tr>\n",
       "      <th>2013-01-01 00:00:00</th>\n",
       "      <td>2497.129</td>\n",
       "    </tr>\n",
       "    <tr>\n",
       "      <th>2013-01-01 01:00:00</th>\n",
       "      <td>2363.265</td>\n",
       "    </tr>\n",
       "    <tr>\n",
       "      <th>2013-01-01 02:00:00</th>\n",
       "      <td>2258.505</td>\n",
       "    </tr>\n",
       "  </tbody>\n",
       "</table>\n",
       "</div>"
      ],
      "text/plain": [
       "                            y\n",
       "ds                           \n",
       "2013-01-01 00:00:00  2497.129\n",
       "2013-01-01 01:00:00  2363.265\n",
       "2013-01-01 02:00:00  2258.505"
      ]
     },
     "execution_count": 6,
     "metadata": {},
     "output_type": "execute_result"
    }
   ],
   "source": [
    "a[:3]"
   ]
  },
  {
   "cell_type": "code",
   "execution_count": 8,
   "id": "68ede556-8588-4309-9221-3daa1c93f932",
   "metadata": {},
   "outputs": [
    {
     "data": {
      "text/html": [
       "<div>\n",
       "<style scoped>\n",
       "    .dataframe tbody tr th:only-of-type {\n",
       "        vertical-align: middle;\n",
       "    }\n",
       "\n",
       "    .dataframe tbody tr th {\n",
       "        vertical-align: top;\n",
       "    }\n",
       "\n",
       "    .dataframe thead th {\n",
       "        text-align: right;\n",
       "    }\n",
       "</style>\n",
       "<table border=\"1\" class=\"dataframe\">\n",
       "  <thead>\n",
       "    <tr style=\"text-align: right;\">\n",
       "      <th></th>\n",
       "      <th>y</th>\n",
       "    </tr>\n",
       "    <tr>\n",
       "      <th>ds</th>\n",
       "      <th></th>\n",
       "    </tr>\n",
       "  </thead>\n",
       "  <tbody>\n",
       "    <tr>\n",
       "      <th>2013-01-01 00:00:00</th>\n",
       "      <td>2497.129</td>\n",
       "    </tr>\n",
       "    <tr>\n",
       "      <th>2013-01-01 01:00:00</th>\n",
       "      <td>2363.265</td>\n",
       "    </tr>\n",
       "    <tr>\n",
       "      <th>2013-01-01 02:00:00</th>\n",
       "      <td>2258.505</td>\n",
       "    </tr>\n",
       "    <tr>\n",
       "      <th>2013-01-01 03:00:00</th>\n",
       "      <td>2243.969</td>\n",
       "    </tr>\n",
       "    <tr>\n",
       "      <th>2013-01-01 04:00:00</th>\n",
       "      <td>2344.105</td>\n",
       "    </tr>\n",
       "    <tr>\n",
       "      <th>...</th>\n",
       "      <td>...</td>\n",
       "    </tr>\n",
       "    <tr>\n",
       "      <th>2013-03-31 19:00:00</th>\n",
       "      <td>1755.001</td>\n",
       "    </tr>\n",
       "    <tr>\n",
       "      <th>2013-03-31 20:00:00</th>\n",
       "      <td>1741.633</td>\n",
       "    </tr>\n",
       "    <tr>\n",
       "      <th>2013-03-31 21:00:00</th>\n",
       "      <td>1689.185</td>\n",
       "    </tr>\n",
       "    <tr>\n",
       "      <th>2013-03-31 22:00:00</th>\n",
       "      <td>1609.201</td>\n",
       "    </tr>\n",
       "    <tr>\n",
       "      <th>2013-03-31 23:00:00</th>\n",
       "      <td>1511.265</td>\n",
       "    </tr>\n",
       "  </tbody>\n",
       "</table>\n",
       "<p>2160 rows × 1 columns</p>\n",
       "</div>"
      ],
      "text/plain": [
       "                            y\n",
       "ds                           \n",
       "2013-01-01 00:00:00  2497.129\n",
       "2013-01-01 01:00:00  2363.265\n",
       "2013-01-01 02:00:00  2258.505\n",
       "2013-01-01 03:00:00  2243.969\n",
       "2013-01-01 04:00:00  2344.105\n",
       "...                       ...\n",
       "2013-03-31 19:00:00  1755.001\n",
       "2013-03-31 20:00:00  1741.633\n",
       "2013-03-31 21:00:00  1689.185\n",
       "2013-03-31 22:00:00  1609.201\n",
       "2013-03-31 23:00:00  1511.265\n",
       "\n",
       "[2160 rows x 1 columns]"
      ]
     },
     "execution_count": 8,
     "metadata": {},
     "output_type": "execute_result"
    }
   ],
   "source": [
    "a[0:2160]"
   ]
  },
  {
   "cell_type": "code",
   "execution_count": 10,
   "id": "7324f80d-af0c-4ea0-b6c6-36fb0a0d101a",
   "metadata": {},
   "outputs": [
    {
     "data": {
      "text/html": [
       "<div>\n",
       "<style scoped>\n",
       "    .dataframe tbody tr th:only-of-type {\n",
       "        vertical-align: middle;\n",
       "    }\n",
       "\n",
       "    .dataframe tbody tr th {\n",
       "        vertical-align: top;\n",
       "    }\n",
       "\n",
       "    .dataframe thead th {\n",
       "        text-align: right;\n",
       "    }\n",
       "</style>\n",
       "<table border=\"1\" class=\"dataframe\">\n",
       "  <thead>\n",
       "    <tr style=\"text-align: right;\">\n",
       "      <th></th>\n",
       "      <th>y</th>\n",
       "    </tr>\n",
       "    <tr>\n",
       "      <th>ds</th>\n",
       "      <th></th>\n",
       "    </tr>\n",
       "  </thead>\n",
       "  <tbody>\n",
       "    <tr>\n",
       "      <th>2013-04-01 00:00:00</th>\n",
       "      <td>1303.689</td>\n",
       "    </tr>\n",
       "    <tr>\n",
       "      <th>2013-04-01 01:00:00</th>\n",
       "      <td>1089.273</td>\n",
       "    </tr>\n",
       "    <tr>\n",
       "      <th>2013-04-01 02:00:00</th>\n",
       "      <td>1013.553</td>\n",
       "    </tr>\n",
       "    <tr>\n",
       "      <th>2013-04-01 03:00:00</th>\n",
       "      <td>1085.513</td>\n",
       "    </tr>\n",
       "    <tr>\n",
       "      <th>2013-04-01 04:00:00</th>\n",
       "      <td>1265.209</td>\n",
       "    </tr>\n",
       "    <tr>\n",
       "      <th>...</th>\n",
       "      <td>...</td>\n",
       "    </tr>\n",
       "    <tr>\n",
       "      <th>2013-06-29 19:00:00</th>\n",
       "      <td>658.721</td>\n",
       "    </tr>\n",
       "    <tr>\n",
       "      <th>2013-06-29 20:00:00</th>\n",
       "      <td>614.497</td>\n",
       "    </tr>\n",
       "    <tr>\n",
       "      <th>2013-06-29 21:00:00</th>\n",
       "      <td>530.417</td>\n",
       "    </tr>\n",
       "    <tr>\n",
       "      <th>2013-06-29 22:00:00</th>\n",
       "      <td>487.489</td>\n",
       "    </tr>\n",
       "    <tr>\n",
       "      <th>2013-06-29 23:00:00</th>\n",
       "      <td>434.377</td>\n",
       "    </tr>\n",
       "  </tbody>\n",
       "</table>\n",
       "<p>2160 rows × 1 columns</p>\n",
       "</div>"
      ],
      "text/plain": [
       "                            y\n",
       "ds                           \n",
       "2013-04-01 00:00:00  1303.689\n",
       "2013-04-01 01:00:00  1089.273\n",
       "2013-04-01 02:00:00  1013.553\n",
       "2013-04-01 03:00:00  1085.513\n",
       "2013-04-01 04:00:00  1265.209\n",
       "...                       ...\n",
       "2013-06-29 19:00:00   658.721\n",
       "2013-06-29 20:00:00   614.497\n",
       "2013-06-29 21:00:00   530.417\n",
       "2013-06-29 22:00:00   487.489\n",
       "2013-06-29 23:00:00   434.377\n",
       "\n",
       "[2160 rows x 1 columns]"
      ]
     },
     "execution_count": 10,
     "metadata": {},
     "output_type": "execute_result"
    }
   ],
   "source": [
    "a[2160:2160*2]"
   ]
  },
  {
   "cell_type": "code",
   "execution_count": 6,
   "id": "28134bce-2c6c-48d8-8674-d06ad45a825a",
   "metadata": {},
   "outputs": [],
   "source": [
    "def split_df(df, times):\n",
    "    x_train = []\n",
    "    y_train = []\n",
    "    df = np.array(df)\n",
    "    for i in range(len(df) - times):\n",
    "        x = df[i:i+times]\n",
    "        y = df[i+times:i+times + times]\n",
    "        \n",
    "        if len(y) == times :\n",
    "            x_train.append(x)\n",
    "            y_train.append(y)\n",
    "        else :\n",
    "            break\n",
    "        \n",
    "    \n",
    "    return x_train, y_train"
   ]
  },
  {
   "cell_type": "code",
   "execution_count": 3,
   "id": "0a947fd3-91bd-4e8e-a10a-deecec9c8c8d",
   "metadata": {},
   "outputs": [],
   "source": [
    "from sklearn.preprocessing import MinMaxScaler"
   ]
  },
  {
   "cell_type": "code",
   "execution_count": 4,
   "id": "b0d654a4-a7aa-48d9-a9bd-d63b7c3ed3c5",
   "metadata": {},
   "outputs": [],
   "source": [
    "scaler = MinMaxScaler()\n",
    "sc_a = scaler.fit_transform(a)"
   ]
  },
  {
   "cell_type": "code",
   "execution_count": 36,
   "id": "39bb8d50-39c8-4bb4-a080-fb06d568c01e",
   "metadata": {
    "collapsed": true,
    "jupyter": {
     "outputs_hidden": true
    },
    "tags": []
   },
   "outputs": [
    {
     "data": {
      "text/html": [
       "<div>\n",
       "<style scoped>\n",
       "    .dataframe tbody tr th:only-of-type {\n",
       "        vertical-align: middle;\n",
       "    }\n",
       "\n",
       "    .dataframe tbody tr th {\n",
       "        vertical-align: top;\n",
       "    }\n",
       "\n",
       "    .dataframe thead th {\n",
       "        text-align: right;\n",
       "    }\n",
       "</style>\n",
       "<table border=\"1\" class=\"dataframe\">\n",
       "  <thead>\n",
       "    <tr style=\"text-align: right;\">\n",
       "      <th></th>\n",
       "      <th>y</th>\n",
       "    </tr>\n",
       "    <tr>\n",
       "      <th>ds</th>\n",
       "      <th></th>\n",
       "    </tr>\n",
       "  </thead>\n",
       "  <tbody>\n",
       "    <tr>\n",
       "      <th>2013-01-01 00:00:00</th>\n",
       "      <td>2497.129</td>\n",
       "    </tr>\n",
       "    <tr>\n",
       "      <th>2013-01-01 01:00:00</th>\n",
       "      <td>2363.265</td>\n",
       "    </tr>\n",
       "    <tr>\n",
       "      <th>2013-01-01 02:00:00</th>\n",
       "      <td>2258.505</td>\n",
       "    </tr>\n",
       "    <tr>\n",
       "      <th>2013-01-01 03:00:00</th>\n",
       "      <td>2243.969</td>\n",
       "    </tr>\n",
       "    <tr>\n",
       "      <th>2013-01-01 04:00:00</th>\n",
       "      <td>2344.105</td>\n",
       "    </tr>\n",
       "    <tr>\n",
       "      <th>...</th>\n",
       "      <td>...</td>\n",
       "    </tr>\n",
       "    <tr>\n",
       "      <th>2018-12-31 19:00:00</th>\n",
       "      <td>3040.868</td>\n",
       "    </tr>\n",
       "    <tr>\n",
       "      <th>2018-12-31 20:00:00</th>\n",
       "      <td>2973.577</td>\n",
       "    </tr>\n",
       "    <tr>\n",
       "      <th>2018-12-31 21:00:00</th>\n",
       "      <td>2840.272</td>\n",
       "    </tr>\n",
       "    <tr>\n",
       "      <th>2018-12-31 22:00:00</th>\n",
       "      <td>2692.385</td>\n",
       "    </tr>\n",
       "    <tr>\n",
       "      <th>2018-12-31 23:00:00</th>\n",
       "      <td>2583.340</td>\n",
       "    </tr>\n",
       "  </tbody>\n",
       "</table>\n",
       "<p>52584 rows × 1 columns</p>\n",
       "</div>"
      ],
      "text/plain": [
       "                            y\n",
       "ds                           \n",
       "2013-01-01 00:00:00  2497.129\n",
       "2013-01-01 01:00:00  2363.265\n",
       "2013-01-01 02:00:00  2258.505\n",
       "2013-01-01 03:00:00  2243.969\n",
       "2013-01-01 04:00:00  2344.105\n",
       "...                       ...\n",
       "2018-12-31 19:00:00  3040.868\n",
       "2018-12-31 20:00:00  2973.577\n",
       "2018-12-31 21:00:00  2840.272\n",
       "2018-12-31 22:00:00  2692.385\n",
       "2018-12-31 23:00:00  2583.340\n",
       "\n",
       "[52584 rows x 1 columns]"
      ]
     },
     "execution_count": 36,
     "metadata": {},
     "output_type": "execute_result"
    }
   ],
   "source": [
    "a"
   ]
  },
  {
   "cell_type": "code",
   "execution_count": 7,
   "id": "263e5cf2-7beb-4734-b48c-3b0dd0868a5c",
   "metadata": {},
   "outputs": [],
   "source": [
    "x_train, y_train = split_df(sc_a, 2160)"
   ]
  },
  {
   "cell_type": "code",
   "execution_count": 8,
   "id": "f2e2e4a2-6082-441f-a7e0-034d3c2a9e75",
   "metadata": {
    "collapsed": true,
    "jupyter": {
     "outputs_hidden": true
    },
    "tags": []
   },
   "outputs": [
    {
     "data": {
      "text/plain": [
       "array([[[0.10362733],\n",
       "        [0.0849492 ],\n",
       "        [0.0783531 ],\n",
       "        ...,\n",
       "        [0.03626632],\n",
       "        [0.0325268 ],\n",
       "        [0.02790012]],\n",
       "\n",
       "       [[0.0849492 ],\n",
       "        [0.0783531 ],\n",
       "        [0.08462166],\n",
       "        ...,\n",
       "        [0.0325268 ],\n",
       "        [0.02790012],\n",
       "        [0.02183018]],\n",
       "\n",
       "       [[0.0783531 ],\n",
       "        [0.08462166],\n",
       "        [0.10027527],\n",
       "        ...,\n",
       "        [0.02790012],\n",
       "        [0.02183018],\n",
       "        [0.01459434]],\n",
       "\n",
       "       ...,\n",
       "\n",
       "       [[0.05580904],\n",
       "        [0.05357445],\n",
       "        [0.04616378],\n",
       "        ...,\n",
       "        [0.25495587],\n",
       "        [0.24909404],\n",
       "        [0.23748162]],\n",
       "\n",
       "       [[0.05357445],\n",
       "        [0.04616378],\n",
       "        [0.03602607],\n",
       "        ...,\n",
       "        [0.24909404],\n",
       "        [0.23748162],\n",
       "        [0.22459894]],\n",
       "\n",
       "       [[0.04616378],\n",
       "        [0.03602607],\n",
       "        [0.02764968],\n",
       "        ...,\n",
       "        [0.23748162],\n",
       "        [0.22459894],\n",
       "        [0.21509985]]])"
      ]
     },
     "execution_count": 8,
     "metadata": {},
     "output_type": "execute_result"
    }
   ],
   "source": [
    "np.array(y_train)"
   ]
  },
  {
   "cell_type": "code",
   "execution_count": 9,
   "id": "3f1174ab-56e6-4d4d-9206-fb0ade1db3fa",
   "metadata": {
    "collapsed": true,
    "jupyter": {
     "outputs_hidden": true
    },
    "tags": []
   },
   "outputs": [
    {
     "data": {
      "text/plain": [
       "array([[[0.20758986],\n",
       "        [0.19592875],\n",
       "        [0.18680293],\n",
       "        ...,\n",
       "        [0.13720852],\n",
       "        [0.13024099],\n",
       "        [0.12170962]],\n",
       "\n",
       "       [[0.19592875],\n",
       "        [0.18680293],\n",
       "        [0.18553668],\n",
       "        ...,\n",
       "        [0.13024099],\n",
       "        [0.12170962],\n",
       "        [0.10362733]],\n",
       "\n",
       "       [[0.18680293],\n",
       "        [0.18553668],\n",
       "        [0.19425969],\n",
       "        ...,\n",
       "        [0.12170962],\n",
       "        [0.10362733],\n",
       "        [0.0849492 ]],\n",
       "\n",
       "       ...,\n",
       "\n",
       "       [[0.03391579],\n",
       "        [0.03073761],\n",
       "        [0.02472865],\n",
       "        ...,\n",
       "        [0.06841932],\n",
       "        [0.06648849],\n",
       "        [0.06169814]],\n",
       "\n",
       "       [[0.03073761],\n",
       "        [0.02472865],\n",
       "        [0.01440557],\n",
       "        ...,\n",
       "        [0.06648849],\n",
       "        [0.06169814],\n",
       "        [0.05580904]],\n",
       "\n",
       "       [[0.02472865],\n",
       "        [0.01440557],\n",
       "        [0.00913313],\n",
       "        ...,\n",
       "        [0.06169814],\n",
       "        [0.05580904],\n",
       "        [0.05357445]]])"
      ]
     },
     "execution_count": 9,
     "metadata": {},
     "output_type": "execute_result"
    }
   ],
   "source": [
    "np.array(x_train)"
   ]
  },
  {
   "cell_type": "code",
   "execution_count": 10,
   "id": "f8af8e92-1d7f-4d47-b4fe-c6f9146270ca",
   "metadata": {
    "tags": []
   },
   "outputs": [
    {
     "data": {
      "text/plain": [
       "(48265, 2160, 1)"
      ]
     },
     "execution_count": 10,
     "metadata": {},
     "output_type": "execute_result"
    }
   ],
   "source": [
    "np.array(x_train).shape"
   ]
  },
  {
   "cell_type": "code",
   "execution_count": 11,
   "id": "a395da97-9127-4660-bff3-062018a15507",
   "metadata": {},
   "outputs": [
    {
     "data": {
      "text/plain": [
       "(48265, 2160, 1)"
      ]
     },
     "execution_count": 11,
     "metadata": {},
     "output_type": "execute_result"
    }
   ],
   "source": [
    "np.array(y_train).shape"
   ]
  },
  {
   "cell_type": "markdown",
   "id": "4d9c6022-aa6c-4bdc-98b9-9788d99e6a3d",
   "metadata": {
    "tags": []
   },
   "source": [
    "## 모델링 작업"
   ]
  },
  {
   "cell_type": "code",
   "execution_count": 12,
   "id": "78326e03-e7fd-40c7-b1bd-d9d3246e4f54",
   "metadata": {},
   "outputs": [],
   "source": [
    "import tensorflow as tf \n",
    "from tensorflow import keras"
   ]
  },
  {
   "cell_type": "code",
   "execution_count": 19,
   "id": "b33b805b-9eef-47f0-babd-3bf29d9ab98a",
   "metadata": {},
   "outputs": [
    {
     "data": {
      "text/plain": [
       "2160"
      ]
     },
     "execution_count": 19,
     "metadata": {},
     "output_type": "execute_result"
    }
   ],
   "source": [
    "np.array(x_train).shape[1]"
   ]
  },
  {
   "cell_type": "code",
   "execution_count": 20,
   "id": "c8576b47-ceff-4809-b81d-6102f3b772fd",
   "metadata": {},
   "outputs": [],
   "source": [
    "layer_input = keras.Input(shape = (2160, 1), name ='input')\n",
    "layer_rnn0 = keras.layers.SimpleRNN(100, return_sequences = True, name ='RNN_cell_0')(layer_input)\n",
    "layer_rnn1 = keras.layers.SimpleRNN(100, return_sequences = True, name = 'RNN_cell_1')(layer_rnn0)\n",
    "layer_output = keras.layers.TimeDistributed(keras.layers.Dense(1), name = 'output')(layer_rnn1)"
   ]
  },
  {
   "cell_type": "code",
   "execution_count": 21,
   "id": "3f0bcc3b-aaec-4504-9243-24339076fb20",
   "metadata": {},
   "outputs": [
    {
     "name": "stdout",
     "output_type": "stream",
     "text": [
      "Model: \"stacked_many_to_many\"\n",
      "_________________________________________________________________\n",
      "Layer (type)                 Output Shape              Param #   \n",
      "=================================================================\n",
      "input (InputLayer)           [(None, 2160, 1)]         0         \n",
      "_________________________________________________________________\n",
      "RNN_cell_0 (SimpleRNN)       (None, 2160, 100)         10200     \n",
      "_________________________________________________________________\n",
      "RNN_cell_1 (SimpleRNN)       (None, 2160, 100)         20100     \n",
      "_________________________________________________________________\n",
      "output (TimeDistributed)     (None, 2160, 1)           101       \n",
      "=================================================================\n",
      "Total params: 30,401\n",
      "Trainable params: 30,401\n",
      "Non-trainable params: 0\n",
      "_________________________________________________________________\n"
     ]
    }
   ],
   "source": [
    "model = keras.Model(layer_input, layer_output)\n",
    "model._name = 'stacked_many_to_many'\n",
    "model.summary()"
   ]
  },
  {
   "cell_type": "code",
   "execution_count": 22,
   "id": "dbc3bd14-dac2-4937-94b9-f5a4669fd67b",
   "metadata": {},
   "outputs": [],
   "source": [
    "model.compile(loss ='mae', optimizer = 'adam')"
   ]
  },
  {
   "cell_type": "code",
   "execution_count": 25,
   "id": "21d31cf9-517b-4d0c-9153-a4d655ad6554",
   "metadata": {
    "collapsed": true,
    "jupyter": {
     "outputs_hidden": true
    },
    "tags": []
   },
   "outputs": [
    {
     "data": {
      "text/plain": [
       "array([[[0.10362733],\n",
       "        [0.0849492 ],\n",
       "        [0.0783531 ],\n",
       "        ...,\n",
       "        [0.03626632],\n",
       "        [0.0325268 ],\n",
       "        [0.02790012]],\n",
       "\n",
       "       [[0.0849492 ],\n",
       "        [0.0783531 ],\n",
       "        [0.08462166],\n",
       "        ...,\n",
       "        [0.0325268 ],\n",
       "        [0.02790012],\n",
       "        [0.02183018]],\n",
       "\n",
       "       [[0.0783531 ],\n",
       "        [0.08462166],\n",
       "        [0.10027527],\n",
       "        ...,\n",
       "        [0.02790012],\n",
       "        [0.02183018],\n",
       "        [0.01459434]],\n",
       "\n",
       "       ...,\n",
       "\n",
       "       [[0.05580904],\n",
       "        [0.05357445],\n",
       "        [0.04616378],\n",
       "        ...,\n",
       "        [0.25495587],\n",
       "        [0.24909404],\n",
       "        [0.23748162]],\n",
       "\n",
       "       [[0.05357445],\n",
       "        [0.04616378],\n",
       "        [0.03602607],\n",
       "        ...,\n",
       "        [0.24909404],\n",
       "        [0.23748162],\n",
       "        [0.22459894]],\n",
       "\n",
       "       [[0.04616378],\n",
       "        [0.03602607],\n",
       "        [0.02764968],\n",
       "        ...,\n",
       "        [0.23748162],\n",
       "        [0.22459894],\n",
       "        [0.21509985]]])"
      ]
     },
     "execution_count": 25,
     "metadata": {},
     "output_type": "execute_result"
    }
   ],
   "source": [
    "np.array(y_train)"
   ]
  },
  {
   "cell_type": "code",
   "execution_count": 26,
   "id": "b3e25157-346c-4ab2-b3b7-bcc33597abb8",
   "metadata": {},
   "outputs": [],
   "source": [
    "x_train = np.array(x_train)\n",
    "y_train = np.array(y_train)"
   ]
  },
  {
   "cell_type": "code",
   "execution_count": 28,
   "id": "5079c714-2667-491b-b5ca-df73fa911e7e",
   "metadata": {},
   "outputs": [
    {
     "name": "stdout",
     "output_type": "stream",
     "text": [
      "49/49 [==============================] - 266s 5s/step - loss: 0.0498\n"
     ]
    },
    {
     "data": {
      "text/plain": [
       "<keras.callbacks.History at 0x4922d3520>"
      ]
     },
     "execution_count": 28,
     "metadata": {},
     "output_type": "execute_result"
    }
   ],
   "source": [
    "model.fit(x_train, y_train, batch_size = 1000, verbose = 1)"
   ]
  },
  {
   "cell_type": "code",
   "execution_count": 33,
   "id": "12456653-fe73-4cd5-8a63-6aa8cc4fbf3c",
   "metadata": {},
   "outputs": [],
   "source": [
    "pred = model.predict(x_train[-1])"
   ]
  },
  {
   "cell_type": "code",
   "execution_count": 39,
   "id": "00385618-cf3d-47b9-b661-92186182e1c4",
   "metadata": {},
   "outputs": [],
   "source": [
    "real_pred = scaler.inverse_transform(pred.reshape(-1,1))"
   ]
  },
  {
   "cell_type": "code",
   "execution_count": 51,
   "id": "d6836143-4620-4144-a579-a1767d25cfd2",
   "metadata": {},
   "outputs": [
    {
     "data": {
      "text/plain": [
       "<AxesSubplot:>"
      ]
     },
     "execution_count": 51,
     "metadata": {},
     "output_type": "execute_result"
    },
    {
     "data": {
      "image/png": "[encoded data removed]",
      "text/plain": [
       "<Figure size 432x288 with 1 Axes>"
      ]
     },
     "metadata": {
      "needs_background": "light"
     },
     "output_type": "display_data"
    }
   ],
   "source": [
    "A[:2160]['공급량'].plot()"
   ]
  },
  {
   "cell_type": "code",
   "execution_count": 49,
   "id": "e079acc6-12b8-4470-9fa2-e6aadf0e769c",
   "metadata": {},
   "outputs": [
    {
     "data": {
      "text/plain": [
       "array([[1593.7444, 1592.5116, 1591.8789, ..., 1598.0879, 1597.4036,\n",
       "        1597.1432]], dtype=float32)"
      ]
     },
     "execution_count": 49,
     "metadata": {},
     "output_type": "execute_result"
    }
   ],
   "source": [
    "scaler.inverse_transform(pred.reshape(1,-1))"
   ]
  },
  {
   "cell_type": "markdown",
   "id": "beadc370-b74f-49fb-8880-1a2b5fc89a1c",
   "metadata": {},
   "source": [
    "## 데이터 처리 및 모델링 함수화 작업 "
   ]
  },
  {
   "cell_type": "code",
   "execution_count": 54,
   "id": "48062e55-85e3-4a46-a5b7-fe65449a0ab2",
   "metadata": {},
   "outputs": [],
   "source": [
    "A = df[df['구분'] =='A']\n",
    "B = df[df['구분'] =='B']\n",
    "C = df[df['구분'] =='C']\n",
    "D = df[df['구분'] =='D']\n",
    "E = df[df['구분'] =='E']\n",
    "G = df[df['구분'] =='G']\n",
    "H = df[df['구분'] =='H']\n",
    "a = gubun(A)\n",
    "b = gubun(B)\n",
    "c = gubun(C)\n",
    "d = gubun(D)\n",
    "e = gubun(E)\n",
    "g = gubun(G)\n",
    "h = gubun(H)"
   ]
  },
  {
   "cell_type": "code",
   "execution_count": 91,
   "id": "56809ae5-c5bf-4e24-a695-fe69cb8ff7cb",
   "metadata": {},
   "outputs": [],
   "source": [
    "## 데이터 scaling \n",
    "scaler_a = MinMaxScaler(feature_range = (0, 1))\n",
    "scaler_b = MinMaxScaler(feature_range = (0, 1))\n",
    "scaler_c = MinMaxScaler(feature_range = (0, 1))\n",
    "scaler_d = MinMaxScaler(feature_range = (0, 1))\n",
    "scaler_e = MinMaxScaler(feature_range = (0, 1))\n",
    "scaler_g = MinMaxScaler(feature_range = (0, 1))\n",
    "scaler_h = MinMaxScaler(feature_range = (0, 1))"
   ]
  },
  {
   "cell_type": "code",
   "execution_count": 92,
   "id": "27814598-fddf-457b-892d-7d57648d4f7f",
   "metadata": {},
   "outputs": [],
   "source": [
    "sc_a = scaler_a.fit_transform(a)\n",
    "sc_b = scaler_b.fit_transform(b)\n",
    "sc_c = scaler_c.fit_transform(c)\n",
    "sc_d = scaler_d.fit_transform(d)\n",
    "sc_e = scaler_e.fit_transform(e)\n",
    "sc_g = scaler_g.fit_transform(g)\n",
    "sc_h = scaler_h.fit_transform(h)"
   ]
  },
  {
   "cell_type": "code",
   "execution_count": 93,
   "id": "d16a3621-a67f-4c54-b987-2c929bcc363f",
   "metadata": {},
   "outputs": [],
   "source": [
    "def prep_df(sc_df):\n",
    "    x_train, y_train = split_df(sc_df, 2160)\n",
    "    x_train = np.array(x_train)\n",
    "    y_train = np.array(y_train)\n",
    "    \n",
    "    return x_train, y_train"
   ]
  },
  {
   "cell_type": "code",
   "execution_count": 94,
   "id": "40198d9f-0c62-4894-a7af-3f4d1278ec51",
   "metadata": {},
   "outputs": [],
   "source": [
    "def predictions(sc_df):\n",
    "    x_train, y_train = prep_df(sc_df)\n",
    "    \n",
    "    layer_input = keras.Input(shape = (2160, 1), name ='input')\n",
    "    layer_rnn0 = keras.layers.SimpleRNN(100, return_sequences = True, name ='RNN_cell_0')(layer_input)\n",
    "    layer_rnn1 = keras.layers.SimpleRNN(100, return_sequences = True, name = 'RNN_cell_1')(layer_rnn0)\n",
    "    layer_output = keras.layers.TimeDistributed(keras.layers.Dense(1), name = 'output')(layer_rnn1)\n",
    "    \n",
    "    model = keras.Model(layer_input, layer_output)\n",
    "    model._name = 'stacked_many_to_many'\n",
    "    model.summary()\n",
    "    model.compile(loss ='mae', optimizer = 'adam')\n",
    "    model.fit(x_train, y_train, batch_size = 1000, verbose = 1)\n",
    "    \n",
    "    pred = model.predict(x_train[-1])\n",
    "    \n",
    "    return pred"
   ]
  },
  {
   "cell_type": "code",
   "execution_count": 95,
   "id": "f3676c93-c055-44b4-9b5c-70f764a192b7",
   "metadata": {},
   "outputs": [
    {
     "name": "stdout",
     "output_type": "stream",
     "text": [
      "Model: \"stacked_many_to_many\"\n",
      "_________________________________________________________________\n",
      "Layer (type)                 Output Shape              Param #   \n",
      "=================================================================\n",
      "input (InputLayer)           [(None, 2160, 1)]         0         \n",
      "_________________________________________________________________\n",
      "RNN_cell_0 (SimpleRNN)       (None, 2160, 100)         10200     \n",
      "_________________________________________________________________\n",
      "RNN_cell_1 (SimpleRNN)       (None, 2160, 100)         20100     \n",
      "_________________________________________________________________\n",
      "output (TimeDistributed)     (None, 2160, 1)           101       \n",
      "=================================================================\n",
      "Total params: 30,401\n",
      "Trainable params: 30,401\n",
      "Non-trainable params: 0\n",
      "_________________________________________________________________\n",
      "49/49 [==============================] - 291s 6s/step - loss: 0.1266\n",
      "WARNING:tensorflow:Model was constructed with shape (None, 2160, 1) for input KerasTensor(type_spec=TensorSpec(shape=(None, 2160, 1), dtype=tf.float32, name='input'), name='input', description=\"created by layer 'input'\"), but it was called on an input with incompatible shape (None, 1, 1).\n"
     ]
    }
   ],
   "source": [
    "pred_a = predictions(sc_a)"
   ]
  },
  {
   "cell_type": "code",
   "execution_count": 96,
   "id": "0606ce70-daf0-4bc7-be6d-a22d760c12ae",
   "metadata": {
    "tags": []
   },
   "outputs": [
    {
     "name": "stdout",
     "output_type": "stream",
     "text": [
      "Model: \"stacked_many_to_many\"\n",
      "_________________________________________________________________\n",
      "Layer (type)                 Output Shape              Param #   \n",
      "=================================================================\n",
      "input (InputLayer)           [(None, 2160, 1)]         0         \n",
      "_________________________________________________________________\n",
      "RNN_cell_0 (SimpleRNN)       (None, 2160, 100)         10200     \n",
      "_________________________________________________________________\n",
      "RNN_cell_1 (SimpleRNN)       (None, 2160, 100)         20100     \n",
      "_________________________________________________________________\n",
      "output (TimeDistributed)     (None, 2160, 1)           101       \n",
      "=================================================================\n",
      "Total params: 30,401\n",
      "Trainable params: 30,401\n",
      "Non-trainable params: 0\n",
      "_________________________________________________________________\n",
      "49/49 [==============================] - 316s 6s/step - loss: 0.1570\n",
      "WARNING:tensorflow:Model was constructed with shape (None, 2160, 1) for input KerasTensor(type_spec=TensorSpec(shape=(None, 2160, 1), dtype=tf.float32, name='input'), name='input', description=\"created by layer 'input'\"), but it was called on an input with incompatible shape (None, 1, 1).\n"
     ]
    }
   ],
   "source": [
    "pred_b = predictions(sc_b)"
   ]
  },
  {
   "cell_type": "code",
   "execution_count": 97,
   "id": "fb039a52-fcdd-4e71-9a14-29950757623a",
   "metadata": {},
   "outputs": [
    {
     "name": "stdout",
     "output_type": "stream",
     "text": [
      "Model: \"stacked_many_to_many\"\n",
      "_________________________________________________________________\n",
      "Layer (type)                 Output Shape              Param #   \n",
      "=================================================================\n",
      "input (InputLayer)           [(None, 2160, 1)]         0         \n",
      "_________________________________________________________________\n",
      "RNN_cell_0 (SimpleRNN)       (None, 2160, 100)         10200     \n",
      "_________________________________________________________________\n",
      "RNN_cell_1 (SimpleRNN)       (None, 2160, 100)         20100     \n",
      "_________________________________________________________________\n",
      "output (TimeDistributed)     (None, 2160, 1)           101       \n",
      "=================================================================\n",
      "Total params: 30,401\n",
      "Trainable params: 30,401\n",
      "Non-trainable params: 0\n",
      "_________________________________________________________________\n",
      "49/49 [==============================] - 259s 5s/step - loss: 0.2178\n",
      "WARNING:tensorflow:Model was constructed with shape (None, 2160, 1) for input KerasTensor(type_spec=TensorSpec(shape=(None, 2160, 1), dtype=tf.float32, name='input'), name='input', description=\"created by layer 'input'\"), but it was called on an input with incompatible shape (None, 1, 1).\n"
     ]
    }
   ],
   "source": [
    "pred_c = predictions(sc_c)"
   ]
  },
  {
   "cell_type": "code",
   "execution_count": 98,
   "id": "ddb7c527-eadc-4a0c-83a0-68caf9865375",
   "metadata": {},
   "outputs": [
    {
     "name": "stdout",
     "output_type": "stream",
     "text": [
      "Model: \"stacked_many_to_many\"\n",
      "_________________________________________________________________\n",
      "Layer (type)                 Output Shape              Param #   \n",
      "=================================================================\n",
      "input (InputLayer)           [(None, 2160, 1)]         0         \n",
      "_________________________________________________________________\n",
      "RNN_cell_0 (SimpleRNN)       (None, 2160, 100)         10200     \n",
      "_________________________________________________________________\n",
      "RNN_cell_1 (SimpleRNN)       (None, 2160, 100)         20100     \n",
      "_________________________________________________________________\n",
      "output (TimeDistributed)     (None, 2160, 1)           101       \n",
      "=================================================================\n",
      "Total params: 30,401\n",
      "Trainable params: 30,401\n",
      "Non-trainable params: 0\n",
      "_________________________________________________________________\n",
      "49/49 [==============================] - 260s 5s/step - loss: 0.1617\n",
      "WARNING:tensorflow:Model was constructed with shape (None, 2160, 1) for input KerasTensor(type_spec=TensorSpec(shape=(None, 2160, 1), dtype=tf.float32, name='input'), name='input', description=\"created by layer 'input'\"), but it was called on an input with incompatible shape (None, 1, 1).\n"
     ]
    }
   ],
   "source": [
    "pred_d = predictions(sc_d)"
   ]
  },
  {
   "cell_type": "code",
   "execution_count": 99,
   "id": "d7bad211-c46f-4d9d-8500-d27ba4b9a4f5",
   "metadata": {},
   "outputs": [
    {
     "name": "stdout",
     "output_type": "stream",
     "text": [
      "Model: \"stacked_many_to_many\"\n",
      "_________________________________________________________________\n",
      "Layer (type)                 Output Shape              Param #   \n",
      "=================================================================\n",
      "input (InputLayer)           [(None, 2160, 1)]         0         \n",
      "_________________________________________________________________\n",
      "RNN_cell_0 (SimpleRNN)       (None, 2160, 100)         10200     \n",
      "_________________________________________________________________\n",
      "RNN_cell_1 (SimpleRNN)       (None, 2160, 100)         20100     \n",
      "_________________________________________________________________\n",
      "output (TimeDistributed)     (None, 2160, 1)           101       \n",
      "=================================================================\n",
      "Total params: 30,401\n",
      "Trainable params: 30,401\n",
      "Non-trainable params: 0\n",
      "_________________________________________________________________\n",
      "49/49 [==============================] - 267s 5s/step - loss: 0.1586\n",
      "WARNING:tensorflow:Model was constructed with shape (None, 2160, 1) for input KerasTensor(type_spec=TensorSpec(shape=(None, 2160, 1), dtype=tf.float32, name='input'), name='input', description=\"created by layer 'input'\"), but it was called on an input with incompatible shape (None, 1, 1).\n"
     ]
    }
   ],
   "source": [
    "pred_e = predictions(sc_e)"
   ]
  },
  {
   "cell_type": "code",
   "execution_count": 100,
   "id": "4fbbd734-b346-4cd6-83a5-389601a4ce56",
   "metadata": {},
   "outputs": [
    {
     "name": "stdout",
     "output_type": "stream",
     "text": [
      "Model: \"stacked_many_to_many\"\n",
      "_________________________________________________________________\n",
      "Layer (type)                 Output Shape              Param #   \n",
      "=================================================================\n",
      "input (InputLayer)           [(None, 2160, 1)]         0         \n",
      "_________________________________________________________________\n",
      "RNN_cell_0 (SimpleRNN)       (None, 2160, 100)         10200     \n",
      "_________________________________________________________________\n",
      "RNN_cell_1 (SimpleRNN)       (None, 2160, 100)         20100     \n",
      "_________________________________________________________________\n",
      "output (TimeDistributed)     (None, 2160, 1)           101       \n",
      "=================================================================\n",
      "Total params: 30,401\n",
      "Trainable params: 30,401\n",
      "Non-trainable params: 0\n",
      "_________________________________________________________________\n",
      "49/49 [==============================] - 260s 5s/step - loss: 0.1394\n",
      "WARNING:tensorflow:Model was constructed with shape (None, 2160, 1) for input KerasTensor(type_spec=TensorSpec(shape=(None, 2160, 1), dtype=tf.float32, name='input'), name='input', description=\"created by layer 'input'\"), but it was called on an input with incompatible shape (None, 1, 1).\n"
     ]
    }
   ],
   "source": [
    "pred_g = predictions(sc_g)"
   ]
  },
  {
   "cell_type": "code",
   "execution_count": 101,
   "id": "e3791966-af2a-46a1-a79e-1f4859beeb0f",
   "metadata": {},
   "outputs": [
    {
     "name": "stdout",
     "output_type": "stream",
     "text": [
      "Model: \"stacked_many_to_many\"\n",
      "_________________________________________________________________\n",
      "Layer (type)                 Output Shape              Param #   \n",
      "=================================================================\n",
      "input (InputLayer)           [(None, 2160, 1)]         0         \n",
      "_________________________________________________________________\n",
      "RNN_cell_0 (SimpleRNN)       (None, 2160, 100)         10200     \n",
      "_________________________________________________________________\n",
      "RNN_cell_1 (SimpleRNN)       (None, 2160, 100)         20100     \n",
      "_________________________________________________________________\n",
      "output (TimeDistributed)     (None, 2160, 1)           101       \n",
      "=================================================================\n",
      "Total params: 30,401\n",
      "Trainable params: 30,401\n",
      "Non-trainable params: 0\n",
      "_________________________________________________________________\n",
      "49/49 [==============================] - 282s 6s/step - loss: 0.0870\n",
      "WARNING:tensorflow:Model was constructed with shape (None, 2160, 1) for input KerasTensor(type_spec=TensorSpec(shape=(None, 2160, 1), dtype=tf.float32, name='input'), name='input', description=\"created by layer 'input'\"), but it was called on an input with incompatible shape (None, 1, 1).\n"
     ]
    }
   ],
   "source": [
    "pred_h = predictions(sc_h)"
   ]
  },
  {
   "cell_type": "code",
   "execution_count": 102,
   "id": "ed5c0937-6d3b-4897-ba3d-355c132b5a24",
   "metadata": {},
   "outputs": [],
   "source": [
    "real_a = scaler_a.inverse_transform(pred_a.reshape(-1,1))\n",
    "real_b = scaler_b.inverse_transform(pred_b.reshape(-1,1))\n",
    "real_c = scaler_c.inverse_transform(pred_c.reshape(-1,1))\n",
    "real_d = scaler_d.inverse_transform(pred_d.reshape(-1,1))\n",
    "real_e = scaler_e.inverse_transform(pred_e.reshape(-1,1))\n",
    "real_g = scaler_e.inverse_transform(pred_g.reshape(-1,1))\n",
    "real_h = scaler_h.inverse_transform(pred_h.reshape(-1,1))"
   ]
  },
  {
   "cell_type": "code",
   "execution_count": 103,
   "id": "b168b48d-af6e-48e5-ac2f-f701d8f4a084",
   "metadata": {},
   "outputs": [
    {
     "data": {
      "text/plain": [
       "array([[ 8.6359625],\n",
       "       [ 8.6359625],\n",
       "       [ 8.6359625],\n",
       "       ...,\n",
       "       [37.24792  ],\n",
       "       [35.627663 ],\n",
       "       [35.163918 ]], dtype=float32)"
      ]
     },
     "execution_count": 103,
     "metadata": {},
     "output_type": "execute_result"
    }
   ],
   "source": [
    "real_c"
   ]
  },
  {
   "cell_type": "code",
   "execution_count": 104,
   "id": "d03c38cc-94f7-4dfb-8c12-71542a7d5aa9",
   "metadata": {},
   "outputs": [
    {
     "data": {
      "text/plain": [
       "array([[69.23481 ],\n",
       "       [68.463104],\n",
       "       [68.03769 ],\n",
       "       ...,\n",
       "       [72.80403 ],\n",
       "       [72.04267 ],\n",
       "       [71.56781 ]], dtype=float32)"
      ]
     },
     "execution_count": 104,
     "metadata": {},
     "output_type": "execute_result"
    }
   ],
   "source": [
    "real_d"
   ]
  },
  {
   "cell_type": "code",
   "execution_count": 105,
   "id": "b3402394-b51f-497c-b808-93d1a345618e",
   "metadata": {},
   "outputs": [
    {
     "data": {
      "text/plain": [
       "array([[328.06763],\n",
       "       [277.61264],\n",
       "       [254.50388],\n",
       "       ...,\n",
       "       [454.2507 ],\n",
       "       [437.21805],\n",
       "       [418.3459 ]], dtype=float32)"
      ]
     },
     "execution_count": 105,
     "metadata": {},
     "output_type": "execute_result"
    }
   ],
   "source": [
    "real_e"
   ]
  },
  {
   "cell_type": "code",
   "execution_count": 83,
   "id": "06ba5bca-d23c-4b03-afdc-27b79157bc58",
   "metadata": {},
   "outputs": [
    {
     "data": {
      "text/plain": [
       "array([[ 96.142685],\n",
       "       [108.734055],\n",
       "       [115.499725],\n",
       "       ...,\n",
       "       [ 20.38876 ],\n",
       "       [ 29.138876],\n",
       "       [ 37.81704 ]], dtype=float32)"
      ]
     },
     "execution_count": 83,
     "metadata": {},
     "output_type": "execute_result"
    }
   ],
   "source": [
    "real_g"
   ]
  },
  {
   "cell_type": "code",
   "execution_count": 113,
   "id": "fba815be-5275-4618-b7de-d0c9d28ea14e",
   "metadata": {},
   "outputs": [
    {
     "data": {
      "text/plain": [
       "2160"
      ]
     },
     "execution_count": 113,
     "metadata": {},
     "output_type": "execute_result"
    }
   ],
   "source": [
    "len(real_a)"
   ]
  },
  {
   "cell_type": "code",
   "execution_count": 115,
   "id": "7c60b477-7298-4781-a901-551b173bfd4a",
   "metadata": {},
   "outputs": [],
   "source": [
    "real_list = list(real_a) + list(real_b) + list(real_c) + list(real_d) + list(real_e) + list(real_g) + list(real_h)"
   ]
  },
  {
   "cell_type": "code",
   "execution_count": 116,
   "id": "73e266ac-01e6-4db4-bf15-35b0ac807ade",
   "metadata": {},
   "outputs": [
    {
     "data": {
      "text/plain": [
       "15120"
      ]
     },
     "execution_count": 116,
     "metadata": {},
     "output_type": "execute_result"
    }
   ],
   "source": [
    "len(real_list)"
   ]
  },
  {
   "cell_type": "code",
   "execution_count": 122,
   "id": "2866b713-fbde-4ad1-8c30-2e1a54a9975d",
   "metadata": {},
   "outputs": [],
   "source": [
    "real_pred = list(map(float, real_list))"
   ]
  },
  {
   "cell_type": "code",
   "execution_count": 126,
   "id": "e5e29e08-e78b-4a03-91d8-46f9bf67cd59",
   "metadata": {},
   "outputs": [],
   "source": [
    "sub = pd.read_csv('가스공급량 수요예측모델개발_data/sample_submission.csv')"
   ]
  },
  {
   "cell_type": "code",
   "execution_count": 128,
   "id": "dc3426e1-48af-4a10-988f-e01bbec7813a",
   "metadata": {},
   "outputs": [],
   "source": [
    "sub['공급량'] = real_pred"
   ]
  },
  {
   "cell_type": "code",
   "execution_count": 129,
   "id": "7b71f7d8-35f4-4361-b100-a0d66d4e3577",
   "metadata": {},
   "outputs": [],
   "source": [
    "sub.to_csv('submission/simpleRNN_1.csv', index =False)"
   ]
  },
  {
   "cell_type": "code",
   "execution_count": null,
   "id": "6e0128dc-876f-462a-885b-1f40b7f913c6",
   "metadata": {},
   "outputs": [],
   "source": []
  }
 ],
 "metadata": {
  "kernelspec": {
   "display_name": "Python 3 (ipykernel)",
   "language": "python",
   "name": "python3"
  },
  "language_info": {
   "codemirror_mode": {
    "name": "ipython",
    "version": 3
   },
   "file_extension": ".py",
   "mimetype": "text/x-python",
   "name": "python",
   "nbconvert_exporter": "python",
   "pygments_lexer": "ipython3",
   "version": "3.8.12"
  }
 },
 "nbformat": 4,
 "nbformat_minor": 5
}
